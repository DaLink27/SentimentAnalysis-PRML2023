{
  "nbformat": 4,
  "nbformat_minor": 0,
  "metadata": {
    "colab": {
      "provenance": [],
      "gpuType": "T4",
      "toc_visible": true,
      "collapsed_sections": [
        "CJKvnvi5Hd15",
        "wJ6vic3PHvJZ",
        "VY6nbAtXJHhi",
        "qaEHF86uJOvb"
      ]
    },
    "kernelspec": {
      "name": "python3",
      "display_name": "Python 3"
    },
    "language_info": {
      "name": "python"
    },
    "accelerator": "GPU"
  },
  "cells": [
    {
      "cell_type": "code",
      "execution_count": 2,
      "metadata": {
        "id": "SpjdRzEfxz_X",
        "colab": {
          "base_uri": "https://localhost:8080/",
          "height": 36
        },
        "outputId": "42f69c0d-a657-4652-a2eb-cc7f4bc58a26"
      },
      "outputs": [
        {
          "output_type": "execute_result",
          "data": {
            "text/plain": [
              "'\\nPattern Recognition and Machine Learning\\nProgramming Exercise: 02\\nName: Vo Thi Khanh Linh\\nStudent ID: 21280070\\n'"
            ],
            "application/vnd.google.colaboratory.intrinsic+json": {
              "type": "string"
            }
          },
          "metadata": {},
          "execution_count": 2
        }
      ],
      "source": [
        "\"\"\"\n",
        "Pattern Recognition and Machine Learning\n",
        "Programming Exercise: 02\n",
        "Name: Vo Thi Khanh Linh\n",
        "Student ID: 21280070\n",
        "\"\"\""
      ]
    },
    {
      "cell_type": "code",
      "source": [
        "import numpy as np\n",
        "import pandas as pd\n",
        "import matplotlib.pyplot as plt\n",
        "import torch\n",
        "import torch.nn as nn\n",
        "import torch.nn.functional as F\n",
        "import torchvision\n",
        "import torchvision.transforms as transforms"
      ],
      "metadata": {
        "id": "aE3KTWOvTagL"
      },
      "execution_count": 3,
      "outputs": []
    },
    {
      "cell_type": "code",
      "source": [
        "from google.colab import drive\n",
        "drive.mount('/content/drive')"
      ],
      "metadata": {
        "colab": {
          "base_uri": "https://localhost:8080/"
        },
        "id": "geIWVvfiMT-E",
        "outputId": "2b8de114-a7e5-4656-8d30-ee203570c6bb"
      },
      "execution_count": 4,
      "outputs": [
        {
          "output_type": "stream",
          "name": "stdout",
          "text": [
            "Mounted at /content/drive\n"
          ]
        }
      ]
    },
    {
      "cell_type": "code",
      "source": [
        "cd /content/drive/MyDrive/Colab Notebooks/NDM/"
      ],
      "metadata": {
        "colab": {
          "base_uri": "https://localhost:8080/"
        },
        "id": "p-Vl31BcVuL0",
        "outputId": "576f2846-fea1-40fc-ff17-e7ba406d8dd3"
      },
      "execution_count": 5,
      "outputs": [
        {
          "output_type": "stream",
          "name": "stdout",
          "text": [
            "/content/drive/MyDrive/Colab Notebooks/NDM\n"
          ]
        }
      ]
    },
    {
      "cell_type": "markdown",
      "source": [
        "#Data Exploration"
      ],
      "metadata": {
        "id": "daM2PgcumBnb"
      }
    },
    {
      "cell_type": "markdown",
      "source": [
        "Data was downloaded from https://drive.google.com/drive/folders/1HooABJyrddVGzll7fgkJ6VzkG_XuWfRu\n"
      ],
      "metadata": {
        "id": "VHqnoSCqjw84"
      }
    },
    {
      "cell_type": "markdown",
      "source": [
        "##Load and explore the dataset"
      ],
      "metadata": {
        "id": "6A4xI32QmNm6"
      }
    },
    {
      "cell_type": "code",
      "source": [
        "train_data = pd.read_excel('train_nor_811.xlsx')"
      ],
      "metadata": {
        "id": "XIfwRvIlTjQb"
      },
      "execution_count": 6,
      "outputs": []
    },
    {
      "cell_type": "markdown",
      "source": [
        "The first step is to explore the data in the training set, which consists of 3 fields. The first field is the ID (which is not used), followed by 'Emotion' and 'Sentence'."
      ],
      "metadata": {
        "id": "Cr3z2LlLkaO-"
      }
    },
    {
      "cell_type": "code",
      "source": [
        "train_data.rename(columns = {list(train_data)[0]:'ID'}, inplace=True)"
      ],
      "metadata": {
        "id": "l0ZY5uDWTtSc"
      },
      "execution_count": 7,
      "outputs": []
    },
    {
      "cell_type": "code",
      "source": [
        "train_data.columns"
      ],
      "metadata": {
        "colab": {
          "base_uri": "https://localhost:8080/"
        },
        "id": "aAFe-rL0UYGV",
        "outputId": "95a9e02a-b2df-4560-cf43-997204ff531d"
      },
      "execution_count": 8,
      "outputs": [
        {
          "output_type": "execute_result",
          "data": {
            "text/plain": [
              "Index(['ID', 'Emotion', 'Sentence'], dtype='object')"
            ]
          },
          "metadata": {},
          "execution_count": 8
        }
      ]
    },
    {
      "cell_type": "markdown",
      "source": [
        "I tried reading a few sentences from the dataset and noticed that it needs preprocessing and careful cleaning before being used as input for a model."
      ],
      "metadata": {
        "id": "FDPFATcllHuY"
      }
    },
    {
      "cell_type": "code",
      "source": [
        "train_data"
      ],
      "metadata": {
        "colab": {
          "base_uri": "https://localhost:8080/",
          "height": 698
        },
        "id": "9Oi5JPtxU5oV",
        "outputId": "15075943-1fd0-4fb6-e7d9-3b250ca78598"
      },
      "execution_count": 9,
      "outputs": [
        {
          "output_type": "execute_result",
          "data": {
            "text/plain": [
              "        ID    Emotion                                           Sentence\n",
              "0      188      Other              cho mình xin bài nhạc tên là gì với ạ\n",
              "1      166    Disgust  cho đáng đời con quỷ . về nhà lôi con nhà mày ...\n",
              "2     1345    Disgust  lo học đi . yêu đương lol gì hay lại thích học...\n",
              "3      316  Enjoyment    uớc gì sau này về già vẫn có thể như cụ này :))\n",
              "4     1225  Enjoyment  mỗi lần có video của con là cứ coi đi coi lại ...\n",
              "...    ...        ...                                                ...\n",
              "5543  1332    Disgust  đường của nhà cụ hay sao mà cụ cấm người ta đỗ...\n",
              "5544   825      Other                             nhìn mặt héo queo luôn\n",
              "5545   165      Other  tao đi xe máy mỗi lần muốn để xe đi đâu là phi...\n",
              "5546   363  Enjoyment                    thích thân hình boss rồi nhan 😌\n",
              "5547  1242    Sadness  ước mơ nhỏ nhoi của tao là được làm chị mà khô...\n",
              "\n",
              "[5548 rows x 3 columns]"
            ],
            "text/html": [
              "\n",
              "  <div id=\"df-53c655a6-9c4a-496a-be6a-6f1a7cf15732\" class=\"colab-df-container\">\n",
              "    <div>\n",
              "<style scoped>\n",
              "    .dataframe tbody tr th:only-of-type {\n",
              "        vertical-align: middle;\n",
              "    }\n",
              "\n",
              "    .dataframe tbody tr th {\n",
              "        vertical-align: top;\n",
              "    }\n",
              "\n",
              "    .dataframe thead th {\n",
              "        text-align: right;\n",
              "    }\n",
              "</style>\n",
              "<table border=\"1\" class=\"dataframe\">\n",
              "  <thead>\n",
              "    <tr style=\"text-align: right;\">\n",
              "      <th></th>\n",
              "      <th>ID</th>\n",
              "      <th>Emotion</th>\n",
              "      <th>Sentence</th>\n",
              "    </tr>\n",
              "  </thead>\n",
              "  <tbody>\n",
              "    <tr>\n",
              "      <th>0</th>\n",
              "      <td>188</td>\n",
              "      <td>Other</td>\n",
              "      <td>cho mình xin bài nhạc tên là gì với ạ</td>\n",
              "    </tr>\n",
              "    <tr>\n",
              "      <th>1</th>\n",
              "      <td>166</td>\n",
              "      <td>Disgust</td>\n",
              "      <td>cho đáng đời con quỷ . về nhà lôi con nhà mày ...</td>\n",
              "    </tr>\n",
              "    <tr>\n",
              "      <th>2</th>\n",
              "      <td>1345</td>\n",
              "      <td>Disgust</td>\n",
              "      <td>lo học đi . yêu đương lol gì hay lại thích học...</td>\n",
              "    </tr>\n",
              "    <tr>\n",
              "      <th>3</th>\n",
              "      <td>316</td>\n",
              "      <td>Enjoyment</td>\n",
              "      <td>uớc gì sau này về già vẫn có thể như cụ này :))</td>\n",
              "    </tr>\n",
              "    <tr>\n",
              "      <th>4</th>\n",
              "      <td>1225</td>\n",
              "      <td>Enjoyment</td>\n",
              "      <td>mỗi lần có video của con là cứ coi đi coi lại ...</td>\n",
              "    </tr>\n",
              "    <tr>\n",
              "      <th>...</th>\n",
              "      <td>...</td>\n",
              "      <td>...</td>\n",
              "      <td>...</td>\n",
              "    </tr>\n",
              "    <tr>\n",
              "      <th>5543</th>\n",
              "      <td>1332</td>\n",
              "      <td>Disgust</td>\n",
              "      <td>đường của nhà cụ hay sao mà cụ cấm người ta đỗ...</td>\n",
              "    </tr>\n",
              "    <tr>\n",
              "      <th>5544</th>\n",
              "      <td>825</td>\n",
              "      <td>Other</td>\n",
              "      <td>nhìn mặt héo queo luôn</td>\n",
              "    </tr>\n",
              "    <tr>\n",
              "      <th>5545</th>\n",
              "      <td>165</td>\n",
              "      <td>Other</td>\n",
              "      <td>tao đi xe máy mỗi lần muốn để xe đi đâu là phi...</td>\n",
              "    </tr>\n",
              "    <tr>\n",
              "      <th>5546</th>\n",
              "      <td>363</td>\n",
              "      <td>Enjoyment</td>\n",
              "      <td>thích thân hình boss rồi nhan 😌</td>\n",
              "    </tr>\n",
              "    <tr>\n",
              "      <th>5547</th>\n",
              "      <td>1242</td>\n",
              "      <td>Sadness</td>\n",
              "      <td>ước mơ nhỏ nhoi của tao là được làm chị mà khô...</td>\n",
              "    </tr>\n",
              "  </tbody>\n",
              "</table>\n",
              "<p>5548 rows × 3 columns</p>\n",
              "</div>\n",
              "    <div class=\"colab-df-buttons\">\n",
              "\n",
              "  <div class=\"colab-df-container\">\n",
              "    <button class=\"colab-df-convert\" onclick=\"convertToInteractive('df-53c655a6-9c4a-496a-be6a-6f1a7cf15732')\"\n",
              "            title=\"Convert this dataframe to an interactive table.\"\n",
              "            style=\"display:none;\">\n",
              "\n",
              "  <svg xmlns=\"http://www.w3.org/2000/svg\" height=\"24px\" viewBox=\"0 -960 960 960\">\n",
              "    <path d=\"M120-120v-720h720v720H120Zm60-500h600v-160H180v160Zm220 220h160v-160H400v160Zm0 220h160v-160H400v160ZM180-400h160v-160H180v160Zm440 0h160v-160H620v160ZM180-180h160v-160H180v160Zm440 0h160v-160H620v160Z\"/>\n",
              "  </svg>\n",
              "    </button>\n",
              "\n",
              "  <style>\n",
              "    .colab-df-container {\n",
              "      display:flex;\n",
              "      gap: 12px;\n",
              "    }\n",
              "\n",
              "    .colab-df-convert {\n",
              "      background-color: #E8F0FE;\n",
              "      border: none;\n",
              "      border-radius: 50%;\n",
              "      cursor: pointer;\n",
              "      display: none;\n",
              "      fill: #1967D2;\n",
              "      height: 32px;\n",
              "      padding: 0 0 0 0;\n",
              "      width: 32px;\n",
              "    }\n",
              "\n",
              "    .colab-df-convert:hover {\n",
              "      background-color: #E2EBFA;\n",
              "      box-shadow: 0px 1px 2px rgba(60, 64, 67, 0.3), 0px 1px 3px 1px rgba(60, 64, 67, 0.15);\n",
              "      fill: #174EA6;\n",
              "    }\n",
              "\n",
              "    .colab-df-buttons div {\n",
              "      margin-bottom: 4px;\n",
              "    }\n",
              "\n",
              "    [theme=dark] .colab-df-convert {\n",
              "      background-color: #3B4455;\n",
              "      fill: #D2E3FC;\n",
              "    }\n",
              "\n",
              "    [theme=dark] .colab-df-convert:hover {\n",
              "      background-color: #434B5C;\n",
              "      box-shadow: 0px 1px 3px 1px rgba(0, 0, 0, 0.15);\n",
              "      filter: drop-shadow(0px 1px 2px rgba(0, 0, 0, 0.3));\n",
              "      fill: #FFFFFF;\n",
              "    }\n",
              "  </style>\n",
              "\n",
              "    <script>\n",
              "      const buttonEl =\n",
              "        document.querySelector('#df-53c655a6-9c4a-496a-be6a-6f1a7cf15732 button.colab-df-convert');\n",
              "      buttonEl.style.display =\n",
              "        google.colab.kernel.accessAllowed ? 'block' : 'none';\n",
              "\n",
              "      async function convertToInteractive(key) {\n",
              "        const element = document.querySelector('#df-53c655a6-9c4a-496a-be6a-6f1a7cf15732');\n",
              "        const dataTable =\n",
              "          await google.colab.kernel.invokeFunction('convertToInteractive',\n",
              "                                                    [key], {});\n",
              "        if (!dataTable) return;\n",
              "\n",
              "        const docLinkHtml = 'Like what you see? Visit the ' +\n",
              "          '<a target=\"_blank\" href=https://colab.research.google.com/notebooks/data_table.ipynb>data table notebook</a>'\n",
              "          + ' to learn more about interactive tables.';\n",
              "        element.innerHTML = '';\n",
              "        dataTable['output_type'] = 'display_data';\n",
              "        await google.colab.output.renderOutput(dataTable, element);\n",
              "        const docLink = document.createElement('div');\n",
              "        docLink.innerHTML = docLinkHtml;\n",
              "        element.appendChild(docLink);\n",
              "      }\n",
              "    </script>\n",
              "  </div>\n",
              "\n",
              "\n",
              "<div id=\"df-52acbf7f-f180-4d3b-afd9-d00994a0d56c\">\n",
              "  <button class=\"colab-df-quickchart\" onclick=\"quickchart('df-52acbf7f-f180-4d3b-afd9-d00994a0d56c')\"\n",
              "            title=\"Suggest charts\"\n",
              "            style=\"display:none;\">\n",
              "\n",
              "<svg xmlns=\"http://www.w3.org/2000/svg\" height=\"24px\"viewBox=\"0 0 24 24\"\n",
              "     width=\"24px\">\n",
              "    <g>\n",
              "        <path d=\"M19 3H5c-1.1 0-2 .9-2 2v14c0 1.1.9 2 2 2h14c1.1 0 2-.9 2-2V5c0-1.1-.9-2-2-2zM9 17H7v-7h2v7zm4 0h-2V7h2v10zm4 0h-2v-4h2v4z\"/>\n",
              "    </g>\n",
              "</svg>\n",
              "  </button>\n",
              "\n",
              "<style>\n",
              "  .colab-df-quickchart {\n",
              "      --bg-color: #E8F0FE;\n",
              "      --fill-color: #1967D2;\n",
              "      --hover-bg-color: #E2EBFA;\n",
              "      --hover-fill-color: #174EA6;\n",
              "      --disabled-fill-color: #AAA;\n",
              "      --disabled-bg-color: #DDD;\n",
              "  }\n",
              "\n",
              "  [theme=dark] .colab-df-quickchart {\n",
              "      --bg-color: #3B4455;\n",
              "      --fill-color: #D2E3FC;\n",
              "      --hover-bg-color: #434B5C;\n",
              "      --hover-fill-color: #FFFFFF;\n",
              "      --disabled-bg-color: #3B4455;\n",
              "      --disabled-fill-color: #666;\n",
              "  }\n",
              "\n",
              "  .colab-df-quickchart {\n",
              "    background-color: var(--bg-color);\n",
              "    border: none;\n",
              "    border-radius: 50%;\n",
              "    cursor: pointer;\n",
              "    display: none;\n",
              "    fill: var(--fill-color);\n",
              "    height: 32px;\n",
              "    padding: 0;\n",
              "    width: 32px;\n",
              "  }\n",
              "\n",
              "  .colab-df-quickchart:hover {\n",
              "    background-color: var(--hover-bg-color);\n",
              "    box-shadow: 0 1px 2px rgba(60, 64, 67, 0.3), 0 1px 3px 1px rgba(60, 64, 67, 0.15);\n",
              "    fill: var(--button-hover-fill-color);\n",
              "  }\n",
              "\n",
              "  .colab-df-quickchart-complete:disabled,\n",
              "  .colab-df-quickchart-complete:disabled:hover {\n",
              "    background-color: var(--disabled-bg-color);\n",
              "    fill: var(--disabled-fill-color);\n",
              "    box-shadow: none;\n",
              "  }\n",
              "\n",
              "  .colab-df-spinner {\n",
              "    border: 2px solid var(--fill-color);\n",
              "    border-color: transparent;\n",
              "    border-bottom-color: var(--fill-color);\n",
              "    animation:\n",
              "      spin 1s steps(1) infinite;\n",
              "  }\n",
              "\n",
              "  @keyframes spin {\n",
              "    0% {\n",
              "      border-color: transparent;\n",
              "      border-bottom-color: var(--fill-color);\n",
              "      border-left-color: var(--fill-color);\n",
              "    }\n",
              "    20% {\n",
              "      border-color: transparent;\n",
              "      border-left-color: var(--fill-color);\n",
              "      border-top-color: var(--fill-color);\n",
              "    }\n",
              "    30% {\n",
              "      border-color: transparent;\n",
              "      border-left-color: var(--fill-color);\n",
              "      border-top-color: var(--fill-color);\n",
              "      border-right-color: var(--fill-color);\n",
              "    }\n",
              "    40% {\n",
              "      border-color: transparent;\n",
              "      border-right-color: var(--fill-color);\n",
              "      border-top-color: var(--fill-color);\n",
              "    }\n",
              "    60% {\n",
              "      border-color: transparent;\n",
              "      border-right-color: var(--fill-color);\n",
              "    }\n",
              "    80% {\n",
              "      border-color: transparent;\n",
              "      border-right-color: var(--fill-color);\n",
              "      border-bottom-color: var(--fill-color);\n",
              "    }\n",
              "    90% {\n",
              "      border-color: transparent;\n",
              "      border-bottom-color: var(--fill-color);\n",
              "    }\n",
              "  }\n",
              "</style>\n",
              "\n",
              "  <script>\n",
              "    async function quickchart(key) {\n",
              "      const quickchartButtonEl =\n",
              "        document.querySelector('#' + key + ' button');\n",
              "      quickchartButtonEl.disabled = true;  // To prevent multiple clicks.\n",
              "      quickchartButtonEl.classList.add('colab-df-spinner');\n",
              "      try {\n",
              "        const charts = await google.colab.kernel.invokeFunction(\n",
              "            'suggestCharts', [key], {});\n",
              "      } catch (error) {\n",
              "        console.error('Error during call to suggestCharts:', error);\n",
              "      }\n",
              "      quickchartButtonEl.classList.remove('colab-df-spinner');\n",
              "      quickchartButtonEl.classList.add('colab-df-quickchart-complete');\n",
              "    }\n",
              "    (() => {\n",
              "      let quickchartButtonEl =\n",
              "        document.querySelector('#df-52acbf7f-f180-4d3b-afd9-d00994a0d56c button');\n",
              "      quickchartButtonEl.style.display =\n",
              "        google.colab.kernel.accessAllowed ? 'block' : 'none';\n",
              "    })();\n",
              "  </script>\n",
              "</div>\n",
              "\n",
              "  <div id=\"id_ee8e5a16-b398-42c2-b7a0-827195be05cd\">\n",
              "    <style>\n",
              "      .colab-df-generate {\n",
              "        background-color: #E8F0FE;\n",
              "        border: none;\n",
              "        border-radius: 50%;\n",
              "        cursor: pointer;\n",
              "        display: none;\n",
              "        fill: #1967D2;\n",
              "        height: 32px;\n",
              "        padding: 0 0 0 0;\n",
              "        width: 32px;\n",
              "      }\n",
              "\n",
              "      .colab-df-generate:hover {\n",
              "        background-color: #E2EBFA;\n",
              "        box-shadow: 0px 1px 2px rgba(60, 64, 67, 0.3), 0px 1px 3px 1px rgba(60, 64, 67, 0.15);\n",
              "        fill: #174EA6;\n",
              "      }\n",
              "\n",
              "      [theme=dark] .colab-df-generate {\n",
              "        background-color: #3B4455;\n",
              "        fill: #D2E3FC;\n",
              "      }\n",
              "\n",
              "      [theme=dark] .colab-df-generate:hover {\n",
              "        background-color: #434B5C;\n",
              "        box-shadow: 0px 1px 3px 1px rgba(0, 0, 0, 0.15);\n",
              "        filter: drop-shadow(0px 1px 2px rgba(0, 0, 0, 0.3));\n",
              "        fill: #FFFFFF;\n",
              "      }\n",
              "    </style>\n",
              "    <button class=\"colab-df-generate\" onclick=\"generateWithVariable('train_data')\"\n",
              "            title=\"Generate code using this dataframe.\"\n",
              "            style=\"display:none;\">\n",
              "\n",
              "  <svg xmlns=\"http://www.w3.org/2000/svg\" height=\"24px\"viewBox=\"0 0 24 24\"\n",
              "       width=\"24px\">\n",
              "    <path d=\"M7,19H8.4L18.45,9,17,7.55,7,17.6ZM5,21V16.75L18.45,3.32a2,2,0,0,1,2.83,0l1.4,1.43a1.91,1.91,0,0,1,.58,1.4,1.91,1.91,0,0,1-.58,1.4L9.25,21ZM18.45,9,17,7.55Zm-12,3A5.31,5.31,0,0,0,4.9,8.1,5.31,5.31,0,0,0,1,6.5,5.31,5.31,0,0,0,4.9,4.9,5.31,5.31,0,0,0,6.5,1,5.31,5.31,0,0,0,8.1,4.9,5.31,5.31,0,0,0,12,6.5,5.46,5.46,0,0,0,6.5,12Z\"/>\n",
              "  </svg>\n",
              "    </button>\n",
              "    <script>\n",
              "      (() => {\n",
              "      const buttonEl =\n",
              "        document.querySelector('#id_ee8e5a16-b398-42c2-b7a0-827195be05cd button.colab-df-generate');\n",
              "      buttonEl.style.display =\n",
              "        google.colab.kernel.accessAllowed ? 'block' : 'none';\n",
              "\n",
              "      buttonEl.onclick = () => {\n",
              "        google.colab.notebook.generateWithVariable('train_data');\n",
              "      }\n",
              "      })();\n",
              "    </script>\n",
              "  </div>\n",
              "\n",
              "    </div>\n",
              "  </div>\n"
            ]
          },
          "metadata": {},
          "execution_count": 9
        }
      ]
    },
    {
      "cell_type": "markdown",
      "source": [
        "The next step is to count the frequency of occurrences of each emotion in the dataset."
      ],
      "metadata": {
        "id": "WYxgTvJRkocZ"
      }
    },
    {
      "cell_type": "code",
      "source": [
        "train_data.Emotion.value_counts()"
      ],
      "metadata": {
        "colab": {
          "base_uri": "https://localhost:8080/"
        },
        "id": "k7YuuAvEVDMD",
        "outputId": "7699a6c9-06f5-4f29-8b26-a3a2a157585b"
      },
      "execution_count": 10,
      "outputs": [
        {
          "output_type": "execute_result",
          "data": {
            "text/plain": [
              "Enjoyment    1558\n",
              "Disgust      1071\n",
              "Other        1021\n",
              "Sadness       947\n",
              "Anger         391\n",
              "Fear          318\n",
              "Surprise      242\n",
              "Name: Emotion, dtype: int64"
            ]
          },
          "metadata": {},
          "execution_count": 10
        }
      ]
    },
    {
      "cell_type": "markdown",
      "source": [
        "## Analyze the distribution of emotions"
      ],
      "metadata": {
        "id": "gta8SU_9mQNZ"
      }
    },
    {
      "cell_type": "markdown",
      "source": [
        "Now, let's analyze the distribution of the different emotions."
      ],
      "metadata": {
        "id": "JCQHRiaxlhWw"
      }
    },
    {
      "cell_type": "code",
      "source": [
        "emotion_counts = train_data.Emotion.value_counts(normalize=True).reset_index()\n",
        "emotion_counts.columns = ['Emotion Label', 'Percentage']\n",
        "emotion_counts['Percentage'] *= 100\n",
        "print(emotion_counts)"
      ],
      "metadata": {
        "colab": {
          "base_uri": "https://localhost:8080/"
        },
        "id": "Epu4_Ptd2QlD",
        "outputId": "8391ce2d-432a-4a52-9e9d-ee54b4519fba"
      },
      "execution_count": 11,
      "outputs": [
        {
          "output_type": "stream",
          "name": "stdout",
          "text": [
            "  Emotion Label  Percentage\n",
            "0     Enjoyment   28.082192\n",
            "1       Disgust   19.304254\n",
            "2         Other   18.403028\n",
            "3       Sadness   17.069214\n",
            "4         Anger    7.047585\n",
            "5          Fear    5.731795\n",
            "6      Surprise    4.361932\n"
          ]
        }
      ]
    },
    {
      "cell_type": "markdown",
      "source": [
        "I visualized the distribution of the labels to get a clearer picture:"
      ],
      "metadata": {
        "id": "SpALWTKFlWy_"
      }
    },
    {
      "cell_type": "code",
      "source": [
        "import seaborn as sns"
      ],
      "metadata": {
        "id": "aKHYosYYWSwG"
      },
      "execution_count": 12,
      "outputs": []
    },
    {
      "cell_type": "code",
      "source": [
        "sns.catplot(train_data, x=\"Emotion\", kind=\"count\", palette=\"pastel\")"
      ],
      "metadata": {
        "colab": {
          "base_uri": "https://localhost:8080/",
          "height": 523
        },
        "id": "4ZnKi6zuXmqs",
        "outputId": "96202488-8e60-4b81-b65b-c78e18e9f806"
      },
      "execution_count": 13,
      "outputs": [
        {
          "output_type": "execute_result",
          "data": {
            "text/plain": [
              "<seaborn.axisgrid.FacetGrid at 0x7d683a7a05b0>"
            ]
          },
          "metadata": {},
          "execution_count": 13
        },
        {
          "output_type": "display_data",
          "data": {
            "text/plain": [
              "<Figure size 500x500 with 1 Axes>"
            ],
            "image/png": "[encoded data removed]"
          },
          "metadata": {}
        }
      ]
    },
    {
      "cell_type": "code",
      "source": [
        "train_pre = train_data.copy()"
      ],
      "metadata": {
        "id": "JgGtlGTN2jIi"
      },
      "execution_count": 14,
      "outputs": []
    },
    {
      "cell_type": "markdown",
      "source": [
        "I have assigned numerical indices to the labels for consistency in visualizing and comparing distributions across the three datasets: train, validation, and test."
      ],
      "metadata": {
        "id": "JsHTSZ9ZlypJ"
      }
    },
    {
      "cell_type": "code",
      "source": [
        "label2id = {\"Anger\": 0, \"Disgust\": 1, \"Fear\": 2,  \"Sadness\": 3, \"Other\": 4, \"Enjoyment\": 5, \"Surprise\": 6}\n",
        "id2label = {0: \"Anger\", 1: \"Disgust\", 2: \"Fear\", 3: \"Sadness\", 4: \"Other\", 5: \"Enjoyment\", 6: \"Surprise\"}"
      ],
      "metadata": {
        "id": "qg4mLxQsIJAO"
      },
      "execution_count": 15,
      "outputs": []
    },
    {
      "cell_type": "code",
      "source": [
        "train_pre.Emotion = train_pre.Emotion.map(label2id)"
      ],
      "metadata": {
        "id": "fSrnBf5OkhcL"
      },
      "execution_count": 16,
      "outputs": []
    },
    {
      "cell_type": "code",
      "source": [
        "sns.catplot(train_pre, x=\"Emotion\", kind=\"count\", palette=\"pastel\")"
      ],
      "metadata": {
        "colab": {
          "base_uri": "https://localhost:8080/",
          "height": 523
        },
        "id": "7wBRwhsElCnr",
        "outputId": "1f70e871-a341-44b7-8857-e4d5e07f8882"
      },
      "execution_count": 17,
      "outputs": [
        {
          "output_type": "execute_result",
          "data": {
            "text/plain": [
              "<seaborn.axisgrid.FacetGrid at 0x7d68386bf9d0>"
            ]
          },
          "metadata": {},
          "execution_count": 17
        },
        {
          "output_type": "display_data",
          "data": {
            "text/plain": [
              "<Figure size 500x500 with 1 Axes>"
            ],
            "image/png": "[encoded data removed]"
          },
          "metadata": {}
        }
      ]
    },
    {
      "cell_type": "code",
      "source": [
        "test_data = pd.read_excel('test_nor_811.xlsx')\n",
        "valid_data = pd.read_excel('valid_nor_811.xlsx')"
      ],
      "metadata": {
        "id": "hDkbjLq1Y790"
      },
      "execution_count": 18,
      "outputs": []
    },
    {
      "cell_type": "code",
      "source": [
        "valid_data.Emotion = valid_data.Emotion.map(label2id)\n",
        "test_data.Emotion = test_data.Emotion.map(label2id)"
      ],
      "metadata": {
        "id": "xvYaHWS-lIyT"
      },
      "execution_count": 19,
      "outputs": []
    },
    {
      "cell_type": "code",
      "source": [
        "sns.catplot(valid_data, x=\"Emotion\", kind=\"count\", palette=\"pastel\")\n",
        "sns.catplot(test_data, x=\"Emotion\", kind=\"count\", palette=\"pastel\")"
      ],
      "metadata": {
        "colab": {
          "base_uri": "https://localhost:8080/",
          "height": 1000
        },
        "id": "EeUMLr2UlPcT",
        "outputId": "592e076e-9bb9-4152-bdd1-0d3a9338c047"
      },
      "execution_count": 20,
      "outputs": [
        {
          "output_type": "execute_result",
          "data": {
            "text/plain": [
              "<seaborn.axisgrid.FacetGrid at 0x7d683858b4c0>"
            ]
          },
          "metadata": {},
          "execution_count": 20
        },
        {
          "output_type": "display_data",
          "data": {
            "text/plain": [
              "<Figure size 500x500 with 1 Axes>"
            ],
            "image/png": "[encoded data removed]"
          },
          "metadata": {}
        },
        {
          "output_type": "display_data",
          "data": {
            "text/plain": [
              "<Figure size 500x500 with 1 Axes>"
            ],
            "image/png": "[encoded data removed]"
          },
          "metadata": {}
        }
      ]
    },
    {
      "cell_type": "markdown",
      "source": [
        "**Comment: The distribution of emotions across the three sets appears quite similar and all exhibit imbalanced distributions.**\n"
      ],
      "metadata": {
        "id": "yrSv3lKbl5Nn"
      }
    },
    {
      "cell_type": "markdown",
      "source": [
        "##Preprocess the text data"
      ],
      "metadata": {
        "id": "KDE5H7_SmEsD"
      }
    },
    {
      "cell_type": "markdown",
      "source": [
        "Now, let's begin cleaning the data to enhance the quality of input for the model."
      ],
      "metadata": {
        "id": "-Bi3tGe4mUoj"
      }
    },
    {
      "cell_type": "markdown",
      "source": [
        "### Standardizing words"
      ],
      "metadata": {
        "id": "_CjU0agfIq3V"
      }
    },
    {
      "cell_type": "markdown",
      "source": [
        "UIT-VSMEC corpus contains several words that are not\n",
        "in proper formats. For example, \"luônnn\" should be \"luôn\" (always) and \"thích quáaaaa\" should be \"thích quá\" (really enjoyable).\n",
        "\n",
        "I partly solved this problem by using technique 1 - Standardizing words, in which I used regular expressions to replace a sequence of repeated characters by the character itself."
      ],
      "metadata": {
        "id": "YoxHgEVMmte4"
      }
    },
    {
      "cell_type": "code",
      "source": [
        "import re"
      ],
      "metadata": {
        "id": "guNyBArvoc3H"
      },
      "execution_count": 21,
      "outputs": []
    },
    {
      "cell_type": "code",
      "source": [
        "def standardizing_word(text):\n",
        "  modified_text = re.sub(r'(.)\\1+', r'\\1', text)\n",
        "  return modified_text"
      ],
      "metadata": {
        "id": "R9gbKQ19Iwoy"
      },
      "execution_count": 22,
      "outputs": []
    },
    {
      "cell_type": "code",
      "source": [
        "train_pre.Sentence = train_pre.Sentence.apply(standardizing_word)"
      ],
      "metadata": {
        "id": "WUMl2oPjI6zj"
      },
      "execution_count": 23,
      "outputs": []
    },
    {
      "cell_type": "code",
      "source": [
        "train_pre"
      ],
      "metadata": {
        "colab": {
          "base_uri": "https://localhost:8080/",
          "height": 423
        },
        "id": "_k_qKXvPJCJz",
        "outputId": "8308ed25-669e-4c4d-ba80-4fadc229ee38"
      },
      "execution_count": 24,
      "outputs": [
        {
          "output_type": "execute_result",
          "data": {
            "text/plain": [
              "        ID  Emotion                                           Sentence\n",
              "0      188        4              cho mình xin bài nhạc tên là gì với ạ\n",
              "1      166        1  cho đáng đời con quỷ . về nhà lôi con nhà mày ...\n",
              "2     1345        1  lo học đi . yêu đương lol gì hay lại thích học...\n",
              "3      316        5     uớc gì sau này về già vẫn có thể như cụ này :)\n",
              "4     1225        5  mỗi lần có video của con là cứ coi đi coi lại ...\n",
              "...    ...      ...                                                ...\n",
              "5543  1332        1  đường của nhà cụ hay sao mà cụ cấm người ta đỗ...\n",
              "5544   825        4                             nhìn mặt héo queo luôn\n",
              "5545   165        4  tao đi xe máy mỗi lần muốn để xe đi đâu là phi...\n",
              "5546   363        5                     thích thân hình bos rồi nhan 😌\n",
              "5547  1242        3  ước mơ nhỏ nhoi của tao là được làm chị mà khô...\n",
              "\n",
              "[5548 rows x 3 columns]"
            ],
            "text/html": [
              "\n",
              "  <div id=\"df-1c64c3a0-d099-42b9-a26b-f74ab3af2007\" class=\"colab-df-container\">\n",
              "    <div>\n",
              "<style scoped>\n",
              "    .dataframe tbody tr th:only-of-type {\n",
              "        vertical-align: middle;\n",
              "    }\n",
              "\n",
              "    .dataframe tbody tr th {\n",
              "        vertical-align: top;\n",
              "    }\n",
              "\n",
              "    .dataframe thead th {\n",
              "        text-align: right;\n",
              "    }\n",
              "</style>\n",
              "<table border=\"1\" class=\"dataframe\">\n",
              "  <thead>\n",
              "    <tr style=\"text-align: right;\">\n",
              "      <th></th>\n",
              "      <th>ID</th>\n",
              "      <th>Emotion</th>\n",
              "      <th>Sentence</th>\n",
              "    </tr>\n",
              "  </thead>\n",
              "  <tbody>\n",
              "    <tr>\n",
              "      <th>0</th>\n",
              "      <td>188</td>\n",
              "      <td>4</td>\n",
              "      <td>cho mình xin bài nhạc tên là gì với ạ</td>\n",
              "    </tr>\n",
              "    <tr>\n",
              "      <th>1</th>\n",
              "      <td>166</td>\n",
              "      <td>1</td>\n",
              "      <td>cho đáng đời con quỷ . về nhà lôi con nhà mày ...</td>\n",
              "    </tr>\n",
              "    <tr>\n",
              "      <th>2</th>\n",
              "      <td>1345</td>\n",
              "      <td>1</td>\n",
              "      <td>lo học đi . yêu đương lol gì hay lại thích học...</td>\n",
              "    </tr>\n",
              "    <tr>\n",
              "      <th>3</th>\n",
              "      <td>316</td>\n",
              "      <td>5</td>\n",
              "      <td>uớc gì sau này về già vẫn có thể như cụ này :)</td>\n",
              "    </tr>\n",
              "    <tr>\n",
              "      <th>4</th>\n",
              "      <td>1225</td>\n",
              "      <td>5</td>\n",
              "      <td>mỗi lần có video của con là cứ coi đi coi lại ...</td>\n",
              "    </tr>\n",
              "    <tr>\n",
              "      <th>...</th>\n",
              "      <td>...</td>\n",
              "      <td>...</td>\n",
              "      <td>...</td>\n",
              "    </tr>\n",
              "    <tr>\n",
              "      <th>5543</th>\n",
              "      <td>1332</td>\n",
              "      <td>1</td>\n",
              "      <td>đường của nhà cụ hay sao mà cụ cấm người ta đỗ...</td>\n",
              "    </tr>\n",
              "    <tr>\n",
              "      <th>5544</th>\n",
              "      <td>825</td>\n",
              "      <td>4</td>\n",
              "      <td>nhìn mặt héo queo luôn</td>\n",
              "    </tr>\n",
              "    <tr>\n",
              "      <th>5545</th>\n",
              "      <td>165</td>\n",
              "      <td>4</td>\n",
              "      <td>tao đi xe máy mỗi lần muốn để xe đi đâu là phi...</td>\n",
              "    </tr>\n",
              "    <tr>\n",
              "      <th>5546</th>\n",
              "      <td>363</td>\n",
              "      <td>5</td>\n",
              "      <td>thích thân hình bos rồi nhan 😌</td>\n",
              "    </tr>\n",
              "    <tr>\n",
              "      <th>5547</th>\n",
              "      <td>1242</td>\n",
              "      <td>3</td>\n",
              "      <td>ước mơ nhỏ nhoi của tao là được làm chị mà khô...</td>\n",
              "    </tr>\n",
              "  </tbody>\n",
              "</table>\n",
              "<p>5548 rows × 3 columns</p>\n",
              "</div>\n",
              "    <div class=\"colab-df-buttons\">\n",
              "\n",
              "  <div class=\"colab-df-container\">\n",
              "    <button class=\"colab-df-convert\" onclick=\"convertToInteractive('df-1c64c3a0-d099-42b9-a26b-f74ab3af2007')\"\n",
              "            title=\"Convert this dataframe to an interactive table.\"\n",
              "            style=\"display:none;\">\n",
              "\n",
              "  <svg xmlns=\"http://www.w3.org/2000/svg\" height=\"24px\" viewBox=\"0 -960 960 960\">\n",
              "    <path d=\"M120-120v-720h720v720H120Zm60-500h600v-160H180v160Zm220 220h160v-160H400v160Zm0 220h160v-160H400v160ZM180-400h160v-160H180v160Zm440 0h160v-160H620v160ZM180-180h160v-160H180v160Zm440 0h160v-160H620v160Z\"/>\n",
              "  </svg>\n",
              "    </button>\n",
              "\n",
              "  <style>\n",
              "    .colab-df-container {\n",
              "      display:flex;\n",
              "      gap: 12px;\n",
              "    }\n",
              "\n",
              "    .colab-df-convert {\n",
              "      background-color: #E8F0FE;\n",
              "      border: none;\n",
              "      border-radius: 50%;\n",
              "      cursor: pointer;\n",
              "      display: none;\n",
              "      fill: #1967D2;\n",
              "      height: 32px;\n",
              "      padding: 0 0 0 0;\n",
              "      width: 32px;\n",
              "    }\n",
              "\n",
              "    .colab-df-convert:hover {\n",
              "      background-color: #E2EBFA;\n",
              "      box-shadow: 0px 1px 2px rgba(60, 64, 67, 0.3), 0px 1px 3px 1px rgba(60, 64, 67, 0.15);\n",
              "      fill: #174EA6;\n",
              "    }\n",
              "\n",
              "    .colab-df-buttons div {\n",
              "      margin-bottom: 4px;\n",
              "    }\n",
              "\n",
              "    [theme=dark] .colab-df-convert {\n",
              "      background-color: #3B4455;\n",
              "      fill: #D2E3FC;\n",
              "    }\n",
              "\n",
              "    [theme=dark] .colab-df-convert:hover {\n",
              "      background-color: #434B5C;\n",
              "      box-shadow: 0px 1px 3px 1px rgba(0, 0, 0, 0.15);\n",
              "      filter: drop-shadow(0px 1px 2px rgba(0, 0, 0, 0.3));\n",
              "      fill: #FFFFFF;\n",
              "    }\n",
              "  </style>\n",
              "\n",
              "    <script>\n",
              "      const buttonEl =\n",
              "        document.querySelector('#df-1c64c3a0-d099-42b9-a26b-f74ab3af2007 button.colab-df-convert');\n",
              "      buttonEl.style.display =\n",
              "        google.colab.kernel.accessAllowed ? 'block' : 'none';\n",
              "\n",
              "      async function convertToInteractive(key) {\n",
              "        const element = document.querySelector('#df-1c64c3a0-d099-42b9-a26b-f74ab3af2007');\n",
              "        const dataTable =\n",
              "          await google.colab.kernel.invokeFunction('convertToInteractive',\n",
              "                                                    [key], {});\n",
              "        if (!dataTable) return;\n",
              "\n",
              "        const docLinkHtml = 'Like what you see? Visit the ' +\n",
              "          '<a target=\"_blank\" href=https://colab.research.google.com/notebooks/data_table.ipynb>data table notebook</a>'\n",
              "          + ' to learn more about interactive tables.';\n",
              "        element.innerHTML = '';\n",
              "        dataTable['output_type'] = 'display_data';\n",
              "        await google.colab.output.renderOutput(dataTable, element);\n",
              "        const docLink = document.createElement('div');\n",
              "        docLink.innerHTML = docLinkHtml;\n",
              "        element.appendChild(docLink);\n",
              "      }\n",
              "    </script>\n",
              "  </div>\n",
              "\n",
              "\n",
              "<div id=\"df-d4f45312-57af-4fee-8ff7-902d603b09ea\">\n",
              "  <button class=\"colab-df-quickchart\" onclick=\"quickchart('df-d4f45312-57af-4fee-8ff7-902d603b09ea')\"\n",
              "            title=\"Suggest charts\"\n",
              "            style=\"display:none;\">\n",
              "\n",
              "<svg xmlns=\"http://www.w3.org/2000/svg\" height=\"24px\"viewBox=\"0 0 24 24\"\n",
              "     width=\"24px\">\n",
              "    <g>\n",
              "        <path d=\"M19 3H5c-1.1 0-2 .9-2 2v14c0 1.1.9 2 2 2h14c1.1 0 2-.9 2-2V5c0-1.1-.9-2-2-2zM9 17H7v-7h2v7zm4 0h-2V7h2v10zm4 0h-2v-4h2v4z\"/>\n",
              "    </g>\n",
              "</svg>\n",
              "  </button>\n",
              "\n",
              "<style>\n",
              "  .colab-df-quickchart {\n",
              "      --bg-color: #E8F0FE;\n",
              "      --fill-color: #1967D2;\n",
              "      --hover-bg-color: #E2EBFA;\n",
              "      --hover-fill-color: #174EA6;\n",
              "      --disabled-fill-color: #AAA;\n",
              "      --disabled-bg-color: #DDD;\n",
              "  }\n",
              "\n",
              "  [theme=dark] .colab-df-quickchart {\n",
              "      --bg-color: #3B4455;\n",
              "      --fill-color: #D2E3FC;\n",
              "      --hover-bg-color: #434B5C;\n",
              "      --hover-fill-color: #FFFFFF;\n",
              "      --disabled-bg-color: #3B4455;\n",
              "      --disabled-fill-color: #666;\n",
              "  }\n",
              "\n",
              "  .colab-df-quickchart {\n",
              "    background-color: var(--bg-color);\n",
              "    border: none;\n",
              "    border-radius: 50%;\n",
              "    cursor: pointer;\n",
              "    display: none;\n",
              "    fill: var(--fill-color);\n",
              "    height: 32px;\n",
              "    padding: 0;\n",
              "    width: 32px;\n",
              "  }\n",
              "\n",
              "  .colab-df-quickchart:hover {\n",
              "    background-color: var(--hover-bg-color);\n",
              "    box-shadow: 0 1px 2px rgba(60, 64, 67, 0.3), 0 1px 3px 1px rgba(60, 64, 67, 0.15);\n",
              "    fill: var(--button-hover-fill-color);\n",
              "  }\n",
              "\n",
              "  .colab-df-quickchart-complete:disabled,\n",
              "  .colab-df-quickchart-complete:disabled:hover {\n",
              "    background-color: var(--disabled-bg-color);\n",
              "    fill: var(--disabled-fill-color);\n",
              "    box-shadow: none;\n",
              "  }\n",
              "\n",
              "  .colab-df-spinner {\n",
              "    border: 2px solid var(--fill-color);\n",
              "    border-color: transparent;\n",
              "    border-bottom-color: var(--fill-color);\n",
              "    animation:\n",
              "      spin 1s steps(1) infinite;\n",
              "  }\n",
              "\n",
              "  @keyframes spin {\n",
              "    0% {\n",
              "      border-color: transparent;\n",
              "      border-bottom-color: var(--fill-color);\n",
              "      border-left-color: var(--fill-color);\n",
              "    }\n",
              "    20% {\n",
              "      border-color: transparent;\n",
              "      border-left-color: var(--fill-color);\n",
              "      border-top-color: var(--fill-color);\n",
              "    }\n",
              "    30% {\n",
              "      border-color: transparent;\n",
              "      border-left-color: var(--fill-color);\n",
              "      border-top-color: var(--fill-color);\n",
              "      border-right-color: var(--fill-color);\n",
              "    }\n",
              "    40% {\n",
              "      border-color: transparent;\n",
              "      border-right-color: var(--fill-color);\n",
              "      border-top-color: var(--fill-color);\n",
              "    }\n",
              "    60% {\n",
              "      border-color: transparent;\n",
              "      border-right-color: var(--fill-color);\n",
              "    }\n",
              "    80% {\n",
              "      border-color: transparent;\n",
              "      border-right-color: var(--fill-color);\n",
              "      border-bottom-color: var(--fill-color);\n",
              "    }\n",
              "    90% {\n",
              "      border-color: transparent;\n",
              "      border-bottom-color: var(--fill-color);\n",
              "    }\n",
              "  }\n",
              "</style>\n",
              "\n",
              "  <script>\n",
              "    async function quickchart(key) {\n",
              "      const quickchartButtonEl =\n",
              "        document.querySelector('#' + key + ' button');\n",
              "      quickchartButtonEl.disabled = true;  // To prevent multiple clicks.\n",
              "      quickchartButtonEl.classList.add('colab-df-spinner');\n",
              "      try {\n",
              "        const charts = await google.colab.kernel.invokeFunction(\n",
              "            'suggestCharts', [key], {});\n",
              "      } catch (error) {\n",
              "        console.error('Error during call to suggestCharts:', error);\n",
              "      }\n",
              "      quickchartButtonEl.classList.remove('colab-df-spinner');\n",
              "      quickchartButtonEl.classList.add('colab-df-quickchart-complete');\n",
              "    }\n",
              "    (() => {\n",
              "      let quickchartButtonEl =\n",
              "        document.querySelector('#df-d4f45312-57af-4fee-8ff7-902d603b09ea button');\n",
              "      quickchartButtonEl.style.display =\n",
              "        google.colab.kernel.accessAllowed ? 'block' : 'none';\n",
              "    })();\n",
              "  </script>\n",
              "</div>\n",
              "\n",
              "  <div id=\"id_ff6275db-e989-4862-b0ac-edcd2c5c7f30\">\n",
              "    <style>\n",
              "      .colab-df-generate {\n",
              "        background-color: #E8F0FE;\n",
              "        border: none;\n",
              "        border-radius: 50%;\n",
              "        cursor: pointer;\n",
              "        display: none;\n",
              "        fill: #1967D2;\n",
              "        height: 32px;\n",
              "        padding: 0 0 0 0;\n",
              "        width: 32px;\n",
              "      }\n",
              "\n",
              "      .colab-df-generate:hover {\n",
              "        background-color: #E2EBFA;\n",
              "        box-shadow: 0px 1px 2px rgba(60, 64, 67, 0.3), 0px 1px 3px 1px rgba(60, 64, 67, 0.15);\n",
              "        fill: #174EA6;\n",
              "      }\n",
              "\n",
              "      [theme=dark] .colab-df-generate {\n",
              "        background-color: #3B4455;\n",
              "        fill: #D2E3FC;\n",
              "      }\n",
              "\n",
              "      [theme=dark] .colab-df-generate:hover {\n",
              "        background-color: #434B5C;\n",
              "        box-shadow: 0px 1px 3px 1px rgba(0, 0, 0, 0.15);\n",
              "        filter: drop-shadow(0px 1px 2px rgba(0, 0, 0, 0.3));\n",
              "        fill: #FFFFFF;\n",
              "      }\n",
              "    </style>\n",
              "    <button class=\"colab-df-generate\" onclick=\"generateWithVariable('train_pre')\"\n",
              "            title=\"Generate code using this dataframe.\"\n",
              "            style=\"display:none;\">\n",
              "\n",
              "  <svg xmlns=\"http://www.w3.org/2000/svg\" height=\"24px\"viewBox=\"0 0 24 24\"\n",
              "       width=\"24px\">\n",
              "    <path d=\"M7,19H8.4L18.45,9,17,7.55,7,17.6ZM5,21V16.75L18.45,3.32a2,2,0,0,1,2.83,0l1.4,1.43a1.91,1.91,0,0,1,.58,1.4,1.91,1.91,0,0,1-.58,1.4L9.25,21ZM18.45,9,17,7.55Zm-12,3A5.31,5.31,0,0,0,4.9,8.1,5.31,5.31,0,0,0,1,6.5,5.31,5.31,0,0,0,4.9,4.9,5.31,5.31,0,0,0,6.5,1,5.31,5.31,0,0,0,8.1,4.9,5.31,5.31,0,0,0,12,6.5,5.46,5.46,0,0,0,6.5,12Z\"/>\n",
              "  </svg>\n",
              "    </button>\n",
              "    <script>\n",
              "      (() => {\n",
              "      const buttonEl =\n",
              "        document.querySelector('#id_ff6275db-e989-4862-b0ac-edcd2c5c7f30 button.colab-df-generate');\n",
              "      buttonEl.style.display =\n",
              "        google.colab.kernel.accessAllowed ? 'block' : 'none';\n",
              "\n",
              "      buttonEl.onclick = () => {\n",
              "        google.colab.notebook.generateWithVariable('train_pre');\n",
              "      }\n",
              "      })();\n",
              "    </script>\n",
              "  </div>\n",
              "\n",
              "    </div>\n",
              "  </div>\n"
            ]
          },
          "metadata": {},
          "execution_count": 24
        }
      ]
    },
    {
      "cell_type": "markdown",
      "source": [
        "### Removing repeated emoji and emoticons in the same comment"
      ],
      "metadata": {
        "id": "H7pLu2uqJJ76"
      }
    },
    {
      "cell_type": "markdown",
      "source": [
        "To handle emojis and emoticons, my approach is to remove repeated emojis and emoticons in the same corpus, then transforming them into their word form.\n",
        "\n",
        "I consider duplicated emojis and emoticons in the same corpus are noise data, and only the unique ones should be kept."
      ],
      "metadata": {
        "id": "b_CUJ4eKnP2B"
      }
    },
    {
      "cell_type": "code",
      "source": [
        "def remove_repeated_emojis(text):\n",
        "    emoji_pattern = re.compile(\"[\"\n",
        "                               u\"\\U0001F600-\\U0001F64F\"  # emoticons\n",
        "                               u\"\\U0001F300-\\U0001F5FF\"  # symbols & pictographs\n",
        "                               u\"\\U0001F680-\\U0001F6FF\"  # transport & map symbols\n",
        "                               u\"\\U0001F1E0-\\U0001F1FF\"  # flags (iOS)\n",
        "                               \"]+\", flags=re.UNICODE)\n",
        "\n",
        "    def remove_duplicates(match):\n",
        "        return match.group(0)[0]\n",
        "\n",
        "    cleaned_text = re.sub(emoji_pattern, remove_duplicates, text)\n",
        "    return cleaned_text"
      ],
      "metadata": {
        "id": "fRUdJ9QqJZwL"
      },
      "execution_count": 25,
      "outputs": []
    },
    {
      "cell_type": "code",
      "source": [
        "train_pre.Sentence = train_pre.Sentence.apply(remove_repeated_emojis)\n",
        "train_pre"
      ],
      "metadata": {
        "colab": {
          "base_uri": "https://localhost:8080/",
          "height": 423
        },
        "id": "nluyLdyyJqfs",
        "outputId": "1ff4db12-59d4-48b6-d72d-6d903dd0d013"
      },
      "execution_count": 26,
      "outputs": [
        {
          "output_type": "execute_result",
          "data": {
            "text/plain": [
              "        ID  Emotion                                           Sentence\n",
              "0      188        4              cho mình xin bài nhạc tên là gì với ạ\n",
              "1      166        1  cho đáng đời con quỷ . về nhà lôi con nhà mày ...\n",
              "2     1345        1  lo học đi . yêu đương lol gì hay lại thích học...\n",
              "3      316        5     uớc gì sau này về già vẫn có thể như cụ này :)\n",
              "4     1225        5  mỗi lần có video của con là cứ coi đi coi lại ...\n",
              "...    ...      ...                                                ...\n",
              "5543  1332        1  đường của nhà cụ hay sao mà cụ cấm người ta đỗ...\n",
              "5544   825        4                             nhìn mặt héo queo luôn\n",
              "5545   165        4  tao đi xe máy mỗi lần muốn để xe đi đâu là phi...\n",
              "5546   363        5                     thích thân hình bos rồi nhan 😌\n",
              "5547  1242        3  ước mơ nhỏ nhoi của tao là được làm chị mà khô...\n",
              "\n",
              "[5548 rows x 3 columns]"
            ],
            "text/html": [
              "\n",
              "  <div id=\"df-ef593a87-a003-498b-b1b7-22b177d6f8e4\" class=\"colab-df-container\">\n",
              "    <div>\n",
              "<style scoped>\n",
              "    .dataframe tbody tr th:only-of-type {\n",
              "        vertical-align: middle;\n",
              "    }\n",
              "\n",
              "    .dataframe tbody tr th {\n",
              "        vertical-align: top;\n",
              "    }\n",
              "\n",
              "    .dataframe thead th {\n",
              "        text-align: right;\n",
              "    }\n",
              "</style>\n",
              "<table border=\"1\" class=\"dataframe\">\n",
              "  <thead>\n",
              "    <tr style=\"text-align: right;\">\n",
              "      <th></th>\n",
              "      <th>ID</th>\n",
              "      <th>Emotion</th>\n",
              "      <th>Sentence</th>\n",
              "    </tr>\n",
              "  </thead>\n",
              "  <tbody>\n",
              "    <tr>\n",
              "      <th>0</th>\n",
              "      <td>188</td>\n",
              "      <td>4</td>\n",
              "      <td>cho mình xin bài nhạc tên là gì với ạ</td>\n",
              "    </tr>\n",
              "    <tr>\n",
              "      <th>1</th>\n",
              "      <td>166</td>\n",
              "      <td>1</td>\n",
              "      <td>cho đáng đời con quỷ . về nhà lôi con nhà mày ...</td>\n",
              "    </tr>\n",
              "    <tr>\n",
              "      <th>2</th>\n",
              "      <td>1345</td>\n",
              "      <td>1</td>\n",
              "      <td>lo học đi . yêu đương lol gì hay lại thích học...</td>\n",
              "    </tr>\n",
              "    <tr>\n",
              "      <th>3</th>\n",
              "      <td>316</td>\n",
              "      <td>5</td>\n",
              "      <td>uớc gì sau này về già vẫn có thể như cụ này :)</td>\n",
              "    </tr>\n",
              "    <tr>\n",
              "      <th>4</th>\n",
              "      <td>1225</td>\n",
              "      <td>5</td>\n",
              "      <td>mỗi lần có video của con là cứ coi đi coi lại ...</td>\n",
              "    </tr>\n",
              "    <tr>\n",
              "      <th>...</th>\n",
              "      <td>...</td>\n",
              "      <td>...</td>\n",
              "      <td>...</td>\n",
              "    </tr>\n",
              "    <tr>\n",
              "      <th>5543</th>\n",
              "      <td>1332</td>\n",
              "      <td>1</td>\n",
              "      <td>đường của nhà cụ hay sao mà cụ cấm người ta đỗ...</td>\n",
              "    </tr>\n",
              "    <tr>\n",
              "      <th>5544</th>\n",
              "      <td>825</td>\n",
              "      <td>4</td>\n",
              "      <td>nhìn mặt héo queo luôn</td>\n",
              "    </tr>\n",
              "    <tr>\n",
              "      <th>5545</th>\n",
              "      <td>165</td>\n",
              "      <td>4</td>\n",
              "      <td>tao đi xe máy mỗi lần muốn để xe đi đâu là phi...</td>\n",
              "    </tr>\n",
              "    <tr>\n",
              "      <th>5546</th>\n",
              "      <td>363</td>\n",
              "      <td>5</td>\n",
              "      <td>thích thân hình bos rồi nhan 😌</td>\n",
              "    </tr>\n",
              "    <tr>\n",
              "      <th>5547</th>\n",
              "      <td>1242</td>\n",
              "      <td>3</td>\n",
              "      <td>ước mơ nhỏ nhoi của tao là được làm chị mà khô...</td>\n",
              "    </tr>\n",
              "  </tbody>\n",
              "</table>\n",
              "<p>5548 rows × 3 columns</p>\n",
              "</div>\n",
              "    <div class=\"colab-df-buttons\">\n",
              "\n",
              "  <div class=\"colab-df-container\">\n",
              "    <button class=\"colab-df-convert\" onclick=\"convertToInteractive('df-ef593a87-a003-498b-b1b7-22b177d6f8e4')\"\n",
              "            title=\"Convert this dataframe to an interactive table.\"\n",
              "            style=\"display:none;\">\n",
              "\n",
              "  <svg xmlns=\"http://www.w3.org/2000/svg\" height=\"24px\" viewBox=\"0 -960 960 960\">\n",
              "    <path d=\"M120-120v-720h720v720H120Zm60-500h600v-160H180v160Zm220 220h160v-160H400v160Zm0 220h160v-160H400v160ZM180-400h160v-160H180v160Zm440 0h160v-160H620v160ZM180-180h160v-160H180v160Zm440 0h160v-160H620v160Z\"/>\n",
              "  </svg>\n",
              "    </button>\n",
              "\n",
              "  <style>\n",
              "    .colab-df-container {\n",
              "      display:flex;\n",
              "      gap: 12px;\n",
              "    }\n",
              "\n",
              "    .colab-df-convert {\n",
              "      background-color: #E8F0FE;\n",
              "      border: none;\n",
              "      border-radius: 50%;\n",
              "      cursor: pointer;\n",
              "      display: none;\n",
              "      fill: #1967D2;\n",
              "      height: 32px;\n",
              "      padding: 0 0 0 0;\n",
              "      width: 32px;\n",
              "    }\n",
              "\n",
              "    .colab-df-convert:hover {\n",
              "      background-color: #E2EBFA;\n",
              "      box-shadow: 0px 1px 2px rgba(60, 64, 67, 0.3), 0px 1px 3px 1px rgba(60, 64, 67, 0.15);\n",
              "      fill: #174EA6;\n",
              "    }\n",
              "\n",
              "    .colab-df-buttons div {\n",
              "      margin-bottom: 4px;\n",
              "    }\n",
              "\n",
              "    [theme=dark] .colab-df-convert {\n",
              "      background-color: #3B4455;\n",
              "      fill: #D2E3FC;\n",
              "    }\n",
              "\n",
              "    [theme=dark] .colab-df-convert:hover {\n",
              "      background-color: #434B5C;\n",
              "      box-shadow: 0px 1px 3px 1px rgba(0, 0, 0, 0.15);\n",
              "      filter: drop-shadow(0px 1px 2px rgba(0, 0, 0, 0.3));\n",
              "      fill: #FFFFFF;\n",
              "    }\n",
              "  </style>\n",
              "\n",
              "    <script>\n",
              "      const buttonEl =\n",
              "        document.querySelector('#df-ef593a87-a003-498b-b1b7-22b177d6f8e4 button.colab-df-convert');\n",
              "      buttonEl.style.display =\n",
              "        google.colab.kernel.accessAllowed ? 'block' : 'none';\n",
              "\n",
              "      async function convertToInteractive(key) {\n",
              "        const element = document.querySelector('#df-ef593a87-a003-498b-b1b7-22b177d6f8e4');\n",
              "        const dataTable =\n",
              "          await google.colab.kernel.invokeFunction('convertToInteractive',\n",
              "                                                    [key], {});\n",
              "        if (!dataTable) return;\n",
              "\n",
              "        const docLinkHtml = 'Like what you see? Visit the ' +\n",
              "          '<a target=\"_blank\" href=https://colab.research.google.com/notebooks/data_table.ipynb>data table notebook</a>'\n",
              "          + ' to learn more about interactive tables.';\n",
              "        element.innerHTML = '';\n",
              "        dataTable['output_type'] = 'display_data';\n",
              "        await google.colab.output.renderOutput(dataTable, element);\n",
              "        const docLink = document.createElement('div');\n",
              "        docLink.innerHTML = docLinkHtml;\n",
              "        element.appendChild(docLink);\n",
              "      }\n",
              "    </script>\n",
              "  </div>\n",
              "\n",
              "\n",
              "<div id=\"df-5d57644e-093f-45aa-b7cf-52648f3bb7f2\">\n",
              "  <button class=\"colab-df-quickchart\" onclick=\"quickchart('df-5d57644e-093f-45aa-b7cf-52648f3bb7f2')\"\n",
              "            title=\"Suggest charts\"\n",
              "            style=\"display:none;\">\n",
              "\n",
              "<svg xmlns=\"http://www.w3.org/2000/svg\" height=\"24px\"viewBox=\"0 0 24 24\"\n",
              "     width=\"24px\">\n",
              "    <g>\n",
              "        <path d=\"M19 3H5c-1.1 0-2 .9-2 2v14c0 1.1.9 2 2 2h14c1.1 0 2-.9 2-2V5c0-1.1-.9-2-2-2zM9 17H7v-7h2v7zm4 0h-2V7h2v10zm4 0h-2v-4h2v4z\"/>\n",
              "    </g>\n",
              "</svg>\n",
              "  </button>\n",
              "\n",
              "<style>\n",
              "  .colab-df-quickchart {\n",
              "      --bg-color: #E8F0FE;\n",
              "      --fill-color: #1967D2;\n",
              "      --hover-bg-color: #E2EBFA;\n",
              "      --hover-fill-color: #174EA6;\n",
              "      --disabled-fill-color: #AAA;\n",
              "      --disabled-bg-color: #DDD;\n",
              "  }\n",
              "\n",
              "  [theme=dark] .colab-df-quickchart {\n",
              "      --bg-color: #3B4455;\n",
              "      --fill-color: #D2E3FC;\n",
              "      --hover-bg-color: #434B5C;\n",
              "      --hover-fill-color: #FFFFFF;\n",
              "      --disabled-bg-color: #3B4455;\n",
              "      --disabled-fill-color: #666;\n",
              "  }\n",
              "\n",
              "  .colab-df-quickchart {\n",
              "    background-color: var(--bg-color);\n",
              "    border: none;\n",
              "    border-radius: 50%;\n",
              "    cursor: pointer;\n",
              "    display: none;\n",
              "    fill: var(--fill-color);\n",
              "    height: 32px;\n",
              "    padding: 0;\n",
              "    width: 32px;\n",
              "  }\n",
              "\n",
              "  .colab-df-quickchart:hover {\n",
              "    background-color: var(--hover-bg-color);\n",
              "    box-shadow: 0 1px 2px rgba(60, 64, 67, 0.3), 0 1px 3px 1px rgba(60, 64, 67, 0.15);\n",
              "    fill: var(--button-hover-fill-color);\n",
              "  }\n",
              "\n",
              "  .colab-df-quickchart-complete:disabled,\n",
              "  .colab-df-quickchart-complete:disabled:hover {\n",
              "    background-color: var(--disabled-bg-color);\n",
              "    fill: var(--disabled-fill-color);\n",
              "    box-shadow: none;\n",
              "  }\n",
              "\n",
              "  .colab-df-spinner {\n",
              "    border: 2px solid var(--fill-color);\n",
              "    border-color: transparent;\n",
              "    border-bottom-color: var(--fill-color);\n",
              "    animation:\n",
              "      spin 1s steps(1) infinite;\n",
              "  }\n",
              "\n",
              "  @keyframes spin {\n",
              "    0% {\n",
              "      border-color: transparent;\n",
              "      border-bottom-color: var(--fill-color);\n",
              "      border-left-color: var(--fill-color);\n",
              "    }\n",
              "    20% {\n",
              "      border-color: transparent;\n",
              "      border-left-color: var(--fill-color);\n",
              "      border-top-color: var(--fill-color);\n",
              "    }\n",
              "    30% {\n",
              "      border-color: transparent;\n",
              "      border-left-color: var(--fill-color);\n",
              "      border-top-color: var(--fill-color);\n",
              "      border-right-color: var(--fill-color);\n",
              "    }\n",
              "    40% {\n",
              "      border-color: transparent;\n",
              "      border-right-color: var(--fill-color);\n",
              "      border-top-color: var(--fill-color);\n",
              "    }\n",
              "    60% {\n",
              "      border-color: transparent;\n",
              "      border-right-color: var(--fill-color);\n",
              "    }\n",
              "    80% {\n",
              "      border-color: transparent;\n",
              "      border-right-color: var(--fill-color);\n",
              "      border-bottom-color: var(--fill-color);\n",
              "    }\n",
              "    90% {\n",
              "      border-color: transparent;\n",
              "      border-bottom-color: var(--fill-color);\n",
              "    }\n",
              "  }\n",
              "</style>\n",
              "\n",
              "  <script>\n",
              "    async function quickchart(key) {\n",
              "      const quickchartButtonEl =\n",
              "        document.querySelector('#' + key + ' button');\n",
              "      quickchartButtonEl.disabled = true;  // To prevent multiple clicks.\n",
              "      quickchartButtonEl.classList.add('colab-df-spinner');\n",
              "      try {\n",
              "        const charts = await google.colab.kernel.invokeFunction(\n",
              "            'suggestCharts', [key], {});\n",
              "      } catch (error) {\n",
              "        console.error('Error during call to suggestCharts:', error);\n",
              "      }\n",
              "      quickchartButtonEl.classList.remove('colab-df-spinner');\n",
              "      quickchartButtonEl.classList.add('colab-df-quickchart-complete');\n",
              "    }\n",
              "    (() => {\n",
              "      let quickchartButtonEl =\n",
              "        document.querySelector('#df-5d57644e-093f-45aa-b7cf-52648f3bb7f2 button');\n",
              "      quickchartButtonEl.style.display =\n",
              "        google.colab.kernel.accessAllowed ? 'block' : 'none';\n",
              "    })();\n",
              "  </script>\n",
              "</div>\n",
              "\n",
              "  <div id=\"id_53eafd4e-dc4c-4517-9125-c89a0944c108\">\n",
              "    <style>\n",
              "      .colab-df-generate {\n",
              "        background-color: #E8F0FE;\n",
              "        border: none;\n",
              "        border-radius: 50%;\n",
              "        cursor: pointer;\n",
              "        display: none;\n",
              "        fill: #1967D2;\n",
              "        height: 32px;\n",
              "        padding: 0 0 0 0;\n",
              "        width: 32px;\n",
              "      }\n",
              "\n",
              "      .colab-df-generate:hover {\n",
              "        background-color: #E2EBFA;\n",
              "        box-shadow: 0px 1px 2px rgba(60, 64, 67, 0.3), 0px 1px 3px 1px rgba(60, 64, 67, 0.15);\n",
              "        fill: #174EA6;\n",
              "      }\n",
              "\n",
              "      [theme=dark] .colab-df-generate {\n",
              "        background-color: #3B4455;\n",
              "        fill: #D2E3FC;\n",
              "      }\n",
              "\n",
              "      [theme=dark] .colab-df-generate:hover {\n",
              "        background-color: #434B5C;\n",
              "        box-shadow: 0px 1px 3px 1px rgba(0, 0, 0, 0.15);\n",
              "        filter: drop-shadow(0px 1px 2px rgba(0, 0, 0, 0.3));\n",
              "        fill: #FFFFFF;\n",
              "      }\n",
              "    </style>\n",
              "    <button class=\"colab-df-generate\" onclick=\"generateWithVariable('train_pre')\"\n",
              "            title=\"Generate code using this dataframe.\"\n",
              "            style=\"display:none;\">\n",
              "\n",
              "  <svg xmlns=\"http://www.w3.org/2000/svg\" height=\"24px\"viewBox=\"0 0 24 24\"\n",
              "       width=\"24px\">\n",
              "    <path d=\"M7,19H8.4L18.45,9,17,7.55,7,17.6ZM5,21V16.75L18.45,3.32a2,2,0,0,1,2.83,0l1.4,1.43a1.91,1.91,0,0,1,.58,1.4,1.91,1.91,0,0,1-.58,1.4L9.25,21ZM18.45,9,17,7.55Zm-12,3A5.31,5.31,0,0,0,4.9,8.1,5.31,5.31,0,0,0,1,6.5,5.31,5.31,0,0,0,4.9,4.9,5.31,5.31,0,0,0,6.5,1,5.31,5.31,0,0,0,8.1,4.9,5.31,5.31,0,0,0,12,6.5,5.46,5.46,0,0,0,6.5,12Z\"/>\n",
              "  </svg>\n",
              "    </button>\n",
              "    <script>\n",
              "      (() => {\n",
              "      const buttonEl =\n",
              "        document.querySelector('#id_53eafd4e-dc4c-4517-9125-c89a0944c108 button.colab-df-generate');\n",
              "      buttonEl.style.display =\n",
              "        google.colab.kernel.accessAllowed ? 'block' : 'none';\n",
              "\n",
              "      buttonEl.onclick = () => {\n",
              "        google.colab.notebook.generateWithVariable('train_pre');\n",
              "      }\n",
              "      })();\n",
              "    </script>\n",
              "  </div>\n",
              "\n",
              "    </div>\n",
              "  </div>\n"
            ]
          },
          "metadata": {},
          "execution_count": 26
        }
      ]
    },
    {
      "cell_type": "markdown",
      "source": [
        "### Convert emoticons to emoji"
      ],
      "metadata": {
        "id": "-8Z-LH2mMBxD"
      }
    },
    {
      "cell_type": "markdown",
      "source": [
        "I convert emoticons to emojis after transforming them into their word form."
      ],
      "metadata": {
        "id": "sF8JuvoEnt2r"
      }
    },
    {
      "cell_type": "code",
      "source": [
        "!pip install emoji"
      ],
      "metadata": {
        "colab": {
          "base_uri": "https://localhost:8080/"
        },
        "id": "DnVjXOE0om7A",
        "outputId": "f2ec5cb8-0d13-486d-9001-dbada15a451d"
      },
      "execution_count": 27,
      "outputs": [
        {
          "output_type": "stream",
          "name": "stdout",
          "text": [
            "Collecting emoji\n",
            "  Downloading emoji-2.9.0-py2.py3-none-any.whl (397 kB)\n",
            "\u001b[2K     \u001b[90m━━━━━━━━━━━━━━━━━━━━━━━━━━━━━━━━━━━━━━━━\u001b[0m \u001b[32m397.5/397.5 kB\u001b[0m \u001b[31m3.2 MB/s\u001b[0m eta \u001b[36m0:00:00\u001b[0m\n",
            "\u001b[?25hInstalling collected packages: emoji\n",
            "Successfully installed emoji-2.9.0\n"
          ]
        }
      ]
    },
    {
      "cell_type": "code",
      "source": [
        "def convert_emoticons_to_emoji(text):\n",
        "  emoticon_to_emoji = {\n",
        "      \":)\": \"😊\",\n",
        "        \":-)\": \"😊\",\n",
        "        \":(\": \"☹️\",\n",
        "        \":-(\": \"☹️\",\n",
        "        \":D\": \"😃\",\n",
        "        \":-D\": \"😃\",\n",
        "        \"<3\": \"❤️\",\n",
        "        \":P\": \"😛\",\n",
        "        \":-P\": \"😛\",\n",
        "        \";)\": \"😉\",\n",
        "        \";-)\": \"😉\",\n",
        "        \":|\": \"😐\",\n",
        "        \":-|\": \"😐\",\n",
        "        \":/\": \"😕\",\n",
        "        \":-/\": \"😕\",\n",
        "        \":O\": \"😲\",\n",
        "        \":-O\": \"😲\",\n",
        "        \":*\": \"😘\",\n",
        "        \":-*\": \"😘\",\n",
        "        \":')\": \"😂\",\n",
        "        \":'-)\": \"😂\",\n",
        "        \":X\": \"🤐\",\n",
        "        \":-X\": \"🤐\",\n",
        "        \":*(\": \"😢\",\n",
        "        \":-*(\": \"😢\",\n",
        "        \":\\\\\": \"😕\",\n",
        "        \":-\\\\\": \"😕\",\n",
        "        \":$\": \"🤑\",\n",
        "        \":-$\": \"🤑\",\n",
        "        \":s\": \"😖\",\n",
        "        \":-s\": \"😖\",\n",
        "        \":^)\": \"😊\",\n",
        "        \":-^)\": \"😊\",\n",
        "        \":v\": \"😗\",\n",
        "        \":-v\": \"😗\",\n",
        "        \"(y)\": \"👍\",\n",
        "        \"(Y)\": \"👍\",\n",
        "        \"(n)\": \"👎\",\n",
        "        \"(N)\": \"👎\"\n",
        "  }\n",
        "  for emoticon, emoji_representation in emoticon_to_emoji.items():\n",
        "      text = text.replace(emoticon, emoji_representation)\n",
        "\n",
        "  return text"
      ],
      "metadata": {
        "id": "gYTxuNoGLNm7"
      },
      "execution_count": 28,
      "outputs": []
    },
    {
      "cell_type": "code",
      "source": [
        "train_pre.Sentence = train_pre.Sentence.apply(convert_emoticons_to_emoji)\n",
        "train_pre"
      ],
      "metadata": {
        "colab": {
          "base_uri": "https://localhost:8080/",
          "height": 423
        },
        "id": "rSPGvvi4L1jz",
        "outputId": "5d0e9c63-cdfe-4d63-cd10-1b17d5a8e998"
      },
      "execution_count": 29,
      "outputs": [
        {
          "output_type": "execute_result",
          "data": {
            "text/plain": [
              "        ID  Emotion                                           Sentence\n",
              "0      188        4              cho mình xin bài nhạc tên là gì với ạ\n",
              "1      166        1  cho đáng đời con quỷ . về nhà lôi con nhà mày ...\n",
              "2     1345        1  lo học đi . yêu đương lol gì hay lại thích học...\n",
              "3      316        5      uớc gì sau này về già vẫn có thể như cụ này 😊\n",
              "4     1225        5  mỗi lần có video của con là cứ coi đi coi lại ...\n",
              "...    ...      ...                                                ...\n",
              "5543  1332        1  đường của nhà cụ hay sao mà cụ cấm người ta đỗ...\n",
              "5544   825        4                             nhìn mặt héo queo luôn\n",
              "5545   165        4  tao đi xe máy mỗi lần muốn để xe đi đâu là phi...\n",
              "5546   363        5                     thích thân hình bos rồi nhan 😌\n",
              "5547  1242        3  ước mơ nhỏ nhoi của tao là được làm chị mà khô...\n",
              "\n",
              "[5548 rows x 3 columns]"
            ],
            "text/html": [
              "\n",
              "  <div id=\"df-a3542340-164b-4ebd-8055-273cba8a908c\" class=\"colab-df-container\">\n",
              "    <div>\n",
              "<style scoped>\n",
              "    .dataframe tbody tr th:only-of-type {\n",
              "        vertical-align: middle;\n",
              "    }\n",
              "\n",
              "    .dataframe tbody tr th {\n",
              "        vertical-align: top;\n",
              "    }\n",
              "\n",
              "    .dataframe thead th {\n",
              "        text-align: right;\n",
              "    }\n",
              "</style>\n",
              "<table border=\"1\" class=\"dataframe\">\n",
              "  <thead>\n",
              "    <tr style=\"text-align: right;\">\n",
              "      <th></th>\n",
              "      <th>ID</th>\n",
              "      <th>Emotion</th>\n",
              "      <th>Sentence</th>\n",
              "    </tr>\n",
              "  </thead>\n",
              "  <tbody>\n",
              "    <tr>\n",
              "      <th>0</th>\n",
              "      <td>188</td>\n",
              "      <td>4</td>\n",
              "      <td>cho mình xin bài nhạc tên là gì với ạ</td>\n",
              "    </tr>\n",
              "    <tr>\n",
              "      <th>1</th>\n",
              "      <td>166</td>\n",
              "      <td>1</td>\n",
              "      <td>cho đáng đời con quỷ . về nhà lôi con nhà mày ...</td>\n",
              "    </tr>\n",
              "    <tr>\n",
              "      <th>2</th>\n",
              "      <td>1345</td>\n",
              "      <td>1</td>\n",
              "      <td>lo học đi . yêu đương lol gì hay lại thích học...</td>\n",
              "    </tr>\n",
              "    <tr>\n",
              "      <th>3</th>\n",
              "      <td>316</td>\n",
              "      <td>5</td>\n",
              "      <td>uớc gì sau này về già vẫn có thể như cụ này 😊</td>\n",
              "    </tr>\n",
              "    <tr>\n",
              "      <th>4</th>\n",
              "      <td>1225</td>\n",
              "      <td>5</td>\n",
              "      <td>mỗi lần có video của con là cứ coi đi coi lại ...</td>\n",
              "    </tr>\n",
              "    <tr>\n",
              "      <th>...</th>\n",
              "      <td>...</td>\n",
              "      <td>...</td>\n",
              "      <td>...</td>\n",
              "    </tr>\n",
              "    <tr>\n",
              "      <th>5543</th>\n",
              "      <td>1332</td>\n",
              "      <td>1</td>\n",
              "      <td>đường của nhà cụ hay sao mà cụ cấm người ta đỗ...</td>\n",
              "    </tr>\n",
              "    <tr>\n",
              "      <th>5544</th>\n",
              "      <td>825</td>\n",
              "      <td>4</td>\n",
              "      <td>nhìn mặt héo queo luôn</td>\n",
              "    </tr>\n",
              "    <tr>\n",
              "      <th>5545</th>\n",
              "      <td>165</td>\n",
              "      <td>4</td>\n",
              "      <td>tao đi xe máy mỗi lần muốn để xe đi đâu là phi...</td>\n",
              "    </tr>\n",
              "    <tr>\n",
              "      <th>5546</th>\n",
              "      <td>363</td>\n",
              "      <td>5</td>\n",
              "      <td>thích thân hình bos rồi nhan 😌</td>\n",
              "    </tr>\n",
              "    <tr>\n",
              "      <th>5547</th>\n",
              "      <td>1242</td>\n",
              "      <td>3</td>\n",
              "      <td>ước mơ nhỏ nhoi của tao là được làm chị mà khô...</td>\n",
              "    </tr>\n",
              "  </tbody>\n",
              "</table>\n",
              "<p>5548 rows × 3 columns</p>\n",
              "</div>\n",
              "    <div class=\"colab-df-buttons\">\n",
              "\n",
              "  <div class=\"colab-df-container\">\n",
              "    <button class=\"colab-df-convert\" onclick=\"convertToInteractive('df-a3542340-164b-4ebd-8055-273cba8a908c')\"\n",
              "            title=\"Convert this dataframe to an interactive table.\"\n",
              "            style=\"display:none;\">\n",
              "\n",
              "  <svg xmlns=\"http://www.w3.org/2000/svg\" height=\"24px\" viewBox=\"0 -960 960 960\">\n",
              "    <path d=\"M120-120v-720h720v720H120Zm60-500h600v-160H180v160Zm220 220h160v-160H400v160Zm0 220h160v-160H400v160ZM180-400h160v-160H180v160Zm440 0h160v-160H620v160ZM180-180h160v-160H180v160Zm440 0h160v-160H620v160Z\"/>\n",
              "  </svg>\n",
              "    </button>\n",
              "\n",
              "  <style>\n",
              "    .colab-df-container {\n",
              "      display:flex;\n",
              "      gap: 12px;\n",
              "    }\n",
              "\n",
              "    .colab-df-convert {\n",
              "      background-color: #E8F0FE;\n",
              "      border: none;\n",
              "      border-radius: 50%;\n",
              "      cursor: pointer;\n",
              "      display: none;\n",
              "      fill: #1967D2;\n",
              "      height: 32px;\n",
              "      padding: 0 0 0 0;\n",
              "      width: 32px;\n",
              "    }\n",
              "\n",
              "    .colab-df-convert:hover {\n",
              "      background-color: #E2EBFA;\n",
              "      box-shadow: 0px 1px 2px rgba(60, 64, 67, 0.3), 0px 1px 3px 1px rgba(60, 64, 67, 0.15);\n",
              "      fill: #174EA6;\n",
              "    }\n",
              "\n",
              "    .colab-df-buttons div {\n",
              "      margin-bottom: 4px;\n",
              "    }\n",
              "\n",
              "    [theme=dark] .colab-df-convert {\n",
              "      background-color: #3B4455;\n",
              "      fill: #D2E3FC;\n",
              "    }\n",
              "\n",
              "    [theme=dark] .colab-df-convert:hover {\n",
              "      background-color: #434B5C;\n",
              "      box-shadow: 0px 1px 3px 1px rgba(0, 0, 0, 0.15);\n",
              "      filter: drop-shadow(0px 1px 2px rgba(0, 0, 0, 0.3));\n",
              "      fill: #FFFFFF;\n",
              "    }\n",
              "  </style>\n",
              "\n",
              "    <script>\n",
              "      const buttonEl =\n",
              "        document.querySelector('#df-a3542340-164b-4ebd-8055-273cba8a908c button.colab-df-convert');\n",
              "      buttonEl.style.display =\n",
              "        google.colab.kernel.accessAllowed ? 'block' : 'none';\n",
              "\n",
              "      async function convertToInteractive(key) {\n",
              "        const element = document.querySelector('#df-a3542340-164b-4ebd-8055-273cba8a908c');\n",
              "        const dataTable =\n",
              "          await google.colab.kernel.invokeFunction('convertToInteractive',\n",
              "                                                    [key], {});\n",
              "        if (!dataTable) return;\n",
              "\n",
              "        const docLinkHtml = 'Like what you see? Visit the ' +\n",
              "          '<a target=\"_blank\" href=https://colab.research.google.com/notebooks/data_table.ipynb>data table notebook</a>'\n",
              "          + ' to learn more about interactive tables.';\n",
              "        element.innerHTML = '';\n",
              "        dataTable['output_type'] = 'display_data';\n",
              "        await google.colab.output.renderOutput(dataTable, element);\n",
              "        const docLink = document.createElement('div');\n",
              "        docLink.innerHTML = docLinkHtml;\n",
              "        element.appendChild(docLink);\n",
              "      }\n",
              "    </script>\n",
              "  </div>\n",
              "\n",
              "\n",
              "<div id=\"df-6be44d28-aea1-438b-8a50-3deb98017af9\">\n",
              "  <button class=\"colab-df-quickchart\" onclick=\"quickchart('df-6be44d28-aea1-438b-8a50-3deb98017af9')\"\n",
              "            title=\"Suggest charts\"\n",
              "            style=\"display:none;\">\n",
              "\n",
              "<svg xmlns=\"http://www.w3.org/2000/svg\" height=\"24px\"viewBox=\"0 0 24 24\"\n",
              "     width=\"24px\">\n",
              "    <g>\n",
              "        <path d=\"M19 3H5c-1.1 0-2 .9-2 2v14c0 1.1.9 2 2 2h14c1.1 0 2-.9 2-2V5c0-1.1-.9-2-2-2zM9 17H7v-7h2v7zm4 0h-2V7h2v10zm4 0h-2v-4h2v4z\"/>\n",
              "    </g>\n",
              "</svg>\n",
              "  </button>\n",
              "\n",
              "<style>\n",
              "  .colab-df-quickchart {\n",
              "      --bg-color: #E8F0FE;\n",
              "      --fill-color: #1967D2;\n",
              "      --hover-bg-color: #E2EBFA;\n",
              "      --hover-fill-color: #174EA6;\n",
              "      --disabled-fill-color: #AAA;\n",
              "      --disabled-bg-color: #DDD;\n",
              "  }\n",
              "\n",
              "  [theme=dark] .colab-df-quickchart {\n",
              "      --bg-color: #3B4455;\n",
              "      --fill-color: #D2E3FC;\n",
              "      --hover-bg-color: #434B5C;\n",
              "      --hover-fill-color: #FFFFFF;\n",
              "      --disabled-bg-color: #3B4455;\n",
              "      --disabled-fill-color: #666;\n",
              "  }\n",
              "\n",
              "  .colab-df-quickchart {\n",
              "    background-color: var(--bg-color);\n",
              "    border: none;\n",
              "    border-radius: 50%;\n",
              "    cursor: pointer;\n",
              "    display: none;\n",
              "    fill: var(--fill-color);\n",
              "    height: 32px;\n",
              "    padding: 0;\n",
              "    width: 32px;\n",
              "  }\n",
              "\n",
              "  .colab-df-quickchart:hover {\n",
              "    background-color: var(--hover-bg-color);\n",
              "    box-shadow: 0 1px 2px rgba(60, 64, 67, 0.3), 0 1px 3px 1px rgba(60, 64, 67, 0.15);\n",
              "    fill: var(--button-hover-fill-color);\n",
              "  }\n",
              "\n",
              "  .colab-df-quickchart-complete:disabled,\n",
              "  .colab-df-quickchart-complete:disabled:hover {\n",
              "    background-color: var(--disabled-bg-color);\n",
              "    fill: var(--disabled-fill-color);\n",
              "    box-shadow: none;\n",
              "  }\n",
              "\n",
              "  .colab-df-spinner {\n",
              "    border: 2px solid var(--fill-color);\n",
              "    border-color: transparent;\n",
              "    border-bottom-color: var(--fill-color);\n",
              "    animation:\n",
              "      spin 1s steps(1) infinite;\n",
              "  }\n",
              "\n",
              "  @keyframes spin {\n",
              "    0% {\n",
              "      border-color: transparent;\n",
              "      border-bottom-color: var(--fill-color);\n",
              "      border-left-color: var(--fill-color);\n",
              "    }\n",
              "    20% {\n",
              "      border-color: transparent;\n",
              "      border-left-color: var(--fill-color);\n",
              "      border-top-color: var(--fill-color);\n",
              "    }\n",
              "    30% {\n",
              "      border-color: transparent;\n",
              "      border-left-color: var(--fill-color);\n",
              "      border-top-color: var(--fill-color);\n",
              "      border-right-color: var(--fill-color);\n",
              "    }\n",
              "    40% {\n",
              "      border-color: transparent;\n",
              "      border-right-color: var(--fill-color);\n",
              "      border-top-color: var(--fill-color);\n",
              "    }\n",
              "    60% {\n",
              "      border-color: transparent;\n",
              "      border-right-color: var(--fill-color);\n",
              "    }\n",
              "    80% {\n",
              "      border-color: transparent;\n",
              "      border-right-color: var(--fill-color);\n",
              "      border-bottom-color: var(--fill-color);\n",
              "    }\n",
              "    90% {\n",
              "      border-color: transparent;\n",
              "      border-bottom-color: var(--fill-color);\n",
              "    }\n",
              "  }\n",
              "</style>\n",
              "\n",
              "  <script>\n",
              "    async function quickchart(key) {\n",
              "      const quickchartButtonEl =\n",
              "        document.querySelector('#' + key + ' button');\n",
              "      quickchartButtonEl.disabled = true;  // To prevent multiple clicks.\n",
              "      quickchartButtonEl.classList.add('colab-df-spinner');\n",
              "      try {\n",
              "        const charts = await google.colab.kernel.invokeFunction(\n",
              "            'suggestCharts', [key], {});\n",
              "      } catch (error) {\n",
              "        console.error('Error during call to suggestCharts:', error);\n",
              "      }\n",
              "      quickchartButtonEl.classList.remove('colab-df-spinner');\n",
              "      quickchartButtonEl.classList.add('colab-df-quickchart-complete');\n",
              "    }\n",
              "    (() => {\n",
              "      let quickchartButtonEl =\n",
              "        document.querySelector('#df-6be44d28-aea1-438b-8a50-3deb98017af9 button');\n",
              "      quickchartButtonEl.style.display =\n",
              "        google.colab.kernel.accessAllowed ? 'block' : 'none';\n",
              "    })();\n",
              "  </script>\n",
              "</div>\n",
              "\n",
              "  <div id=\"id_4ffe8bcc-eaa8-457e-af60-a301e037c3ec\">\n",
              "    <style>\n",
              "      .colab-df-generate {\n",
              "        background-color: #E8F0FE;\n",
              "        border: none;\n",
              "        border-radius: 50%;\n",
              "        cursor: pointer;\n",
              "        display: none;\n",
              "        fill: #1967D2;\n",
              "        height: 32px;\n",
              "        padding: 0 0 0 0;\n",
              "        width: 32px;\n",
              "      }\n",
              "\n",
              "      .colab-df-generate:hover {\n",
              "        background-color: #E2EBFA;\n",
              "        box-shadow: 0px 1px 2px rgba(60, 64, 67, 0.3), 0px 1px 3px 1px rgba(60, 64, 67, 0.15);\n",
              "        fill: #174EA6;\n",
              "      }\n",
              "\n",
              "      [theme=dark] .colab-df-generate {\n",
              "        background-color: #3B4455;\n",
              "        fill: #D2E3FC;\n",
              "      }\n",
              "\n",
              "      [theme=dark] .colab-df-generate:hover {\n",
              "        background-color: #434B5C;\n",
              "        box-shadow: 0px 1px 3px 1px rgba(0, 0, 0, 0.15);\n",
              "        filter: drop-shadow(0px 1px 2px rgba(0, 0, 0, 0.3));\n",
              "        fill: #FFFFFF;\n",
              "      }\n",
              "    </style>\n",
              "    <button class=\"colab-df-generate\" onclick=\"generateWithVariable('train_pre')\"\n",
              "            title=\"Generate code using this dataframe.\"\n",
              "            style=\"display:none;\">\n",
              "\n",
              "  <svg xmlns=\"http://www.w3.org/2000/svg\" height=\"24px\"viewBox=\"0 0 24 24\"\n",
              "       width=\"24px\">\n",
              "    <path d=\"M7,19H8.4L18.45,9,17,7.55,7,17.6ZM5,21V16.75L18.45,3.32a2,2,0,0,1,2.83,0l1.4,1.43a1.91,1.91,0,0,1,.58,1.4,1.91,1.91,0,0,1-.58,1.4L9.25,21ZM18.45,9,17,7.55Zm-12,3A5.31,5.31,0,0,0,4.9,8.1,5.31,5.31,0,0,0,1,6.5,5.31,5.31,0,0,0,4.9,4.9,5.31,5.31,0,0,0,6.5,1,5.31,5.31,0,0,0,8.1,4.9,5.31,5.31,0,0,0,12,6.5,5.46,5.46,0,0,0,6.5,12Z\"/>\n",
              "  </svg>\n",
              "    </button>\n",
              "    <script>\n",
              "      (() => {\n",
              "      const buttonEl =\n",
              "        document.querySelector('#id_4ffe8bcc-eaa8-457e-af60-a301e037c3ec button.colab-df-generate');\n",
              "      buttonEl.style.display =\n",
              "        google.colab.kernel.accessAllowed ? 'block' : 'none';\n",
              "\n",
              "      buttonEl.onclick = () => {\n",
              "        google.colab.notebook.generateWithVariable('train_pre');\n",
              "      }\n",
              "      })();\n",
              "    </script>\n",
              "  </div>\n",
              "\n",
              "    </div>\n",
              "  </div>\n"
            ]
          },
          "metadata": {},
          "execution_count": 29
        }
      ]
    },
    {
      "cell_type": "markdown",
      "source": [
        "### Transforming emoji and emoticons into their word form"
      ],
      "metadata": {
        "id": "s5MQQmmNJ4rr"
      }
    },
    {
      "cell_type": "markdown",
      "source": [
        "I create a translation rule dictionary for this task. To do this, I first find all the emojis that appear in the train dataset."
      ],
      "metadata": {
        "id": "dhc19quPn2Hv"
      }
    },
    {
      "cell_type": "code",
      "source": [
        "!pip install emojis"
      ],
      "metadata": {
        "colab": {
          "base_uri": "https://localhost:8080/"
        },
        "id": "0HUkiVeyqUmX",
        "outputId": "cbcbc42b-bb97-4aec-e790-326e3e3ee2d5"
      },
      "execution_count": 30,
      "outputs": [
        {
          "output_type": "stream",
          "name": "stdout",
          "text": [
            "Collecting emojis\n",
            "  Downloading emojis-0.7.0-py3-none-any.whl (28 kB)\n",
            "Installing collected packages: emojis\n",
            "Successfully installed emojis-0.7.0\n"
          ]
        }
      ]
    },
    {
      "cell_type": "code",
      "source": [
        "import emojis"
      ],
      "metadata": {
        "id": "7bHIP1XCNmPk"
      },
      "execution_count": 31,
      "outputs": []
    },
    {
      "cell_type": "code",
      "source": [
        "def find_emoji(list):\n",
        "    emoji_list = set()\n",
        "    for sen in list:\n",
        "      for emoji in emojis.get(sen):\n",
        "        emoji_list.add(emoji)\n",
        "    return emoji_list"
      ],
      "metadata": {
        "id": "nRDBVqaopIby"
      },
      "execution_count": 32,
      "outputs": []
    },
    {
      "cell_type": "code",
      "source": [
        "emoji_list = find_emoji(train_pre.Sentence)\n"
      ],
      "metadata": {
        "id": "loHI5p16ouWP"
      },
      "execution_count": 33,
      "outputs": []
    },
    {
      "cell_type": "code",
      "source": [
        "emoji_list"
      ],
      "metadata": {
        "colab": {
          "base_uri": "https://localhost:8080/"
        },
        "id": "G5pp143-omHc",
        "outputId": "6ed437fe-4121-4ecf-f9e6-1d68c942417b"
      },
      "execution_count": 34,
      "outputs": [
        {
          "output_type": "execute_result",
          "data": {
            "text/plain": [
              "{'☝️',\n",
              " '☹️',\n",
              " '☺️',\n",
              " '♀️',\n",
              " '♂️',\n",
              " '♥️',\n",
              " '❤️',\n",
              " '🌚',\n",
              " '🌝',\n",
              " '🌸',\n",
              " '🐕',\n",
              " '🐶',\n",
              " '👌',\n",
              " '👍',\n",
              " '👎',\n",
              " '👏',\n",
              " '👻',\n",
              " '💃',\n",
              " '💋',\n",
              " '💓',\n",
              " '💔',\n",
              " '💕',\n",
              " '💩',\n",
              " '💪',\n",
              " '😀',\n",
              " '😁',\n",
              " '😂',\n",
              " '😃',\n",
              " '😄',\n",
              " '😅',\n",
              " '😆',\n",
              " '😈',\n",
              " '😉',\n",
              " '😊',\n",
              " '😋',\n",
              " '😌',\n",
              " '😍',\n",
              " '😎',\n",
              " '😏',\n",
              " '😐',\n",
              " '😑',\n",
              " '😒',\n",
              " '😓',\n",
              " '😔',\n",
              " '😕',\n",
              " '😖',\n",
              " '😗',\n",
              " '😘',\n",
              " '😚',\n",
              " '😜',\n",
              " '😝',\n",
              " '😞',\n",
              " '😠',\n",
              " '😡',\n",
              " '😢',\n",
              " '😣',\n",
              " '😤',\n",
              " '😥',\n",
              " '😦',\n",
              " '😧',\n",
              " '😨',\n",
              " '😩',\n",
              " '😪',\n",
              " '😫',\n",
              " '😬',\n",
              " '😭',\n",
              " '😮',\n",
              " '😰',\n",
              " '😱',\n",
              " '😳',\n",
              " '😴',\n",
              " '😶',\n",
              " '😹',\n",
              " '😻',\n",
              " '😿',\n",
              " '🙁',\n",
              " '🙂',\n",
              " '🙃',\n",
              " '🙄',\n",
              " '🙎\\u200d♀️',\n",
              " '🤑',\n",
              " '🤔',\n",
              " '🤕',\n",
              " '🤗',\n",
              " '🤢',\n",
              " '🤣',\n",
              " '🤤',\n",
              " '🤦',\n",
              " '🤦\\u200d♀️',\n",
              " '🤧',\n",
              " '🤨',\n",
              " '🤩',\n",
              " '🤪',\n",
              " '🤫',\n",
              " '🤬',\n",
              " '🤭',\n",
              " '🤮',\n",
              " '🤯',\n",
              " '🥰',\n",
              " '🥵',\n",
              " '🧐'}"
            ]
          },
          "metadata": {},
          "execution_count": 34
        }
      ]
    },
    {
      "cell_type": "markdown",
      "source": [
        "Now, I define the mapping and transforming emojis into their word form in Vietnamese"
      ],
      "metadata": {
        "id": "1LgH32YcoHkY"
      }
    },
    {
      "cell_type": "code",
      "source": [
        "def convert_to_vietnamese(text):\n",
        "  emoji_to_text = {\n",
        "        '☝️': 'ngón tay trỏ lên',\n",
        "        '☹️': 'khuôn mặt buồn',\n",
        "        '☺️': 'khuôn mặt tươi cười',\n",
        "        '♀️': 'biểu tượng nữ',\n",
        "        '♂️': 'biểu tượng nam',\n",
        "        '♥️': 'trái tim đỏ',\n",
        "        '❤️': 'trái tim',\n",
        "        '🌚': 'mặt trăng đen',\n",
        "        '🌝': 'mặt trăng sáng',\n",
        "        '🌸': 'hoa anh đào',\n",
        "        '🐕': 'con chó',\n",
        "        '🐶': 'con chó',\n",
        "        '👌': 'tốt',\n",
        "        '👍': 'tốt',\n",
        "        '👎': 'không tốt',\n",
        "        '👏': 'vỗ tay',\n",
        "        '👻': 'ma',\n",
        "        '💃': 'người nhảy',\n",
        "        '💋': 'hôn',\n",
        "        '💓': 'trái tim nhỏ',\n",
        "        '💔': 'trái tim tan vỡ',\n",
        "        '💕': 'trái tim đôi',\n",
        "        '💩': 'phân',\n",
        "        '💪': 'cơ bắp',\n",
        "        '😀': 'khuôn mặt cười',\n",
        "        '😁': 'khuôn mặt cười toe toét',\n",
        "        '😂': 'cười sặc sụa',\n",
        "        '😃': 'khuôn mặt cười rạng rỡ',\n",
        "        '😄': 'khuôn mặt cười hạnh phúc',\n",
        "        '😅': 'khuôn mặt cười mồ hôi',\n",
        "        '😆': 'khuôn mặt cười vui vẻ',\n",
        "        '😈': 'khuôn mặt quỷ',\n",
        "        '😉': 'khuôn mặt nháy mắt',\n",
        "        '😊': 'khuôn mặt cười',\n",
        "        '😋': 'khuôn mặt tưởng ăn',\n",
        "        '😌': 'khuôn mặt thư giãn',\n",
        "        '😍': 'khuôn mặt cười hạnh phúc',\n",
        "        '😎': 'khuôn mặt ngầu',\n",
        "        '😏': 'khuôn mặt tự tin',\n",
        "        '😐': 'khuôn mặt bình thản',\n",
        "        '😑': 'khuôn mặt không biểu cảm',\n",
        "        '😒': 'khuôn mặt phẫn nộ',\n",
        "        '😓': 'khuôn mặt đổ mồ hôi',\n",
        "        '😔': 'khuôn mặt buồn',\n",
        "        '😕': 'khuôn mặt lo lắng',\n",
        "        '😖': 'khuôn mặt khó chịu',\n",
        "        '😗': 'khuôn mặt hôn',\n",
        "        '😘': 'khuôn mặt hôn',\n",
        "        '😚': 'khuôn mặt hôn',\n",
        "        '😜': 'khuôn mặt đùa giỡn',\n",
        "        '😝': 'khuôn mặt đùa giỡn',\n",
        "        '😞': 'khuôn mặt thất vọng',\n",
        "        '😠': 'khuôn mặt giận dữ',\n",
        "        '😡': 'khuôn mặt giận dữ',\n",
        "        '😢': 'khuôn mặt khóc',\n",
        "        '😣': 'khuôn mặt tuyệt vọng',\n",
        "        '😤': 'khuôn mặt tức giận',\n",
        "        '😥': 'khuôn mặt mệt mỏi',\n",
        "        '😦': 'khuôn mặt bối rối',\n",
        "        '😧': 'khuôn mặt buồn bã',\n",
        "        '😨': 'khuôn mặt sợ hãi',\n",
        "        '😩': 'khuôn mặt chán nản',\n",
        "        '😪': 'khuôn mặt ngủ',\n",
        "        '😫': 'khuôn mặt mệt mỏi',\n",
        "        '😬': 'khuôn mặt cười ngượng',\n",
        "        '😭': 'khuôn mặt khóc',\n",
        "        '😮': 'khuôn mặt kinh ngạc',\n",
        "        '😰': 'khuôn mặt lo lắng',\n",
        "        '😱': 'khuôn mặt sợ hãi',\n",
        "        '😳': 'khuôn mặt ngạc nhiên',\n",
        "        '😴': 'khuôn mặt ngủ',\n",
        "        '😶': 'khuôn mặt không biểu cảm',\n",
        "        '😹': 'khuôn mặt cười lớn',\n",
        "        '😻': 'khuôn mặt hạnh phúc',\n",
        "        '😿': 'khuôn mặt buồn',\n",
        "        '🙁': 'khuôn mặt buồn',\n",
        "        '🙂': 'khuôn mặt vui vẻ',\n",
        "        '🙃': 'khuôn mặt đảo ngược',\n",
        "        '🙄': 'không tán thành',\n",
        "        '🙎\\u200d♀️': 'khuôn mặt cáu kỉnh',\n",
        "        '🤑': 'khuôn mặt đầy tiền',\n",
        "        '🤔': 'khuôn mặt suy tư',\n",
        "        '🤕': 'khuôn mặt đau',\n",
        "        '🤗': 'khuôn mặt ôm',\n",
        "        '🤢': 'khuôn mặt buồn nôn',\n",
        "        '🤣': 'cười lớn',\n",
        "        '🤤': 'chảy nước dãi',\n",
        "        '🤦': 'thất vọng',\n",
        "        '🤦\\u200d♀️': 'thất vọng',\n",
        "        '🤧': 'xúc động',\n",
        "        '🤨': 'khuôn mặt hoài nghi',\n",
        "        '🤩': 'thật tuyệt vời, ấn tượng',\n",
        "        '🤪': 'khuôn mặt điên loạn',\n",
        "        '🤫': 'khuôn mặt giữ bí mật',\n",
        "        '🤬': 'khuôn mặt giận dữ',\n",
        "        '🤭': 'khuôn mặt cười mở miệng',\n",
        "        '🤮': 'khuôn mặt buồn nôn',\n",
        "        '🤯': 'khuôn mặt sốc',\n",
        "        '🥰': 'khuôn mặt mến yêu',\n",
        "        '🥵': 'khuôn mặt nóng bừng',\n",
        "        '🧐': 'khuôn mặt nhìn chằm chằm',\n",
        "        '🙎': 'bĩu môi',\n",
        "        '\\u200d' : ''\n",
        "  }\n",
        "  for emoji, vietnamese_text in emoji_to_text.items():\n",
        "        text = text.replace(emoji, vietnamese_text)\n",
        "  return text"
      ],
      "metadata": {
        "id": "Owii_RIAKCOq"
      },
      "execution_count": 35,
      "outputs": []
    },
    {
      "cell_type": "code",
      "source": [
        "train_pre.Sentence = train_pre.Sentence.apply(convert_to_vietnamese)\n",
        "train_pre"
      ],
      "metadata": {
        "colab": {
          "base_uri": "https://localhost:8080/",
          "height": 423
        },
        "id": "DGJh_72ZPzA6",
        "outputId": "6bc9c546-c70b-48ee-ad0f-ba063e2d40ad"
      },
      "execution_count": 36,
      "outputs": [
        {
          "output_type": "execute_result",
          "data": {
            "text/plain": [
              "        ID  Emotion                                           Sentence\n",
              "0      188        4              cho mình xin bài nhạc tên là gì với ạ\n",
              "1      166        1  cho đáng đời con quỷ . về nhà lôi con nhà mày ...\n",
              "2     1345        1  lo học đi . yêu đương lol gì hay lại thích học...\n",
              "3      316        5  uớc gì sau này về già vẫn có thể như cụ này kh...\n",
              "4     1225        5  mỗi lần có video của con là cứ coi đi coi lại ...\n",
              "...    ...      ...                                                ...\n",
              "5543  1332        1  đường của nhà cụ hay sao mà cụ cấm người ta đỗ...\n",
              "5544   825        4                             nhìn mặt héo queo luôn\n",
              "5545   165        4  tao đi xe máy mỗi lần muốn để xe đi đâu là phi...\n",
              "5546   363        5    thích thân hình bos rồi nhan khuôn mặt thư giãn\n",
              "5547  1242        3  ước mơ nhỏ nhoi của tao là được làm chị mà khô...\n",
              "\n",
              "[5548 rows x 3 columns]"
            ],
            "text/html": [
              "\n",
              "  <div id=\"df-8141b8e9-b0fb-4f61-93d7-ffdb988c1d12\" class=\"colab-df-container\">\n",
              "    <div>\n",
              "<style scoped>\n",
              "    .dataframe tbody tr th:only-of-type {\n",
              "        vertical-align: middle;\n",
              "    }\n",
              "\n",
              "    .dataframe tbody tr th {\n",
              "        vertical-align: top;\n",
              "    }\n",
              "\n",
              "    .dataframe thead th {\n",
              "        text-align: right;\n",
              "    }\n",
              "</style>\n",
              "<table border=\"1\" class=\"dataframe\">\n",
              "  <thead>\n",
              "    <tr style=\"text-align: right;\">\n",
              "      <th></th>\n",
              "      <th>ID</th>\n",
              "      <th>Emotion</th>\n",
              "      <th>Sentence</th>\n",
              "    </tr>\n",
              "  </thead>\n",
              "  <tbody>\n",
              "    <tr>\n",
              "      <th>0</th>\n",
              "      <td>188</td>\n",
              "      <td>4</td>\n",
              "      <td>cho mình xin bài nhạc tên là gì với ạ</td>\n",
              "    </tr>\n",
              "    <tr>\n",
              "      <th>1</th>\n",
              "      <td>166</td>\n",
              "      <td>1</td>\n",
              "      <td>cho đáng đời con quỷ . về nhà lôi con nhà mày ...</td>\n",
              "    </tr>\n",
              "    <tr>\n",
              "      <th>2</th>\n",
              "      <td>1345</td>\n",
              "      <td>1</td>\n",
              "      <td>lo học đi . yêu đương lol gì hay lại thích học...</td>\n",
              "    </tr>\n",
              "    <tr>\n",
              "      <th>3</th>\n",
              "      <td>316</td>\n",
              "      <td>5</td>\n",
              "      <td>uớc gì sau này về già vẫn có thể như cụ này kh...</td>\n",
              "    </tr>\n",
              "    <tr>\n",
              "      <th>4</th>\n",
              "      <td>1225</td>\n",
              "      <td>5</td>\n",
              "      <td>mỗi lần có video của con là cứ coi đi coi lại ...</td>\n",
              "    </tr>\n",
              "    <tr>\n",
              "      <th>...</th>\n",
              "      <td>...</td>\n",
              "      <td>...</td>\n",
              "      <td>...</td>\n",
              "    </tr>\n",
              "    <tr>\n",
              "      <th>5543</th>\n",
              "      <td>1332</td>\n",
              "      <td>1</td>\n",
              "      <td>đường của nhà cụ hay sao mà cụ cấm người ta đỗ...</td>\n",
              "    </tr>\n",
              "    <tr>\n",
              "      <th>5544</th>\n",
              "      <td>825</td>\n",
              "      <td>4</td>\n",
              "      <td>nhìn mặt héo queo luôn</td>\n",
              "    </tr>\n",
              "    <tr>\n",
              "      <th>5545</th>\n",
              "      <td>165</td>\n",
              "      <td>4</td>\n",
              "      <td>tao đi xe máy mỗi lần muốn để xe đi đâu là phi...</td>\n",
              "    </tr>\n",
              "    <tr>\n",
              "      <th>5546</th>\n",
              "      <td>363</td>\n",
              "      <td>5</td>\n",
              "      <td>thích thân hình bos rồi nhan khuôn mặt thư giãn</td>\n",
              "    </tr>\n",
              "    <tr>\n",
              "      <th>5547</th>\n",
              "      <td>1242</td>\n",
              "      <td>3</td>\n",
              "      <td>ước mơ nhỏ nhoi của tao là được làm chị mà khô...</td>\n",
              "    </tr>\n",
              "  </tbody>\n",
              "</table>\n",
              "<p>5548 rows × 3 columns</p>\n",
              "</div>\n",
              "    <div class=\"colab-df-buttons\">\n",
              "\n",
              "  <div class=\"colab-df-container\">\n",
              "    <button class=\"colab-df-convert\" onclick=\"convertToInteractive('df-8141b8e9-b0fb-4f61-93d7-ffdb988c1d12')\"\n",
              "            title=\"Convert this dataframe to an interactive table.\"\n",
              "            style=\"display:none;\">\n",
              "\n",
              "  <svg xmlns=\"http://www.w3.org/2000/svg\" height=\"24px\" viewBox=\"0 -960 960 960\">\n",
              "    <path d=\"M120-120v-720h720v720H120Zm60-500h600v-160H180v160Zm220 220h160v-160H400v160Zm0 220h160v-160H400v160ZM180-400h160v-160H180v160Zm440 0h160v-160H620v160ZM180-180h160v-160H180v160Zm440 0h160v-160H620v160Z\"/>\n",
              "  </svg>\n",
              "    </button>\n",
              "\n",
              "  <style>\n",
              "    .colab-df-container {\n",
              "      display:flex;\n",
              "      gap: 12px;\n",
              "    }\n",
              "\n",
              "    .colab-df-convert {\n",
              "      background-color: #E8F0FE;\n",
              "      border: none;\n",
              "      border-radius: 50%;\n",
              "      cursor: pointer;\n",
              "      display: none;\n",
              "      fill: #1967D2;\n",
              "      height: 32px;\n",
              "      padding: 0 0 0 0;\n",
              "      width: 32px;\n",
              "    }\n",
              "\n",
              "    .colab-df-convert:hover {\n",
              "      background-color: #E2EBFA;\n",
              "      box-shadow: 0px 1px 2px rgba(60, 64, 67, 0.3), 0px 1px 3px 1px rgba(60, 64, 67, 0.15);\n",
              "      fill: #174EA6;\n",
              "    }\n",
              "\n",
              "    .colab-df-buttons div {\n",
              "      margin-bottom: 4px;\n",
              "    }\n",
              "\n",
              "    [theme=dark] .colab-df-convert {\n",
              "      background-color: #3B4455;\n",
              "      fill: #D2E3FC;\n",
              "    }\n",
              "\n",
              "    [theme=dark] .colab-df-convert:hover {\n",
              "      background-color: #434B5C;\n",
              "      box-shadow: 0px 1px 3px 1px rgba(0, 0, 0, 0.15);\n",
              "      filter: drop-shadow(0px 1px 2px rgba(0, 0, 0, 0.3));\n",
              "      fill: #FFFFFF;\n",
              "    }\n",
              "  </style>\n",
              "\n",
              "    <script>\n",
              "      const buttonEl =\n",
              "        document.querySelector('#df-8141b8e9-b0fb-4f61-93d7-ffdb988c1d12 button.colab-df-convert');\n",
              "      buttonEl.style.display =\n",
              "        google.colab.kernel.accessAllowed ? 'block' : 'none';\n",
              "\n",
              "      async function convertToInteractive(key) {\n",
              "        const element = document.querySelector('#df-8141b8e9-b0fb-4f61-93d7-ffdb988c1d12');\n",
              "        const dataTable =\n",
              "          await google.colab.kernel.invokeFunction('convertToInteractive',\n",
              "                                                    [key], {});\n",
              "        if (!dataTable) return;\n",
              "\n",
              "        const docLinkHtml = 'Like what you see? Visit the ' +\n",
              "          '<a target=\"_blank\" href=https://colab.research.google.com/notebooks/data_table.ipynb>data table notebook</a>'\n",
              "          + ' to learn more about interactive tables.';\n",
              "        element.innerHTML = '';\n",
              "        dataTable['output_type'] = 'display_data';\n",
              "        await google.colab.output.renderOutput(dataTable, element);\n",
              "        const docLink = document.createElement('div');\n",
              "        docLink.innerHTML = docLinkHtml;\n",
              "        element.appendChild(docLink);\n",
              "      }\n",
              "    </script>\n",
              "  </div>\n",
              "\n",
              "\n",
              "<div id=\"df-b34b93bc-374c-463d-9129-602ce68ec0e8\">\n",
              "  <button class=\"colab-df-quickchart\" onclick=\"quickchart('df-b34b93bc-374c-463d-9129-602ce68ec0e8')\"\n",
              "            title=\"Suggest charts\"\n",
              "            style=\"display:none;\">\n",
              "\n",
              "<svg xmlns=\"http://www.w3.org/2000/svg\" height=\"24px\"viewBox=\"0 0 24 24\"\n",
              "     width=\"24px\">\n",
              "    <g>\n",
              "        <path d=\"M19 3H5c-1.1 0-2 .9-2 2v14c0 1.1.9 2 2 2h14c1.1 0 2-.9 2-2V5c0-1.1-.9-2-2-2zM9 17H7v-7h2v7zm4 0h-2V7h2v10zm4 0h-2v-4h2v4z\"/>\n",
              "    </g>\n",
              "</svg>\n",
              "  </button>\n",
              "\n",
              "<style>\n",
              "  .colab-df-quickchart {\n",
              "      --bg-color: #E8F0FE;\n",
              "      --fill-color: #1967D2;\n",
              "      --hover-bg-color: #E2EBFA;\n",
              "      --hover-fill-color: #174EA6;\n",
              "      --disabled-fill-color: #AAA;\n",
              "      --disabled-bg-color: #DDD;\n",
              "  }\n",
              "\n",
              "  [theme=dark] .colab-df-quickchart {\n",
              "      --bg-color: #3B4455;\n",
              "      --fill-color: #D2E3FC;\n",
              "      --hover-bg-color: #434B5C;\n",
              "      --hover-fill-color: #FFFFFF;\n",
              "      --disabled-bg-color: #3B4455;\n",
              "      --disabled-fill-color: #666;\n",
              "  }\n",
              "\n",
              "  .colab-df-quickchart {\n",
              "    background-color: var(--bg-color);\n",
              "    border: none;\n",
              "    border-radius: 50%;\n",
              "    cursor: pointer;\n",
              "    display: none;\n",
              "    fill: var(--fill-color);\n",
              "    height: 32px;\n",
              "    padding: 0;\n",
              "    width: 32px;\n",
              "  }\n",
              "\n",
              "  .colab-df-quickchart:hover {\n",
              "    background-color: var(--hover-bg-color);\n",
              "    box-shadow: 0 1px 2px rgba(60, 64, 67, 0.3), 0 1px 3px 1px rgba(60, 64, 67, 0.15);\n",
              "    fill: var(--button-hover-fill-color);\n",
              "  }\n",
              "\n",
              "  .colab-df-quickchart-complete:disabled,\n",
              "  .colab-df-quickchart-complete:disabled:hover {\n",
              "    background-color: var(--disabled-bg-color);\n",
              "    fill: var(--disabled-fill-color);\n",
              "    box-shadow: none;\n",
              "  }\n",
              "\n",
              "  .colab-df-spinner {\n",
              "    border: 2px solid var(--fill-color);\n",
              "    border-color: transparent;\n",
              "    border-bottom-color: var(--fill-color);\n",
              "    animation:\n",
              "      spin 1s steps(1) infinite;\n",
              "  }\n",
              "\n",
              "  @keyframes spin {\n",
              "    0% {\n",
              "      border-color: transparent;\n",
              "      border-bottom-color: var(--fill-color);\n",
              "      border-left-color: var(--fill-color);\n",
              "    }\n",
              "    20% {\n",
              "      border-color: transparent;\n",
              "      border-left-color: var(--fill-color);\n",
              "      border-top-color: var(--fill-color);\n",
              "    }\n",
              "    30% {\n",
              "      border-color: transparent;\n",
              "      border-left-color: var(--fill-color);\n",
              "      border-top-color: var(--fill-color);\n",
              "      border-right-color: var(--fill-color);\n",
              "    }\n",
              "    40% {\n",
              "      border-color: transparent;\n",
              "      border-right-color: var(--fill-color);\n",
              "      border-top-color: var(--fill-color);\n",
              "    }\n",
              "    60% {\n",
              "      border-color: transparent;\n",
              "      border-right-color: var(--fill-color);\n",
              "    }\n",
              "    80% {\n",
              "      border-color: transparent;\n",
              "      border-right-color: var(--fill-color);\n",
              "      border-bottom-color: var(--fill-color);\n",
              "    }\n",
              "    90% {\n",
              "      border-color: transparent;\n",
              "      border-bottom-color: var(--fill-color);\n",
              "    }\n",
              "  }\n",
              "</style>\n",
              "\n",
              "  <script>\n",
              "    async function quickchart(key) {\n",
              "      const quickchartButtonEl =\n",
              "        document.querySelector('#' + key + ' button');\n",
              "      quickchartButtonEl.disabled = true;  // To prevent multiple clicks.\n",
              "      quickchartButtonEl.classList.add('colab-df-spinner');\n",
              "      try {\n",
              "        const charts = await google.colab.kernel.invokeFunction(\n",
              "            'suggestCharts', [key], {});\n",
              "      } catch (error) {\n",
              "        console.error('Error during call to suggestCharts:', error);\n",
              "      }\n",
              "      quickchartButtonEl.classList.remove('colab-df-spinner');\n",
              "      quickchartButtonEl.classList.add('colab-df-quickchart-complete');\n",
              "    }\n",
              "    (() => {\n",
              "      let quickchartButtonEl =\n",
              "        document.querySelector('#df-b34b93bc-374c-463d-9129-602ce68ec0e8 button');\n",
              "      quickchartButtonEl.style.display =\n",
              "        google.colab.kernel.accessAllowed ? 'block' : 'none';\n",
              "    })();\n",
              "  </script>\n",
              "</div>\n",
              "\n",
              "  <div id=\"id_7a8c94bb-ac88-4386-8085-34696117635e\">\n",
              "    <style>\n",
              "      .colab-df-generate {\n",
              "        background-color: #E8F0FE;\n",
              "        border: none;\n",
              "        border-radius: 50%;\n",
              "        cursor: pointer;\n",
              "        display: none;\n",
              "        fill: #1967D2;\n",
              "        height: 32px;\n",
              "        padding: 0 0 0 0;\n",
              "        width: 32px;\n",
              "      }\n",
              "\n",
              "      .colab-df-generate:hover {\n",
              "        background-color: #E2EBFA;\n",
              "        box-shadow: 0px 1px 2px rgba(60, 64, 67, 0.3), 0px 1px 3px 1px rgba(60, 64, 67, 0.15);\n",
              "        fill: #174EA6;\n",
              "      }\n",
              "\n",
              "      [theme=dark] .colab-df-generate {\n",
              "        background-color: #3B4455;\n",
              "        fill: #D2E3FC;\n",
              "      }\n",
              "\n",
              "      [theme=dark] .colab-df-generate:hover {\n",
              "        background-color: #434B5C;\n",
              "        box-shadow: 0px 1px 3px 1px rgba(0, 0, 0, 0.15);\n",
              "        filter: drop-shadow(0px 1px 2px rgba(0, 0, 0, 0.3));\n",
              "        fill: #FFFFFF;\n",
              "      }\n",
              "    </style>\n",
              "    <button class=\"colab-df-generate\" onclick=\"generateWithVariable('train_pre')\"\n",
              "            title=\"Generate code using this dataframe.\"\n",
              "            style=\"display:none;\">\n",
              "\n",
              "  <svg xmlns=\"http://www.w3.org/2000/svg\" height=\"24px\"viewBox=\"0 0 24 24\"\n",
              "       width=\"24px\">\n",
              "    <path d=\"M7,19H8.4L18.45,9,17,7.55,7,17.6ZM5,21V16.75L18.45,3.32a2,2,0,0,1,2.83,0l1.4,1.43a1.91,1.91,0,0,1,.58,1.4,1.91,1.91,0,0,1-.58,1.4L9.25,21ZM18.45,9,17,7.55Zm-12,3A5.31,5.31,0,0,0,4.9,8.1,5.31,5.31,0,0,0,1,6.5,5.31,5.31,0,0,0,4.9,4.9,5.31,5.31,0,0,0,6.5,1,5.31,5.31,0,0,0,8.1,4.9,5.31,5.31,0,0,0,12,6.5,5.46,5.46,0,0,0,6.5,12Z\"/>\n",
              "  </svg>\n",
              "    </button>\n",
              "    <script>\n",
              "      (() => {\n",
              "      const buttonEl =\n",
              "        document.querySelector('#id_7a8c94bb-ac88-4386-8085-34696117635e button.colab-df-generate');\n",
              "      buttonEl.style.display =\n",
              "        google.colab.kernel.accessAllowed ? 'block' : 'none';\n",
              "\n",
              "      buttonEl.onclick = () => {\n",
              "        google.colab.notebook.generateWithVariable('train_pre');\n",
              "      }\n",
              "      })();\n",
              "    </script>\n",
              "  </div>\n",
              "\n",
              "    </div>\n",
              "  </div>\n"
            ]
          },
          "metadata": {},
          "execution_count": 36
        }
      ]
    },
    {
      "cell_type": "markdown",
      "source": [
        "After that, I check to see if there are any emojis that haven't been converted yet"
      ],
      "metadata": {
        "id": "qDxzsy1qoUeP"
      }
    },
    {
      "cell_type": "code",
      "source": [
        "emoji_list_1 = find_emoji(train_pre.Sentence)\n",
        "emoji_list_1"
      ],
      "metadata": {
        "colab": {
          "base_uri": "https://localhost:8080/"
        },
        "id": "6Lu3munES2XE",
        "outputId": "8b066e11-76cc-491f-8c3f-dc575f9be749"
      },
      "execution_count": 37,
      "outputs": [
        {
          "output_type": "execute_result",
          "data": {
            "text/plain": [
              "set()"
            ]
          },
          "metadata": {},
          "execution_count": 37
        }
      ]
    },
    {
      "cell_type": "markdown",
      "source": [
        "### Abbreviations lookup"
      ],
      "metadata": {
        "id": "xGon1WpiP_Ms"
      }
    },
    {
      "cell_type": "markdown",
      "source": [
        "In the dataset, there are numerous abbreviations and teencodes. I utilized a dictionary sourced from the internet to perform lookup and replace these terms accordingly."
      ],
      "metadata": {
        "id": "RGPMEUgzovtX"
      }
    },
    {
      "cell_type": "code",
      "source": [
        "def abbreviations_lookup(data):\n",
        "    data = data.lower()\n",
        "    with open('teencode4.txt','r') as file:\n",
        "      file = file.read()\n",
        "      lines = file.split('\\n')\n",
        "      for line in lines:\n",
        "        elements = line.split('\\t')\n",
        "        data = re.sub(r'\\b{}+\\b'.format(elements[0]), elements[1], data)\n",
        "    alphabet = 'abcdefghijlmnopqrstuvwxyz'\n",
        "    for c in alphabet:\n",
        "      data = re.sub(r'{}+'.format(c), c, data)\n",
        "\n",
        "    data = re.sub(r'\\s+', ' ', data)\n",
        "    return data"
      ],
      "metadata": {
        "id": "9eq95ITyN0dp"
      },
      "execution_count": 38,
      "outputs": []
    },
    {
      "cell_type": "code",
      "source": [
        "train_pre.Sentence = train_pre.Sentence.apply(abbreviations_lookup)\n",
        "train_pre"
      ],
      "metadata": {
        "colab": {
          "base_uri": "https://localhost:8080/",
          "height": 423
        },
        "id": "KHGueZYaN_KJ",
        "outputId": "607665d9-944f-4d0f-a508-c94908c1b165"
      },
      "execution_count": 39,
      "outputs": [
        {
          "output_type": "execute_result",
          "data": {
            "text/plain": [
              "        ID  Emotion                                           Sentence\n",
              "0      188        4              cho mình xin bài nhạc tên là gì với ạ\n",
              "1      166        1  cho đáng đời con quỷ . về nhà lôi con nhà mày ...\n",
              "2     1345        1  lo học đi . yêu đương lồn gì hay lại thích học...\n",
              "3      316        5  uớc gì sau này về già vẫn có thể như cụ này kh...\n",
              "4     1225        5  mỗi lần có video của con là cứ coi đi coi lại ...\n",
              "...    ...      ...                                                ...\n",
              "5543  1332        1  đường của nhà cụ hay sao mà cụ cấm người ta đỗ...\n",
              "5544   825        4                             nhìn mặt héo queo luôn\n",
              "5545   165        4  tao đi xe máy mỗi lần muốn để xe đi đâu là phi...\n",
              "5546   363        5    thích thân hình bos rồi nhan khuôn mặt thư giãn\n",
              "5547  1242        3  ước mơ nhỏ nhoi của tao là được làm chị mà khô...\n",
              "\n",
              "[5548 rows x 3 columns]"
            ],
            "text/html": [
              "\n",
              "  <div id=\"df-edd2865f-358f-4200-91b0-06c37cce249b\" class=\"colab-df-container\">\n",
              "    <div>\n",
              "<style scoped>\n",
              "    .dataframe tbody tr th:only-of-type {\n",
              "        vertical-align: middle;\n",
              "    }\n",
              "\n",
              "    .dataframe tbody tr th {\n",
              "        vertical-align: top;\n",
              "    }\n",
              "\n",
              "    .dataframe thead th {\n",
              "        text-align: right;\n",
              "    }\n",
              "</style>\n",
              "<table border=\"1\" class=\"dataframe\">\n",
              "  <thead>\n",
              "    <tr style=\"text-align: right;\">\n",
              "      <th></th>\n",
              "      <th>ID</th>\n",
              "      <th>Emotion</th>\n",
              "      <th>Sentence</th>\n",
              "    </tr>\n",
              "  </thead>\n",
              "  <tbody>\n",
              "    <tr>\n",
              "      <th>0</th>\n",
              "      <td>188</td>\n",
              "      <td>4</td>\n",
              "      <td>cho mình xin bài nhạc tên là gì với ạ</td>\n",
              "    </tr>\n",
              "    <tr>\n",
              "      <th>1</th>\n",
              "      <td>166</td>\n",
              "      <td>1</td>\n",
              "      <td>cho đáng đời con quỷ . về nhà lôi con nhà mày ...</td>\n",
              "    </tr>\n",
              "    <tr>\n",
              "      <th>2</th>\n",
              "      <td>1345</td>\n",
              "      <td>1</td>\n",
              "      <td>lo học đi . yêu đương lồn gì hay lại thích học...</td>\n",
              "    </tr>\n",
              "    <tr>\n",
              "      <th>3</th>\n",
              "      <td>316</td>\n",
              "      <td>5</td>\n",
              "      <td>uớc gì sau này về già vẫn có thể như cụ này kh...</td>\n",
              "    </tr>\n",
              "    <tr>\n",
              "      <th>4</th>\n",
              "      <td>1225</td>\n",
              "      <td>5</td>\n",
              "      <td>mỗi lần có video của con là cứ coi đi coi lại ...</td>\n",
              "    </tr>\n",
              "    <tr>\n",
              "      <th>...</th>\n",
              "      <td>...</td>\n",
              "      <td>...</td>\n",
              "      <td>...</td>\n",
              "    </tr>\n",
              "    <tr>\n",
              "      <th>5543</th>\n",
              "      <td>1332</td>\n",
              "      <td>1</td>\n",
              "      <td>đường của nhà cụ hay sao mà cụ cấm người ta đỗ...</td>\n",
              "    </tr>\n",
              "    <tr>\n",
              "      <th>5544</th>\n",
              "      <td>825</td>\n",
              "      <td>4</td>\n",
              "      <td>nhìn mặt héo queo luôn</td>\n",
              "    </tr>\n",
              "    <tr>\n",
              "      <th>5545</th>\n",
              "      <td>165</td>\n",
              "      <td>4</td>\n",
              "      <td>tao đi xe máy mỗi lần muốn để xe đi đâu là phi...</td>\n",
              "    </tr>\n",
              "    <tr>\n",
              "      <th>5546</th>\n",
              "      <td>363</td>\n",
              "      <td>5</td>\n",
              "      <td>thích thân hình bos rồi nhan khuôn mặt thư giãn</td>\n",
              "    </tr>\n",
              "    <tr>\n",
              "      <th>5547</th>\n",
              "      <td>1242</td>\n",
              "      <td>3</td>\n",
              "      <td>ước mơ nhỏ nhoi của tao là được làm chị mà khô...</td>\n",
              "    </tr>\n",
              "  </tbody>\n",
              "</table>\n",
              "<p>5548 rows × 3 columns</p>\n",
              "</div>\n",
              "    <div class=\"colab-df-buttons\">\n",
              "\n",
              "  <div class=\"colab-df-container\">\n",
              "    <button class=\"colab-df-convert\" onclick=\"convertToInteractive('df-edd2865f-358f-4200-91b0-06c37cce249b')\"\n",
              "            title=\"Convert this dataframe to an interactive table.\"\n",
              "            style=\"display:none;\">\n",
              "\n",
              "  <svg xmlns=\"http://www.w3.org/2000/svg\" height=\"24px\" viewBox=\"0 -960 960 960\">\n",
              "    <path d=\"M120-120v-720h720v720H120Zm60-500h600v-160H180v160Zm220 220h160v-160H400v160Zm0 220h160v-160H400v160ZM180-400h160v-160H180v160Zm440 0h160v-160H620v160ZM180-180h160v-160H180v160Zm440 0h160v-160H620v160Z\"/>\n",
              "  </svg>\n",
              "    </button>\n",
              "\n",
              "  <style>\n",
              "    .colab-df-container {\n",
              "      display:flex;\n",
              "      gap: 12px;\n",
              "    }\n",
              "\n",
              "    .colab-df-convert {\n",
              "      background-color: #E8F0FE;\n",
              "      border: none;\n",
              "      border-radius: 50%;\n",
              "      cursor: pointer;\n",
              "      display: none;\n",
              "      fill: #1967D2;\n",
              "      height: 32px;\n",
              "      padding: 0 0 0 0;\n",
              "      width: 32px;\n",
              "    }\n",
              "\n",
              "    .colab-df-convert:hover {\n",
              "      background-color: #E2EBFA;\n",
              "      box-shadow: 0px 1px 2px rgba(60, 64, 67, 0.3), 0px 1px 3px 1px rgba(60, 64, 67, 0.15);\n",
              "      fill: #174EA6;\n",
              "    }\n",
              "\n",
              "    .colab-df-buttons div {\n",
              "      margin-bottom: 4px;\n",
              "    }\n",
              "\n",
              "    [theme=dark] .colab-df-convert {\n",
              "      background-color: #3B4455;\n",
              "      fill: #D2E3FC;\n",
              "    }\n",
              "\n",
              "    [theme=dark] .colab-df-convert:hover {\n",
              "      background-color: #434B5C;\n",
              "      box-shadow: 0px 1px 3px 1px rgba(0, 0, 0, 0.15);\n",
              "      filter: drop-shadow(0px 1px 2px rgba(0, 0, 0, 0.3));\n",
              "      fill: #FFFFFF;\n",
              "    }\n",
              "  </style>\n",
              "\n",
              "    <script>\n",
              "      const buttonEl =\n",
              "        document.querySelector('#df-edd2865f-358f-4200-91b0-06c37cce249b button.colab-df-convert');\n",
              "      buttonEl.style.display =\n",
              "        google.colab.kernel.accessAllowed ? 'block' : 'none';\n",
              "\n",
              "      async function convertToInteractive(key) {\n",
              "        const element = document.querySelector('#df-edd2865f-358f-4200-91b0-06c37cce249b');\n",
              "        const dataTable =\n",
              "          await google.colab.kernel.invokeFunction('convertToInteractive',\n",
              "                                                    [key], {});\n",
              "        if (!dataTable) return;\n",
              "\n",
              "        const docLinkHtml = 'Like what you see? Visit the ' +\n",
              "          '<a target=\"_blank\" href=https://colab.research.google.com/notebooks/data_table.ipynb>data table notebook</a>'\n",
              "          + ' to learn more about interactive tables.';\n",
              "        element.innerHTML = '';\n",
              "        dataTable['output_type'] = 'display_data';\n",
              "        await google.colab.output.renderOutput(dataTable, element);\n",
              "        const docLink = document.createElement('div');\n",
              "        docLink.innerHTML = docLinkHtml;\n",
              "        element.appendChild(docLink);\n",
              "      }\n",
              "    </script>\n",
              "  </div>\n",
              "\n",
              "\n",
              "<div id=\"df-4b1ec510-8c29-48e2-8388-51c6dd5a420e\">\n",
              "  <button class=\"colab-df-quickchart\" onclick=\"quickchart('df-4b1ec510-8c29-48e2-8388-51c6dd5a420e')\"\n",
              "            title=\"Suggest charts\"\n",
              "            style=\"display:none;\">\n",
              "\n",
              "<svg xmlns=\"http://www.w3.org/2000/svg\" height=\"24px\"viewBox=\"0 0 24 24\"\n",
              "     width=\"24px\">\n",
              "    <g>\n",
              "        <path d=\"M19 3H5c-1.1 0-2 .9-2 2v14c0 1.1.9 2 2 2h14c1.1 0 2-.9 2-2V5c0-1.1-.9-2-2-2zM9 17H7v-7h2v7zm4 0h-2V7h2v10zm4 0h-2v-4h2v4z\"/>\n",
              "    </g>\n",
              "</svg>\n",
              "  </button>\n",
              "\n",
              "<style>\n",
              "  .colab-df-quickchart {\n",
              "      --bg-color: #E8F0FE;\n",
              "      --fill-color: #1967D2;\n",
              "      --hover-bg-color: #E2EBFA;\n",
              "      --hover-fill-color: #174EA6;\n",
              "      --disabled-fill-color: #AAA;\n",
              "      --disabled-bg-color: #DDD;\n",
              "  }\n",
              "\n",
              "  [theme=dark] .colab-df-quickchart {\n",
              "      --bg-color: #3B4455;\n",
              "      --fill-color: #D2E3FC;\n",
              "      --hover-bg-color: #434B5C;\n",
              "      --hover-fill-color: #FFFFFF;\n",
              "      --disabled-bg-color: #3B4455;\n",
              "      --disabled-fill-color: #666;\n",
              "  }\n",
              "\n",
              "  .colab-df-quickchart {\n",
              "    background-color: var(--bg-color);\n",
              "    border: none;\n",
              "    border-radius: 50%;\n",
              "    cursor: pointer;\n",
              "    display: none;\n",
              "    fill: var(--fill-color);\n",
              "    height: 32px;\n",
              "    padding: 0;\n",
              "    width: 32px;\n",
              "  }\n",
              "\n",
              "  .colab-df-quickchart:hover {\n",
              "    background-color: var(--hover-bg-color);\n",
              "    box-shadow: 0 1px 2px rgba(60, 64, 67, 0.3), 0 1px 3px 1px rgba(60, 64, 67, 0.15);\n",
              "    fill: var(--button-hover-fill-color);\n",
              "  }\n",
              "\n",
              "  .colab-df-quickchart-complete:disabled,\n",
              "  .colab-df-quickchart-complete:disabled:hover {\n",
              "    background-color: var(--disabled-bg-color);\n",
              "    fill: var(--disabled-fill-color);\n",
              "    box-shadow: none;\n",
              "  }\n",
              "\n",
              "  .colab-df-spinner {\n",
              "    border: 2px solid var(--fill-color);\n",
              "    border-color: transparent;\n",
              "    border-bottom-color: var(--fill-color);\n",
              "    animation:\n",
              "      spin 1s steps(1) infinite;\n",
              "  }\n",
              "\n",
              "  @keyframes spin {\n",
              "    0% {\n",
              "      border-color: transparent;\n",
              "      border-bottom-color: var(--fill-color);\n",
              "      border-left-color: var(--fill-color);\n",
              "    }\n",
              "    20% {\n",
              "      border-color: transparent;\n",
              "      border-left-color: var(--fill-color);\n",
              "      border-top-color: var(--fill-color);\n",
              "    }\n",
              "    30% {\n",
              "      border-color: transparent;\n",
              "      border-left-color: var(--fill-color);\n",
              "      border-top-color: var(--fill-color);\n",
              "      border-right-color: var(--fill-color);\n",
              "    }\n",
              "    40% {\n",
              "      border-color: transparent;\n",
              "      border-right-color: var(--fill-color);\n",
              "      border-top-color: var(--fill-color);\n",
              "    }\n",
              "    60% {\n",
              "      border-color: transparent;\n",
              "      border-right-color: var(--fill-color);\n",
              "    }\n",
              "    80% {\n",
              "      border-color: transparent;\n",
              "      border-right-color: var(--fill-color);\n",
              "      border-bottom-color: var(--fill-color);\n",
              "    }\n",
              "    90% {\n",
              "      border-color: transparent;\n",
              "      border-bottom-color: var(--fill-color);\n",
              "    }\n",
              "  }\n",
              "</style>\n",
              "\n",
              "  <script>\n",
              "    async function quickchart(key) {\n",
              "      const quickchartButtonEl =\n",
              "        document.querySelector('#' + key + ' button');\n",
              "      quickchartButtonEl.disabled = true;  // To prevent multiple clicks.\n",
              "      quickchartButtonEl.classList.add('colab-df-spinner');\n",
              "      try {\n",
              "        const charts = await google.colab.kernel.invokeFunction(\n",
              "            'suggestCharts', [key], {});\n",
              "      } catch (error) {\n",
              "        console.error('Error during call to suggestCharts:', error);\n",
              "      }\n",
              "      quickchartButtonEl.classList.remove('colab-df-spinner');\n",
              "      quickchartButtonEl.classList.add('colab-df-quickchart-complete');\n",
              "    }\n",
              "    (() => {\n",
              "      let quickchartButtonEl =\n",
              "        document.querySelector('#df-4b1ec510-8c29-48e2-8388-51c6dd5a420e button');\n",
              "      quickchartButtonEl.style.display =\n",
              "        google.colab.kernel.accessAllowed ? 'block' : 'none';\n",
              "    })();\n",
              "  </script>\n",
              "</div>\n",
              "\n",
              "  <div id=\"id_76079b44-741d-40e6-ad38-92e857fc3760\">\n",
              "    <style>\n",
              "      .colab-df-generate {\n",
              "        background-color: #E8F0FE;\n",
              "        border: none;\n",
              "        border-radius: 50%;\n",
              "        cursor: pointer;\n",
              "        display: none;\n",
              "        fill: #1967D2;\n",
              "        height: 32px;\n",
              "        padding: 0 0 0 0;\n",
              "        width: 32px;\n",
              "      }\n",
              "\n",
              "      .colab-df-generate:hover {\n",
              "        background-color: #E2EBFA;\n",
              "        box-shadow: 0px 1px 2px rgba(60, 64, 67, 0.3), 0px 1px 3px 1px rgba(60, 64, 67, 0.15);\n",
              "        fill: #174EA6;\n",
              "      }\n",
              "\n",
              "      [theme=dark] .colab-df-generate {\n",
              "        background-color: #3B4455;\n",
              "        fill: #D2E3FC;\n",
              "      }\n",
              "\n",
              "      [theme=dark] .colab-df-generate:hover {\n",
              "        background-color: #434B5C;\n",
              "        box-shadow: 0px 1px 3px 1px rgba(0, 0, 0, 0.15);\n",
              "        filter: drop-shadow(0px 1px 2px rgba(0, 0, 0, 0.3));\n",
              "        fill: #FFFFFF;\n",
              "      }\n",
              "    </style>\n",
              "    <button class=\"colab-df-generate\" onclick=\"generateWithVariable('train_pre')\"\n",
              "            title=\"Generate code using this dataframe.\"\n",
              "            style=\"display:none;\">\n",
              "\n",
              "  <svg xmlns=\"http://www.w3.org/2000/svg\" height=\"24px\"viewBox=\"0 0 24 24\"\n",
              "       width=\"24px\">\n",
              "    <path d=\"M7,19H8.4L18.45,9,17,7.55,7,17.6ZM5,21V16.75L18.45,3.32a2,2,0,0,1,2.83,0l1.4,1.43a1.91,1.91,0,0,1,.58,1.4,1.91,1.91,0,0,1-.58,1.4L9.25,21ZM18.45,9,17,7.55Zm-12,3A5.31,5.31,0,0,0,4.9,8.1,5.31,5.31,0,0,0,1,6.5,5.31,5.31,0,0,0,4.9,4.9,5.31,5.31,0,0,0,6.5,1,5.31,5.31,0,0,0,8.1,4.9,5.31,5.31,0,0,0,12,6.5,5.46,5.46,0,0,0,6.5,12Z\"/>\n",
              "  </svg>\n",
              "    </button>\n",
              "    <script>\n",
              "      (() => {\n",
              "      const buttonEl =\n",
              "        document.querySelector('#id_76079b44-741d-40e6-ad38-92e857fc3760 button.colab-df-generate');\n",
              "      buttonEl.style.display =\n",
              "        google.colab.kernel.accessAllowed ? 'block' : 'none';\n",
              "\n",
              "      buttonEl.onclick = () => {\n",
              "        google.colab.notebook.generateWithVariable('train_pre');\n",
              "      }\n",
              "      })();\n",
              "    </script>\n",
              "  </div>\n",
              "\n",
              "    </div>\n",
              "  </div>\n"
            ]
          },
          "metadata": {},
          "execution_count": 39
        }
      ]
    },
    {
      "cell_type": "markdown",
      "source": [
        "### Remove stopwords"
      ],
      "metadata": {
        "id": "oyVVbgSOslr_"
      }
    },
    {
      "cell_type": "markdown",
      "source": [
        "I found out about a technique which is removing stopwords, however, when I applied this step, the result didn't improve, so I decided not to proceed with it."
      ],
      "metadata": {
        "id": "6bWiR5REpE-f"
      }
    },
    {
      "cell_type": "code",
      "source": [
        "def remove_stopwords(comment):\n",
        "    # Load stopwords from file\n",
        "    stopwords_file = 'vietnamese-stopwords.txt'\n",
        "    with open(stopwords_file, 'r', encoding='utf-8') as f:\n",
        "        stopwords = set(f.read().splitlines())\n",
        "\n",
        "    # Remove stopwords from comment\n",
        "    words = comment.split()\n",
        "    filtered_words = [word for word in words if word.lower() not in stopwords]\n",
        "    return ' '.join(filtered_words)\n"
      ],
      "metadata": {
        "id": "C4p8qUEzsoxt"
      },
      "execution_count": 40,
      "outputs": []
    },
    {
      "cell_type": "code",
      "source": [
        "#train_pre.Sentence = train_pre.Sentence.apply(remove_stopwords)\n",
        "#train_pre"
      ],
      "metadata": {
        "id": "Nji2av5cstQN"
      },
      "execution_count": 41,
      "outputs": []
    },
    {
      "cell_type": "markdown",
      "source": [
        "### Full Preprocessing"
      ],
      "metadata": {
        "id": "tYKKCVrupGCf"
      }
    },
    {
      "cell_type": "code",
      "source": [
        "def preprocess(text):\n",
        "  clean = standardizing_word(text)\n",
        "  clean = remove_repeated_emojis(clean)\n",
        "  clean = convert_emoticons_to_emoji(clean)\n",
        "  clean = convert_to_vietnamese(clean)\n",
        "  clean = abbreviations_lookup(clean)\n",
        "  #clean = remove_stopwords(clean)\n",
        "  return clean"
      ],
      "metadata": {
        "id": "WDEacVuTXiuU"
      },
      "execution_count": 42,
      "outputs": []
    },
    {
      "cell_type": "code",
      "source": [
        "train_pre.to_csv('train_pre.csv', index=False)"
      ],
      "metadata": {
        "id": "o95i8oeCRx0l"
      },
      "execution_count": 43,
      "outputs": []
    },
    {
      "cell_type": "markdown",
      "source": [
        "### Tokenization & padding"
      ],
      "metadata": {
        "id": "uml7GVGPRRQU"
      }
    },
    {
      "cell_type": "code",
      "source": [
        "train_set = pd.read_csv('train_pre.csv')\n",
        "train_set"
      ],
      "metadata": {
        "colab": {
          "base_uri": "https://localhost:8080/",
          "height": 423
        },
        "id": "0eKrijD5R_P9",
        "outputId": "46d3fb0f-997d-4b6c-aa16-4aac52d38b04"
      },
      "execution_count": 44,
      "outputs": [
        {
          "output_type": "execute_result",
          "data": {
            "text/plain": [
              "        ID  Emotion                                           Sentence\n",
              "0      188        4              cho mình xin bài nhạc tên là gì với ạ\n",
              "1      166        1  cho đáng đời con quỷ . về nhà lôi con nhà mày ...\n",
              "2     1345        1  lo học đi . yêu đương lồn gì hay lại thích học...\n",
              "3      316        5  uớc gì sau này về già vẫn có thể như cụ này kh...\n",
              "4     1225        5  mỗi lần có video của con là cứ coi đi coi lại ...\n",
              "...    ...      ...                                                ...\n",
              "5543  1332        1  đường của nhà cụ hay sao mà cụ cấm người ta đỗ...\n",
              "5544   825        4                             nhìn mặt héo queo luôn\n",
              "5545   165        4  tao đi xe máy mỗi lần muốn để xe đi đâu là phi...\n",
              "5546   363        5    thích thân hình bos rồi nhan khuôn mặt thư giãn\n",
              "5547  1242        3  ước mơ nhỏ nhoi của tao là được làm chị mà khô...\n",
              "\n",
              "[5548 rows x 3 columns]"
            ],
            "text/html": [
              "\n",
              "  <div id=\"df-18436665-9d9a-481a-8c11-af455bafb828\" class=\"colab-df-container\">\n",
              "    <div>\n",
              "<style scoped>\n",
              "    .dataframe tbody tr th:only-of-type {\n",
              "        vertical-align: middle;\n",
              "    }\n",
              "\n",
              "    .dataframe tbody tr th {\n",
              "        vertical-align: top;\n",
              "    }\n",
              "\n",
              "    .dataframe thead th {\n",
              "        text-align: right;\n",
              "    }\n",
              "</style>\n",
              "<table border=\"1\" class=\"dataframe\">\n",
              "  <thead>\n",
              "    <tr style=\"text-align: right;\">\n",
              "      <th></th>\n",
              "      <th>ID</th>\n",
              "      <th>Emotion</th>\n",
              "      <th>Sentence</th>\n",
              "    </tr>\n",
              "  </thead>\n",
              "  <tbody>\n",
              "    <tr>\n",
              "      <th>0</th>\n",
              "      <td>188</td>\n",
              "      <td>4</td>\n",
              "      <td>cho mình xin bài nhạc tên là gì với ạ</td>\n",
              "    </tr>\n",
              "    <tr>\n",
              "      <th>1</th>\n",
              "      <td>166</td>\n",
              "      <td>1</td>\n",
              "      <td>cho đáng đời con quỷ . về nhà lôi con nhà mày ...</td>\n",
              "    </tr>\n",
              "    <tr>\n",
              "      <th>2</th>\n",
              "      <td>1345</td>\n",
              "      <td>1</td>\n",
              "      <td>lo học đi . yêu đương lồn gì hay lại thích học...</td>\n",
              "    </tr>\n",
              "    <tr>\n",
              "      <th>3</th>\n",
              "      <td>316</td>\n",
              "      <td>5</td>\n",
              "      <td>uớc gì sau này về già vẫn có thể như cụ này kh...</td>\n",
              "    </tr>\n",
              "    <tr>\n",
              "      <th>4</th>\n",
              "      <td>1225</td>\n",
              "      <td>5</td>\n",
              "      <td>mỗi lần có video của con là cứ coi đi coi lại ...</td>\n",
              "    </tr>\n",
              "    <tr>\n",
              "      <th>...</th>\n",
              "      <td>...</td>\n",
              "      <td>...</td>\n",
              "      <td>...</td>\n",
              "    </tr>\n",
              "    <tr>\n",
              "      <th>5543</th>\n",
              "      <td>1332</td>\n",
              "      <td>1</td>\n",
              "      <td>đường của nhà cụ hay sao mà cụ cấm người ta đỗ...</td>\n",
              "    </tr>\n",
              "    <tr>\n",
              "      <th>5544</th>\n",
              "      <td>825</td>\n",
              "      <td>4</td>\n",
              "      <td>nhìn mặt héo queo luôn</td>\n",
              "    </tr>\n",
              "    <tr>\n",
              "      <th>5545</th>\n",
              "      <td>165</td>\n",
              "      <td>4</td>\n",
              "      <td>tao đi xe máy mỗi lần muốn để xe đi đâu là phi...</td>\n",
              "    </tr>\n",
              "    <tr>\n",
              "      <th>5546</th>\n",
              "      <td>363</td>\n",
              "      <td>5</td>\n",
              "      <td>thích thân hình bos rồi nhan khuôn mặt thư giãn</td>\n",
              "    </tr>\n",
              "    <tr>\n",
              "      <th>5547</th>\n",
              "      <td>1242</td>\n",
              "      <td>3</td>\n",
              "      <td>ước mơ nhỏ nhoi của tao là được làm chị mà khô...</td>\n",
              "    </tr>\n",
              "  </tbody>\n",
              "</table>\n",
              "<p>5548 rows × 3 columns</p>\n",
              "</div>\n",
              "    <div class=\"colab-df-buttons\">\n",
              "\n",
              "  <div class=\"colab-df-container\">\n",
              "    <button class=\"colab-df-convert\" onclick=\"convertToInteractive('df-18436665-9d9a-481a-8c11-af455bafb828')\"\n",
              "            title=\"Convert this dataframe to an interactive table.\"\n",
              "            style=\"display:none;\">\n",
              "\n",
              "  <svg xmlns=\"http://www.w3.org/2000/svg\" height=\"24px\" viewBox=\"0 -960 960 960\">\n",
              "    <path d=\"M120-120v-720h720v720H120Zm60-500h600v-160H180v160Zm220 220h160v-160H400v160Zm0 220h160v-160H400v160ZM180-400h160v-160H180v160Zm440 0h160v-160H620v160ZM180-180h160v-160H180v160Zm440 0h160v-160H620v160Z\"/>\n",
              "  </svg>\n",
              "    </button>\n",
              "\n",
              "  <style>\n",
              "    .colab-df-container {\n",
              "      display:flex;\n",
              "      gap: 12px;\n",
              "    }\n",
              "\n",
              "    .colab-df-convert {\n",
              "      background-color: #E8F0FE;\n",
              "      border: none;\n",
              "      border-radius: 50%;\n",
              "      cursor: pointer;\n",
              "      display: none;\n",
              "      fill: #1967D2;\n",
              "      height: 32px;\n",
              "      padding: 0 0 0 0;\n",
              "      width: 32px;\n",
              "    }\n",
              "\n",
              "    .colab-df-convert:hover {\n",
              "      background-color: #E2EBFA;\n",
              "      box-shadow: 0px 1px 2px rgba(60, 64, 67, 0.3), 0px 1px 3px 1px rgba(60, 64, 67, 0.15);\n",
              "      fill: #174EA6;\n",
              "    }\n",
              "\n",
              "    .colab-df-buttons div {\n",
              "      margin-bottom: 4px;\n",
              "    }\n",
              "\n",
              "    [theme=dark] .colab-df-convert {\n",
              "      background-color: #3B4455;\n",
              "      fill: #D2E3FC;\n",
              "    }\n",
              "\n",
              "    [theme=dark] .colab-df-convert:hover {\n",
              "      background-color: #434B5C;\n",
              "      box-shadow: 0px 1px 3px 1px rgba(0, 0, 0, 0.15);\n",
              "      filter: drop-shadow(0px 1px 2px rgba(0, 0, 0, 0.3));\n",
              "      fill: #FFFFFF;\n",
              "    }\n",
              "  </style>\n",
              "\n",
              "    <script>\n",
              "      const buttonEl =\n",
              "        document.querySelector('#df-18436665-9d9a-481a-8c11-af455bafb828 button.colab-df-convert');\n",
              "      buttonEl.style.display =\n",
              "        google.colab.kernel.accessAllowed ? 'block' : 'none';\n",
              "\n",
              "      async function convertToInteractive(key) {\n",
              "        const element = document.querySelector('#df-18436665-9d9a-481a-8c11-af455bafb828');\n",
              "        const dataTable =\n",
              "          await google.colab.kernel.invokeFunction('convertToInteractive',\n",
              "                                                    [key], {});\n",
              "        if (!dataTable) return;\n",
              "\n",
              "        const docLinkHtml = 'Like what you see? Visit the ' +\n",
              "          '<a target=\"_blank\" href=https://colab.research.google.com/notebooks/data_table.ipynb>data table notebook</a>'\n",
              "          + ' to learn more about interactive tables.';\n",
              "        element.innerHTML = '';\n",
              "        dataTable['output_type'] = 'display_data';\n",
              "        await google.colab.output.renderOutput(dataTable, element);\n",
              "        const docLink = document.createElement('div');\n",
              "        docLink.innerHTML = docLinkHtml;\n",
              "        element.appendChild(docLink);\n",
              "      }\n",
              "    </script>\n",
              "  </div>\n",
              "\n",
              "\n",
              "<div id=\"df-61db5497-8c2d-42ad-adb1-6c478d8d0687\">\n",
              "  <button class=\"colab-df-quickchart\" onclick=\"quickchart('df-61db5497-8c2d-42ad-adb1-6c478d8d0687')\"\n",
              "            title=\"Suggest charts\"\n",
              "            style=\"display:none;\">\n",
              "\n",
              "<svg xmlns=\"http://www.w3.org/2000/svg\" height=\"24px\"viewBox=\"0 0 24 24\"\n",
              "     width=\"24px\">\n",
              "    <g>\n",
              "        <path d=\"M19 3H5c-1.1 0-2 .9-2 2v14c0 1.1.9 2 2 2h14c1.1 0 2-.9 2-2V5c0-1.1-.9-2-2-2zM9 17H7v-7h2v7zm4 0h-2V7h2v10zm4 0h-2v-4h2v4z\"/>\n",
              "    </g>\n",
              "</svg>\n",
              "  </button>\n",
              "\n",
              "<style>\n",
              "  .colab-df-quickchart {\n",
              "      --bg-color: #E8F0FE;\n",
              "      --fill-color: #1967D2;\n",
              "      --hover-bg-color: #E2EBFA;\n",
              "      --hover-fill-color: #174EA6;\n",
              "      --disabled-fill-color: #AAA;\n",
              "      --disabled-bg-color: #DDD;\n",
              "  }\n",
              "\n",
              "  [theme=dark] .colab-df-quickchart {\n",
              "      --bg-color: #3B4455;\n",
              "      --fill-color: #D2E3FC;\n",
              "      --hover-bg-color: #434B5C;\n",
              "      --hover-fill-color: #FFFFFF;\n",
              "      --disabled-bg-color: #3B4455;\n",
              "      --disabled-fill-color: #666;\n",
              "  }\n",
              "\n",
              "  .colab-df-quickchart {\n",
              "    background-color: var(--bg-color);\n",
              "    border: none;\n",
              "    border-radius: 50%;\n",
              "    cursor: pointer;\n",
              "    display: none;\n",
              "    fill: var(--fill-color);\n",
              "    height: 32px;\n",
              "    padding: 0;\n",
              "    width: 32px;\n",
              "  }\n",
              "\n",
              "  .colab-df-quickchart:hover {\n",
              "    background-color: var(--hover-bg-color);\n",
              "    box-shadow: 0 1px 2px rgba(60, 64, 67, 0.3), 0 1px 3px 1px rgba(60, 64, 67, 0.15);\n",
              "    fill: var(--button-hover-fill-color);\n",
              "  }\n",
              "\n",
              "  .colab-df-quickchart-complete:disabled,\n",
              "  .colab-df-quickchart-complete:disabled:hover {\n",
              "    background-color: var(--disabled-bg-color);\n",
              "    fill: var(--disabled-fill-color);\n",
              "    box-shadow: none;\n",
              "  }\n",
              "\n",
              "  .colab-df-spinner {\n",
              "    border: 2px solid var(--fill-color);\n",
              "    border-color: transparent;\n",
              "    border-bottom-color: var(--fill-color);\n",
              "    animation:\n",
              "      spin 1s steps(1) infinite;\n",
              "  }\n",
              "\n",
              "  @keyframes spin {\n",
              "    0% {\n",
              "      border-color: transparent;\n",
              "      border-bottom-color: var(--fill-color);\n",
              "      border-left-color: var(--fill-color);\n",
              "    }\n",
              "    20% {\n",
              "      border-color: transparent;\n",
              "      border-left-color: var(--fill-color);\n",
              "      border-top-color: var(--fill-color);\n",
              "    }\n",
              "    30% {\n",
              "      border-color: transparent;\n",
              "      border-left-color: var(--fill-color);\n",
              "      border-top-color: var(--fill-color);\n",
              "      border-right-color: var(--fill-color);\n",
              "    }\n",
              "    40% {\n",
              "      border-color: transparent;\n",
              "      border-right-color: var(--fill-color);\n",
              "      border-top-color: var(--fill-color);\n",
              "    }\n",
              "    60% {\n",
              "      border-color: transparent;\n",
              "      border-right-color: var(--fill-color);\n",
              "    }\n",
              "    80% {\n",
              "      border-color: transparent;\n",
              "      border-right-color: var(--fill-color);\n",
              "      border-bottom-color: var(--fill-color);\n",
              "    }\n",
              "    90% {\n",
              "      border-color: transparent;\n",
              "      border-bottom-color: var(--fill-color);\n",
              "    }\n",
              "  }\n",
              "</style>\n",
              "\n",
              "  <script>\n",
              "    async function quickchart(key) {\n",
              "      const quickchartButtonEl =\n",
              "        document.querySelector('#' + key + ' button');\n",
              "      quickchartButtonEl.disabled = true;  // To prevent multiple clicks.\n",
              "      quickchartButtonEl.classList.add('colab-df-spinner');\n",
              "      try {\n",
              "        const charts = await google.colab.kernel.invokeFunction(\n",
              "            'suggestCharts', [key], {});\n",
              "      } catch (error) {\n",
              "        console.error('Error during call to suggestCharts:', error);\n",
              "      }\n",
              "      quickchartButtonEl.classList.remove('colab-df-spinner');\n",
              "      quickchartButtonEl.classList.add('colab-df-quickchart-complete');\n",
              "    }\n",
              "    (() => {\n",
              "      let quickchartButtonEl =\n",
              "        document.querySelector('#df-61db5497-8c2d-42ad-adb1-6c478d8d0687 button');\n",
              "      quickchartButtonEl.style.display =\n",
              "        google.colab.kernel.accessAllowed ? 'block' : 'none';\n",
              "    })();\n",
              "  </script>\n",
              "</div>\n",
              "\n",
              "  <div id=\"id_dee0b078-0c22-4c80-a1c4-28d8ea563e80\">\n",
              "    <style>\n",
              "      .colab-df-generate {\n",
              "        background-color: #E8F0FE;\n",
              "        border: none;\n",
              "        border-radius: 50%;\n",
              "        cursor: pointer;\n",
              "        display: none;\n",
              "        fill: #1967D2;\n",
              "        height: 32px;\n",
              "        padding: 0 0 0 0;\n",
              "        width: 32px;\n",
              "      }\n",
              "\n",
              "      .colab-df-generate:hover {\n",
              "        background-color: #E2EBFA;\n",
              "        box-shadow: 0px 1px 2px rgba(60, 64, 67, 0.3), 0px 1px 3px 1px rgba(60, 64, 67, 0.15);\n",
              "        fill: #174EA6;\n",
              "      }\n",
              "\n",
              "      [theme=dark] .colab-df-generate {\n",
              "        background-color: #3B4455;\n",
              "        fill: #D2E3FC;\n",
              "      }\n",
              "\n",
              "      [theme=dark] .colab-df-generate:hover {\n",
              "        background-color: #434B5C;\n",
              "        box-shadow: 0px 1px 3px 1px rgba(0, 0, 0, 0.15);\n",
              "        filter: drop-shadow(0px 1px 2px rgba(0, 0, 0, 0.3));\n",
              "        fill: #FFFFFF;\n",
              "      }\n",
              "    </style>\n",
              "    <button class=\"colab-df-generate\" onclick=\"generateWithVariable('train_set')\"\n",
              "            title=\"Generate code using this dataframe.\"\n",
              "            style=\"display:none;\">\n",
              "\n",
              "  <svg xmlns=\"http://www.w3.org/2000/svg\" height=\"24px\"viewBox=\"0 0 24 24\"\n",
              "       width=\"24px\">\n",
              "    <path d=\"M7,19H8.4L18.45,9,17,7.55,7,17.6ZM5,21V16.75L18.45,3.32a2,2,0,0,1,2.83,0l1.4,1.43a1.91,1.91,0,0,1,.58,1.4,1.91,1.91,0,0,1-.58,1.4L9.25,21ZM18.45,9,17,7.55Zm-12,3A5.31,5.31,0,0,0,4.9,8.1,5.31,5.31,0,0,0,1,6.5,5.31,5.31,0,0,0,4.9,4.9,5.31,5.31,0,0,0,6.5,1,5.31,5.31,0,0,0,8.1,4.9,5.31,5.31,0,0,0,12,6.5,5.46,5.46,0,0,0,6.5,12Z\"/>\n",
              "  </svg>\n",
              "    </button>\n",
              "    <script>\n",
              "      (() => {\n",
              "      const buttonEl =\n",
              "        document.querySelector('#id_dee0b078-0c22-4c80-a1c4-28d8ea563e80 button.colab-df-generate');\n",
              "      buttonEl.style.display =\n",
              "        google.colab.kernel.accessAllowed ? 'block' : 'none';\n",
              "\n",
              "      buttonEl.onclick = () => {\n",
              "        google.colab.notebook.generateWithVariable('train_set');\n",
              "      }\n",
              "      })();\n",
              "    </script>\n",
              "  </div>\n",
              "\n",
              "    </div>\n",
              "  </div>\n"
            ]
          },
          "metadata": {},
          "execution_count": 44
        }
      ]
    },
    {
      "cell_type": "markdown",
      "source": [
        "Using Vietnamese NLP toolkit: underthesea to tokenize sentences into words"
      ],
      "metadata": {
        "id": "ERJn0Vrip3Tv"
      }
    },
    {
      "cell_type": "code",
      "source": [
        "!pip install underthesea"
      ],
      "metadata": {
        "colab": {
          "base_uri": "https://localhost:8080/"
        },
        "id": "a2J7esnC-yTC",
        "outputId": "311cb3b9-3d07-453d-b580-bf9cae33f5aa"
      },
      "execution_count": 45,
      "outputs": [
        {
          "output_type": "stream",
          "name": "stdout",
          "text": [
            "Collecting underthesea\n",
            "  Downloading underthesea-6.8.0-py3-none-any.whl (20.9 MB)\n",
            "\u001b[2K     \u001b[90m━━━━━━━━━━━━━━━━━━━━━━━━━━━━━━━━━━━━━━━━\u001b[0m \u001b[32m20.9/20.9 MB\u001b[0m \u001b[31m46.7 MB/s\u001b[0m eta \u001b[36m0:00:00\u001b[0m\n",
            "\u001b[?25hRequirement already satisfied: Click>=6.0 in /usr/local/lib/python3.10/dist-packages (from underthesea) (8.1.7)\n",
            "Collecting python-crfsuite>=0.9.6 (from underthesea)\n",
            "  Downloading python_crfsuite-0.9.10-cp310-cp310-manylinux_2_17_x86_64.manylinux2014_x86_64.whl (1.1 MB)\n",
            "\u001b[2K     \u001b[90m━━━━━━━━━━━━━━━━━━━━━━━━━━━━━━━━━━━━━━━━\u001b[0m \u001b[32m1.1/1.1 MB\u001b[0m \u001b[31m74.8 MB/s\u001b[0m eta \u001b[36m0:00:00\u001b[0m\n",
            "\u001b[?25hRequirement already satisfied: nltk in /usr/local/lib/python3.10/dist-packages (from underthesea) (3.8.1)\n",
            "Requirement already satisfied: tqdm in /usr/local/lib/python3.10/dist-packages (from underthesea) (4.66.1)\n",
            "Requirement already satisfied: requests in /usr/local/lib/python3.10/dist-packages (from underthesea) (2.31.0)\n",
            "Requirement already satisfied: joblib in /usr/local/lib/python3.10/dist-packages (from underthesea) (1.3.2)\n",
            "Requirement already satisfied: scikit-learn in /usr/local/lib/python3.10/dist-packages (from underthesea) (1.2.2)\n",
            "Requirement already satisfied: PyYAML in /usr/local/lib/python3.10/dist-packages (from underthesea) (6.0.1)\n",
            "Collecting underthesea-core==1.0.4 (from underthesea)\n",
            "  Downloading underthesea_core-1.0.4-cp310-cp310-manylinux2010_x86_64.whl (657 kB)\n",
            "\u001b[2K     \u001b[90m━━━━━━━━━━━━━━━━━━━━━━━━━━━━━━━━━━━━━━━━\u001b[0m \u001b[32m657.8/657.8 kB\u001b[0m \u001b[31m58.7 MB/s\u001b[0m eta \u001b[36m0:00:00\u001b[0m\n",
            "\u001b[?25hRequirement already satisfied: regex>=2021.8.3 in /usr/local/lib/python3.10/dist-packages (from nltk->underthesea) (2023.6.3)\n",
            "Requirement already satisfied: charset-normalizer<4,>=2 in /usr/local/lib/python3.10/dist-packages (from requests->underthesea) (3.3.2)\n",
            "Requirement already satisfied: idna<4,>=2.5 in /usr/local/lib/python3.10/dist-packages (from requests->underthesea) (3.6)\n",
            "Requirement already satisfied: urllib3<3,>=1.21.1 in /usr/local/lib/python3.10/dist-packages (from requests->underthesea) (2.0.7)\n",
            "Requirement already satisfied: certifi>=2017.4.17 in /usr/local/lib/python3.10/dist-packages (from requests->underthesea) (2023.11.17)\n",
            "Requirement already satisfied: numpy>=1.17.3 in /usr/local/lib/python3.10/dist-packages (from scikit-learn->underthesea) (1.23.5)\n",
            "Requirement already satisfied: scipy>=1.3.2 in /usr/local/lib/python3.10/dist-packages (from scikit-learn->underthesea) (1.11.4)\n",
            "Requirement already satisfied: threadpoolctl>=2.0.0 in /usr/local/lib/python3.10/dist-packages (from scikit-learn->underthesea) (3.2.0)\n",
            "Installing collected packages: underthesea-core, python-crfsuite, underthesea\n",
            "Successfully installed python-crfsuite-0.9.10 underthesea-6.8.0 underthesea-core-1.0.4\n"
          ]
        }
      ]
    },
    {
      "cell_type": "code",
      "source": [
        "from underthesea import word_tokenize\n",
        "word_tokenize(train_set.Sentence[0])"
      ],
      "metadata": {
        "colab": {
          "base_uri": "https://localhost:8080/"
        },
        "id": "RvBGQGQ_-A2Y",
        "outputId": "e938b61f-d149-4e4d-bd64-517c4c2a76fa"
      },
      "execution_count": 46,
      "outputs": [
        {
          "output_type": "execute_result",
          "data": {
            "text/plain": [
              "['cho', 'mình', 'xin', 'bài', 'nhạc', 'tên', 'là', 'gì', 'với', 'ạ']"
            ]
          },
          "metadata": {},
          "execution_count": 46
        }
      ]
    },
    {
      "cell_type": "markdown",
      "source": [
        "Build Vocabulary Class and define 'pad', 'unk' token. In this class, we've executed corpus tokenization."
      ],
      "metadata": {
        "id": "vwB6c1xpqEgQ"
      }
    },
    {
      "cell_type": "code",
      "source": [
        "import torch\n",
        "from tqdm import tqdm\n",
        "from underthesea import word_tokenize\n",
        "\n",
        "class Vocabulary:\n",
        "    \"\"\" The Vocabulary class is used to record words, which are used to convert\n",
        "        text to numbers and vice versa.\n",
        "    \"\"\"\n",
        "\n",
        "    def __init__(self):\n",
        "        self.word2id = dict()\n",
        "        self.word2id['<pad>'] = 0   # Pad Token\n",
        "        self.word2id['<unk>'] = 1   # Unknown Token\n",
        "        self.unk_id = self.word2id['<unk>']\n",
        "        self.id2word = {v: k for k, v in self.word2id.items()}\n",
        "\n",
        "    def __getitem__(self, word):\n",
        "        return self.word2id.get(word, self.unk_id)\n",
        "\n",
        "    def __contains__(self, word):\n",
        "        return word in self.word2id\n",
        "\n",
        "    def __len__(self):\n",
        "        return len(self.word2id)\n",
        "\n",
        "    def lookup_tokens(self, word_indexes: list):\n",
        "        \"\"\"\n",
        "        @param word_indexes (list(int))\n",
        "        @return words (list(str))\n",
        "        \"\"\"\n",
        "        return [self.id2word[word_index] for word_index in word_indexes]\n",
        "\n",
        "    def add(self, word):\n",
        "        \"\"\" Add word to vocabulary\n",
        "        @param word (str)\n",
        "        @return index (str): index of the word just added\n",
        "        \"\"\"\n",
        "        if word not in self:\n",
        "            word_index = self.word2id[word] = len(self.word2id)\n",
        "            self.id2word[word_index] = word\n",
        "            return word_index\n",
        "        else:\n",
        "            return self[word]\n",
        "\n",
        "    @staticmethod\n",
        "    def tokenize_corpus(corpus):\n",
        "        \"\"\"Split the documents of the corpus into words\n",
        "        @param corpus (list(str)): list of documents\n",
        "        @return tokenized_corpus (list(list(str))): list of words\n",
        "        \"\"\"\n",
        "        print(\"Tokenize the corpus...\")\n",
        "        tokenized_corpus = list()\n",
        "        for document in tqdm(corpus):\n",
        "            tokenized_document = [word.replace(\" \", \"_\") for word in word_tokenize(document)]\n",
        "            tokenized_corpus.append(tokenized_document)\n",
        "\n",
        "        return tokenized_corpus\n",
        "\n",
        "    def corpus_to_tensor(self, corpus, is_tokenized=False):\n",
        "        \"\"\" Convert corpus to a list of indices tensor\n",
        "        @param corpus (list(str) if is_tokenized==False else list(list(str)))\n",
        "        @param is_tokenized (bool)\n",
        "        @return indicies_corpus (list(tensor))\n",
        "        \"\"\"\n",
        "        if is_tokenized:\n",
        "            tokenized_corpus = corpus\n",
        "        else:\n",
        "            tokenized_corpus = self.tokenize_corpus(corpus)\n",
        "        indicies_corpus = list()\n",
        "        for document in tqdm(tokenized_corpus):\n",
        "            indicies_document = torch.tensor(list(map(lambda word: self[word], document)), dtype=torch.int64)\n",
        "            indicies_corpus.append(indicies_document)\n",
        "\n",
        "        return indicies_corpus\n",
        "\n",
        "    def tensor_to_corpus(self, tensor):\n",
        "        \"\"\" Convert list of indices tensor to a list of tokenized documents\n",
        "        @param indicies_corpus (list(tensor))\n",
        "        @return corpus (list(list(str)))\n",
        "        \"\"\"\n",
        "        corpus = list()\n",
        "        for indicies in tqdm(tensor):\n",
        "            document = list(map(lambda index: self.id2word[index.item()], indicies))\n",
        "            corpus.append(document)\n",
        "\n",
        "        return corpus"
      ],
      "metadata": {
        "id": "qc_7tRa8T4Kb"
      },
      "execution_count": 47,
      "outputs": []
    },
    {
      "cell_type": "markdown",
      "source": [
        "Build Dataset class, in this class, we've executed data reading, preprocessing, tokenization, and padding"
      ],
      "metadata": {
        "id": "ff-Z07L7qYfQ"
      }
    },
    {
      "cell_type": "code",
      "source": [
        "import os\n",
        "import torch\n",
        "from torch.utils.data import Dataset\n",
        "\n",
        "\n",
        "class UIT_VSMEC(Dataset):\n",
        "    def __init__(self, vocab, excel_fpath=None, tokenized_fpath=None):\n",
        "        \"\"\"\n",
        "        @param vocab (Vocabulary)\n",
        "        @param excel_fpath (str)\n",
        "        @param tokenized_fpath (str)\n",
        "        \"\"\"\n",
        "        self.vocab = vocab\n",
        "        self.pad_idx = vocab[\"<pad>\"]\n",
        "\n",
        "        data = pd.read_excel(excel_fpath)\n",
        "        # Preprocessing\n",
        "        data.Sentence.apply(preprocess)\n",
        "        self.sentences = data.Sentence\n",
        "        self.sentiments = data.Emotion\n",
        "\n",
        "        self.sentiment2id = label2id\n",
        "\n",
        "        # Tokenization\n",
        "        if tokenized_fpath:\n",
        "            self.tokenized_sentences = torch.load(tokenized_fpath)\n",
        "        else:\n",
        "            self.tokenized_sentences = self.vocab.tokenize_corpus(self.sentences)\n",
        "\n",
        "        self.tensor_data = self.vocab.corpus_to_tensor(self.tokenized_sentences, is_tokenized=True)\n",
        "        self.tensor_label = torch.tensor([self.sentiment2id[sentiment] for sentiment in self.sentiments],\n",
        "                                          dtype=torch.long)\n",
        "\n",
        "    def __len__(self):\n",
        "        return len(self.tensor_data)\n",
        "\n",
        "    def __getitem__(self, idx):\n",
        "        return self.tensor_data[idx], self.tensor_label[idx]\n",
        "\n",
        "    def collate_fn(self, examples):\n",
        "        examples = sorted(examples, key=lambda e: len(e[0]), reverse=True)\n",
        "\n",
        "        feedbacks = [e[0] for e in examples]\n",
        "        # padding tokens\n",
        "        feedbacks = torch.nn.utils.rnn.pad_sequence(feedbacks,\n",
        "                                                    batch_first=True,\n",
        "                                                    padding_value=self.pad_idx)\n",
        "\n",
        "        feedback_lengths = torch.tensor([len(e[0]) for e in examples])\n",
        "        sentiments = torch.tensor([e[1] for e in examples])\n",
        "\n",
        "        return {\"inputs\": (feedbacks, feedback_lengths), \"labels\": sentiments}"
      ],
      "metadata": {
        "id": "aeMU6A4fUMZ7"
      },
      "execution_count": 48,
      "outputs": []
    },
    {
      "cell_type": "markdown",
      "source": [
        "#Data Preparation"
      ],
      "metadata": {
        "id": "-6lP_OODna5L"
      }
    },
    {
      "cell_type": "markdown",
      "source": [
        "In this step, I convert sentences into a format suitable for RNN input (e.g., sequences of word embeddings).\n"
      ],
      "metadata": {
        "id": "YV5vGdbQrCma"
      }
    },
    {
      "cell_type": "markdown",
      "source": [
        "## Own Vocab"
      ],
      "metadata": {
        "id": "Pfhnai1O_vgM"
      }
    },
    {
      "cell_type": "markdown",
      "source": [
        "\"Own vocab\" is created from words tokenized from sentences in the train dataset."
      ],
      "metadata": {
        "id": "FTu81YQdrIwt"
      }
    },
    {
      "cell_type": "code",
      "source": [
        "words = set(word.replace(\" \", \"_\") for doc in train_pre.Sentence for word in word_tokenize(doc))"
      ],
      "metadata": {
        "id": "8e4hMLG-_vDd"
      },
      "execution_count": 49,
      "outputs": []
    },
    {
      "cell_type": "code",
      "source": [
        "words"
      ],
      "metadata": {
        "colab": {
          "base_uri": "https://localhost:8080/"
        },
        "id": "MQGLhCbTJeNm",
        "outputId": "f7c2256c-cbfa-4613-b506-dc7c246ad583"
      },
      "execution_count": 50,
      "outputs": [
        {
          "output_type": "execute_result",
          "data": {
            "text/plain": [
              "{'đa_số',\n",
              " 'lúc',\n",
              " 'trở',\n",
              " 'nội',\n",
              " 'đụ',\n",
              " 'tử_tế',\n",
              " 'y_đâu',\n",
              " 'thực_hiện',\n",
              " 'lén',\n",
              " 'mốc',\n",
              " 'cứt',\n",
              " 'kiểm_điểm',\n",
              " 'buồn_cười',\n",
              " 'tụt',\n",
              " 'sản_phẩm',\n",
              " 'giây_thứ',\n",
              " 'tấu',\n",
              " 'tặng',\n",
              " 'ri',\n",
              " 'noa',\n",
              " 'lơ_lửng',\n",
              " 'boxing',\n",
              " 'mạnh_mẽ',\n",
              " 'rảnh_rỗi',\n",
              " 'day',\n",
              " 'anh_chị',\n",
              " 'nhg',\n",
              " 'vâng',\n",
              " 'giúp_đỡ',\n",
              " 'make',\n",
              " 'bậy',\n",
              " 'sủa',\n",
              " 'chuột_bọ',\n",
              " 'thôi_khép',\n",
              " 'tổn_thất_đồ',\n",
              " 'vợ_con',\n",
              " 'từng_trải',\n",
              " 'tại_chỗ_thể',\n",
              " 'khung_hình_phạt',\n",
              " 'nàng',\n",
              " 'quà_cáp',\n",
              " 'nụ',\n",
              " 'nhu_nhược',\n",
              " 'hàng_loạt',\n",
              " 'xỉn',\n",
              " 'xe_đạp',\n",
              " 'nghiệt_súc',\n",
              " 'chúc_noel',\n",
              " 'xử_lí',\n",
              " 'sân',\n",
              " 'chứng_minh',\n",
              " 'ăn_cái',\n",
              " 'thăm',\n",
              " 'bep',\n",
              " 'kinh_dị',\n",
              " 'tuyệt',\n",
              " 'láp_xược',\n",
              " 'mau',\n",
              " 'tiệt_kiệm',\n",
              " 'phóng',\n",
              " 'xả',\n",
              " '̀_mày',\n",
              " 'bênh',\n",
              " '́_thuyết',\n",
              " 'thênh_thang',\n",
              " 'đương',\n",
              " 'bớt',\n",
              " 'kiểu_ngôn_lù',\n",
              " 'kèm_ho',\n",
              " 'củ',\n",
              " 'chửi_mắng',\n",
              " 'nhanh',\n",
              " 'họ',\n",
              " 'đau_sót',\n",
              " 'viện',\n",
              " 'địch',\n",
              " 'thảo',\n",
              " 'phết',\n",
              " 'ngoại_tao',\n",
              " 'ngược',\n",
              " 'ngầu',\n",
              " 'tóm_lại',\n",
              " 'chả',\n",
              " 'chúng_mày',\n",
              " 'smart',\n",
              " 'ngu_thiệt',\n",
              " 'hám',\n",
              " 'chót_vót',\n",
              " 'phia',\n",
              " 'nick',\n",
              " 'chủ_tịch',\n",
              " 'toe_toét',\n",
              " 'chiêu',\n",
              " 'gạch_đá',\n",
              " 'nội_trĩ',\n",
              " '?_hả',\n",
              " 'mấu_chốt',\n",
              " 'hôn_quanh',\n",
              " 'cơm_bữa',\n",
              " 'rẻ',\n",
              " 'chăn_gối',\n",
              " 'húp',\n",
              " 'khẩu_trang',\n",
              " 'tay_lái',\n",
              " 'rài',\n",
              " 'cạnh',\n",
              " 'con_số',\n",
              " 'tài_gì',\n",
              " 'mổi',\n",
              " 'canxi',\n",
              " 'lì',\n",
              " 'nhổ_sợ',\n",
              " 'ka',\n",
              " 'xúc_động',\n",
              " 'đứt',\n",
              " 'cs',\n",
              " 'bán_dụng_cụ',\n",
              " 'thối_nát',\n",
              " 'bảo_đảm',\n",
              " 'cực_kì',\n",
              " 'ngoại_tình',\n",
              " 'thân_thiết',\n",
              " 'sat',\n",
              " 'âm_thanh',\n",
              " 'buồn_vãi',\n",
              " 'vtv24',\n",
              " 'sập',\n",
              " 'kinh_vầy',\n",
              " 'chuồng',\n",
              " 'nhỏ_nhen',\n",
              " 'đai',\n",
              " '7',\n",
              " 'giải_thích',\n",
              " 'chấy',\n",
              " 'làm_khó',\n",
              " 'xem_chừng',\n",
              " 'xem_thường',\n",
              " 'thẹn',\n",
              " 'yếu',\n",
              " 'bưởi',\n",
              " 'tầu_hỏa',\n",
              " 'mario',\n",
              " 'tan_nát',\n",
              " 'lon',\n",
              " 'khóc',\n",
              " 'bờm',\n",
              " 'xe_ôm',\n",
              " 'đêm',\n",
              " 'to_ôi',\n",
              " 'chửi_tao',\n",
              " 'bày_ngỗng',\n",
              " 'liệt_kê',\n",
              " 'hủy_hoại',\n",
              " 'thật_thà',\n",
              " 'ăn_dô',\n",
              " 'bia',\n",
              " 'hơm',\n",
              " 'rộ',\n",
              " 'xem_ra',\n",
              " 'núi',\n",
              " 'trung_quô',\n",
              " 'cũn',\n",
              " 'làm_li',\n",
              " 'ngay_cốc',\n",
              " 'nhân_duyên_trời',\n",
              " 'cơ',\n",
              " 'tưng',\n",
              " 'trộm_cắp',\n",
              " 'nha_nha',\n",
              " 'đề_văn',\n",
              " 'trả',\n",
              " 'nghiêp',\n",
              " 'tung',\n",
              " 'mă',\n",
              " 'khó_ló_cái',\n",
              " 'trang',\n",
              " 'ý_thức',\n",
              " 'bat',\n",
              " 'khinh',\n",
              " 'trường_hợp',\n",
              " 'nệm',\n",
              " 'nằm',\n",
              " 'đề_bao',\n",
              " 'cái',\n",
              " 'chửi_thé',\n",
              " 'xúc_quần',\n",
              " 'ói',\n",
              " 'ngân_sách',\n",
              " 'lầm_lì',\n",
              " 'sau_này',\n",
              " 'gato',\n",
              " 'yếu_ớt',\n",
              " 'trổi_tai',\n",
              " 'tinh_trùng',\n",
              " 'bún_đậu',\n",
              " 'thế_tém',\n",
              " 'cướp',\n",
              " 'đùng',\n",
              " 'tương_tự',\n",
              " 'bận',\n",
              " 'xưng',\n",
              " 'nê',\n",
              " 'khỉ',\n",
              " 'hiến',\n",
              " 'kiểm_kê',\n",
              " 'ĩa',\n",
              " 'mong_thương',\n",
              " 'ghen',\n",
              " 'nhy_̃',\n",
              " 'đâu_cư_xử',\n",
              " 'yêu_quái',\n",
              " 'trầm_cảm',\n",
              " 'soi_ve',\n",
              " '#_mun',\n",
              " 'song_song',\n",
              " 'sách',\n",
              " 'cơ_sở',\n",
              " 'lật',\n",
              " 'rõ',\n",
              " 'mật_ong',\n",
              " 'thật_tình',\n",
              " 'phụ_thuộc',\n",
              " 'ra',\n",
              " 'đến',\n",
              " 'lừa',\n",
              " 'động_vật',\n",
              " 'ngon_va',\n",
              " 'bịa',\n",
              " 'chán',\n",
              " '̉_ti',\n",
              " '!_đéo',\n",
              " 'ổn_định',\n",
              " 'kẻ_ô',\n",
              " 'xa_́',\n",
              " 'cúp',\n",
              " 'đái_mèo',\n",
              " 'phán_nọ',\n",
              " 'ghệ',\n",
              " 'thông_não',\n",
              " 'bán',\n",
              " 'xốp',\n",
              " 'phiêu_lưu',\n",
              " 'che',\n",
              " 'thầm_lặng',\n",
              " 'trật_tự',\n",
              " 'vô_số',\n",
              " 'án_mạng',\n",
              " 'mệt_thiệt',\n",
              " 'chi_ruồi',\n",
              " 'tâm_vãi',\n",
              " 'giải_lao',\n",
              " 'xáng',\n",
              " 'sổ_đỏ',\n",
              " 'thấp_tưởng',\n",
              " 'mệ',\n",
              " 'nhen',\n",
              " 'tiên_sư',\n",
              " 'ồn',\n",
              " 'lỡ_hụt',\n",
              " 'đối_tác',\n",
              " 'lò',\n",
              " 'sms',\n",
              " 'lê',\n",
              " 'xếp',\n",
              " 'thề',\n",
              " 'dễ_dàng',\n",
              " 'cậu',\n",
              " 'tềnh',\n",
              " 'hư',\n",
              " 'học_trò',\n",
              " 'y_nguyên',\n",
              " 'ngu_văn',\n",
              " 'chào_em',\n",
              " 'cồng_kền',\n",
              " '🌧',\n",
              " 'nhân_hòa',\n",
              " 'everywhere',\n",
              " 'bịch',\n",
              " 'nước_ngọt',\n",
              " 'tào',\n",
              " 'mãn_nguyện',\n",
              " 'phựt',\n",
              " 'cờ',\n",
              " 'canh',\n",
              " '?_miếng',\n",
              " 'chắc_ad',\n",
              " 'sởn',\n",
              " 'rộng',\n",
              " 'thê_tin',\n",
              " 'coi_thường',\n",
              " 'rát',\n",
              " '̃_ca',\n",
              " 'lung_tung',\n",
              " 'tổ',\n",
              " 'vắng',\n",
              " 'chướng',\n",
              " 'tội_vạy',\n",
              " 'ngoại',\n",
              " 'quả_đồ',\n",
              " 'nhì',\n",
              " 'nịnh_nọt',\n",
              " 'mấy_chế',\n",
              " 'trời_phật',\n",
              " 'phất',\n",
              " 'khí_chất',\n",
              " 'kếch_xù',\n",
              " 'siêu_thi',\n",
              " 'ban',\n",
              " 'lố_lăng',\n",
              " 'phan',\n",
              " 'xô_xài',\n",
              " 'mở_miệng',\n",
              " 'sặc_cái',\n",
              " 'lợi_ích',\n",
              " 'kể_ra',\n",
              " 'thân',\n",
              " 'tài_xế',\n",
              " 'cuộc_chơi',\n",
              " 'bảo_kê',\n",
              " 'gần',\n",
              " 'bốn',\n",
              " 'sét',\n",
              " 'hé',\n",
              " 'định_hướng',\n",
              " 'lụm',\n",
              " 'neu',\n",
              " 'ô_tô',\n",
              " 'phát_tán',\n",
              " 'muộn_củng',\n",
              " 'độc_chép',\n",
              " 'ăn_cút',\n",
              " 'rửa',\n",
              " 'gió',\n",
              " 'tong',\n",
              " 'ủa',\n",
              " 'ngoan_hiền',\n",
              " 'ấu_dâm',\n",
              " 'nay',\n",
              " 'đưa',\n",
              " 'đôi_co',\n",
              " 'chột_dạ',\n",
              " 'nuốt_trôi',\n",
              " 'singapore',\n",
              " 'hài_hước',\n",
              " 'vinmec',\n",
              " 'đi_pháp',\n",
              " 'chỉ_ước',\n",
              " 'cười_đéo',\n",
              " 'yêu_thương',\n",
              " 'tỷ_đố',\n",
              " 'hoàn_thành',\n",
              " 'rùng_hết',\n",
              " 'đoạn_thoại',\n",
              " 'biệt_tích',\n",
              " 'như_là',\n",
              " 'sự_nghiệp',\n",
              " 'say_mê',\n",
              " 'chi_phí',\n",
              " 'pê',\n",
              " 'nặng_nề',\n",
              " 'mặt_trời',\n",
              " 'adim',\n",
              " 'ấm_áp_nha',\n",
              " 'du_lịch',\n",
              " 'tù',\n",
              " 'xinh_vãi',\n",
              " 'say_giấc',\n",
              " 'bố_đời',\n",
              " 'tâm_trạng',\n",
              " 'bắt_hình',\n",
              " 'dày',\n",
              " 'tr',\n",
              " 'ảo',\n",
              " 'cay_vãi',\n",
              " '0',\n",
              " 've_sầu',\n",
              " 'muôn_đời',\n",
              " 'tật',\n",
              " 'tê_giác',\n",
              " 'mong_cảnh',\n",
              " 'chăm_sóc',\n",
              " 'thật_kỉ',\n",
              " 'be_́',\n",
              " 'vặt',\n",
              " 'khí_đụ',\n",
              " 'ngã',\n",
              " 'khẩu',\n",
              " 'ph',\n",
              " 'ô_dâm',\n",
              " 'thay_vì',\n",
              " 'ù',\n",
              " 'kéo_lại',\n",
              " 'nhà_lãnh_đạo',\n",
              " 'quẹo',\n",
              " 'đâu',\n",
              " 'thời',\n",
              " 'chời',\n",
              " 'nữ',\n",
              " 'tròn',\n",
              " 'cao_nguyên',\n",
              " 'hí_mắt',\n",
              " 'vịt',\n",
              " 'còm',\n",
              " 'yeah',\n",
              " 'nhớ_đời',\n",
              " 'sục_mõm',\n",
              " 'theo_dõi',\n",
              " 'diệt',\n",
              " 'next',\n",
              " 'đánh_đòn',\n",
              " 'nhãn',\n",
              " 'cảm_nhận',\n",
              " 'không_động',\n",
              " 'giữa',\n",
              " 'thi_̀',\n",
              " 'hầu_như',\n",
              " 'vì',\n",
              " 'ỏo',\n",
              " 'nhân_hậu',\n",
              " 'sắp_sửa',\n",
              " 'xinh_vậy',\n",
              " 'ba_mẹ',\n",
              " 'mì',\n",
              " 'gặp',\n",
              " 'phân_biệt',\n",
              " 'ác_cảm',\n",
              " 'max',\n",
              " 'lỡ_khúc',\n",
              " 'hòa_bình',\n",
              " 'xỉu',\n",
              " 'co_̀',\n",
              " '23',\n",
              " 'thuong',\n",
              " '̣_chư',\n",
              " 'best',\n",
              " 'rủi',\n",
              " 'trieu',\n",
              " 'cà_khía',\n",
              " 'kỉ_vãi',\n",
              " 'lừa_dối',\n",
              " 'ngứa',\n",
              " 'nãn',\n",
              " 'khoanh',\n",
              " 'hu',\n",
              " 'tùy',\n",
              " 'hô_hào',\n",
              " 'hẩy',\n",
              " 'sở',\n",
              " 'tài_hãy',\n",
              " 'cơ_cực',\n",
              " 'chị',\n",
              " 'tu_tu',\n",
              " 'ăn_nhậu',\n",
              " 'mà_ích',\n",
              " 'hè',\n",
              " 'bao_giờ',\n",
              " 'khoản',\n",
              " 'quyền',\n",
              " 'đái_cười',\n",
              " 'ấm',\n",
              " 'cười_ước_gì',\n",
              " 'hút',\n",
              " 'li_kì',\n",
              " 'áy_náy',\n",
              " 'hành_xử',\n",
              " 'chắc_thốn',\n",
              " 'nháo_nhào',\n",
              " 'chơi',\n",
              " 'quan_tài',\n",
              " '!_tình_yêu',\n",
              " 'nồi_canh',\n",
              " 'rần_rật',\n",
              " 'giai_điệu',\n",
              " 'chông',\n",
              " 'topic',\n",
              " 'mùi',\n",
              " 'ăn_lồn',\n",
              " 'tan',\n",
              " 'hêtd',\n",
              " 'trà',\n",
              " 'hãng',\n",
              " 'năn_nỉ',\n",
              " 'đái_giờ',\n",
              " 'co_roi',\n",
              " 'rầm_rầm_rộ',\n",
              " 'ỉa_phút',\n",
              " 'mõm',\n",
              " 'buồn_tẻ',\n",
              " 'doi',\n",
              " 'giới',\n",
              " 'mải_đạp',\n",
              " '̀_u',\n",
              " 'khùng',\n",
              " 'tây_bắc',\n",
              " 'mlz',\n",
              " 'tui',\n",
              " 'cư_dân',\n",
              " 'tầm_vũ_trụ',\n",
              " 'trắc_địa',\n",
              " 'dạy_văn',\n",
              " 'ib_nưa',\n",
              " 'tsb',\n",
              " 'lien_quan',\n",
              " 'nôi',\n",
              " 'mai_sau',\n",
              " 'o',\n",
              " 'nết_bố',\n",
              " 'mày_nghiệp',\n",
              " 'quá_chừng',\n",
              " 'tuổi_tác',\n",
              " 'trừ_tác_phong',\n",
              " 'hỏng',\n",
              " 'ngắn_gọn',\n",
              " 'thử_lòng',\n",
              " 'nơi',\n",
              " 'tửng',\n",
              " 'tầng',\n",
              " 'cỏ',\n",
              " 'mặt_nạ',\n",
              " 'cạch',\n",
              " 'xinh_nhờ',\n",
              " 'thích_mày',\n",
              " 'vừa',\n",
              " 'phê_vãi',\n",
              " 'thớt',\n",
              " 'bố_mày',\n",
              " 'năng_lượng',\n",
              " 'tạt',\n",
              " 'thét_rạp',\n",
              " 'nhây_nhớp',\n",
              " 'quên',\n",
              " 'tài_ba',\n",
              " 'ơ_thế',\n",
              " 'quý_hóa',\n",
              " ')',\n",
              " 'skil',\n",
              " 'thôi_thì',\n",
              " 'vlog',\n",
              " 'nhắn',\n",
              " 'đạt',\n",
              " 'sờ_tai',\n",
              " 'luật_hình_sự',\n",
              " 'mượn',\n",
              " 'ngoác',\n",
              " 'ác_vãi',\n",
              " 'hồi_hợp',\n",
              " 'bờ_rào',\n",
              " 'chấm_điểm',\n",
              " 'đã',\n",
              " 'tay_chân',\n",
              " 'thổ_nhưỡng',\n",
              " 'bằng_cấp',\n",
              " 'tiển',\n",
              " 'chồng_chất',\n",
              " 'trộm',\n",
              " 'tôm',\n",
              " 'nga',\n",
              " 'ơ_̉',\n",
              " 'ít_ra',\n",
              " 'chân_thành',\n",
              " 'lợi_nhuận',\n",
              " 'thảo_lui',\n",
              " 'bù',\n",
              " 'xuýt',\n",
              " 'kết_xàm',\n",
              " 'cười_mong',\n",
              " 'dị',\n",
              " 'điểm_danh',\n",
              " 'tuyet',\n",
              " 'gia_́',\n",
              " 'hic_=',\n",
              " 'mặt_dày',\n",
              " 'việc',\n",
              " 'đề_kháng',\n",
              " 'quyết',\n",
              " 'quanh',\n",
              " 'bình_phục',\n",
              " 'nhà_trẻ',\n",
              " 'hình_huhu',\n",
              " 'muôn',\n",
              " 'nghi_nghi',\n",
              " 'tâm_khuôn_mặt',\n",
              " 'ớn',\n",
              " 'mà_lại',\n",
              " 'chẳng_qua',\n",
              " 'lap',\n",
              " 'bắn',\n",
              " 'tội_ác',\n",
              " 'bảo_nhắn',\n",
              " 'làm_sao',\n",
              " 'bùi_ngọt',\n",
              " 'tồi',\n",
              " 'súng',\n",
              " 'kiếp',\n",
              " 'ngưỡng_nhịn',\n",
              " 'sớm',\n",
              " 'khuôn_mặt',\n",
              " 'tuyệt_cú',\n",
              " 'ngọt',\n",
              " 'khắc_nghiệt',\n",
              " 'đồng_chí',\n",
              " 'hóa_điên',\n",
              " 'với_lại',\n",
              " 'sgk',\n",
              " 'nước_biển',\n",
              " 'trâu_óc',\n",
              " 'tre',\n",
              " 'bar',\n",
              " 'tên',\n",
              " 'cân_na',\n",
              " 'là_cùng',\n",
              " 'nhập_viện',\n",
              " 'giờ_đây',\n",
              " 'nam_chính',\n",
              " 'mod',\n",
              " 'như',\n",
              " 'tổn_thương',\n",
              " 'thức_ăn',\n",
              " 'ráng',\n",
              " 'cô_giáo',\n",
              " 'đu_đủ',\n",
              " 'phá',\n",
              " 'môibiểu',\n",
              " 'quý_vãi',\n",
              " 'mal',\n",
              " 'g',\n",
              " 'khiếp',\n",
              " '1',\n",
              " 'đố',\n",
              " 'thiên_thần',\n",
              " 'châm',\n",
              " '?_=',\n",
              " 'sừng_khuôn_mặt',\n",
              " 'bà_già',\n",
              " 'xứng_đáng',\n",
              " 'địa_phương',\n",
              " 'vô_nghĩa',\n",
              " 'khốn_kiếp',\n",
              " 'ích_kỷ',\n",
              " 'chuẩn',\n",
              " 'mỡ',\n",
              " 'phụ_nữ',\n",
              " 'cóc',\n",
              " '́_ca',\n",
              " 'hồ',\n",
              " 'vô_gia_cư',\n",
              " 'chiện',\n",
              " 'tóc_tai',\n",
              " 'than',\n",
              " 'xấu_vãi',\n",
              " 'cầu_hôn',\n",
              " 'châu_phi',\n",
              " 'fải',\n",
              " 'hứng_thú',\n",
              " 'dlm',\n",
              " 'đông_lạnh',\n",
              " 'hi_hi_cười',\n",
              " 'cử_chỉ',\n",
              " 'chóp_chép',\n",
              " 'lan_can',\n",
              " 'sời',\n",
              " 'đẩy',\n",
              " 'đâu_đó',\n",
              " 'đi_lạc',\n",
              " 'cay_cú',\n",
              " 'sảy',\n",
              " 'luân_mẹ',\n",
              " 'dự',\n",
              " 'ngốc',\n",
              " 'cảm_hứng',\n",
              " 'clm',\n",
              " 'hạ_tuôi',\n",
              " 'rủ',\n",
              " 'bình_thương',\n",
              " 'hẻm',\n",
              " 'tế',\n",
              " 'lội',\n",
              " 'phật_giáo',\n",
              " 'nắng_nóng',\n",
              " 'động_lực',\n",
              " 'điện_biên_nữa',\n",
              " 'nho',\n",
              " 'ne',\n",
              " 'vui_chơi',\n",
              " 'tiễn_vong',\n",
              " 'đồng_đội',\n",
              " 'thần_tài',\n",
              " 'thanh_xuân',\n",
              " 'tắc',\n",
              " 'chậy',\n",
              " 'k',\n",
              " 'đươ_̣',\n",
              " 'nguyên',\n",
              " 'tiếng',\n",
              " 'nghi_̃',\n",
              " 'siro',\n",
              " 'tốt_nghiệp',\n",
              " 'chiêc',\n",
              " 'halo',\n",
              " 'canh_lửa',\n",
              " 'disme',\n",
              " 'rừng',\n",
              " 'đồ_đệ',\n",
              " 'quẩn',\n",
              " 'ăn_chay',\n",
              " 'hiền_hana',\n",
              " 'thực_tế',\n",
              " 'khôi_phục',\n",
              " 'căng_thẳng',\n",
              " 'tình_nghĩa',\n",
              " 'phát',\n",
              " 'sỏi',\n",
              " 'kẹo',\n",
              " 'sờ_mông',\n",
              " 'sạn',\n",
              " 'ấu_trĩ',\n",
              " 'tố_chất',\n",
              " 'rược',\n",
              " 'xoài_chua',\n",
              " 'mẩu',\n",
              " '̣_phim',\n",
              " 'mẻ',\n",
              " 'đông_vãi',\n",
              " 'xoài',\n",
              " 'sông',\n",
              " 'nói_cười',\n",
              " 'chẳng_hạn',\n",
              " 'quả_mặt',\n",
              " 'thua',\n",
              " 'mùa_hè',\n",
              " 'thú_zị',\n",
              " 'thiệt_chớ',\n",
              " 'thời_buổi',\n",
              " 'khôn',\n",
              " 'nghĩ_lại',\n",
              " 'mòa',\n",
              " 'gầy',\n",
              " 'hã',\n",
              " 'đi_chăng_nữa',\n",
              " 'nhạc',\n",
              " 'trừ',\n",
              " 'mất_dạy',\n",
              " 'chấp_hành',\n",
              " 'đâu_đây',\n",
              " 'định_quát',\n",
              " 'thiện',\n",
              " 'nhè_nhẹ',\n",
              " 'ám_tao',\n",
              " 'quơ_quơ',\n",
              " 'khì_thị',\n",
              " 'nhưng_mà',\n",
              " 'đối_phương',\n",
              " 'cao_thủ',\n",
              " 'lương_tâm',\n",
              " 'thái_hè',\n",
              " 'giở_trò',\n",
              " 'y_tế',\n",
              " 'meo',\n",
              " '?_mai',\n",
              " 'đua',\n",
              " 'ngôi',\n",
              " 'biểu_cảm_chớp',\n",
              " 'năm_học',\n",
              " 'hài_lòng',\n",
              " 'vô_phòng',\n",
              " 'dã_dô',\n",
              " 'hối_hận',\n",
              " 'cười_sao',\n",
              " 'ác_quỷ',\n",
              " 'hiếu_thảo',\n",
              " 'liang',\n",
              " 'nài_nỉ',\n",
              " 'khẩn_cấp',\n",
              " 'nhóc',\n",
              " 'dãi',\n",
              " 'kiểm_toán',\n",
              " 'chọc_tức',\n",
              " 'ụa',\n",
              " 'giao_thông',\n",
              " 'oke',\n",
              " 'bánh_mì',\n",
              " 'đéo_ý',\n",
              " 'năm_xưa',\n",
              " 'mat',\n",
              " 'khóc_la',\n",
              " 'gia_nhập',\n",
              " 'chó',\n",
              " 'phẫn_nộ_vả',\n",
              " 'tụ_họp',\n",
              " 'soi',\n",
              " 'bịp',\n",
              " 'kêu_ca',\n",
              " 'mặp',\n",
              " 'vô_duyên',\n",
              " 'điệu',\n",
              " 'đụ_má',\n",
              " 'lưu_hình',\n",
              " 'trá',\n",
              " 'găng_tay',\n",
              " 'gồng',\n",
              " 'hồ_sơ',\n",
              " 'góp',\n",
              " 'mỏ',\n",
              " 'phốt',\n",
              " 'răng_khúc',\n",
              " 'xàm',\n",
              " 'hi',\n",
              " 'mìh',\n",
              " 'we',\n",
              " 'định_mệnh',\n",
              " 'rao_giảng',\n",
              " 'khích_tướng',\n",
              " 'guitar',\n",
              " 'buồn',\n",
              " 'lip_miệng',\n",
              " 'per_mã',\n",
              " 'gián',\n",
              " 'bá_đạo',\n",
              " 'tủi_thân',\n",
              " 'cứng_tỳ',\n",
              " 'bg',\n",
              " '/',\n",
              " 'tồi_tệ',\n",
              " 'mỉa_mai',\n",
              " 'bền_vững',\n",
              " 'mưu_cầu',\n",
              " 'cay_nghiệt',\n",
              " 'gặp_mặt',\n",
              " 'nhiệt_tình',\n",
              " 'bố_con',\n",
              " 'nè_phạt',\n",
              " 'định_giá',\n",
              " 'miên_man',\n",
              " 'đồ_chơi',\n",
              " 'hnao',\n",
              " 'ủng_hộ',\n",
              " 'hèn',\n",
              " 'cười_rớt',\n",
              " 'học',\n",
              " 'nèo',\n",
              " 'chuyện',\n",
              " 'ful',\n",
              " 'đau_bết',\n",
              " 'dơ',\n",
              " 'hoài_=',\n",
              " 'bảo_thủ',\n",
              " 'dâm_rê',\n",
              " 'gắt_gỏng',\n",
              " 'vé_số',\n",
              " 'hầu',\n",
              " 'cong',\n",
              " 'giật_mình',\n",
              " 'dư',\n",
              " 'hnua',\n",
              " 'duoc',\n",
              " 'nhà_thể',\n",
              " 'nhma',\n",
              " 'quá_suất',\n",
              " 'bh',\n",
              " 'chồng',\n",
              " 'da_tră',\n",
              " 'chẹ',\n",
              " 'anh_hùng',\n",
              " 'tripod',\n",
              " 'chạnh_lòng',\n",
              " 'kỉ_yếu',\n",
              " 'si',\n",
              " 'nghề',\n",
              " 'tâm_trí',\n",
              " 'ăn_chính',\n",
              " 'ơ',\n",
              " 'móng',\n",
              " 'tâm_sư',\n",
              " 'mải',\n",
              " 'bừa',\n",
              " 'tạp_hóa',\n",
              " 'tuyên_truyền',\n",
              " 'võ_thiệt',\n",
              " 'trọn_tình',\n",
              " 'băng_đầu',\n",
              " 'đây',\n",
              " 'đào_tạo',\n",
              " 'nhấp',\n",
              " 'sán',\n",
              " 'ý_nghĩa',\n",
              " 'dậy_thì',\n",
              " 'tiêu_nha',\n",
              " 'đầy',\n",
              " 'bàn_tay',\n",
              " 'duyên_khuôn_mặt',\n",
              " 'công_tác',\n",
              " 'ăn_chóp',\n",
              " 'bình_yên',\n",
              " 'đồng_ý',\n",
              " 'yêu_vãi',\n",
              " 'chách',\n",
              " 'đớn_đau',\n",
              " 'tri',\n",
              " 'giận_cơ',\n",
              " 'đề',\n",
              " 'chỉ_huy',\n",
              " 'ho',\n",
              " 'rôm_rả',\n",
              " 'động_viên',\n",
              " 'ngà_ngà',\n",
              " 'khôn_đéo',\n",
              " 'như_vầy',\n",
              " 'quát',\n",
              " 'bởi_vậy',\n",
              " 'thao_trường',\n",
              " 'bồi_thươ',\n",
              " 'bao',\n",
              " 'bản_lĩnh',\n",
              " 'cổ_họng',\n",
              " 'thiên_thời',\n",
              " 'hình_chế',\n",
              " 'bánh_tai',\n",
              " 'cầu_mong',\n",
              " 'đáp_số',\n",
              " 'mổ',\n",
              " 'lý',\n",
              " 'kịch_bản',\n",
              " 'chắc_hẳn',\n",
              " 'kiên_trì',\n",
              " 'hình_thức',\n",
              " 'ăn_nhỉ',\n",
              " 'bạt_tai',\n",
              " 'cổ_chân',\n",
              " 'protein',\n",
              " 'tuyệt_đối',\n",
              " 'lũ_óc',\n",
              " 'bựa',\n",
              " 'làm_xí',\n",
              " 'chêu',\n",
              " 'thế_hệ',\n",
              " 'giật_tít',\n",
              " 'săn_sóc',\n",
              " 'cảm_thấy',\n",
              " 'tuyển_ý',\n",
              " 'nổi_tiếng',\n",
              " 'đồ_ăn',\n",
              " 'combo_mập',\n",
              " 'khó',\n",
              " 'mập_thây',\n",
              " '!_haha',\n",
              " 'lườm',\n",
              " 'ăn_không',\n",
              " 'hàm',\n",
              " 'quan',\n",
              " 'chụy',\n",
              " 'sặc_sụacười',\n",
              " 'à_hậu',\n",
              " 'khỏi',\n",
              " 'vừa_rồi',\n",
              " 'bằng',\n",
              " 'zay',\n",
              " 'ai_ngờ',\n",
              " 'grab',\n",
              " 'bình_phước',\n",
              " 'khoảng',\n",
              " 'ổng',\n",
              " 'may_mắn',\n",
              " 'chúc',\n",
              " 'phỏng_vấn',\n",
              " 'á_khuôn_mặt',\n",
              " 'nun',\n",
              " 'hiếm_hoi',\n",
              " 'giếng',\n",
              " 'chấp',\n",
              " 'gấp',\n",
              " 'tôgn',\n",
              " 'nhể',\n",
              " 'tợp',\n",
              " 'muôn_kiếp',\n",
              " 'ý',\n",
              " 'ghiền',\n",
              " 'bay',\n",
              " 'thậc',\n",
              " 'tỉ_mỉ',\n",
              " 'đạo_lý',\n",
              " 'đíu',\n",
              " 'cạ',\n",
              " 'khí_hậu',\n",
              " '2021',\n",
              " '320',\n",
              " 'đéo_né',\n",
              " 'mày_sút',\n",
              " 'hiền_thôi',\n",
              " 'ong',\n",
              " 'tụ_tập',\n",
              " 'điện_thoại',\n",
              " 'nhằm',\n",
              " 'dưa_hấu',\n",
              " 'tuy',\n",
              " 'ẻ',\n",
              " 'kéo',\n",
              " 'bé',\n",
              " 'hoàn_toàn',\n",
              " 'ngàn',\n",
              " 'trẩu_=',\n",
              " ...}"
            ]
          },
          "metadata": {},
          "execution_count": 50
        }
      ]
    },
    {
      "cell_type": "code",
      "source": [
        "own_vocab = Vocabulary()\n",
        "# create own vocabulary from words\n",
        "for word in words:\n",
        "    own_vocab.add(word)"
      ],
      "metadata": {
        "id": "ohlBrFWi_6_W"
      },
      "execution_count": 51,
      "outputs": []
    },
    {
      "cell_type": "code",
      "source": [
        "own_vocab.word2id"
      ],
      "metadata": {
        "colab": {
          "base_uri": "https://localhost:8080/"
        },
        "id": "ih1DlYiBRvag",
        "outputId": "511fc93a-cdc2-454f-cdaf-33e44fffc99c"
      },
      "execution_count": 52,
      "outputs": [
        {
          "output_type": "execute_result",
          "data": {
            "text/plain": [
              "{'<pad>': 0,\n",
              " '<unk>': 1,\n",
              " 'đa_số': 2,\n",
              " 'lúc': 3,\n",
              " 'trở': 4,\n",
              " 'nội': 5,\n",
              " 'đụ': 6,\n",
              " 'tử_tế': 7,\n",
              " 'y_đâu': 8,\n",
              " 'thực_hiện': 9,\n",
              " 'lén': 10,\n",
              " 'mốc': 11,\n",
              " 'cứt': 12,\n",
              " 'kiểm_điểm': 13,\n",
              " 'buồn_cười': 14,\n",
              " 'tụt': 15,\n",
              " 'sản_phẩm': 16,\n",
              " 'giây_thứ': 17,\n",
              " 'tấu': 18,\n",
              " 'tặng': 19,\n",
              " 'ri': 20,\n",
              " 'noa': 21,\n",
              " 'lơ_lửng': 22,\n",
              " 'boxing': 23,\n",
              " 'mạnh_mẽ': 24,\n",
              " 'rảnh_rỗi': 25,\n",
              " 'day': 26,\n",
              " 'anh_chị': 27,\n",
              " 'nhg': 28,\n",
              " 'vâng': 29,\n",
              " 'giúp_đỡ': 30,\n",
              " 'make': 31,\n",
              " 'bậy': 32,\n",
              " 'sủa': 33,\n",
              " 'chuột_bọ': 34,\n",
              " 'thôi_khép': 35,\n",
              " 'tổn_thất_đồ': 36,\n",
              " 'vợ_con': 37,\n",
              " 'từng_trải': 38,\n",
              " 'tại_chỗ_thể': 39,\n",
              " 'khung_hình_phạt': 40,\n",
              " 'nàng': 41,\n",
              " 'quà_cáp': 42,\n",
              " 'nụ': 43,\n",
              " 'nhu_nhược': 44,\n",
              " 'hàng_loạt': 45,\n",
              " 'xỉn': 46,\n",
              " 'xe_đạp': 47,\n",
              " 'nghiệt_súc': 48,\n",
              " 'chúc_noel': 49,\n",
              " 'xử_lí': 50,\n",
              " 'sân': 51,\n",
              " 'chứng_minh': 52,\n",
              " 'ăn_cái': 53,\n",
              " 'thăm': 54,\n",
              " 'bep': 55,\n",
              " 'kinh_dị': 56,\n",
              " 'tuyệt': 57,\n",
              " 'láp_xược': 58,\n",
              " 'mau': 59,\n",
              " 'tiệt_kiệm': 60,\n",
              " 'phóng': 61,\n",
              " 'xả': 62,\n",
              " '̀_mày': 63,\n",
              " 'bênh': 64,\n",
              " '́_thuyết': 65,\n",
              " 'thênh_thang': 66,\n",
              " 'đương': 67,\n",
              " 'bớt': 68,\n",
              " 'kiểu_ngôn_lù': 69,\n",
              " 'kèm_ho': 70,\n",
              " 'củ': 71,\n",
              " 'chửi_mắng': 72,\n",
              " 'nhanh': 73,\n",
              " 'họ': 74,\n",
              " 'đau_sót': 75,\n",
              " 'viện': 76,\n",
              " 'địch': 77,\n",
              " 'thảo': 78,\n",
              " 'phết': 79,\n",
              " 'ngoại_tao': 80,\n",
              " 'ngược': 81,\n",
              " 'ngầu': 82,\n",
              " 'tóm_lại': 83,\n",
              " 'chả': 84,\n",
              " 'chúng_mày': 85,\n",
              " 'smart': 86,\n",
              " 'ngu_thiệt': 87,\n",
              " 'hám': 88,\n",
              " 'chót_vót': 89,\n",
              " 'phia': 90,\n",
              " 'nick': 91,\n",
              " 'chủ_tịch': 92,\n",
              " 'toe_toét': 93,\n",
              " 'chiêu': 94,\n",
              " 'gạch_đá': 95,\n",
              " 'nội_trĩ': 96,\n",
              " '?_hả': 97,\n",
              " 'mấu_chốt': 98,\n",
              " 'hôn_quanh': 99,\n",
              " 'cơm_bữa': 100,\n",
              " 'rẻ': 101,\n",
              " 'chăn_gối': 102,\n",
              " 'húp': 103,\n",
              " 'khẩu_trang': 104,\n",
              " 'tay_lái': 105,\n",
              " 'rài': 106,\n",
              " 'cạnh': 107,\n",
              " 'con_số': 108,\n",
              " 'tài_gì': 109,\n",
              " 'mổi': 110,\n",
              " 'canxi': 111,\n",
              " 'lì': 112,\n",
              " 'nhổ_sợ': 113,\n",
              " 'ka': 114,\n",
              " 'xúc_động': 115,\n",
              " 'đứt': 116,\n",
              " 'cs': 117,\n",
              " 'bán_dụng_cụ': 118,\n",
              " 'thối_nát': 119,\n",
              " 'bảo_đảm': 120,\n",
              " 'cực_kì': 121,\n",
              " 'ngoại_tình': 122,\n",
              " 'thân_thiết': 123,\n",
              " 'sat': 124,\n",
              " 'âm_thanh': 125,\n",
              " 'buồn_vãi': 126,\n",
              " 'vtv24': 127,\n",
              " 'sập': 128,\n",
              " 'kinh_vầy': 129,\n",
              " 'chuồng': 130,\n",
              " 'nhỏ_nhen': 131,\n",
              " 'đai': 132,\n",
              " '7': 133,\n",
              " 'giải_thích': 134,\n",
              " 'chấy': 135,\n",
              " 'làm_khó': 136,\n",
              " 'xem_chừng': 137,\n",
              " 'xem_thường': 138,\n",
              " 'thẹn': 139,\n",
              " 'yếu': 140,\n",
              " 'bưởi': 141,\n",
              " 'tầu_hỏa': 142,\n",
              " 'mario': 143,\n",
              " 'tan_nát': 144,\n",
              " 'lon': 145,\n",
              " 'khóc': 146,\n",
              " 'bờm': 147,\n",
              " 'xe_ôm': 148,\n",
              " 'đêm': 149,\n",
              " 'to_ôi': 150,\n",
              " 'chửi_tao': 151,\n",
              " 'bày_ngỗng': 152,\n",
              " 'liệt_kê': 153,\n",
              " 'hủy_hoại': 154,\n",
              " 'thật_thà': 155,\n",
              " 'ăn_dô': 156,\n",
              " 'bia': 157,\n",
              " 'hơm': 158,\n",
              " 'rộ': 159,\n",
              " 'xem_ra': 160,\n",
              " 'núi': 161,\n",
              " 'trung_quô': 162,\n",
              " 'cũn': 163,\n",
              " 'làm_li': 164,\n",
              " 'ngay_cốc': 165,\n",
              " 'nhân_duyên_trời': 166,\n",
              " 'cơ': 167,\n",
              " 'tưng': 168,\n",
              " 'trộm_cắp': 169,\n",
              " 'nha_nha': 170,\n",
              " 'đề_văn': 171,\n",
              " 'trả': 172,\n",
              " 'nghiêp': 173,\n",
              " 'tung': 174,\n",
              " 'mă': 175,\n",
              " 'khó_ló_cái': 176,\n",
              " 'trang': 177,\n",
              " 'ý_thức': 178,\n",
              " 'bat': 179,\n",
              " 'khinh': 180,\n",
              " 'trường_hợp': 181,\n",
              " 'nệm': 182,\n",
              " 'nằm': 183,\n",
              " 'đề_bao': 184,\n",
              " 'cái': 185,\n",
              " 'chửi_thé': 186,\n",
              " 'xúc_quần': 187,\n",
              " 'ói': 188,\n",
              " 'ngân_sách': 189,\n",
              " 'lầm_lì': 190,\n",
              " 'sau_này': 191,\n",
              " 'gato': 192,\n",
              " 'yếu_ớt': 193,\n",
              " 'trổi_tai': 194,\n",
              " 'tinh_trùng': 195,\n",
              " 'bún_đậu': 196,\n",
              " 'thế_tém': 197,\n",
              " 'cướp': 198,\n",
              " 'đùng': 199,\n",
              " 'tương_tự': 200,\n",
              " 'bận': 201,\n",
              " 'xưng': 202,\n",
              " 'nê': 203,\n",
              " 'khỉ': 204,\n",
              " 'hiến': 205,\n",
              " 'kiểm_kê': 206,\n",
              " 'ĩa': 207,\n",
              " 'mong_thương': 208,\n",
              " 'ghen': 209,\n",
              " 'nhy_̃': 210,\n",
              " 'đâu_cư_xử': 211,\n",
              " 'yêu_quái': 212,\n",
              " 'trầm_cảm': 213,\n",
              " 'soi_ve': 214,\n",
              " '#_mun': 215,\n",
              " 'song_song': 216,\n",
              " 'sách': 217,\n",
              " 'cơ_sở': 218,\n",
              " 'lật': 219,\n",
              " 'rõ': 220,\n",
              " 'mật_ong': 221,\n",
              " 'thật_tình': 222,\n",
              " 'phụ_thuộc': 223,\n",
              " 'ra': 224,\n",
              " 'đến': 225,\n",
              " 'lừa': 226,\n",
              " 'động_vật': 227,\n",
              " 'ngon_va': 228,\n",
              " 'bịa': 229,\n",
              " 'chán': 230,\n",
              " '̉_ti': 231,\n",
              " '!_đéo': 232,\n",
              " 'ổn_định': 233,\n",
              " 'kẻ_ô': 234,\n",
              " 'xa_́': 235,\n",
              " 'cúp': 236,\n",
              " 'đái_mèo': 237,\n",
              " 'phán_nọ': 238,\n",
              " 'ghệ': 239,\n",
              " 'thông_não': 240,\n",
              " 'bán': 241,\n",
              " 'xốp': 242,\n",
              " 'phiêu_lưu': 243,\n",
              " 'che': 244,\n",
              " 'thầm_lặng': 245,\n",
              " 'trật_tự': 246,\n",
              " 'vô_số': 247,\n",
              " 'án_mạng': 248,\n",
              " 'mệt_thiệt': 249,\n",
              " 'chi_ruồi': 250,\n",
              " 'tâm_vãi': 251,\n",
              " 'giải_lao': 252,\n",
              " 'xáng': 253,\n",
              " 'sổ_đỏ': 254,\n",
              " 'thấp_tưởng': 255,\n",
              " 'mệ': 256,\n",
              " 'nhen': 257,\n",
              " 'tiên_sư': 258,\n",
              " 'ồn': 259,\n",
              " 'lỡ_hụt': 260,\n",
              " 'đối_tác': 261,\n",
              " 'lò': 262,\n",
              " 'sms': 263,\n",
              " 'lê': 264,\n",
              " 'xếp': 265,\n",
              " 'thề': 266,\n",
              " 'dễ_dàng': 267,\n",
              " 'cậu': 268,\n",
              " 'tềnh': 269,\n",
              " 'hư': 270,\n",
              " 'học_trò': 271,\n",
              " 'y_nguyên': 272,\n",
              " 'ngu_văn': 273,\n",
              " 'chào_em': 274,\n",
              " 'cồng_kền': 275,\n",
              " '🌧': 276,\n",
              " 'nhân_hòa': 277,\n",
              " 'everywhere': 278,\n",
              " 'bịch': 279,\n",
              " 'nước_ngọt': 280,\n",
              " 'tào': 281,\n",
              " 'mãn_nguyện': 282,\n",
              " 'phựt': 283,\n",
              " 'cờ': 284,\n",
              " 'canh': 285,\n",
              " '?_miếng': 286,\n",
              " 'chắc_ad': 287,\n",
              " 'sởn': 288,\n",
              " 'rộng': 289,\n",
              " 'thê_tin': 290,\n",
              " 'coi_thường': 291,\n",
              " 'rát': 292,\n",
              " '̃_ca': 293,\n",
              " 'lung_tung': 294,\n",
              " 'tổ': 295,\n",
              " 'vắng': 296,\n",
              " 'chướng': 297,\n",
              " 'tội_vạy': 298,\n",
              " 'ngoại': 299,\n",
              " 'quả_đồ': 300,\n",
              " 'nhì': 301,\n",
              " 'nịnh_nọt': 302,\n",
              " 'mấy_chế': 303,\n",
              " 'trời_phật': 304,\n",
              " 'phất': 305,\n",
              " 'khí_chất': 306,\n",
              " 'kếch_xù': 307,\n",
              " 'siêu_thi': 308,\n",
              " 'ban': 309,\n",
              " 'lố_lăng': 310,\n",
              " 'phan': 311,\n",
              " 'xô_xài': 312,\n",
              " 'mở_miệng': 313,\n",
              " 'sặc_cái': 314,\n",
              " 'lợi_ích': 315,\n",
              " 'kể_ra': 316,\n",
              " 'thân': 317,\n",
              " 'tài_xế': 318,\n",
              " 'cuộc_chơi': 319,\n",
              " 'bảo_kê': 320,\n",
              " 'gần': 321,\n",
              " 'bốn': 322,\n",
              " 'sét': 323,\n",
              " 'hé': 324,\n",
              " 'định_hướng': 325,\n",
              " 'lụm': 326,\n",
              " 'neu': 327,\n",
              " 'ô_tô': 328,\n",
              " 'phát_tán': 329,\n",
              " 'muộn_củng': 330,\n",
              " 'độc_chép': 331,\n",
              " 'ăn_cút': 332,\n",
              " 'rửa': 333,\n",
              " 'gió': 334,\n",
              " 'tong': 335,\n",
              " 'ủa': 336,\n",
              " 'ngoan_hiền': 337,\n",
              " 'ấu_dâm': 338,\n",
              " 'nay': 339,\n",
              " 'đưa': 340,\n",
              " 'đôi_co': 341,\n",
              " 'chột_dạ': 342,\n",
              " 'nuốt_trôi': 343,\n",
              " 'singapore': 344,\n",
              " 'hài_hước': 345,\n",
              " 'vinmec': 346,\n",
              " 'đi_pháp': 347,\n",
              " 'chỉ_ước': 348,\n",
              " 'cười_đéo': 349,\n",
              " 'yêu_thương': 350,\n",
              " 'tỷ_đố': 351,\n",
              " 'hoàn_thành': 352,\n",
              " 'rùng_hết': 353,\n",
              " 'đoạn_thoại': 354,\n",
              " 'biệt_tích': 355,\n",
              " 'như_là': 356,\n",
              " 'sự_nghiệp': 357,\n",
              " 'say_mê': 358,\n",
              " 'chi_phí': 359,\n",
              " 'pê': 360,\n",
              " 'nặng_nề': 361,\n",
              " 'mặt_trời': 362,\n",
              " 'adim': 363,\n",
              " 'ấm_áp_nha': 364,\n",
              " 'du_lịch': 365,\n",
              " 'tù': 366,\n",
              " 'xinh_vãi': 367,\n",
              " 'say_giấc': 368,\n",
              " 'bố_đời': 369,\n",
              " 'tâm_trạng': 370,\n",
              " 'bắt_hình': 371,\n",
              " 'dày': 372,\n",
              " 'tr': 373,\n",
              " 'ảo': 374,\n",
              " 'cay_vãi': 375,\n",
              " '0': 376,\n",
              " 've_sầu': 377,\n",
              " 'muôn_đời': 378,\n",
              " 'tật': 379,\n",
              " 'tê_giác': 380,\n",
              " 'mong_cảnh': 381,\n",
              " 'chăm_sóc': 382,\n",
              " 'thật_kỉ': 383,\n",
              " 'be_́': 384,\n",
              " 'vặt': 385,\n",
              " 'khí_đụ': 386,\n",
              " 'ngã': 387,\n",
              " 'khẩu': 388,\n",
              " 'ph': 389,\n",
              " 'ô_dâm': 390,\n",
              " 'thay_vì': 391,\n",
              " 'ù': 392,\n",
              " 'kéo_lại': 393,\n",
              " 'nhà_lãnh_đạo': 394,\n",
              " 'quẹo': 395,\n",
              " 'đâu': 396,\n",
              " 'thời': 397,\n",
              " 'chời': 398,\n",
              " 'nữ': 399,\n",
              " 'tròn': 400,\n",
              " 'cao_nguyên': 401,\n",
              " 'hí_mắt': 402,\n",
              " 'vịt': 403,\n",
              " 'còm': 404,\n",
              " 'yeah': 405,\n",
              " 'nhớ_đời': 406,\n",
              " 'sục_mõm': 407,\n",
              " 'theo_dõi': 408,\n",
              " 'diệt': 409,\n",
              " 'next': 410,\n",
              " 'đánh_đòn': 411,\n",
              " 'nhãn': 412,\n",
              " 'cảm_nhận': 413,\n",
              " 'không_động': 414,\n",
              " 'giữa': 415,\n",
              " 'thi_̀': 416,\n",
              " 'hầu_như': 417,\n",
              " 'vì': 418,\n",
              " 'ỏo': 419,\n",
              " 'nhân_hậu': 420,\n",
              " 'sắp_sửa': 421,\n",
              " 'xinh_vậy': 422,\n",
              " 'ba_mẹ': 423,\n",
              " 'mì': 424,\n",
              " 'gặp': 425,\n",
              " 'phân_biệt': 426,\n",
              " 'ác_cảm': 427,\n",
              " 'max': 428,\n",
              " 'lỡ_khúc': 429,\n",
              " 'hòa_bình': 430,\n",
              " 'xỉu': 431,\n",
              " 'co_̀': 432,\n",
              " '23': 433,\n",
              " 'thuong': 434,\n",
              " '̣_chư': 435,\n",
              " 'best': 436,\n",
              " 'rủi': 437,\n",
              " 'trieu': 438,\n",
              " 'cà_khía': 439,\n",
              " 'kỉ_vãi': 440,\n",
              " 'lừa_dối': 441,\n",
              " 'ngứa': 442,\n",
              " 'nãn': 443,\n",
              " 'khoanh': 444,\n",
              " 'hu': 445,\n",
              " 'tùy': 446,\n",
              " 'hô_hào': 447,\n",
              " 'hẩy': 448,\n",
              " 'sở': 449,\n",
              " 'tài_hãy': 450,\n",
              " 'cơ_cực': 451,\n",
              " 'chị': 452,\n",
              " 'tu_tu': 453,\n",
              " 'ăn_nhậu': 454,\n",
              " 'mà_ích': 455,\n",
              " 'hè': 456,\n",
              " 'bao_giờ': 457,\n",
              " 'khoản': 458,\n",
              " 'quyền': 459,\n",
              " 'đái_cười': 460,\n",
              " 'ấm': 461,\n",
              " 'cười_ước_gì': 462,\n",
              " 'hút': 463,\n",
              " 'li_kì': 464,\n",
              " 'áy_náy': 465,\n",
              " 'hành_xử': 466,\n",
              " 'chắc_thốn': 467,\n",
              " 'nháo_nhào': 468,\n",
              " 'chơi': 469,\n",
              " 'quan_tài': 470,\n",
              " '!_tình_yêu': 471,\n",
              " 'nồi_canh': 472,\n",
              " 'rần_rật': 473,\n",
              " 'giai_điệu': 474,\n",
              " 'chông': 475,\n",
              " 'topic': 476,\n",
              " 'mùi': 477,\n",
              " 'ăn_lồn': 478,\n",
              " 'tan': 479,\n",
              " 'hêtd': 480,\n",
              " 'trà': 481,\n",
              " 'hãng': 482,\n",
              " 'năn_nỉ': 483,\n",
              " 'đái_giờ': 484,\n",
              " 'co_roi': 485,\n",
              " 'rầm_rầm_rộ': 486,\n",
              " 'ỉa_phút': 487,\n",
              " 'mõm': 488,\n",
              " 'buồn_tẻ': 489,\n",
              " 'doi': 490,\n",
              " 'giới': 491,\n",
              " 'mải_đạp': 492,\n",
              " '̀_u': 493,\n",
              " 'khùng': 494,\n",
              " 'tây_bắc': 495,\n",
              " 'mlz': 496,\n",
              " 'tui': 497,\n",
              " 'cư_dân': 498,\n",
              " 'tầm_vũ_trụ': 499,\n",
              " 'trắc_địa': 500,\n",
              " 'dạy_văn': 501,\n",
              " 'ib_nưa': 502,\n",
              " 'tsb': 503,\n",
              " 'lien_quan': 504,\n",
              " 'nôi': 505,\n",
              " 'mai_sau': 506,\n",
              " 'o': 507,\n",
              " 'nết_bố': 508,\n",
              " 'mày_nghiệp': 509,\n",
              " 'quá_chừng': 510,\n",
              " 'tuổi_tác': 511,\n",
              " 'trừ_tác_phong': 512,\n",
              " 'hỏng': 513,\n",
              " 'ngắn_gọn': 514,\n",
              " 'thử_lòng': 515,\n",
              " 'nơi': 516,\n",
              " 'tửng': 517,\n",
              " 'tầng': 518,\n",
              " 'cỏ': 519,\n",
              " 'mặt_nạ': 520,\n",
              " 'cạch': 521,\n",
              " 'xinh_nhờ': 522,\n",
              " 'thích_mày': 523,\n",
              " 'vừa': 524,\n",
              " 'phê_vãi': 525,\n",
              " 'thớt': 526,\n",
              " 'bố_mày': 527,\n",
              " 'năng_lượng': 528,\n",
              " 'tạt': 529,\n",
              " 'thét_rạp': 530,\n",
              " 'nhây_nhớp': 531,\n",
              " 'quên': 532,\n",
              " 'tài_ba': 533,\n",
              " 'ơ_thế': 534,\n",
              " 'quý_hóa': 535,\n",
              " ')': 536,\n",
              " 'skil': 537,\n",
              " 'thôi_thì': 538,\n",
              " 'vlog': 539,\n",
              " 'nhắn': 540,\n",
              " 'đạt': 541,\n",
              " 'sờ_tai': 542,\n",
              " 'luật_hình_sự': 543,\n",
              " 'mượn': 544,\n",
              " 'ngoác': 545,\n",
              " 'ác_vãi': 546,\n",
              " 'hồi_hợp': 547,\n",
              " 'bờ_rào': 548,\n",
              " 'chấm_điểm': 549,\n",
              " 'đã': 550,\n",
              " 'tay_chân': 551,\n",
              " 'thổ_nhưỡng': 552,\n",
              " 'bằng_cấp': 553,\n",
              " 'tiển': 554,\n",
              " 'chồng_chất': 555,\n",
              " 'trộm': 556,\n",
              " 'tôm': 557,\n",
              " 'nga': 558,\n",
              " 'ơ_̉': 559,\n",
              " 'ít_ra': 560,\n",
              " 'chân_thành': 561,\n",
              " 'lợi_nhuận': 562,\n",
              " 'thảo_lui': 563,\n",
              " 'bù': 564,\n",
              " 'xuýt': 565,\n",
              " 'kết_xàm': 566,\n",
              " 'cười_mong': 567,\n",
              " 'dị': 568,\n",
              " 'điểm_danh': 569,\n",
              " 'tuyet': 570,\n",
              " 'gia_́': 571,\n",
              " 'hic_=': 572,\n",
              " 'mặt_dày': 573,\n",
              " 'việc': 574,\n",
              " 'đề_kháng': 575,\n",
              " 'quyết': 576,\n",
              " 'quanh': 577,\n",
              " 'bình_phục': 578,\n",
              " 'nhà_trẻ': 579,\n",
              " 'hình_huhu': 580,\n",
              " 'muôn': 581,\n",
              " 'nghi_nghi': 582,\n",
              " 'tâm_khuôn_mặt': 583,\n",
              " 'ớn': 584,\n",
              " 'mà_lại': 585,\n",
              " 'chẳng_qua': 586,\n",
              " 'lap': 587,\n",
              " 'bắn': 588,\n",
              " 'tội_ác': 589,\n",
              " 'bảo_nhắn': 590,\n",
              " 'làm_sao': 591,\n",
              " 'bùi_ngọt': 592,\n",
              " 'tồi': 593,\n",
              " 'súng': 594,\n",
              " 'kiếp': 595,\n",
              " 'ngưỡng_nhịn': 596,\n",
              " 'sớm': 597,\n",
              " 'khuôn_mặt': 598,\n",
              " 'tuyệt_cú': 599,\n",
              " 'ngọt': 600,\n",
              " 'khắc_nghiệt': 601,\n",
              " 'đồng_chí': 602,\n",
              " 'hóa_điên': 603,\n",
              " 'với_lại': 604,\n",
              " 'sgk': 605,\n",
              " 'nước_biển': 606,\n",
              " 'trâu_óc': 607,\n",
              " 'tre': 608,\n",
              " 'bar': 609,\n",
              " 'tên': 610,\n",
              " 'cân_na': 611,\n",
              " 'là_cùng': 612,\n",
              " 'nhập_viện': 613,\n",
              " 'giờ_đây': 614,\n",
              " 'nam_chính': 615,\n",
              " 'mod': 616,\n",
              " 'như': 617,\n",
              " 'tổn_thương': 618,\n",
              " 'thức_ăn': 619,\n",
              " 'ráng': 620,\n",
              " 'cô_giáo': 621,\n",
              " 'đu_đủ': 622,\n",
              " 'phá': 623,\n",
              " 'môibiểu': 624,\n",
              " 'quý_vãi': 625,\n",
              " 'mal': 626,\n",
              " 'g': 627,\n",
              " 'khiếp': 628,\n",
              " '1': 629,\n",
              " 'đố': 630,\n",
              " 'thiên_thần': 631,\n",
              " 'châm': 632,\n",
              " '?_=': 633,\n",
              " 'sừng_khuôn_mặt': 634,\n",
              " 'bà_già': 635,\n",
              " 'xứng_đáng': 636,\n",
              " 'địa_phương': 637,\n",
              " 'vô_nghĩa': 638,\n",
              " 'khốn_kiếp': 639,\n",
              " 'ích_kỷ': 640,\n",
              " 'chuẩn': 641,\n",
              " 'mỡ': 642,\n",
              " 'phụ_nữ': 643,\n",
              " 'cóc': 644,\n",
              " '́_ca': 645,\n",
              " 'hồ': 646,\n",
              " 'vô_gia_cư': 647,\n",
              " 'chiện': 648,\n",
              " 'tóc_tai': 649,\n",
              " 'than': 650,\n",
              " 'xấu_vãi': 651,\n",
              " 'cầu_hôn': 652,\n",
              " 'châu_phi': 653,\n",
              " 'fải': 654,\n",
              " 'hứng_thú': 655,\n",
              " 'dlm': 656,\n",
              " 'đông_lạnh': 657,\n",
              " 'hi_hi_cười': 658,\n",
              " 'cử_chỉ': 659,\n",
              " 'chóp_chép': 660,\n",
              " 'lan_can': 661,\n",
              " 'sời': 662,\n",
              " 'đẩy': 663,\n",
              " 'đâu_đó': 664,\n",
              " 'đi_lạc': 665,\n",
              " 'cay_cú': 666,\n",
              " 'sảy': 667,\n",
              " 'luân_mẹ': 668,\n",
              " 'dự': 669,\n",
              " 'ngốc': 670,\n",
              " 'cảm_hứng': 671,\n",
              " 'clm': 672,\n",
              " 'hạ_tuôi': 673,\n",
              " 'rủ': 674,\n",
              " 'bình_thương': 675,\n",
              " 'hẻm': 676,\n",
              " 'tế': 677,\n",
              " 'lội': 678,\n",
              " 'phật_giáo': 679,\n",
              " 'nắng_nóng': 680,\n",
              " 'động_lực': 681,\n",
              " 'điện_biên_nữa': 682,\n",
              " 'nho': 683,\n",
              " 'ne': 684,\n",
              " 'vui_chơi': 685,\n",
              " 'tiễn_vong': 686,\n",
              " 'đồng_đội': 687,\n",
              " 'thần_tài': 688,\n",
              " 'thanh_xuân': 689,\n",
              " 'tắc': 690,\n",
              " 'chậy': 691,\n",
              " 'k': 692,\n",
              " 'đươ_̣': 693,\n",
              " 'nguyên': 694,\n",
              " 'tiếng': 695,\n",
              " 'nghi_̃': 696,\n",
              " 'siro': 697,\n",
              " 'tốt_nghiệp': 698,\n",
              " 'chiêc': 699,\n",
              " 'halo': 700,\n",
              " 'canh_lửa': 701,\n",
              " 'disme': 702,\n",
              " 'rừng': 703,\n",
              " 'đồ_đệ': 704,\n",
              " 'quẩn': 705,\n",
              " 'ăn_chay': 706,\n",
              " 'hiền_hana': 707,\n",
              " 'thực_tế': 708,\n",
              " 'khôi_phục': 709,\n",
              " 'căng_thẳng': 710,\n",
              " 'tình_nghĩa': 711,\n",
              " 'phát': 712,\n",
              " 'sỏi': 713,\n",
              " 'kẹo': 714,\n",
              " 'sờ_mông': 715,\n",
              " 'sạn': 716,\n",
              " 'ấu_trĩ': 717,\n",
              " 'tố_chất': 718,\n",
              " 'rược': 719,\n",
              " 'xoài_chua': 720,\n",
              " 'mẩu': 721,\n",
              " '̣_phim': 722,\n",
              " 'mẻ': 723,\n",
              " 'đông_vãi': 724,\n",
              " 'xoài': 725,\n",
              " 'sông': 726,\n",
              " 'nói_cười': 727,\n",
              " 'chẳng_hạn': 728,\n",
              " 'quả_mặt': 729,\n",
              " 'thua': 730,\n",
              " 'mùa_hè': 731,\n",
              " 'thú_zị': 732,\n",
              " 'thiệt_chớ': 733,\n",
              " 'thời_buổi': 734,\n",
              " 'khôn': 735,\n",
              " 'nghĩ_lại': 736,\n",
              " 'mòa': 737,\n",
              " 'gầy': 738,\n",
              " 'hã': 739,\n",
              " 'đi_chăng_nữa': 740,\n",
              " 'nhạc': 741,\n",
              " 'trừ': 742,\n",
              " 'mất_dạy': 743,\n",
              " 'chấp_hành': 744,\n",
              " 'đâu_đây': 745,\n",
              " 'định_quát': 746,\n",
              " 'thiện': 747,\n",
              " 'nhè_nhẹ': 748,\n",
              " 'ám_tao': 749,\n",
              " 'quơ_quơ': 750,\n",
              " 'khì_thị': 751,\n",
              " 'nhưng_mà': 752,\n",
              " 'đối_phương': 753,\n",
              " 'cao_thủ': 754,\n",
              " 'lương_tâm': 755,\n",
              " 'thái_hè': 756,\n",
              " 'giở_trò': 757,\n",
              " 'y_tế': 758,\n",
              " 'meo': 759,\n",
              " '?_mai': 760,\n",
              " 'đua': 761,\n",
              " 'ngôi': 762,\n",
              " 'biểu_cảm_chớp': 763,\n",
              " 'năm_học': 764,\n",
              " 'hài_lòng': 765,\n",
              " 'vô_phòng': 766,\n",
              " 'dã_dô': 767,\n",
              " 'hối_hận': 768,\n",
              " 'cười_sao': 769,\n",
              " 'ác_quỷ': 770,\n",
              " 'hiếu_thảo': 771,\n",
              " 'liang': 772,\n",
              " 'nài_nỉ': 773,\n",
              " 'khẩn_cấp': 774,\n",
              " 'nhóc': 775,\n",
              " 'dãi': 776,\n",
              " 'kiểm_toán': 777,\n",
              " 'chọc_tức': 778,\n",
              " 'ụa': 779,\n",
              " 'giao_thông': 780,\n",
              " 'oke': 781,\n",
              " 'bánh_mì': 782,\n",
              " 'đéo_ý': 783,\n",
              " 'năm_xưa': 784,\n",
              " 'mat': 785,\n",
              " 'khóc_la': 786,\n",
              " 'gia_nhập': 787,\n",
              " 'chó': 788,\n",
              " 'phẫn_nộ_vả': 789,\n",
              " 'tụ_họp': 790,\n",
              " 'soi': 791,\n",
              " 'bịp': 792,\n",
              " 'kêu_ca': 793,\n",
              " 'mặp': 794,\n",
              " 'vô_duyên': 795,\n",
              " 'điệu': 796,\n",
              " 'đụ_má': 797,\n",
              " 'lưu_hình': 798,\n",
              " 'trá': 799,\n",
              " 'găng_tay': 800,\n",
              " 'gồng': 801,\n",
              " 'hồ_sơ': 802,\n",
              " 'góp': 803,\n",
              " 'mỏ': 804,\n",
              " 'phốt': 805,\n",
              " 'răng_khúc': 806,\n",
              " 'xàm': 807,\n",
              " 'hi': 808,\n",
              " 'mìh': 809,\n",
              " 'we': 810,\n",
              " 'định_mệnh': 811,\n",
              " 'rao_giảng': 812,\n",
              " 'khích_tướng': 813,\n",
              " 'guitar': 814,\n",
              " 'buồn': 815,\n",
              " 'lip_miệng': 816,\n",
              " 'per_mã': 817,\n",
              " 'gián': 818,\n",
              " 'bá_đạo': 819,\n",
              " 'tủi_thân': 820,\n",
              " 'cứng_tỳ': 821,\n",
              " 'bg': 822,\n",
              " '/': 823,\n",
              " 'tồi_tệ': 824,\n",
              " 'mỉa_mai': 825,\n",
              " 'bền_vững': 826,\n",
              " 'mưu_cầu': 827,\n",
              " 'cay_nghiệt': 828,\n",
              " 'gặp_mặt': 829,\n",
              " 'nhiệt_tình': 830,\n",
              " 'bố_con': 831,\n",
              " 'nè_phạt': 832,\n",
              " 'định_giá': 833,\n",
              " 'miên_man': 834,\n",
              " 'đồ_chơi': 835,\n",
              " 'hnao': 836,\n",
              " 'ủng_hộ': 837,\n",
              " 'hèn': 838,\n",
              " 'cười_rớt': 839,\n",
              " 'học': 840,\n",
              " 'nèo': 841,\n",
              " 'chuyện': 842,\n",
              " 'ful': 843,\n",
              " 'đau_bết': 844,\n",
              " 'dơ': 845,\n",
              " 'hoài_=': 846,\n",
              " 'bảo_thủ': 847,\n",
              " 'dâm_rê': 848,\n",
              " 'gắt_gỏng': 849,\n",
              " 'vé_số': 850,\n",
              " 'hầu': 851,\n",
              " 'cong': 852,\n",
              " 'giật_mình': 853,\n",
              " 'dư': 854,\n",
              " 'hnua': 855,\n",
              " 'duoc': 856,\n",
              " 'nhà_thể': 857,\n",
              " 'nhma': 858,\n",
              " 'quá_suất': 859,\n",
              " 'bh': 860,\n",
              " 'chồng': 861,\n",
              " 'da_tră': 862,\n",
              " 'chẹ': 863,\n",
              " 'anh_hùng': 864,\n",
              " 'tripod': 865,\n",
              " 'chạnh_lòng': 866,\n",
              " 'kỉ_yếu': 867,\n",
              " 'si': 868,\n",
              " 'nghề': 869,\n",
              " 'tâm_trí': 870,\n",
              " 'ăn_chính': 871,\n",
              " 'ơ': 872,\n",
              " 'móng': 873,\n",
              " 'tâm_sư': 874,\n",
              " 'mải': 875,\n",
              " 'bừa': 876,\n",
              " 'tạp_hóa': 877,\n",
              " 'tuyên_truyền': 878,\n",
              " 'võ_thiệt': 879,\n",
              " 'trọn_tình': 880,\n",
              " 'băng_đầu': 881,\n",
              " 'đây': 882,\n",
              " 'đào_tạo': 883,\n",
              " 'nhấp': 884,\n",
              " 'sán': 885,\n",
              " 'ý_nghĩa': 886,\n",
              " 'dậy_thì': 887,\n",
              " 'tiêu_nha': 888,\n",
              " 'đầy': 889,\n",
              " 'bàn_tay': 890,\n",
              " 'duyên_khuôn_mặt': 891,\n",
              " 'công_tác': 892,\n",
              " 'ăn_chóp': 893,\n",
              " 'bình_yên': 894,\n",
              " 'đồng_ý': 895,\n",
              " 'yêu_vãi': 896,\n",
              " 'chách': 897,\n",
              " 'đớn_đau': 898,\n",
              " 'tri': 899,\n",
              " 'giận_cơ': 900,\n",
              " 'đề': 901,\n",
              " 'chỉ_huy': 902,\n",
              " 'ho': 903,\n",
              " 'rôm_rả': 904,\n",
              " 'động_viên': 905,\n",
              " 'ngà_ngà': 906,\n",
              " 'khôn_đéo': 907,\n",
              " 'như_vầy': 908,\n",
              " 'quát': 909,\n",
              " 'bởi_vậy': 910,\n",
              " 'thao_trường': 911,\n",
              " 'bồi_thươ': 912,\n",
              " 'bao': 913,\n",
              " 'bản_lĩnh': 914,\n",
              " 'cổ_họng': 915,\n",
              " 'thiên_thời': 916,\n",
              " 'hình_chế': 917,\n",
              " 'bánh_tai': 918,\n",
              " 'cầu_mong': 919,\n",
              " 'đáp_số': 920,\n",
              " 'mổ': 921,\n",
              " 'lý': 922,\n",
              " 'kịch_bản': 923,\n",
              " 'chắc_hẳn': 924,\n",
              " 'kiên_trì': 925,\n",
              " 'hình_thức': 926,\n",
              " 'ăn_nhỉ': 927,\n",
              " 'bạt_tai': 928,\n",
              " 'cổ_chân': 929,\n",
              " 'protein': 930,\n",
              " 'tuyệt_đối': 931,\n",
              " 'lũ_óc': 932,\n",
              " 'bựa': 933,\n",
              " 'làm_xí': 934,\n",
              " 'chêu': 935,\n",
              " 'thế_hệ': 936,\n",
              " 'giật_tít': 937,\n",
              " 'săn_sóc': 938,\n",
              " 'cảm_thấy': 939,\n",
              " 'tuyển_ý': 940,\n",
              " 'nổi_tiếng': 941,\n",
              " 'đồ_ăn': 942,\n",
              " 'combo_mập': 943,\n",
              " 'khó': 944,\n",
              " 'mập_thây': 945,\n",
              " '!_haha': 946,\n",
              " 'lườm': 947,\n",
              " 'ăn_không': 948,\n",
              " 'hàm': 949,\n",
              " 'quan': 950,\n",
              " 'chụy': 951,\n",
              " 'sặc_sụacười': 952,\n",
              " 'à_hậu': 953,\n",
              " 'khỏi': 954,\n",
              " 'vừa_rồi': 955,\n",
              " 'bằng': 956,\n",
              " 'zay': 957,\n",
              " 'ai_ngờ': 958,\n",
              " 'grab': 959,\n",
              " 'bình_phước': 960,\n",
              " 'khoảng': 961,\n",
              " 'ổng': 962,\n",
              " 'may_mắn': 963,\n",
              " 'chúc': 964,\n",
              " 'phỏng_vấn': 965,\n",
              " 'á_khuôn_mặt': 966,\n",
              " 'nun': 967,\n",
              " 'hiếm_hoi': 968,\n",
              " 'giếng': 969,\n",
              " 'chấp': 970,\n",
              " 'gấp': 971,\n",
              " 'tôgn': 972,\n",
              " 'nhể': 973,\n",
              " 'tợp': 974,\n",
              " 'muôn_kiếp': 975,\n",
              " 'ý': 976,\n",
              " 'ghiền': 977,\n",
              " 'bay': 978,\n",
              " 'thậc': 979,\n",
              " 'tỉ_mỉ': 980,\n",
              " 'đạo_lý': 981,\n",
              " 'đíu': 982,\n",
              " 'cạ': 983,\n",
              " 'khí_hậu': 984,\n",
              " '2021': 985,\n",
              " '320': 986,\n",
              " 'đéo_né': 987,\n",
              " 'mày_sút': 988,\n",
              " 'hiền_thôi': 989,\n",
              " 'ong': 990,\n",
              " 'tụ_tập': 991,\n",
              " 'điện_thoại': 992,\n",
              " 'nhằm': 993,\n",
              " 'dưa_hấu': 994,\n",
              " 'tuy': 995,\n",
              " 'ẻ': 996,\n",
              " 'kéo': 997,\n",
              " 'bé': 998,\n",
              " 'hoàn_toàn': 999,\n",
              " ...}"
            ]
          },
          "metadata": {},
          "execution_count": 52
        }
      ]
    },
    {
      "cell_type": "code",
      "source": [
        "len(own_vocab)"
      ],
      "metadata": {
        "colab": {
          "base_uri": "https://localhost:8080/"
        },
        "id": "0JV8IexOByme",
        "outputId": "2b062799-328f-4e9f-cbbc-983c37144512"
      },
      "execution_count": 53,
      "outputs": [
        {
          "output_type": "execute_result",
          "data": {
            "text/plain": [
              "6941"
            ]
          },
          "metadata": {},
          "execution_count": 53
        }
      ]
    },
    {
      "cell_type": "markdown",
      "source": [
        "## Transfer learning: Using Word2Vec"
      ],
      "metadata": {
        "id": "G8HeEgyD_8HC"
      }
    },
    {
      "cell_type": "markdown",
      "source": [
        "Using pre-trained word embeddings: Word2Vec, download file from https://github.com/datquocnguyen/PhoW2V"
      ],
      "metadata": {
        "id": "Sa6o0WKQrbPg"
      }
    },
    {
      "cell_type": "code",
      "source": [
        "import torch\n",
        "from torchtext.vocab import Vectors\n",
        "\n",
        "def get_pretrained_word2vec(fpath):\n",
        "    return Vectors(name=fpath, unk_init=torch.Tensor.normal_)\n",
        "\n",
        "def create_vocab_from_word2vec(word_embedding):\n",
        "    vocab = Vocabulary()\n",
        "    # create vocabulary from pretrained word2vec\n",
        "    words_list = list(word_embedding.stoi.keys())\n",
        "    for word in words_list:\n",
        "        vocab.add(word)\n",
        "\n",
        "    return vocab"
      ],
      "metadata": {
        "id": "3gUV3jVqUJLj"
      },
      "execution_count": 54,
      "outputs": []
    },
    {
      "cell_type": "code",
      "source": [
        "word_embeddings = get_pretrained_word2vec('word2vec_vi_words_100dims.txt')"
      ],
      "metadata": {
        "id": "Rq85m22WdaJ-",
        "colab": {
          "base_uri": "https://localhost:8080/"
        },
        "outputId": "6b400409-6e5d-408e-dee2-e6765c27b4ca"
      },
      "execution_count": 61,
      "outputs": [
        {
          "output_type": "stream",
          "name": "stderr",
          "text": [
            "  0%|          | 0/1587507 [00:00<?, ?it/s]WARNING:torchtext.vocab.vectors:Skipping token b'1587507' with 1-dimensional vector [b'100']; likely a header\n",
            "100%|██████████| 1587507/1587507 [01:27<00:00, 18058.24it/s]\n"
          ]
        }
      ]
    },
    {
      "cell_type": "code",
      "source": [
        "word_embeddings.vectors"
      ],
      "metadata": {
        "colab": {
          "base_uri": "https://localhost:8080/"
        },
        "id": "Plig_4Z_m1FA",
        "outputId": "cc0f1d7a-d0da-4fb0-bae8-9eaa5f0a2ba3"
      },
      "execution_count": 62,
      "outputs": [
        {
          "output_type": "execute_result",
          "data": {
            "text/plain": [
              "tensor([[-0.0134,  0.0829,  0.0951,  ..., -0.1381,  0.0777, -0.2108],\n",
              "        [ 0.0802,  0.0484,  0.0580,  ..., -0.1724,  0.1267, -0.1884],\n",
              "        [ 0.0137,  0.0587,  0.1106,  ..., -0.1549,  0.1482, -0.1967],\n",
              "        ...,\n",
              "        [ 0.0300,  0.0427,  0.0597,  ..., -0.0588, -0.0740,  0.0282],\n",
              "        [ 0.1668, -0.0670, -0.0821,  ..., -0.0708, -0.1670,  0.0669],\n",
              "        [ 0.1565,  0.0967, -0.0426,  ...,  0.0019, -0.0978,  0.0238]])"
            ]
          },
          "metadata": {},
          "execution_count": 62
        }
      ]
    },
    {
      "cell_type": "code",
      "source": [
        "transfer_vocab = create_vocab_from_word2vec(word_embeddings)"
      ],
      "metadata": {
        "id": "TCYUjo0IWf5V"
      },
      "execution_count": 63,
      "outputs": []
    },
    {
      "cell_type": "code",
      "source": [
        "len(transfer_vocab)"
      ],
      "metadata": {
        "colab": {
          "base_uri": "https://localhost:8080/"
        },
        "id": "llhkICY4m9it",
        "outputId": "168aecc6-e507-4477-95a4-b9500154ebe7"
      },
      "execution_count": 64,
      "outputs": [
        {
          "output_type": "execute_result",
          "data": {
            "text/plain": [
              "1587509"
            ]
          },
          "metadata": {},
          "execution_count": 64
        }
      ]
    },
    {
      "cell_type": "markdown",
      "source": [
        "## Prepare Data"
      ],
      "metadata": {
        "id": "diEeq_ADjPM3"
      }
    },
    {
      "cell_type": "markdown",
      "source": [
        "Depending on the choice of utilizing pre-trained word embeddings, we obtain a dataset with a corresponding vocabulary. Default is to use transfer learning."
      ],
      "metadata": {
        "id": "fq1wxHIArmNo"
      }
    },
    {
      "cell_type": "code",
      "source": [
        "from torch.utils.data import DataLoader\n",
        "def get_dataset(transfer = True):\n",
        "  if transfer:\n",
        "    vocab = transfer_vocab\n",
        "  else:\n",
        "    vocab = own_vocab\n",
        "\n",
        "  train_dataset = UIT_VSMEC(vocab=vocab, excel_fpath=\"train_nor_811.xlsx\")\n",
        "  val_dataset = UIT_VSMEC(vocab=vocab, excel_fpath=\"valid_nor_811.xlsx\")\n",
        "  test_dataset = UIT_VSMEC(vocab=vocab, excel_fpath=\"test_nor_811.xlsx\")\n",
        "\n",
        "  return train_dataset, val_dataset, test_dataset"
      ],
      "metadata": {
        "id": "RzQxe8kbRvOz"
      },
      "execution_count": 65,
      "outputs": []
    },
    {
      "cell_type": "code",
      "source": [
        "train_dataset, val_dataset, test_dataset = get_dataset()"
      ],
      "metadata": {
        "colab": {
          "base_uri": "https://localhost:8080/"
        },
        "id": "wIVZrLWTSfpy",
        "outputId": "9b6ded67-6ac0-427c-fc04-550f38821479"
      },
      "execution_count": 66,
      "outputs": [
        {
          "output_type": "stream",
          "name": "stdout",
          "text": [
            "Tokenize the corpus...\n"
          ]
        },
        {
          "output_type": "stream",
          "name": "stderr",
          "text": [
            "100%|██████████| 5548/5548 [00:04<00:00, 1289.06it/s]\n",
            "100%|██████████| 5548/5548 [00:00<00:00, 46726.25it/s]\n"
          ]
        },
        {
          "output_type": "stream",
          "name": "stdout",
          "text": [
            "Tokenize the corpus...\n"
          ]
        },
        {
          "output_type": "stream",
          "name": "stderr",
          "text": [
            "100%|██████████| 686/686 [00:00<00:00, 758.30it/s]\n",
            "100%|██████████| 686/686 [00:00<00:00, 43348.39it/s]\n"
          ]
        },
        {
          "output_type": "stream",
          "name": "stdout",
          "text": [
            "Tokenize the corpus...\n"
          ]
        },
        {
          "output_type": "stream",
          "name": "stderr",
          "text": [
            "100%|██████████| 693/693 [00:00<00:00, 769.01it/s]\n",
            "100%|██████████| 693/693 [00:00<00:00, 38966.83it/s]\n"
          ]
        }
      ]
    },
    {
      "cell_type": "code",
      "source": [
        "train_dataloader = DataLoader(train_dataset, batch_size=32, collate_fn=train_dataset.collate_fn)\n",
        "val_dataloader = DataLoader(val_dataset, batch_size=64, collate_fn=val_dataset.collate_fn)\n",
        "test_dataloader = DataLoader(test_dataset, batch_size=64, collate_fn=test_dataset.collate_fn)"
      ],
      "metadata": {
        "id": "qlfQRF05VAt6"
      },
      "execution_count": 104,
      "outputs": []
    },
    {
      "cell_type": "markdown",
      "source": [
        "# Build an RNN Model"
      ],
      "metadata": {
        "id": "Pb_eHDtKnFV_"
      }
    },
    {
      "cell_type": "markdown",
      "source": [
        "The requirement is choosing an appropriate RNN architecture. I've experimented with using LSTM and GRU to compare."
      ],
      "metadata": {
        "id": "4ykSVKRyr9he"
      }
    },
    {
      "cell_type": "markdown",
      "source": [
        "## Custom LSTM"
      ],
      "metadata": {
        "id": "5qvqYlYXiwgF"
      }
    },
    {
      "cell_type": "code",
      "source": [
        "class LSTM_Model(nn.Module):\n",
        "    def __init__(self, vocab_size, embedding_dim, hidden_dim, n_layers, n_labels, bidirectional, dropout, pad_idx):\n",
        "        \"\"\"\n",
        "        @param vocab_size (int)\n",
        "        @param embedding_dim (int)\n",
        "        @param hidden_dim (int)\n",
        "        @param n_layers (int)\n",
        "        @param n_labels (int)\n",
        "        @param bidirectional (bool)\n",
        "        @param dropout (float)\n",
        "        @param pad_idx (int)\n",
        "        \"\"\"\n",
        "        super().__init__()\n",
        "\n",
        "        self.embedding = nn.Embedding(vocab_size, embedding_dim, padding_idx = pad_idx) # embedding layer\n",
        "        self.bn = nn.BatchNorm1d(embedding_dim)\n",
        "\n",
        "        self.lstm = nn.LSTM(embedding_dim,\n",
        "                            hidden_dim,\n",
        "                            num_layers=n_layers,\n",
        "                            bidirectional=bidirectional,\n",
        "                            dropout=dropout)\n",
        "\n",
        "        self.fc = nn.Sequential(nn.Dropout(dropout),\n",
        "                                nn.Linear(hidden_dim * 2 if bidirectional else hidden_dim, 128),\n",
        "                                nn.Linear(128, 16),\n",
        "                                nn.Linear(16, n_labels))\n",
        "\n",
        "    def forward(self, text):\n",
        "        \"\"\"\n",
        "        @param text (torch.Tensor): shape = [batch_size, seq_len]\n",
        "        @return\n",
        "        \"\"\"\n",
        "        embeds = self.embedding(text) # (bsz, seq_len, hidden_dim)\n",
        "        bn_embeds = self.bn(embeds.permute(0,2,1)).permute(0,2,1) # batchnorm1d requires input shape (bsz, hidden_dim, seq_len)\n",
        "        output, (hidden, cell) = self.lstm(bn_embeds.permute(1,0,2)) # (C, B, H)\n",
        "        last_hidden = output[-1]\n",
        "        return self.fc(last_hidden)"
      ],
      "metadata": {
        "id": "_SbSTXfJnGpu"
      },
      "execution_count": 56,
      "outputs": []
    },
    {
      "cell_type": "markdown",
      "source": [
        "## Custom GRU"
      ],
      "metadata": {
        "id": "u50BVSt9izDd"
      }
    },
    {
      "cell_type": "code",
      "source": [
        "class Gru_Model(nn.Module):\n",
        "    def __init__(self, vocab_size, embedding_dim, hidden_dim, n_layers, n_labels, bidirectional, dropout, pad_idx):\n",
        "        super().__init__()\n",
        "\n",
        "        self.embedding = nn.Embedding(vocab_size, embedding_dim, padding_idx = pad_idx) # embedding layer\n",
        "        self.bn = nn.BatchNorm1d(embedding_dim)\n",
        "\n",
        "        self.Gru = nn.GRU(embedding_dim,\n",
        "                          hidden_dim,\n",
        "                          n_layers,\n",
        "                          bidirectional,\n",
        "                          batch_first=True)\n",
        "\n",
        "        self.fc = nn.Sequential(nn.Dropout(dropout),\n",
        "                                nn.Linear(hidden_dim, 128),\n",
        "                                nn.Linear(128, 16),\n",
        "                                nn.Linear(16, n_labels))\n",
        "\n",
        "    def forward(self, text):\n",
        "        embeds = self.embedding(text) # (bsz, seq_len, hidden_dim)\n",
        "        bn_embeds = self.bn(embeds.permute(0,2,1)).permute(0,2,1)\n",
        "        gru_output, _ = self.Gru(bn_embeds)\n",
        "        outputs = gru_output[:, -1, :]\n",
        "        outputs = self.fc(outputs)\n",
        "        return outputs"
      ],
      "metadata": {
        "id": "Ek7fUpol7SRn"
      },
      "execution_count": 57,
      "outputs": []
    },
    {
      "cell_type": "markdown",
      "source": [
        "## Set up model"
      ],
      "metadata": {
        "id": "mA-2-fuZi4PW"
      }
    },
    {
      "cell_type": "markdown",
      "source": [
        "With the respective hyperparameters passed in, we'll obtain a model designed according to our preferences."
      ],
      "metadata": {
        "id": "IwlG65K9sVRp"
      }
    },
    {
      "cell_type": "code",
      "source": [
        "def get_model(embedding_dim, hidden_dim, n_layers, n_labels, bidirectional, dropout, device = None, name_model = 'LSTM', transfer = True):\n",
        "    if transfer:\n",
        "      vocab = transfer_vocab\n",
        "    else:\n",
        "      vocab = own_vocab\n",
        "    input_dim = len(vocab) - 2\n",
        "    pad_idx = vocab[\"<pad>\"]\n",
        "    unk_idx = vocab[\"<unk>\"]\n",
        "\n",
        "    if name_model == 'GRU':\n",
        "      model = Gru_Model(input_dim, embedding_dim, hidden_dim,  n_layers, n_labels, bidirectional, dropout, pad_idx)\n",
        "    else:\n",
        "      model = LSTM_Model(input_dim, embedding_dim, hidden_dim,  n_layers, n_labels, bidirectional, dropout, pad_idx)\n",
        "\n",
        "    # load pretrained word embeddings\n",
        "    if transfer:\n",
        "      word_embedding = word_embeddings\n",
        "      model.embedding.weight.data.copy_(word_embedding.vectors)\n",
        "\n",
        "    model.embedding.weight.data[unk_idx] = torch.zeros(embedding_dim)\n",
        "    model.embedding.weight.data[pad_idx] = torch.zeros(embedding_dim)\n",
        "\n",
        "    model.to(device)\n",
        "    return model"
      ],
      "metadata": {
        "id": "2_mGSCp6nJzd"
      },
      "execution_count": 58,
      "outputs": []
    },
    {
      "cell_type": "markdown",
      "source": [
        "## Using class weights to handle imbalance labels\n",
        "\n"
      ],
      "metadata": {
        "id": "pqGtCEE2i93B"
      }
    },
    {
      "cell_type": "markdown",
      "source": [
        "As mentioned earlier, there's an imbalance among the labels in the data. My approach to tackle this issue is by using class weights when calculating the loss."
      ],
      "metadata": {
        "id": "JHCntHHssehP"
      }
    },
    {
      "cell_type": "code",
      "source": [
        "import numpy as np\n",
        "from sklearn.utils.class_weight import compute_class_weight\n",
        "\n",
        "train_classes = train_dataset.tensor_label.numpy()\n",
        "sentiments_type = list(set(train_classes))\n",
        "sentiments_type.sort()\n",
        "sentiments_type\n",
        "\n",
        "orig_weights = {idx: (train_classes==idx).sum()/len(train_classes) for idx in sentiments_type}\n",
        "orig_weights"
      ],
      "metadata": {
        "colab": {
          "base_uri": "https://localhost:8080/"
        },
        "id": "gPgue3l3pnP1",
        "outputId": "6f52a741-0a64-4851-ace9-3d8fdf7e0482"
      },
      "execution_count": 68,
      "outputs": [
        {
          "output_type": "execute_result",
          "data": {
            "text/plain": [
              "{0: 0.07047584715212689,\n",
              " 1: 0.193042537851478,\n",
              " 2: 0.057317952415284784,\n",
              " 3: 0.17069214131218458,\n",
              " 4: 0.18403028118240808,\n",
              " 5: 0.2808219178082192,\n",
              " 6: 0.043619322278298484}"
            ]
          },
          "metadata": {},
          "execution_count": 68
        }
      ]
    },
    {
      "cell_type": "code",
      "source": [
        "class_weights = compute_class_weight(class_weight = \"balanced\", classes = np.unique(train_classes), y = train_classes)\n",
        "class_weights = dict(zip(np.unique(train_classes), class_weights))\n",
        "\n",
        "class_weights"
      ],
      "metadata": {
        "colab": {
          "base_uri": "https://localhost:8080/"
        },
        "id": "CuEOe-Brpuou",
        "outputId": "2b1a28d2-87cb-4896-abab-68584f217dcf"
      },
      "execution_count": 69,
      "outputs": [
        {
          "output_type": "execute_result",
          "data": {
            "text/plain": [
              "{0: 2.0270369017172087,\n",
              " 1: 0.7400293450713619,\n",
              " 2: 2.492362982929021,\n",
              " 3: 0.8369286468547292,\n",
              " 4: 0.7762697635371485,\n",
              " 5: 0.5087108013937283,\n",
              " 6: 3.2750885478158205}"
            ]
          },
          "metadata": {},
          "execution_count": 69
        }
      ]
    },
    {
      "cell_type": "markdown",
      "source": [
        "# Model Training"
      ],
      "metadata": {
        "id": "XGGQId2t5uP8"
      }
    },
    {
      "cell_type": "markdown",
      "source": [
        "I've run two models with and without transfer learning using the same set of predefined hyperparameters. Here, I'm displaying the training processing for the best-case scenario, which involves using the GRU model with transfer learning (Word2Vec word embeddings)."
      ],
      "metadata": {
        "id": "4aMwlbiTtIjQ"
      }
    },
    {
      "cell_type": "markdown",
      "source": [
        "## Set up"
      ],
      "metadata": {
        "id": "Hr6jPtfEikE-"
      }
    },
    {
      "cell_type": "code",
      "source": [
        "device = \"cuda\"\n",
        "model = get_model(embedding_dim=100, hidden_dim=512, n_layers=2, n_labels=7, bidirectional=True, dropout=0.5, device=device, name_model = 'GRU', transfer = True)"
      ],
      "metadata": {
        "id": "k-rUyEcynMJx"
      },
      "execution_count": 70,
      "outputs": []
    },
    {
      "cell_type": "code",
      "source": [
        "class_weights = [class_weights[i] for i in range(len(class_weights))]\n",
        "class_weights = torch.FloatTensor(class_weights).to(device)\n",
        "class_weights"
      ],
      "metadata": {
        "colab": {
          "base_uri": "https://localhost:8080/"
        },
        "id": "rklOF-vZpz9f",
        "outputId": "0f0645ab-a894-4779-d995-606fa8b172eb"
      },
      "execution_count": 71,
      "outputs": [
        {
          "output_type": "execute_result",
          "data": {
            "text/plain": [
              "tensor([2.0270, 0.7400, 2.4924, 0.8369, 0.7763, 0.5087, 3.2751],\n",
              "       device='cuda:0')"
            ]
          },
          "metadata": {},
          "execution_count": 71
        }
      ]
    },
    {
      "cell_type": "markdown",
      "source": [
        "Loss function and optimizer:"
      ],
      "metadata": {
        "id": "9_Rlj_h6vMVv"
      }
    },
    {
      "cell_type": "code",
      "source": [
        "optim = torch.optim.AdamW(model.parameters(), lr=0.5e-3)\n",
        "loss_fn = torch.nn.CrossEntropyLoss(weight=class_weights)"
      ],
      "metadata": {
        "id": "NcwM5H81p1ow"
      },
      "execution_count": 72,
      "outputs": []
    },
    {
      "cell_type": "code",
      "source": [
        "def train(model, dataloader, optimizer, criterion, device):\n",
        "    \"\"\"\n",
        "    @param model (RNN)\n",
        "    @param dataloader (DataLoader)\n",
        "    @param optimizer (torch.optim)\n",
        "    @param criterion (torch.nn.modules.loss)\n",
        "    @param device (torch.device)\n",
        "    @return epoch_loss (float): model\"s loss of this epoch\n",
        "    \"\"\"\n",
        "    epoch_loss = 0\n",
        "    total = 0\n",
        "    correct = 0\n",
        "\n",
        "    model.train()\n",
        "\n",
        "    for batch in (pbar:=tqdm(dataloader)):\n",
        "        optimizer.zero_grad() # clear the gradient\n",
        "\n",
        "        # forward pass\n",
        "        feedbacks, _ = batch[\"inputs\"]\n",
        "        feedbacks = feedbacks.to(device)\n",
        "        logits = model(feedbacks)\n",
        "        labels = batch[\"labels\"].to(device)\n",
        "\n",
        "        loss = criterion(logits, labels)\n",
        "\n",
        "        # make prediction\n",
        "        _, preds = torch.max(logits, dim=1)\n",
        "        total += labels.size(0)\n",
        "        correct += (preds == labels).sum().item()\n",
        "\n",
        "        # backward pass and update params\n",
        "        loss.backward()\n",
        "        # torch.nn.utils.clip_grad_norm_(model.parameters(), 0.3)\n",
        "        optimizer.step()\n",
        "\n",
        "        pbar.set_postfix(loss=loss.item(), accuracy=correct/total)\n",
        "        epoch_loss += loss.item()\n",
        "\n",
        "    batch_num = len(dataloader)\n",
        "    return epoch_loss / batch_num, correct / total\n",
        "\n",
        "def evaluate(model, dataloader, criterion, device):\n",
        "    \"\"\"\n",
        "    @param model (RNN)\n",
        "    @param dataloader (DataLoader)\n",
        "    @param criterion (torch.nn.modules.loss)\n",
        "    @param device (torch.device)\n",
        "    @return epoch_loss (float): model's loss of this epoch\n",
        "    @return epoch_acc (float): model's accuracy of this epoch\n",
        "    \"\"\"\n",
        "    epoch_loss = 0\n",
        "    total = 0\n",
        "    correct = 0\n",
        "\n",
        "    model.eval()\n",
        "\n",
        "    with torch.no_grad():\n",
        "        for batch in dataloader:\n",
        "            feedbacks, _ = batch[\"inputs\"]\n",
        "            feedbacks = feedbacks.to(device)\n",
        "            logits = model(feedbacks)\n",
        "            labels = batch[\"labels\"].to(device)\n",
        "            loss = criterion(logits, labels)\n",
        "            _, preds = torch.max(logits, dim=1)\n",
        "            total += labels.size(0)\n",
        "            correct += (preds == labels).sum().item()\n",
        "\n",
        "            epoch_loss += loss.item()\n",
        "\n",
        "    batch_num = len(dataloader)\n",
        "    return epoch_loss / batch_num, correct / total"
      ],
      "metadata": {
        "id": "H3e6EycppkN-"
      },
      "execution_count": 73,
      "outputs": []
    },
    {
      "cell_type": "code",
      "source": [
        "train_loss_list = []\n",
        "train_acc_list = []\n",
        "valid_loss_list = []\n",
        "valid_acc_list = []\n",
        "#These lists are created to store parameters that will be used for plotting purposes"
      ],
      "metadata": {
        "id": "QsBad2dDX1qW"
      },
      "execution_count": 74,
      "outputs": []
    },
    {
      "cell_type": "code",
      "source": [
        "import time\n",
        "\n",
        "def epoch_time(start_time, end_time):\n",
        "    elapsed_time = end_time - start_time\n",
        "    elapsed_mins = int(elapsed_time / 60)\n",
        "    elapsed_secs = int(elapsed_time - (elapsed_mins * 60))\n",
        "    return elapsed_mins, elapsed_secs"
      ],
      "metadata": {
        "id": "HyM9EuKwbxXV"
      },
      "execution_count": 75,
      "outputs": []
    },
    {
      "cell_type": "markdown",
      "source": [
        "## Training"
      ],
      "metadata": {
        "id": "0g67lJybim2t"
      }
    },
    {
      "cell_type": "markdown",
      "source": [
        "I've chosen to save checkpoint of the final model and the models with improved validation accuracy greater than 0.44."
      ],
      "metadata": {
        "id": "IY8S0JZgtVJi"
      }
    },
    {
      "cell_type": "code",
      "source": [
        "best_valid_loss = float(\"inf\")\n",
        "best_valid_acc = 0.44\n",
        "\n",
        "for epoch in range(50):\n",
        "    start_time = time.time()\n",
        "    train_loss, train_acc = train(model, train_dataloader, optim, loss_fn, device)\n",
        "    valid_loss, valid_acc = evaluate(model, val_dataloader, loss_fn, device)\n",
        "    end_time = time.time()\n",
        "\n",
        "    epoch_mins, epoch_secs = epoch_time(start_time, end_time)\n",
        "\n",
        "    print(f\"Epoch: {epoch+1:02} | Epoch Time: {epoch_mins}m {epoch_secs}s\")\n",
        "    print(f\"\\tTrain Loss: {train_loss:.3f} | Train Acc: {train_acc*100:.2f}%\")\n",
        "    print(f\"\\t Val. Loss: {valid_loss:.3f} |  Val. Acc: {valid_acc*100:.2f}%\")\n",
        "    train_loss_list.append(train_loss)\n",
        "    train_acc_list.append(train_acc)\n",
        "    valid_loss_list.append(valid_loss)\n",
        "    valid_acc_list.append(valid_acc)\n",
        "\n",
        "    if valid_acc > best_valid_acc:\n",
        "        best_valid_acc = valid_acc\n",
        "        torch.save(model.state_dict(), f\"model_GRU_transfer_{epoch}.pt\")"
      ],
      "metadata": {
        "colab": {
          "base_uri": "https://localhost:8080/"
        },
        "id": "8KHIEQ8mp3qQ",
        "outputId": "608f5485-9f8b-431b-ee9c-6f75b775b0d1"
      },
      "execution_count": null,
      "outputs": [
        {
          "output_type": "stream",
          "name": "stderr",
          "text": [
            "100%|██████████| 174/174 [00:12<00:00, 13.94it/s, accuracy=0.191, loss=1.83]\n"
          ]
        },
        {
          "output_type": "stream",
          "name": "stdout",
          "text": [
            "Epoch: 01 | Epoch Time: 0m 12s\n",
            "\tTrain Loss: 1.940 | Train Acc: 19.05%\n",
            "\t Val. Loss: 1.903 |  Val. Acc: 27.41%\n"
          ]
        },
        {
          "output_type": "stream",
          "name": "stderr",
          "text": [
            "100%|██████████| 174/174 [00:12<00:00, 14.01it/s, accuracy=0.202, loss=1.81]\n"
          ]
        },
        {
          "output_type": "stream",
          "name": "stdout",
          "text": [
            "Epoch: 02 | Epoch Time: 0m 12s\n",
            "\tTrain Loss: 1.919 | Train Acc: 20.24%\n",
            "\t Val. Loss: 1.853 |  Val. Acc: 32.36%\n"
          ]
        },
        {
          "output_type": "stream",
          "name": "stderr",
          "text": [
            "100%|██████████| 174/174 [00:14<00:00, 12.24it/s, accuracy=0.237, loss=1.46]\n"
          ]
        },
        {
          "output_type": "stream",
          "name": "stdout",
          "text": [
            "Epoch: 03 | Epoch Time: 0m 14s\n",
            "\tTrain Loss: 1.741 | Train Acc: 23.67%\n",
            "\t Val. Loss: 1.682 |  Val. Acc: 31.78%\n"
          ]
        },
        {
          "output_type": "stream",
          "name": "stderr",
          "text": [
            "100%|██████████| 174/174 [00:12<00:00, 13.43it/s, accuracy=0.375, loss=1.01]\n"
          ]
        },
        {
          "output_type": "stream",
          "name": "stdout",
          "text": [
            "Epoch: 04 | Epoch Time: 0m 13s\n",
            "\tTrain Loss: 1.421 | Train Acc: 37.51%\n",
            "\t Val. Loss: 1.531 |  Val. Acc: 41.84%\n"
          ]
        },
        {
          "output_type": "stream",
          "name": "stderr",
          "text": [
            "100%|██████████| 174/174 [00:12<00:00, 13.96it/s, accuracy=0.526, loss=0.713]\n"
          ]
        },
        {
          "output_type": "stream",
          "name": "stdout",
          "text": [
            "Epoch: 05 | Epoch Time: 0m 12s\n",
            "\tTrain Loss: 1.090 | Train Acc: 52.63%\n",
            "\t Val. Loss: 1.654 |  Val. Acc: 42.57%\n"
          ]
        },
        {
          "output_type": "stream",
          "name": "stderr",
          "text": [
            "100%|██████████| 174/174 [00:12<00:00, 13.96it/s, accuracy=0.669, loss=0.431]\n"
          ]
        },
        {
          "output_type": "stream",
          "name": "stdout",
          "text": [
            "Epoch: 06 | Epoch Time: 0m 12s\n",
            "\tTrain Loss: 0.799 | Train Acc: 66.93%\n",
            "\t Val. Loss: 1.949 |  Val. Acc: 42.71%\n"
          ]
        },
        {
          "output_type": "stream",
          "name": "stderr",
          "text": [
            "100%|██████████| 174/174 [00:12<00:00, 14.01it/s, accuracy=0.778, loss=0.145]\n"
          ]
        },
        {
          "output_type": "stream",
          "name": "stdout",
          "text": [
            "Epoch: 07 | Epoch Time: 0m 12s\n",
            "\tTrain Loss: 0.553 | Train Acc: 77.78%\n",
            "\t Val. Loss: 2.298 |  Val. Acc: 43.15%\n"
          ]
        },
        {
          "output_type": "stream",
          "name": "stderr",
          "text": [
            "100%|██████████| 174/174 [00:12<00:00, 13.98it/s, accuracy=0.844, loss=0.192]\n"
          ]
        },
        {
          "output_type": "stream",
          "name": "stdout",
          "text": [
            "Epoch: 08 | Epoch Time: 0m 12s\n",
            "\tTrain Loss: 0.391 | Train Acc: 84.41%\n",
            "\t Val. Loss: 2.588 |  Val. Acc: 47.08%\n"
          ]
        },
        {
          "output_type": "stream",
          "name": "stderr",
          "text": [
            "100%|██████████| 174/174 [00:12<00:00, 13.84it/s, accuracy=0.881, loss=0.0304]\n"
          ]
        },
        {
          "output_type": "stream",
          "name": "stdout",
          "text": [
            "Epoch: 09 | Epoch Time: 0m 12s\n",
            "\tTrain Loss: 0.284 | Train Acc: 88.10%\n",
            "\t Val. Loss: 3.178 |  Val. Acc: 46.50%\n"
          ]
        },
        {
          "output_type": "stream",
          "name": "stderr",
          "text": [
            "100%|██████████| 174/174 [00:12<00:00, 13.89it/s, accuracy=0.912, loss=0.039]\n"
          ]
        },
        {
          "output_type": "stream",
          "name": "stdout",
          "text": [
            "Epoch: 10 | Epoch Time: 0m 12s\n",
            "\tTrain Loss: 0.222 | Train Acc: 91.17%\n",
            "\t Val. Loss: 2.828 |  Val. Acc: 46.50%\n"
          ]
        },
        {
          "output_type": "stream",
          "name": "stderr",
          "text": [
            "100%|██████████| 174/174 [00:12<00:00, 13.95it/s, accuracy=0.933, loss=0.0575]\n"
          ]
        },
        {
          "output_type": "stream",
          "name": "stdout",
          "text": [
            "Epoch: 11 | Epoch Time: 0m 12s\n",
            "\tTrain Loss: 0.169 | Train Acc: 93.31%\n",
            "\t Val. Loss: 2.865 |  Val. Acc: 44.61%\n"
          ]
        },
        {
          "output_type": "stream",
          "name": "stderr",
          "text": [
            "100%|██████████| 174/174 [00:12<00:00, 13.96it/s, accuracy=0.95, loss=0.00955]\n"
          ]
        },
        {
          "output_type": "stream",
          "name": "stdout",
          "text": [
            "Epoch: 12 | Epoch Time: 0m 12s\n",
            "\tTrain Loss: 0.133 | Train Acc: 94.95%\n",
            "\t Val. Loss: 3.119 |  Val. Acc: 45.63%\n"
          ]
        },
        {
          "output_type": "stream",
          "name": "stderr",
          "text": [
            "100%|██████████| 174/174 [00:12<00:00, 13.58it/s, accuracy=0.951, loss=0.0362]\n"
          ]
        },
        {
          "output_type": "stream",
          "name": "stdout",
          "text": [
            "Epoch: 13 | Epoch Time: 0m 12s\n",
            "\tTrain Loss: 0.113 | Train Acc: 95.06%\n",
            "\t Val. Loss: 3.466 |  Val. Acc: 47.23%\n"
          ]
        },
        {
          "output_type": "stream",
          "name": "stderr",
          "text": [
            "100%|██████████| 174/174 [00:14<00:00, 12.13it/s, accuracy=0.976, loss=0.00453]\n"
          ]
        },
        {
          "output_type": "stream",
          "name": "stdout",
          "text": [
            "Epoch: 14 | Epoch Time: 0m 14s\n",
            "\tTrain Loss: 0.054 | Train Acc: 97.57%\n",
            "\t Val. Loss: 3.966 |  Val. Acc: 46.50%\n"
          ]
        },
        {
          "output_type": "stream",
          "name": "stderr",
          "text": [
            "100%|██████████| 174/174 [00:13<00:00, 13.13it/s, accuracy=0.98, loss=0.14]\n"
          ]
        },
        {
          "output_type": "stream",
          "name": "stdout",
          "text": [
            "Epoch: 15 | Epoch Time: 0m 13s\n",
            "\tTrain Loss: 0.053 | Train Acc: 97.96%\n",
            "\t Val. Loss: 3.879 |  Val. Acc: 46.06%\n"
          ]
        },
        {
          "output_type": "stream",
          "name": "stderr",
          "text": [
            "100%|██████████| 174/174 [00:13<00:00, 13.02it/s, accuracy=0.975, loss=0.00636]\n"
          ]
        },
        {
          "output_type": "stream",
          "name": "stdout",
          "text": [
            "Epoch: 16 | Epoch Time: 0m 13s\n",
            "\tTrain Loss: 0.073 | Train Acc: 97.46%\n",
            "\t Val. Loss: 3.992 |  Val. Acc: 47.23%\n"
          ]
        },
        {
          "output_type": "stream",
          "name": "stderr",
          "text": [
            "100%|██████████| 174/174 [00:13<00:00, 12.51it/s, accuracy=0.985, loss=0.105]\n"
          ]
        },
        {
          "output_type": "stream",
          "name": "stdout",
          "text": [
            "Epoch: 17 | Epoch Time: 0m 14s\n",
            "\tTrain Loss: 0.038 | Train Acc: 98.49%\n",
            "\t Val. Loss: 4.587 |  Val. Acc: 44.61%\n"
          ]
        },
        {
          "output_type": "stream",
          "name": "stderr",
          "text": [
            "100%|██████████| 174/174 [00:13<00:00, 13.00it/s, accuracy=0.99, loss=0.00039]\n"
          ]
        },
        {
          "output_type": "stream",
          "name": "stdout",
          "text": [
            "Epoch: 18 | Epoch Time: 0m 13s\n",
            "\tTrain Loss: 0.023 | Train Acc: 99.04%\n",
            "\t Val. Loss: 4.849 |  Val. Acc: 47.08%\n"
          ]
        },
        {
          "output_type": "stream",
          "name": "stderr",
          "text": [
            "100%|██████████| 174/174 [00:12<00:00, 13.42it/s, accuracy=0.992, loss=0.000305]\n"
          ]
        },
        {
          "output_type": "stream",
          "name": "stdout",
          "text": [
            "Epoch: 19 | Epoch Time: 0m 13s\n",
            "\tTrain Loss: 0.023 | Train Acc: 99.15%\n",
            "\t Val. Loss: 4.963 |  Val. Acc: 46.21%\n"
          ]
        },
        {
          "output_type": "stream",
          "name": "stderr",
          "text": [
            "100%|██████████| 174/174 [00:12<00:00, 14.01it/s, accuracy=0.989, loss=0.000508]\n"
          ]
        },
        {
          "output_type": "stream",
          "name": "stdout",
          "text": [
            "Epoch: 20 | Epoch Time: 0m 12s\n",
            "\tTrain Loss: 0.024 | Train Acc: 98.94%\n",
            "\t Val. Loss: 5.017 |  Val. Acc: 46.21%\n"
          ]
        },
        {
          "output_type": "stream",
          "name": "stderr",
          "text": [
            "100%|██████████| 174/174 [00:12<00:00, 13.99it/s, accuracy=0.995, loss=0.0013]\n"
          ]
        },
        {
          "output_type": "stream",
          "name": "stdout",
          "text": [
            "Epoch: 21 | Epoch Time: 0m 12s\n",
            "\tTrain Loss: 0.015 | Train Acc: 99.46%\n",
            "\t Val. Loss: 4.993 |  Val. Acc: 46.06%\n"
          ]
        },
        {
          "output_type": "stream",
          "name": "stderr",
          "text": [
            "100%|██████████| 174/174 [00:12<00:00, 13.94it/s, accuracy=0.993, loss=0.0101]\n"
          ]
        },
        {
          "output_type": "stream",
          "name": "stdout",
          "text": [
            "Epoch: 22 | Epoch Time: 0m 12s\n",
            "\tTrain Loss: 0.019 | Train Acc: 99.28%\n",
            "\t Val. Loss: 5.072 |  Val. Acc: 47.23%\n"
          ]
        },
        {
          "output_type": "stream",
          "name": "stderr",
          "text": [
            "100%|██████████| 174/174 [00:12<00:00, 13.99it/s, accuracy=0.985, loss=0.039]\n"
          ]
        },
        {
          "output_type": "stream",
          "name": "stdout",
          "text": [
            "Epoch: 23 | Epoch Time: 0m 12s\n",
            "\tTrain Loss: 0.052 | Train Acc: 98.50%\n",
            "\t Val. Loss: 4.529 |  Val. Acc: 46.65%\n"
          ]
        },
        {
          "output_type": "stream",
          "name": "stderr",
          "text": [
            "100%|██████████| 174/174 [00:12<00:00, 13.99it/s, accuracy=0.986, loss=0.00126]\n"
          ]
        },
        {
          "output_type": "stream",
          "name": "stdout",
          "text": [
            "Epoch: 24 | Epoch Time: 0m 12s\n",
            "\tTrain Loss: 0.043 | Train Acc: 98.56%\n",
            "\t Val. Loss: 4.486 |  Val. Acc: 45.77%\n"
          ]
        },
        {
          "output_type": "stream",
          "name": "stderr",
          "text": [
            "100%|██████████| 174/174 [00:12<00:00, 14.09it/s, accuracy=0.995, loss=0.000752]\n"
          ]
        },
        {
          "output_type": "stream",
          "name": "stdout",
          "text": [
            "Epoch: 25 | Epoch Time: 0m 12s\n",
            "\tTrain Loss: 0.013 | Train Acc: 99.55%\n",
            "\t Val. Loss: 5.310 |  Val. Acc: 46.50%\n"
          ]
        },
        {
          "output_type": "stream",
          "name": "stderr",
          "text": [
            "100%|██████████| 174/174 [00:12<00:00, 14.09it/s, accuracy=0.995, loss=0.00178]\n"
          ]
        },
        {
          "output_type": "stream",
          "name": "stdout",
          "text": [
            "Epoch: 26 | Epoch Time: 0m 12s\n",
            "\tTrain Loss: 0.019 | Train Acc: 99.53%\n",
            "\t Val. Loss: 4.987 |  Val. Acc: 46.94%\n"
          ]
        },
        {
          "output_type": "stream",
          "name": "stderr",
          "text": [
            "100%|██████████| 174/174 [00:12<00:00, 14.04it/s, accuracy=0.987, loss=0.0497]\n"
          ]
        },
        {
          "output_type": "stream",
          "name": "stdout",
          "text": [
            "Epoch: 27 | Epoch Time: 0m 12s\n",
            "\tTrain Loss: 0.045 | Train Acc: 98.68%\n",
            "\t Val. Loss: 4.463 |  Val. Acc: 47.38%\n"
          ]
        },
        {
          "output_type": "stream",
          "name": "stderr",
          "text": [
            "100%|██████████| 174/174 [00:12<00:00, 13.49it/s, accuracy=0.988, loss=0.0847]\n"
          ]
        },
        {
          "output_type": "stream",
          "name": "stdout",
          "text": [
            "Epoch: 28 | Epoch Time: 0m 13s\n",
            "\tTrain Loss: 0.039 | Train Acc: 98.76%\n",
            "\t Val. Loss: 4.495 |  Val. Acc: 46.50%\n"
          ]
        },
        {
          "output_type": "stream",
          "name": "stderr",
          "text": [
            "100%|██████████| 174/174 [00:12<00:00, 14.02it/s, accuracy=0.994, loss=0.174]\n"
          ]
        },
        {
          "output_type": "stream",
          "name": "stdout",
          "text": [
            "Epoch: 29 | Epoch Time: 0m 12s\n",
            "\tTrain Loss: 0.017 | Train Acc: 99.41%\n",
            "\t Val. Loss: 4.867 |  Val. Acc: 47.52%\n"
          ]
        },
        {
          "output_type": "stream",
          "name": "stderr",
          "text": [
            "100%|██████████| 174/174 [00:12<00:00, 13.82it/s, accuracy=0.994, loss=0.000119]\n"
          ]
        },
        {
          "output_type": "stream",
          "name": "stdout",
          "text": [
            "Epoch: 30 | Epoch Time: 0m 12s\n",
            "\tTrain Loss: 0.014 | Train Acc: 99.37%\n",
            "\t Val. Loss: 4.728 |  Val. Acc: 44.75%\n"
          ]
        },
        {
          "output_type": "stream",
          "name": "stderr",
          "text": [
            "100%|██████████| 174/174 [00:12<00:00, 14.00it/s, accuracy=0.997, loss=0.00133]\n"
          ]
        },
        {
          "output_type": "stream",
          "name": "stdout",
          "text": [
            "Epoch: 31 | Epoch Time: 0m 12s\n",
            "\tTrain Loss: 0.008 | Train Acc: 99.68%\n",
            "\t Val. Loss: 4.885 |  Val. Acc: 45.19%\n"
          ]
        },
        {
          "output_type": "stream",
          "name": "stderr",
          "text": [
            "100%|██████████| 174/174 [00:12<00:00, 13.91it/s, accuracy=0.999, loss=0.00113]\n"
          ]
        },
        {
          "output_type": "stream",
          "name": "stdout",
          "text": [
            "Epoch: 32 | Epoch Time: 0m 12s\n",
            "\tTrain Loss: 0.004 | Train Acc: 99.89%\n",
            "\t Val. Loss: 5.290 |  Val. Acc: 44.90%\n"
          ]
        },
        {
          "output_type": "stream",
          "name": "stderr",
          "text": [
            "100%|██████████| 174/174 [00:12<00:00, 13.99it/s, accuracy=0.999, loss=7.85e-5]\n"
          ]
        },
        {
          "output_type": "stream",
          "name": "stdout",
          "text": [
            "Epoch: 33 | Epoch Time: 0m 12s\n",
            "\tTrain Loss: 0.003 | Train Acc: 99.95%\n",
            "\t Val. Loss: 5.457 |  Val. Acc: 46.06%\n"
          ]
        },
        {
          "output_type": "stream",
          "name": "stderr",
          "text": [
            "100%|██████████| 174/174 [00:12<00:00, 13.97it/s, accuracy=0.999, loss=0.000258]\n"
          ]
        },
        {
          "output_type": "stream",
          "name": "stdout",
          "text": [
            "Epoch: 34 | Epoch Time: 0m 12s\n",
            "\tTrain Loss: 0.002 | Train Acc: 99.93%\n",
            "\t Val. Loss: 5.566 |  Val. Acc: 44.75%\n"
          ]
        },
        {
          "output_type": "stream",
          "name": "stderr",
          "text": [
            "100%|██████████| 174/174 [00:12<00:00, 14.00it/s, accuracy=0.999, loss=0.000139]\n"
          ]
        },
        {
          "output_type": "stream",
          "name": "stdout",
          "text": [
            "Epoch: 35 | Epoch Time: 0m 12s\n",
            "\tTrain Loss: 0.004 | Train Acc: 99.86%\n",
            "\t Val. Loss: 5.397 |  Val. Acc: 47.23%\n"
          ]
        },
        {
          "output_type": "stream",
          "name": "stderr",
          "text": [
            "100%|██████████| 174/174 [00:12<00:00, 14.02it/s, accuracy=0.986, loss=0.00117]\n"
          ]
        },
        {
          "output_type": "stream",
          "name": "stdout",
          "text": [
            "Epoch: 36 | Epoch Time: 0m 12s\n",
            "\tTrain Loss: 0.041 | Train Acc: 98.58%\n",
            "\t Val. Loss: 4.884 |  Val. Acc: 49.27%\n"
          ]
        },
        {
          "output_type": "stream",
          "name": "stderr",
          "text": [
            "100%|██████████| 174/174 [00:12<00:00, 13.58it/s, accuracy=0.983, loss=0.00338]\n"
          ]
        },
        {
          "output_type": "stream",
          "name": "stdout",
          "text": [
            "Epoch: 37 | Epoch Time: 0m 12s\n",
            "\tTrain Loss: 0.056 | Train Acc: 98.27%\n",
            "\t Val. Loss: 4.403 |  Val. Acc: 44.17%\n"
          ]
        },
        {
          "output_type": "stream",
          "name": "stderr",
          "text": [
            "100%|██████████| 174/174 [00:12<00:00, 14.09it/s, accuracy=0.989, loss=0.00217]\n"
          ]
        },
        {
          "output_type": "stream",
          "name": "stdout",
          "text": [
            "Epoch: 38 | Epoch Time: 0m 12s\n",
            "\tTrain Loss: 0.042 | Train Acc: 98.86%\n",
            "\t Val. Loss: 4.182 |  Val. Acc: 45.92%\n"
          ]
        },
        {
          "output_type": "stream",
          "name": "stderr",
          "text": [
            "100%|██████████| 174/174 [00:12<00:00, 14.03it/s, accuracy=0.995, loss=0.000272]\n"
          ]
        },
        {
          "output_type": "stream",
          "name": "stdout",
          "text": [
            "Epoch: 39 | Epoch Time: 0m 12s\n",
            "\tTrain Loss: 0.017 | Train Acc: 99.50%\n",
            "\t Val. Loss: 4.616 |  Val. Acc: 47.08%\n"
          ]
        },
        {
          "output_type": "stream",
          "name": "stderr",
          "text": [
            "100%|██████████| 174/174 [00:12<00:00, 13.95it/s, accuracy=0.997, loss=0.000318]\n"
          ]
        },
        {
          "output_type": "stream",
          "name": "stdout",
          "text": [
            "Epoch: 40 | Epoch Time: 0m 12s\n",
            "\tTrain Loss: 0.006 | Train Acc: 99.75%\n",
            "\t Val. Loss: 5.016 |  Val. Acc: 48.98%\n"
          ]
        },
        {
          "output_type": "stream",
          "name": "stderr",
          "text": [
            "100%|██████████| 174/174 [00:12<00:00, 14.06it/s, accuracy=0.999, loss=0.000855]\n"
          ]
        },
        {
          "output_type": "stream",
          "name": "stdout",
          "text": [
            "Epoch: 41 | Epoch Time: 0m 12s\n",
            "\tTrain Loss: 0.002 | Train Acc: 99.91%\n",
            "\t Val. Loss: 5.222 |  Val. Acc: 50.44%\n"
          ]
        },
        {
          "output_type": "stream",
          "name": "stderr",
          "text": [
            "100%|██████████| 174/174 [00:12<00:00, 13.83it/s, accuracy=0.999, loss=0.001]\n"
          ]
        },
        {
          "output_type": "stream",
          "name": "stdout",
          "text": [
            "Epoch: 42 | Epoch Time: 0m 12s\n",
            "\tTrain Loss: 0.001 | Train Acc: 99.95%\n",
            "\t Val. Loss: 5.421 |  Val. Acc: 46.94%\n"
          ]
        },
        {
          "output_type": "stream",
          "name": "stderr",
          "text": [
            "100%|██████████| 174/174 [00:12<00:00, 13.97it/s, accuracy=1, loss=4.33e-5]\n"
          ]
        },
        {
          "output_type": "stream",
          "name": "stdout",
          "text": [
            "Epoch: 43 | Epoch Time: 0m 12s\n",
            "\tTrain Loss: 0.000 | Train Acc: 100.00%\n",
            "\t Val. Loss: 5.506 |  Val. Acc: 48.54%\n"
          ]
        },
        {
          "output_type": "stream",
          "name": "stderr",
          "text": [
            "100%|██████████| 174/174 [00:12<00:00, 13.98it/s, accuracy=1, loss=6.66e-5]\n"
          ]
        },
        {
          "output_type": "stream",
          "name": "stdout",
          "text": [
            "Epoch: 44 | Epoch Time: 0m 12s\n",
            "\tTrain Loss: 0.000 | Train Acc: 100.00%\n",
            "\t Val. Loss: 5.594 |  Val. Acc: 48.83%\n"
          ]
        },
        {
          "output_type": "stream",
          "name": "stderr",
          "text": [
            "100%|██████████| 174/174 [00:12<00:00, 14.00it/s, accuracy=1, loss=0.000861]\n"
          ]
        },
        {
          "output_type": "stream",
          "name": "stdout",
          "text": [
            "Epoch: 45 | Epoch Time: 0m 12s\n",
            "\tTrain Loss: 0.000 | Train Acc: 100.00%\n",
            "\t Val. Loss: 5.672 |  Val. Acc: 49.27%\n"
          ]
        },
        {
          "output_type": "stream",
          "name": "stderr",
          "text": [
            "100%|██████████| 174/174 [00:12<00:00, 14.01it/s, accuracy=1, loss=4.82e-5]\n"
          ]
        },
        {
          "output_type": "stream",
          "name": "stdout",
          "text": [
            "Epoch: 46 | Epoch Time: 0m 12s\n",
            "\tTrain Loss: 0.000 | Train Acc: 100.00%\n",
            "\t Val. Loss: 5.726 |  Val. Acc: 49.13%\n"
          ]
        },
        {
          "output_type": "stream",
          "name": "stderr",
          "text": [
            "100%|██████████| 174/174 [00:12<00:00, 14.01it/s, accuracy=1, loss=2.56e-5]\n"
          ]
        },
        {
          "output_type": "stream",
          "name": "stdout",
          "text": [
            "Epoch: 47 | Epoch Time: 0m 12s\n",
            "\tTrain Loss: 0.000 | Train Acc: 100.00%\n",
            "\t Val. Loss: 5.786 |  Val. Acc: 49.13%\n"
          ]
        },
        {
          "output_type": "stream",
          "name": "stderr",
          "text": [
            "100%|██████████| 174/174 [00:12<00:00, 13.96it/s, accuracy=1, loss=1.13e-5]\n"
          ]
        },
        {
          "output_type": "stream",
          "name": "stdout",
          "text": [
            "Epoch: 48 | Epoch Time: 0m 12s\n",
            "\tTrain Loss: 0.000 | Train Acc: 100.00%\n",
            "\t Val. Loss: 5.831 |  Val. Acc: 48.98%\n"
          ]
        },
        {
          "output_type": "stream",
          "name": "stderr",
          "text": [
            "100%|██████████| 174/174 [00:12<00:00, 13.90it/s, accuracy=1, loss=1.93e-5]\n"
          ]
        },
        {
          "output_type": "stream",
          "name": "stdout",
          "text": [
            "Epoch: 49 | Epoch Time: 0m 12s\n",
            "\tTrain Loss: 0.000 | Train Acc: 100.00%\n",
            "\t Val. Loss: 5.887 |  Val. Acc: 48.83%\n"
          ]
        },
        {
          "output_type": "stream",
          "name": "stderr",
          "text": [
            "100%|██████████| 174/174 [00:12<00:00, 13.80it/s, accuracy=1, loss=1.09e-5]\n"
          ]
        },
        {
          "output_type": "stream",
          "name": "stdout",
          "text": [
            "Epoch: 50 | Epoch Time: 0m 12s\n",
            "\tTrain Loss: 0.000 | Train Acc: 100.00%\n",
            "\t Val. Loss: 5.936 |  Val. Acc: 48.83%\n"
          ]
        }
      ]
    },
    {
      "cell_type": "code",
      "source": [
        "torch.save(model.state_dict(), f\"GRU_model_transfer_embed_final.pt\")"
      ],
      "metadata": {
        "id": "aT2yb7Mqx6jv"
      },
      "execution_count": null,
      "outputs": []
    },
    {
      "cell_type": "markdown",
      "source": [
        "## Monitor the training process"
      ],
      "metadata": {
        "id": "raB7OGC0iquF"
      }
    },
    {
      "cell_type": "markdown",
      "source": [
        "I suspect that due to the limited data, the model tends to overfit, indicated by the decreasing training loss but increasing validation loss."
      ],
      "metadata": {
        "id": "ufc4WNOrt3Gh"
      }
    },
    {
      "cell_type": "code",
      "source": [
        "plt.plot(train_loss_list)\n",
        "plt.plot(valid_loss_list)\n",
        "plt.title('model loss')\n",
        "plt.ylabel('loss')\n",
        "plt.xlabel('epoch')\n",
        "plt.legend(['train', 'val'], loc='upper left')\n",
        "plt.show()"
      ],
      "metadata": {
        "id": "6HpXGBpdYIb9",
        "colab": {
          "base_uri": "https://localhost:8080/",
          "height": 472
        },
        "outputId": "57f81197-2501-491d-c211-0626e1161c5b"
      },
      "execution_count": null,
      "outputs": [
        {
          "output_type": "display_data",
          "data": {
            "text/plain": [
              "<Figure size 640x480 with 1 Axes>"
            ],
            "image/png": "[encoded data removed]"
          },
          "metadata": {}
        }
      ]
    },
    {
      "cell_type": "markdown",
      "source": [
        "Regarding the accuracy of the validation set, it initially increased, then fluctuated."
      ],
      "metadata": {
        "id": "vjxsI4AXuDvn"
      }
    },
    {
      "cell_type": "code",
      "source": [
        "plt.plot(train_acc_list)\n",
        "plt.plot(valid_acc_list)\n",
        "plt.title('model accuracy')\n",
        "plt.ylabel('accuracy')\n",
        "plt.xlabel('epoch')\n",
        "plt.legend(['train', 'val'], loc='upper left')\n",
        "plt.show()"
      ],
      "metadata": {
        "colab": {
          "base_uri": "https://localhost:8080/",
          "height": 472
        },
        "id": "wjAVMn6sYNvT",
        "outputId": "eb2a42ee-f401-4fe7-ad91-322d850b1281"
      },
      "execution_count": null,
      "outputs": [
        {
          "output_type": "display_data",
          "data": {
            "text/plain": [
              "<Figure size 640x480 with 1 Axes>"
            ],
            "image/png": "[encoded data removed]"
          },
          "metadata": {}
        }
      ]
    },
    {
      "cell_type": "markdown",
      "source": [
        "# Model Evaluation"
      ],
      "metadata": {
        "id": "Mkddp5wH50eq"
      }
    },
    {
      "cell_type": "markdown",
      "source": [
        "I've saved the checkpoints of the trained models and now I'm going to analyze them."
      ],
      "metadata": {
        "id": "XpmYPiGQuX9N"
      }
    },
    {
      "cell_type": "markdown",
      "source": [
        "## Using own embedding and LSTM model"
      ],
      "metadata": {
        "id": "jN7dXa90YCYU"
      }
    },
    {
      "cell_type": "code",
      "source": [
        "device = \"cuda:0\"\n",
        "model0 = get_model(embedding_dim=100, hidden_dim=512, n_layers=2, n_labels=7, bidirectional=True, dropout=0.5, device=device, name_model = 'LSTM', transfer = False)\n",
        "model0.load_state_dict(torch.load('LSTM_model_own_embed_final.pt'))"
      ],
      "metadata": {
        "colab": {
          "base_uri": "https://localhost:8080/"
        },
        "id": "WKVFJ1gcp6Dw",
        "outputId": "35da9c0d-8cfc-4883-f3bc-8f82fae3da48"
      },
      "execution_count": null,
      "outputs": [
        {
          "output_type": "execute_result",
          "data": {
            "text/plain": [
              "<All keys matched successfully>"
            ]
          },
          "metadata": {},
          "execution_count": 92
        }
      ]
    },
    {
      "cell_type": "code",
      "source": [
        "test_loss, test_acc = evaluate(model0, test_dataloader, loss_fn, device)\n",
        "print(f\"Test Loss: {test_loss:.3f} | Test Acc: {test_acc*100:.2f}%\")"
      ],
      "metadata": {
        "colab": {
          "base_uri": "https://localhost:8080/"
        },
        "id": "VrYWczpJv5LH",
        "outputId": "698a12ee-6f06-4bbc-c053-96f948feb514"
      },
      "execution_count": null,
      "outputs": [
        {
          "output_type": "stream",
          "name": "stdout",
          "text": [
            "Test Loss: 4.741 | Test Acc: 42.14%\n"
          ]
        }
      ]
    },
    {
      "cell_type": "markdown",
      "source": [
        "## Using W2V embedding and LSTM model"
      ],
      "metadata": {
        "id": "Us-GYIXyZvCk"
      }
    },
    {
      "cell_type": "code",
      "source": [
        "device = \"cuda:0\"\n",
        "model1 = get_model(embedding_dim=100, hidden_dim=512, n_layers=2, n_labels=7, bidirectional=True, dropout=0.5, device=device, name_model = 'LSTM', transfer = True)\n",
        "model1.load_state_dict(torch.load('LSTM_model_transfer_embed_final.pt'))"
      ],
      "metadata": {
        "colab": {
          "base_uri": "https://localhost:8080/"
        },
        "id": "2_-FnQrFZbiu",
        "outputId": "32ad1ebd-4393-464c-858e-42ba65ef6a55"
      },
      "execution_count": null,
      "outputs": [
        {
          "output_type": "execute_result",
          "data": {
            "text/plain": [
              "<All keys matched successfully>"
            ]
          },
          "metadata": {},
          "execution_count": 108
        }
      ]
    },
    {
      "cell_type": "code",
      "source": [
        "test_loss, test_acc = evaluate(model1, test_dataloader, loss_fn, device)\n",
        "print(f\"Test Loss: {test_loss:.3f} | Test Acc: {test_acc*100:.2f}%\")"
      ],
      "metadata": {
        "colab": {
          "base_uri": "https://localhost:8080/"
        },
        "id": "v4IiOpGwZqXB",
        "outputId": "ffa4b679-7eab-4256-8ebe-fbfeef25b1c0"
      },
      "execution_count": null,
      "outputs": [
        {
          "output_type": "stream",
          "name": "stdout",
          "text": [
            "Test Loss: 3.990 | Test Acc: 45.45%\n"
          ]
        }
      ]
    },
    {
      "cell_type": "markdown",
      "source": [
        "Comment: With the same model and hyperparameters, using pre-trained word embeddings has improved the model's prediction results by around 3%.\n",
        "\n",
        "Transfer learning using pre-trained word embeddings has significant potential in various natural language processing (NLP) tasks. Word embeddings capture semantic relationships and contextual information about words, allowing models to leverage this knowledge to perform better on downstream tasks."
      ],
      "metadata": {
        "id": "1KU5oalAuaKv"
      }
    },
    {
      "cell_type": "markdown",
      "source": [
        "## Using W2V embedding and GRU model"
      ],
      "metadata": {
        "id": "7uwyMPeSczIo"
      }
    },
    {
      "cell_type": "markdown",
      "source": [
        "And here is the model that exhibited the best performance throughout the training process."
      ],
      "metadata": {
        "id": "gdNQt8NNvG7o"
      }
    },
    {
      "cell_type": "code",
      "source": [
        "model2 = get_model(embedding_dim=100, hidden_dim=512, n_layers=2, n_labels=7, bidirectional=True, dropout=0.5, device=device, name_model = 'GRU', transfer = True)\n",
        "model2.load_state_dict(torch.load('GRU_model_transfer_40.pt'))"
      ],
      "metadata": {
        "colab": {
          "base_uri": "https://localhost:8080/"
        },
        "id": "nYh1KnjfcRXD",
        "outputId": "53c44dfc-f2d3-4687-af02-d2d68a43033c"
      },
      "execution_count": 101,
      "outputs": [
        {
          "output_type": "execute_result",
          "data": {
            "text/plain": [
              "<All keys matched successfully>"
            ]
          },
          "metadata": {},
          "execution_count": 101
        }
      ]
    },
    {
      "cell_type": "code",
      "source": [
        "valid_loss, valid_acc = evaluate(model2, val_dataloader, loss_fn, device)\n",
        "print(f\"Valid Loss: {valid_loss:.3f} | Valid Acc: {valid_acc*100:.2f}%\")\n",
        "test_loss, test_acc = evaluate(model2, test_dataloader, loss_fn, device)\n",
        "print(f\"Test Loss: {test_loss:.3f} | Test Acc: {test_acc*100:.2f}%\")"
      ],
      "metadata": {
        "colab": {
          "base_uri": "https://localhost:8080/"
        },
        "id": "XVIbOO1rc2kU",
        "outputId": "6cc8a232-f898-4c2c-f8ee-0fe8de0652b8"
      },
      "execution_count": 115,
      "outputs": [
        {
          "output_type": "stream",
          "name": "stdout",
          "text": [
            "Valid Loss: 5.222 | Valid Acc: 50.44%\n",
            "Test Loss: 5.066 | Test Acc: 48.20%\n"
          ]
        }
      ]
    },
    {
      "cell_type": "markdown",
      "source": [
        "## Report & Analyze"
      ],
      "metadata": {
        "id": "AXiQQ3pKiYZm"
      }
    },
    {
      "cell_type": "markdown",
      "source": [
        "Firstly, let's save the predicted labels by the model for comparison with the actual (human-assigned) labels"
      ],
      "metadata": {
        "id": "-Cmp6Z3uMPo6"
      }
    },
    {
      "cell_type": "code",
      "source": [
        "y_pred = []\n",
        "y_true = []\n",
        "\n",
        "model2.eval()\n",
        "# iterate over test data\n",
        "with torch.no_grad():\n",
        "  for batch in DataLoader(dataset=test_dataset, batch_size=1, collate_fn=test_dataset.collate_fn):\n",
        "    feedbacks, _ = batch[\"inputs\"]\n",
        "    feedbacks = feedbacks.to(device)\n",
        "    logits = model2(feedbacks)\n",
        "    label = batch[\"labels\"].to(device)\n",
        "    _, pred = torch.max(logits, dim=1)\n",
        "    y_pred.extend(pred.data.cpu().numpy()) # Save Prediction\n",
        "    y_true.extend(label.data.cpu().numpy()) # Save Truth"
      ],
      "metadata": {
        "id": "qe-LT7PnhIS-"
      },
      "execution_count": 84,
      "outputs": []
    },
    {
      "cell_type": "markdown",
      "source": [
        "Calculate and report accuracy, precision, recall, and F1 score:"
      ],
      "metadata": {
        "id": "yQMjtkGOvWOi"
      }
    },
    {
      "cell_type": "code",
      "source": [
        "from sklearn.metrics import accuracy_score, precision_score, recall_score, f1_score, confusion_matrix, classification_report\n",
        "accuracy = accuracy_score(y_true, y_pred)\n",
        "precision = precision_score(y_true, y_pred, average='weighted')  # Or 'weighted', 'micro' as per your requirement\n",
        "recall = recall_score(y_true, y_pred, average='macro')  # Or 'weighted', 'micro' as per your requirement\n",
        "f1 = f1_score(y_true, y_pred, average='macro')  # Or 'weighted', 'micro' as per your requirement\n",
        "cf_matrix = confusion_matrix(y_true, y_pred)\n",
        "df_cm = pd.DataFrame(cf_matrix, index = label2id.keys(),\n",
        "                     columns = label2id.keys())\n",
        "\n",
        "\n",
        "# Print metrics\n",
        "print(f\"Accuracy: {accuracy:.2f}\")\n",
        "print(f\"Precision: {precision:.2f}\")\n",
        "print(f\"Recall: {recall:.2f}\")\n",
        "print(f\"F1 Score: {f1:.2f}\")\n",
        "print(\"Confusion Matrix:\")\n",
        "plt.figure(figsize = (12,7))\n",
        "sns.heatmap(df_cm, annot=True)"
      ],
      "metadata": {
        "colab": {
          "base_uri": "https://localhost:8080/",
          "height": 703
        },
        "id": "yIzze8M9OPoe",
        "outputId": "ad493172-1b5a-4ab1-d4e4-658ba723754b"
      },
      "execution_count": 127,
      "outputs": [
        {
          "output_type": "stream",
          "name": "stdout",
          "text": [
            "Accuracy: 0.44\n",
            "Precision: 0.46\n",
            "Recall: 0.41\n",
            "F1 Score: 0.40\n",
            "Confusion Matrix:\n"
          ]
        },
        {
          "output_type": "execute_result",
          "data": {
            "text/plain": [
              "<Axes: >"
            ]
          },
          "metadata": {},
          "execution_count": 127
        },
        {
          "output_type": "display_data",
          "data": {
            "text/plain": [
              "<Figure size 1200x700 with 2 Axes>"
            ],
            "image/png": "[encoded data removed]"
          },
          "metadata": {}
        }
      ]
    },
    {
      "cell_type": "markdown",
      "source": [
        "Analyze misclassifications and discuss potential reasons:\n",
        "\n",
        "* The Anger class is often mispredicted as Disgust because these two emotions are challenging to differentiate, even for humans when labeling.\n",
        "* The Disgust class is commonly mispredicted as Anger or Enjoyment. The confusion with Anger is as mentioned earlier. As for the confusion with Enjoyment, it could be because the Disgust sentence might be sarcastic, mistakenly interpreted as a positive sentiment.\n",
        "* The Sadness class is frequently mispredicted as Disgust or Enjoyment. This might be due to indirect language use by users, where the model fails to capture the core sentiment of the statement.\n",
        "* Enjoyment is mispredicted as Sadness and Disgust for similar reasons mentioned above.\n",
        "* Surprise is mispredicted as Enjoyment due to the positive tone in the sentence.\n",
        "\n"
      ],
      "metadata": {
        "id": "Sf86Z0oHvf2n"
      }
    },
    {
      "cell_type": "markdown",
      "source": [
        "Now, let's try predicting the label of a sentence in the test set and compare the result with the actual label."
      ],
      "metadata": {
        "id": "etPoMqqDvtW4"
      }
    },
    {
      "cell_type": "code",
      "source": [
        "def predict(model, vocab, device, input_text):\n",
        "    model.eval()\n",
        "    model.to(device)\n",
        "    tokens = vocab.corpus_to_tensor([input_text])[0].view(1,-1)\n",
        "    tokens = tokens.to(device)\n",
        "    with torch.no_grad():\n",
        "        logits = model(tokens)\n",
        "        _, preds = torch.max(logits, dim=-1)\n",
        "        return id2label[preds.item()]"
      ],
      "metadata": {
        "id": "ujd0b0VSvzZZ"
      },
      "execution_count": 86,
      "outputs": []
    },
    {
      "cell_type": "code",
      "source": [
        "print(test_data.Sentence[1])\n",
        "print(predict(model, own_vocab, \"cuda:0\", test_data.Sentence[1]))\n",
        "id2label[test_data.Emotion[1]]\n"
      ],
      "metadata": {
        "id": "JsZgoz3bv92Y",
        "colab": {
          "base_uri": "https://localhost:8080/",
          "height": 122
        },
        "outputId": "92fd110f-008a-4ebd-b5b2-8784d824f486"
      },
      "execution_count": 126,
      "outputs": [
        {
          "output_type": "stream",
          "name": "stdout",
          "text": [
            "cho nghỉ viêc mói đúng sao goi là kỷ luật\n",
            "Tokenize the corpus...\n"
          ]
        },
        {
          "output_type": "stream",
          "name": "stderr",
          "text": [
            "100%|██████████| 1/1 [00:00<00:00, 719.19it/s]\n",
            "100%|██████████| 1/1 [00:00<00:00, 4957.81it/s]"
          ]
        },
        {
          "output_type": "stream",
          "name": "stdout",
          "text": [
            "Disgust\n"
          ]
        },
        {
          "output_type": "stream",
          "name": "stderr",
          "text": [
            "\n"
          ]
        },
        {
          "output_type": "execute_result",
          "data": {
            "text/plain": [
              "'Surprise'"
            ],
            "application/vnd.google.colaboratory.intrinsic+json": {
              "type": "string"
            }
          },
          "metadata": {},
          "execution_count": 126
        }
      ]
    },
    {
      "cell_type": "markdown",
      "source": [
        "The model made the correct prediction!!! This seems to be a happy case :D"
      ],
      "metadata": {
        "id": "loksXHa-v1iw"
      }
    },
    {
      "cell_type": "markdown",
      "source": [
        "# Hyperparameter Tuning"
      ],
      "metadata": {
        "id": "EpivNCRT56Yc"
      }
    },
    {
      "cell_type": "markdown",
      "source": [
        "## Tuning Process"
      ],
      "metadata": {
        "id": "gWXxi33Wh_64"
      }
    },
    {
      "cell_type": "markdown",
      "source": [
        "I choose optuna, which is a software framework for automating the optimization process of these hyperparameters."
      ],
      "metadata": {
        "id": "QFnO3WUYwRqo"
      }
    },
    {
      "cell_type": "code",
      "source": [
        "!pip install optuna"
      ],
      "metadata": {
        "id": "CV_dUXSfleVu",
        "colab": {
          "base_uri": "https://localhost:8080/"
        },
        "outputId": "637be227-f7f4-49a5-c8de-d311e90a5f5e"
      },
      "execution_count": 55,
      "outputs": [
        {
          "output_type": "stream",
          "name": "stdout",
          "text": [
            "Collecting optuna\n",
            "  Downloading optuna-3.5.0-py3-none-any.whl (413 kB)\n",
            "\u001b[2K     \u001b[90m━━━━━━━━━━━━━━━━━━━━━━━━━━━━━━━━━━━━━━━━\u001b[0m \u001b[32m413.4/413.4 kB\u001b[0m \u001b[31m3.1 MB/s\u001b[0m eta \u001b[36m0:00:00\u001b[0m\n",
            "\u001b[?25hCollecting alembic>=1.5.0 (from optuna)\n",
            "  Downloading alembic-1.13.1-py3-none-any.whl (233 kB)\n",
            "\u001b[2K     \u001b[90m━━━━━━━━━━━━━━━━━━━━━━━━━━━━━━━━━━━━━━━━\u001b[0m \u001b[32m233.4/233.4 kB\u001b[0m \u001b[31m18.1 MB/s\u001b[0m eta \u001b[36m0:00:00\u001b[0m\n",
            "\u001b[?25hCollecting colorlog (from optuna)\n",
            "  Downloading colorlog-6.8.0-py3-none-any.whl (11 kB)\n",
            "Requirement already satisfied: numpy in /usr/local/lib/python3.10/dist-packages (from optuna) (1.23.5)\n",
            "Requirement already satisfied: packaging>=20.0 in /usr/local/lib/python3.10/dist-packages (from optuna) (23.2)\n",
            "Requirement already satisfied: sqlalchemy>=1.3.0 in /usr/local/lib/python3.10/dist-packages (from optuna) (2.0.23)\n",
            "Requirement already satisfied: tqdm in /usr/local/lib/python3.10/dist-packages (from optuna) (4.66.1)\n",
            "Requirement already satisfied: PyYAML in /usr/local/lib/python3.10/dist-packages (from optuna) (6.0.1)\n",
            "Collecting Mako (from alembic>=1.5.0->optuna)\n",
            "  Downloading Mako-1.3.0-py3-none-any.whl (78 kB)\n",
            "\u001b[2K     \u001b[90m━━━━━━━━━━━━━━━━━━━━━━━━━━━━━━━━━━━━━━━━\u001b[0m \u001b[32m78.6/78.6 kB\u001b[0m \u001b[31m11.9 MB/s\u001b[0m eta \u001b[36m0:00:00\u001b[0m\n",
            "\u001b[?25hRequirement already satisfied: typing-extensions>=4 in /usr/local/lib/python3.10/dist-packages (from alembic>=1.5.0->optuna) (4.5.0)\n",
            "Requirement already satisfied: greenlet!=0.4.17 in /usr/local/lib/python3.10/dist-packages (from sqlalchemy>=1.3.0->optuna) (3.0.2)\n",
            "Requirement already satisfied: MarkupSafe>=0.9.2 in /usr/local/lib/python3.10/dist-packages (from Mako->alembic>=1.5.0->optuna) (2.1.3)\n",
            "Installing collected packages: Mako, colorlog, alembic, optuna\n",
            "Successfully installed Mako-1.3.0 alembic-1.13.1 colorlog-6.8.0 optuna-3.5.0\n"
          ]
        }
      ]
    },
    {
      "cell_type": "code",
      "source": [
        "def fit_tuning(model, train_loader, validation_loader, criterion, optimizer, num_epochs = 10):\n",
        "\n",
        "      for epoch in range(num_epochs):\n",
        "          # Training\n",
        "          model.train() # Active training mode of model\n",
        "\n",
        "          for batch in (pbar:=tqdm(train_loader)):\n",
        "            optimizer.zero_grad() # clear the gradient\n",
        "\n",
        "            # forward pass\n",
        "            feedbacks, _ = batch[\"inputs\"]\n",
        "            feedbacks = feedbacks.to(device)\n",
        "            logits = model(feedbacks)\n",
        "            labels = batch[\"labels\"].to(device)\n",
        "\n",
        "            loss = criterion(logits, labels)\n",
        "\n",
        "            # make prediction\n",
        "            _, preds = torch.max(logits, dim=1)\n",
        "\n",
        "            # backward pass and update params\n",
        "            loss.backward()\n",
        "            # torch.nn.utils.clip_grad_norm_(model.parameters(), 0.3)\n",
        "            optimizer.step()\n",
        "\n",
        "\n",
        "          # Evaluation\n",
        "          model.eval() # Active evaluation mode of model\n",
        "          total_val = 0; correct_val = 0; overall_val_loss = 0.0\n",
        "\n",
        "          with torch.no_grad():\n",
        "            for batch in validation_loader:\n",
        "              feedbacks, _ = batch[\"inputs\"]\n",
        "              feedbacks = feedbacks.to(device)\n",
        "              logits = model(feedbacks)\n",
        "              labels = batch[\"labels\"].to(device)\n",
        "              loss = criterion(logits, labels)\n",
        "              _, preds = torch.max(logits, dim=1)\n",
        "              total_val += labels.size(0)\n",
        "              correct_val += (preds == labels).sum().item()\n",
        "\n",
        "              overall_val_loss += loss.item()\n",
        "      return correct_val/total_val"
      ],
      "metadata": {
        "id": "EGvSfztlk2rx"
      },
      "execution_count": 108,
      "outputs": []
    },
    {
      "cell_type": "code",
      "source": [
        "criterion = torch.nn.CrossEntropyLoss(weight=class_weights)\n",
        "\n",
        "def objective(trial):\n",
        "    \"\"\"\n",
        "    Objective function to be optimized by Optuna.\n",
        "\n",
        "    Hyperparameters chosen to be optimized: Learning rate, Batch size, Number of epochs.\n",
        "    \"\"\"\n",
        "\n",
        "    # Define range of values to be tested for the hyperparameters\n",
        "    learning_rate = trial.suggest_float('lr', 0.0001, 0.005)\n",
        "    batch_size = trial.suggest_categorical('batch_size', [32, 64, 128])\n",
        "    num_epochs = trial.suggest_int(\"num_epochs\", 30, 80)\n",
        "    hidden_dim = trial.suggest_categorical('hidden_dim', [128, 256, 512, 1024])\n",
        "    n_layers = trial.suggest_int(\"n_layers\", 1, 5)\n",
        "    dropout_rate =  trial.suggest_float('dropout', 0.2, 0.5)\n",
        "\n",
        "    train_dataloader = DataLoader(train_dataset, batch_size = batch_size, collate_fn=train_dataset.collate_fn)\n",
        "    val_dataloader = DataLoader(val_dataset, batch_size= batch_size, collate_fn=val_dataset.collate_fn)\n",
        "\n",
        "    # Generate the model\n",
        "    model = get_model(embedding_dim=100, hidden_dim=hidden_dim, n_layers=n_layers, n_labels=7, bidirectional=True, dropout=dropout_rate, device=device, name_model = 'GRU', transfer = True)\n",
        "    #model = get_model(embedding_dim=100, hidden_dim=512, n_layers=2, n_labels=7, bidirectional=True, dropout=0.5, device=device, name_model = 'GRU', transfer = True)\n",
        "    model.to(device)\n",
        "\n",
        "    # Generate optimizer\n",
        "    optimizer = torch.optim.Adam(model.parameters(), lr=learning_rate)\n",
        "\n",
        "    accuracy = fit_tuning(model, train_loader = train_dataloader, validation_loader = val_dataloader, criterion = criterion, optimizer = optimizer, num_epochs = num_epochs)\n",
        "\n",
        "    return accuracy"
      ],
      "metadata": {
        "id": "xVs3cfPKlOeP"
      },
      "execution_count": 109,
      "outputs": []
    },
    {
      "cell_type": "markdown",
      "source": [
        "I will perform 10 trials!"
      ],
      "metadata": {
        "id": "soPKxSU8we-B"
      }
    },
    {
      "cell_type": "code",
      "source": [
        "import optuna\n",
        "number_of_trials = 10\n",
        "\n",
        "# Create an Optuna study to maximize validation accuracy\n",
        "study = optuna.create_study(direction=\"maximize\")\n",
        "study.optimize(objective, n_trials=number_of_trials)\n",
        "\n",
        "# Results\n",
        "trial = study.best_trial\n",
        "print(\"Best trial:\")\n",
        "print(\"  Value: \", trial.value)\n",
        "print(\"  Params: \")\n",
        "for key, value in trial.params.items():\n",
        "    print(\"    {}: {}\".format(key, value))"
      ],
      "metadata": {
        "id": "c7toJTHmlRaE",
        "colab": {
          "base_uri": "https://localhost:8080/"
        },
        "outputId": "ea8385f3-f0e2-40cb-c74b-d85381c05149"
      },
      "execution_count": 110,
      "outputs": [
        {
          "output_type": "stream",
          "name": "stderr",
          "text": [
            "[I 2023-12-27 10:19:59,789] A new study created in memory with name: no-name-1bf4e9a0-cd22-409c-825a-6025d76decc6\n",
            "100%|██████████| 44/44 [00:02<00:00, 15.03it/s]\n",
            "100%|██████████| 44/44 [00:02<00:00, 15.22it/s]\n",
            "100%|██████████| 44/44 [00:02<00:00, 15.21it/s]\n",
            "100%|██████████| 44/44 [00:02<00:00, 15.09it/s]\n",
            "100%|██████████| 44/44 [00:02<00:00, 15.06it/s]\n",
            "100%|██████████| 44/44 [00:02<00:00, 15.12it/s]\n",
            "100%|██████████| 44/44 [00:02<00:00, 15.11it/s]\n",
            "100%|██████████| 44/44 [00:02<00:00, 15.12it/s]\n",
            "100%|██████████| 44/44 [00:02<00:00, 15.08it/s]\n",
            "100%|██████████| 44/44 [00:02<00:00, 15.11it/s]\n",
            "100%|██████████| 44/44 [00:02<00:00, 15.16it/s]\n",
            "100%|██████████| 44/44 [00:02<00:00, 15.16it/s]\n",
            "100%|██████████| 44/44 [00:02<00:00, 15.18it/s]\n",
            "100%|██████████| 44/44 [00:02<00:00, 15.15it/s]\n",
            "100%|██████████| 44/44 [00:02<00:00, 15.22it/s]\n",
            "100%|██████████| 44/44 [00:02<00:00, 15.23it/s]\n",
            "100%|██████████| 44/44 [00:02<00:00, 15.27it/s]\n",
            "100%|██████████| 44/44 [00:02<00:00, 15.23it/s]\n",
            "100%|██████████| 44/44 [00:02<00:00, 15.21it/s]\n",
            "100%|██████████| 44/44 [00:02<00:00, 15.23it/s]\n",
            "100%|██████████| 44/44 [00:02<00:00, 15.26it/s]\n",
            "100%|██████████| 44/44 [00:02<00:00, 15.26it/s]\n",
            "100%|██████████| 44/44 [00:02<00:00, 15.25it/s]\n",
            "100%|██████████| 44/44 [00:02<00:00, 15.16it/s]\n",
            "100%|██████████| 44/44 [00:02<00:00, 15.23it/s]\n",
            "100%|██████████| 44/44 [00:02<00:00, 15.26it/s]\n",
            "100%|██████████| 44/44 [00:02<00:00, 15.24it/s]\n",
            "100%|██████████| 44/44 [00:02<00:00, 15.17it/s]\n",
            "100%|██████████| 44/44 [00:02<00:00, 15.14it/s]\n",
            "100%|██████████| 44/44 [00:02<00:00, 15.21it/s]\n",
            "100%|██████████| 44/44 [00:02<00:00, 15.23it/s]\n",
            "100%|██████████| 44/44 [00:02<00:00, 15.21it/s]\n",
            "100%|██████████| 44/44 [00:02<00:00, 15.18it/s]\n",
            "100%|██████████| 44/44 [00:02<00:00, 15.14it/s]\n",
            "100%|██████████| 44/44 [00:02<00:00, 15.17it/s]\n",
            "100%|██████████| 44/44 [00:02<00:00, 15.22it/s]\n",
            "100%|██████████| 44/44 [00:02<00:00, 15.24it/s]\n",
            "100%|██████████| 44/44 [00:02<00:00, 15.17it/s]\n",
            "100%|██████████| 44/44 [00:02<00:00, 15.10it/s]\n",
            "100%|██████████| 44/44 [00:02<00:00, 15.23it/s]\n",
            "100%|██████████| 44/44 [00:02<00:00, 15.19it/s]\n",
            "100%|██████████| 44/44 [00:02<00:00, 15.22it/s]\n",
            "100%|██████████| 44/44 [00:02<00:00, 15.13it/s]\n",
            "100%|██████████| 44/44 [00:02<00:00, 15.16it/s]\n",
            "100%|██████████| 44/44 [00:02<00:00, 15.24it/s]\n",
            "100%|██████████| 44/44 [00:02<00:00, 15.26it/s]\n",
            "100%|██████████| 44/44 [00:02<00:00, 15.23it/s]\n",
            "100%|██████████| 44/44 [00:02<00:00, 15.17it/s]\n",
            "100%|██████████| 44/44 [00:02<00:00, 15.20it/s]\n",
            "100%|██████████| 44/44 [00:02<00:00, 15.25it/s]\n",
            "100%|██████████| 44/44 [00:02<00:00, 15.24it/s]\n",
            "100%|██████████| 44/44 [00:02<00:00, 15.27it/s]\n",
            "100%|██████████| 44/44 [00:02<00:00, 15.21it/s]\n",
            "100%|██████████| 44/44 [00:02<00:00, 15.15it/s]\n",
            "100%|██████████| 44/44 [00:02<00:00, 15.24it/s]\n",
            "100%|██████████| 44/44 [00:02<00:00, 15.26it/s]\n",
            "100%|██████████| 44/44 [00:02<00:00, 15.24it/s]\n",
            "100%|██████████| 44/44 [00:02<00:00, 15.14it/s]\n",
            "100%|██████████| 44/44 [00:02<00:00, 15.15it/s]\n",
            "100%|██████████| 44/44 [00:02<00:00, 15.22it/s]\n",
            "100%|██████████| 44/44 [00:02<00:00, 15.19it/s]\n",
            "100%|██████████| 44/44 [00:02<00:00, 15.19it/s]\n",
            "100%|██████████| 44/44 [00:02<00:00, 15.09it/s]\n",
            "100%|██████████| 44/44 [00:02<00:00, 15.18it/s]\n",
            "100%|██████████| 44/44 [00:02<00:00, 15.23it/s]\n",
            "100%|██████████| 44/44 [00:02<00:00, 15.22it/s]\n",
            "[I 2023-12-27 10:23:19,227] Trial 0 finished with value: 0.41253644314868804 and parameters: {'lr': 0.004045200864304976, 'batch_size': 128, 'num_epochs': 66, 'hidden_dim': 512, 'n_layers': 1, 'dropout': 0.4991922782724999}. Best is trial 0 with value: 0.41253644314868804.\n",
            "100%|██████████| 87/87 [00:05<00:00, 16.51it/s]\n",
            "100%|██████████| 87/87 [00:05<00:00, 16.61it/s]\n",
            "100%|██████████| 87/87 [00:05<00:00, 16.64it/s]\n",
            "100%|██████████| 87/87 [00:05<00:00, 16.52it/s]\n",
            "100%|██████████| 87/87 [00:05<00:00, 16.68it/s]\n",
            "100%|██████████| 87/87 [00:05<00:00, 16.60it/s]\n",
            "100%|██████████| 87/87 [00:05<00:00, 16.56it/s]\n",
            "100%|██████████| 87/87 [00:05<00:00, 16.63it/s]\n",
            "100%|██████████| 87/87 [00:05<00:00, 16.51it/s]\n",
            "100%|██████████| 87/87 [00:05<00:00, 16.49it/s]\n",
            "100%|██████████| 87/87 [00:05<00:00, 16.67it/s]\n",
            "100%|██████████| 87/87 [00:05<00:00, 16.50it/s]\n",
            "100%|██████████| 87/87 [00:05<00:00, 16.61it/s]\n",
            "100%|██████████| 87/87 [00:05<00:00, 16.67it/s]\n",
            "100%|██████████| 87/87 [00:05<00:00, 16.41it/s]\n",
            "100%|██████████| 87/87 [00:05<00:00, 16.68it/s]\n",
            "100%|██████████| 87/87 [00:05<00:00, 16.59it/s]\n",
            "100%|██████████| 87/87 [00:05<00:00, 16.54it/s]\n",
            "100%|██████████| 87/87 [00:05<00:00, 16.66it/s]\n",
            "100%|██████████| 87/87 [00:05<00:00, 16.56it/s]\n",
            "100%|██████████| 87/87 [00:05<00:00, 16.60it/s]\n",
            "100%|██████████| 87/87 [00:05<00:00, 16.66it/s]\n",
            "100%|██████████| 87/87 [00:05<00:00, 16.51it/s]\n",
            "100%|██████████| 87/87 [00:05<00:00, 16.65it/s]\n",
            "100%|██████████| 87/87 [00:05<00:00, 16.62it/s]\n",
            "100%|██████████| 87/87 [00:05<00:00, 16.50it/s]\n",
            "100%|██████████| 87/87 [00:05<00:00, 16.67it/s]\n",
            "100%|██████████| 87/87 [00:05<00:00, 16.61it/s]\n",
            "100%|██████████| 87/87 [00:05<00:00, 16.52it/s]\n",
            "100%|██████████| 87/87 [00:05<00:00, 16.67it/s]\n",
            "100%|██████████| 87/87 [00:05<00:00, 16.48it/s]\n",
            "100%|██████████| 87/87 [00:05<00:00, 16.58it/s]\n",
            "100%|██████████| 87/87 [00:05<00:00, 16.69it/s]\n",
            "100%|██████████| 87/87 [00:05<00:00, 16.51it/s]\n",
            "100%|██████████| 87/87 [00:05<00:00, 16.65it/s]\n",
            "100%|██████████| 87/87 [00:05<00:00, 16.63it/s]\n",
            "100%|██████████| 87/87 [00:05<00:00, 16.50it/s]\n",
            "100%|██████████| 87/87 [00:05<00:00, 16.67it/s]\n",
            "100%|██████████| 87/87 [00:05<00:00, 16.62it/s]\n",
            "100%|██████████| 87/87 [00:05<00:00, 16.58it/s]\n",
            "[I 2023-12-27 10:26:54,417] Trial 1 finished with value: 0.43440233236151604 and parameters: {'lr': 0.0003701820860230088, 'batch_size': 64, 'num_epochs': 40, 'hidden_dim': 256, 'n_layers': 3, 'dropout': 0.24624303544237602}. Best is trial 1 with value: 0.43440233236151604.\n",
            "100%|██████████| 174/174 [00:10<00:00, 17.29it/s]\n",
            "100%|██████████| 174/174 [00:09<00:00, 17.54it/s]\n",
            "100%|██████████| 174/174 [00:10<00:00, 17.32it/s]\n",
            "100%|██████████| 174/174 [00:10<00:00, 17.32it/s]\n",
            "100%|██████████| 174/174 [00:09<00:00, 17.54it/s]\n",
            "100%|██████████| 174/174 [00:10<00:00, 17.34it/s]\n",
            "100%|██████████| 174/174 [00:10<00:00, 17.28it/s]\n",
            "100%|██████████| 174/174 [00:09<00:00, 17.43it/s]\n",
            "100%|██████████| 174/174 [00:10<00:00, 17.16it/s]\n",
            "100%|██████████| 174/174 [00:10<00:00, 17.31it/s]\n",
            "100%|██████████| 174/174 [00:10<00:00, 17.33it/s]\n",
            "100%|██████████| 174/174 [00:09<00:00, 17.53it/s]\n",
            "100%|██████████| 174/174 [00:10<00:00, 17.30it/s]\n",
            "100%|██████████| 174/174 [00:10<00:00, 17.37it/s]\n",
            "100%|██████████| 174/174 [00:09<00:00, 17.53it/s]\n",
            "100%|██████████| 174/174 [00:10<00:00, 17.30it/s]\n",
            "100%|██████████| 174/174 [00:10<00:00, 17.29it/s]\n",
            "100%|██████████| 174/174 [00:09<00:00, 17.55it/s]\n",
            "100%|██████████| 174/174 [00:10<00:00, 17.35it/s]\n",
            "100%|██████████| 174/174 [00:10<00:00, 17.32it/s]\n",
            "100%|██████████| 174/174 [00:09<00:00, 17.49it/s]\n",
            "100%|██████████| 174/174 [00:09<00:00, 17.43it/s]\n",
            "100%|██████████| 174/174 [00:10<00:00, 17.32it/s]\n",
            "100%|██████████| 174/174 [00:10<00:00, 17.40it/s]\n",
            "100%|██████████| 174/174 [00:09<00:00, 17.43it/s]\n",
            "100%|██████████| 174/174 [00:10<00:00, 17.30it/s]\n",
            "100%|██████████| 174/174 [00:10<00:00, 17.36it/s]\n",
            "100%|██████████| 174/174 [00:09<00:00, 17.52it/s]\n",
            "100%|██████████| 174/174 [00:10<00:00, 17.32it/s]\n",
            "100%|██████████| 174/174 [00:10<00:00, 17.33it/s]\n",
            "100%|██████████| 174/174 [00:09<00:00, 17.51it/s]\n",
            "100%|██████████| 174/174 [00:10<00:00, 17.33it/s]\n",
            "100%|██████████| 174/174 [00:10<00:00, 17.34it/s]\n",
            "100%|██████████| 174/174 [00:09<00:00, 17.50it/s]\n",
            "100%|██████████| 174/174 [00:09<00:00, 17.40it/s]\n",
            "100%|██████████| 174/174 [00:10<00:00, 17.24it/s]\n",
            "100%|██████████| 174/174 [00:09<00:00, 17.42it/s]\n",
            "100%|██████████| 174/174 [00:09<00:00, 17.51it/s]\n",
            "100%|██████████| 174/174 [00:10<00:00, 17.34it/s]\n",
            "100%|██████████| 174/174 [00:10<00:00, 17.37it/s]\n",
            "100%|██████████| 174/174 [00:09<00:00, 17.55it/s]\n",
            "100%|██████████| 174/174 [00:10<00:00, 16.95it/s]\n",
            "100%|██████████| 174/174 [00:10<00:00, 17.13it/s]\n",
            "100%|██████████| 174/174 [00:09<00:00, 17.55it/s]\n",
            "[I 2023-12-27 10:34:21,628] Trial 2 finished with value: 0.46647230320699706 and parameters: {'lr': 0.0006917466438177522, 'batch_size': 32, 'num_epochs': 44, 'hidden_dim': 256, 'n_layers': 3, 'dropout': 0.22525440950265688}. Best is trial 2 with value: 0.46647230320699706.\n",
            "100%|██████████| 174/174 [00:23<00:00,  7.37it/s]\n",
            "100%|██████████| 174/174 [00:23<00:00,  7.32it/s]\n",
            "100%|██████████| 174/174 [00:23<00:00,  7.36it/s]\n",
            "100%|██████████| 174/174 [00:23<00:00,  7.37it/s]\n",
            "100%|██████████| 174/174 [00:23<00:00,  7.38it/s]\n",
            "100%|██████████| 174/174 [00:23<00:00,  7.36it/s]\n",
            "100%|██████████| 174/174 [00:23<00:00,  7.39it/s]\n",
            "100%|██████████| 174/174 [00:23<00:00,  7.38it/s]\n",
            "100%|██████████| 174/174 [00:23<00:00,  7.36it/s]\n",
            "100%|██████████| 174/174 [00:23<00:00,  7.38it/s]\n",
            "100%|██████████| 174/174 [00:23<00:00,  7.39it/s]\n",
            "100%|██████████| 174/174 [00:23<00:00,  7.42it/s]\n",
            "100%|██████████| 174/174 [00:23<00:00,  7.45it/s]\n",
            "100%|██████████| 174/174 [00:23<00:00,  7.42it/s]\n",
            "100%|██████████| 174/174 [00:23<00:00,  7.41it/s]\n",
            "100%|██████████| 174/174 [00:23<00:00,  7.44it/s]\n",
            "100%|██████████| 174/174 [00:23<00:00,  7.44it/s]\n",
            "100%|██████████| 174/174 [00:23<00:00,  7.45it/s]\n",
            "100%|██████████| 174/174 [00:23<00:00,  7.48it/s]\n",
            "100%|██████████| 174/174 [00:23<00:00,  7.46it/s]\n",
            "100%|██████████| 174/174 [00:23<00:00,  7.45it/s]\n",
            "100%|██████████| 174/174 [00:23<00:00,  7.46it/s]\n",
            "100%|██████████| 174/174 [00:23<00:00,  7.45it/s]\n",
            "100%|██████████| 174/174 [00:23<00:00,  7.48it/s]\n",
            "100%|██████████| 174/174 [00:23<00:00,  7.48it/s]\n",
            "100%|██████████| 174/174 [00:23<00:00,  7.47it/s]\n",
            "100%|██████████| 174/174 [00:23<00:00,  7.47it/s]\n",
            "100%|██████████| 174/174 [00:23<00:00,  7.46it/s]\n",
            "100%|██████████| 174/174 [00:23<00:00,  7.48it/s]\n",
            "100%|██████████| 174/174 [00:23<00:00,  7.50it/s]\n",
            "100%|██████████| 174/174 [00:23<00:00,  7.48it/s]\n",
            "100%|██████████| 174/174 [00:23<00:00,  7.49it/s]\n",
            "100%|██████████| 174/174 [00:23<00:00,  7.49it/s]\n",
            "100%|██████████| 174/174 [00:23<00:00,  7.49it/s]\n",
            "100%|██████████| 174/174 [00:23<00:00,  7.48it/s]\n",
            "100%|██████████| 174/174 [00:23<00:00,  7.48it/s]\n",
            "100%|██████████| 174/174 [00:23<00:00,  7.48it/s]\n",
            "100%|██████████| 174/174 [00:23<00:00,  7.48it/s]\n",
            "100%|██████████| 174/174 [00:23<00:00,  7.50it/s]\n",
            "100%|██████████| 174/174 [00:23<00:00,  7.49it/s]\n",
            "100%|██████████| 174/174 [00:23<00:00,  7.49it/s]\n",
            "100%|██████████| 174/174 [00:23<00:00,  7.49it/s]\n",
            "100%|██████████| 174/174 [00:23<00:00,  7.48it/s]\n",
            "100%|██████████| 174/174 [00:23<00:00,  7.48it/s]\n",
            "100%|██████████| 174/174 [00:23<00:00,  7.49it/s]\n",
            "100%|██████████| 174/174 [00:23<00:00,  7.49it/s]\n",
            "100%|██████████| 174/174 [00:23<00:00,  7.50it/s]\n",
            "100%|██████████| 174/174 [00:23<00:00,  7.47it/s]\n",
            "100%|██████████| 174/174 [00:23<00:00,  7.46it/s]\n",
            "100%|██████████| 174/174 [00:23<00:00,  7.48it/s]\n",
            "100%|██████████| 174/174 [00:23<00:00,  7.48it/s]\n",
            "100%|██████████| 174/174 [00:23<00:00,  7.49it/s]\n",
            "100%|██████████| 174/174 [00:23<00:00,  7.50it/s]\n",
            "100%|██████████| 174/174 [00:23<00:00,  7.47it/s]\n",
            "100%|██████████| 174/174 [00:23<00:00,  7.47it/s]\n",
            "100%|██████████| 174/174 [00:23<00:00,  7.48it/s]\n",
            "[I 2023-12-27 10:56:52,837] Trial 3 finished with value: 0.4139941690962099 and parameters: {'lr': 0.0011960842327001832, 'batch_size': 32, 'num_epochs': 56, 'hidden_dim': 1024, 'n_layers': 5, 'dropout': 0.26423521728676536}. Best is trial 2 with value: 0.46647230320699706.\n",
            "100%|██████████| 87/87 [00:04<00:00, 17.98it/s]\n",
            "100%|██████████| 87/87 [00:04<00:00, 18.42it/s]\n",
            "100%|██████████| 87/87 [00:04<00:00, 18.46it/s]\n",
            "100%|██████████| 87/87 [00:04<00:00, 18.31it/s]\n",
            "100%|██████████| 87/87 [00:04<00:00, 18.43it/s]\n",
            "100%|██████████| 87/87 [00:04<00:00, 18.48it/s]\n",
            "100%|██████████| 87/87 [00:04<00:00, 18.32it/s]\n",
            "100%|██████████| 87/87 [00:04<00:00, 18.40it/s]\n",
            "100%|██████████| 87/87 [00:04<00:00, 18.48it/s]\n",
            "100%|██████████| 87/87 [00:04<00:00, 18.35it/s]\n",
            "100%|██████████| 87/87 [00:04<00:00, 18.39it/s]\n",
            "100%|██████████| 87/87 [00:04<00:00, 18.47it/s]\n",
            "100%|██████████| 87/87 [00:04<00:00, 18.36it/s]\n",
            "100%|██████████| 87/87 [00:04<00:00, 18.39it/s]\n",
            "100%|██████████| 87/87 [00:04<00:00, 18.45it/s]\n",
            "100%|██████████| 87/87 [00:04<00:00, 18.37it/s]\n",
            "100%|██████████| 87/87 [00:04<00:00, 18.36it/s]\n",
            "100%|██████████| 87/87 [00:04<00:00, 18.47it/s]\n",
            "100%|██████████| 87/87 [00:04<00:00, 18.35it/s]\n",
            "100%|██████████| 87/87 [00:04<00:00, 18.32it/s]\n",
            "100%|██████████| 87/87 [00:04<00:00, 18.46it/s]\n",
            "100%|██████████| 87/87 [00:04<00:00, 18.38it/s]\n",
            "100%|██████████| 87/87 [00:04<00:00, 18.35it/s]\n",
            "100%|██████████| 87/87 [00:04<00:00, 18.46it/s]\n",
            "100%|██████████| 87/87 [00:04<00:00, 18.41it/s]\n",
            "100%|██████████| 87/87 [00:04<00:00, 18.31it/s]\n",
            "100%|██████████| 87/87 [00:04<00:00, 18.45it/s]\n",
            "100%|██████████| 87/87 [00:04<00:00, 18.42it/s]\n",
            "100%|██████████| 87/87 [00:04<00:00, 18.31it/s]\n",
            "100%|██████████| 87/87 [00:04<00:00, 18.47it/s]\n",
            "100%|██████████| 87/87 [00:04<00:00, 18.44it/s]\n",
            "100%|██████████| 87/87 [00:04<00:00, 18.30it/s]\n",
            "100%|██████████| 87/87 [00:04<00:00, 18.43it/s]\n",
            "100%|██████████| 87/87 [00:04<00:00, 18.43it/s]\n",
            "100%|██████████| 87/87 [00:04<00:00, 18.27it/s]\n",
            "100%|██████████| 87/87 [00:04<00:00, 18.46it/s]\n",
            "100%|██████████| 87/87 [00:04<00:00, 18.43it/s]\n",
            "100%|██████████| 87/87 [00:04<00:00, 18.27it/s]\n",
            "100%|██████████| 87/87 [00:04<00:00, 18.44it/s]\n",
            "100%|██████████| 87/87 [00:04<00:00, 18.43it/s]\n",
            "100%|██████████| 87/87 [00:04<00:00, 18.25it/s]\n",
            "100%|██████████| 87/87 [00:04<00:00, 18.45it/s]\n",
            "100%|██████████| 87/87 [00:04<00:00, 18.47it/s]\n",
            "100%|██████████| 87/87 [00:04<00:00, 18.30it/s]\n",
            "100%|██████████| 87/87 [00:04<00:00, 18.42it/s]\n",
            "100%|██████████| 87/87 [00:04<00:00, 18.45it/s]\n",
            "100%|██████████| 87/87 [00:04<00:00, 18.27it/s]\n",
            "100%|██████████| 87/87 [00:04<00:00, 18.44it/s]\n",
            "100%|██████████| 87/87 [00:04<00:00, 18.48it/s]\n",
            "100%|██████████| 87/87 [00:04<00:00, 18.29it/s]\n",
            "100%|██████████| 87/87 [00:04<00:00, 18.40it/s]\n",
            "100%|██████████| 87/87 [00:04<00:00, 18.44it/s]\n",
            "100%|██████████| 87/87 [00:04<00:00, 18.34it/s]\n",
            "100%|██████████| 87/87 [00:04<00:00, 18.41it/s]\n",
            "100%|██████████| 87/87 [00:04<00:00, 18.46it/s]\n",
            "100%|██████████| 87/87 [00:04<00:00, 18.34it/s]\n",
            "100%|██████████| 87/87 [00:04<00:00, 18.36it/s]\n",
            "100%|██████████| 87/87 [00:04<00:00, 18.47it/s]\n",
            "100%|██████████| 87/87 [00:04<00:00, 18.36it/s]\n",
            "100%|██████████| 87/87 [00:04<00:00, 18.40it/s]\n",
            "100%|██████████| 87/87 [00:04<00:00, 18.46it/s]\n",
            "[I 2023-12-27 11:01:47,686] Trial 4 finished with value: 0.45626822157434405 and parameters: {'lr': 0.0013273063031513802, 'batch_size': 64, 'num_epochs': 61, 'hidden_dim': 128, 'n_layers': 2, 'dropout': 0.4852682140503427}. Best is trial 2 with value: 0.46647230320699706.\n",
            "100%|██████████| 174/174 [00:09<00:00, 18.23it/s]\n",
            "100%|██████████| 174/174 [00:09<00:00, 18.29it/s]\n",
            "100%|██████████| 174/174 [00:09<00:00, 18.36it/s]\n",
            "100%|██████████| 174/174 [00:09<00:00, 18.26it/s]\n",
            "100%|██████████| 174/174 [00:09<00:00, 18.31it/s]\n",
            "100%|██████████| 174/174 [00:09<00:00, 18.37it/s]\n",
            "100%|██████████| 174/174 [00:09<00:00, 18.29it/s]\n",
            "100%|██████████| 174/174 [00:09<00:00, 18.33it/s]\n",
            "100%|██████████| 174/174 [00:09<00:00, 18.32it/s]\n",
            "100%|██████████| 174/174 [00:09<00:00, 18.38it/s]\n",
            "100%|██████████| 174/174 [00:09<00:00, 18.50it/s]\n",
            "100%|██████████| 174/174 [00:09<00:00, 18.39it/s]\n",
            "100%|██████████| 174/174 [00:09<00:00, 18.24it/s]\n",
            "100%|██████████| 174/174 [00:09<00:00, 18.38it/s]\n",
            "100%|██████████| 174/174 [00:09<00:00, 18.28it/s]\n",
            "100%|██████████| 174/174 [00:09<00:00, 18.27it/s]\n",
            "100%|██████████| 174/174 [00:09<00:00, 18.37it/s]\n",
            "100%|██████████| 174/174 [00:09<00:00, 18.28it/s]\n",
            "100%|██████████| 174/174 [00:09<00:00, 18.30it/s]\n",
            "100%|██████████| 174/174 [00:09<00:00, 18.37it/s]\n",
            "100%|██████████| 174/174 [00:09<00:00, 18.27it/s]\n",
            "100%|██████████| 174/174 [00:09<00:00, 18.32it/s]\n",
            "100%|██████████| 174/174 [00:09<00:00, 18.40it/s]\n",
            "100%|██████████| 174/174 [00:09<00:00, 18.43it/s]\n",
            "100%|██████████| 174/174 [00:09<00:00, 18.51it/s]\n",
            "100%|██████████| 174/174 [00:09<00:00, 18.49it/s]\n",
            "100%|██████████| 174/174 [00:09<00:00, 18.40it/s]\n",
            "100%|██████████| 174/174 [00:09<00:00, 18.52it/s]\n",
            "100%|██████████| 174/174 [00:09<00:00, 18.43it/s]\n",
            "100%|██████████| 174/174 [00:09<00:00, 18.27it/s]\n",
            "100%|██████████| 174/174 [00:09<00:00, 18.54it/s]\n",
            "100%|██████████| 174/174 [00:09<00:00, 18.46it/s]\n",
            "100%|██████████| 174/174 [00:09<00:00, 18.48it/s]\n",
            "100%|██████████| 174/174 [00:09<00:00, 18.50it/s]\n",
            "100%|██████████| 174/174 [00:09<00:00, 18.44it/s]\n",
            "100%|██████████| 174/174 [00:09<00:00, 18.51it/s]\n",
            "100%|██████████| 174/174 [00:09<00:00, 18.48it/s]\n",
            "100%|██████████| 174/174 [00:09<00:00, 18.45it/s]\n",
            "100%|██████████| 174/174 [00:09<00:00, 18.50it/s]\n",
            "100%|██████████| 174/174 [00:09<00:00, 18.48it/s]\n",
            "100%|██████████| 174/174 [00:09<00:00, 18.44it/s]\n",
            "100%|██████████| 174/174 [00:09<00:00, 18.55it/s]\n",
            "100%|██████████| 174/174 [00:09<00:00, 18.44it/s]\n",
            "100%|██████████| 174/174 [00:09<00:00, 18.45it/s]\n",
            "100%|██████████| 174/174 [00:09<00:00, 18.55it/s]\n",
            "[I 2023-12-27 11:08:59,061] Trial 5 finished with value: 0.44169096209912534 and parameters: {'lr': 0.001890102771160136, 'batch_size': 32, 'num_epochs': 45, 'hidden_dim': 128, 'n_layers': 4, 'dropout': 0.26575647591123686}. Best is trial 2 with value: 0.46647230320699706.\n",
            "100%|██████████| 87/87 [00:05<00:00, 14.98it/s]\n",
            "100%|██████████| 87/87 [00:05<00:00, 15.09it/s]\n",
            "100%|██████████| 87/87 [00:05<00:00, 15.00it/s]\n",
            "100%|██████████| 87/87 [00:05<00:00, 15.05it/s]\n",
            "100%|██████████| 87/87 [00:05<00:00, 15.06it/s]\n",
            "100%|██████████| 87/87 [00:05<00:00, 15.01it/s]\n",
            "100%|██████████| 87/87 [00:05<00:00, 15.09it/s]\n",
            "100%|██████████| 87/87 [00:05<00:00, 14.99it/s]\n",
            "100%|██████████| 87/87 [00:05<00:00, 15.10it/s]\n",
            "100%|██████████| 87/87 [00:05<00:00, 15.05it/s]\n",
            "100%|██████████| 87/87 [00:05<00:00, 15.00it/s]\n",
            "100%|██████████| 87/87 [00:05<00:00, 15.09it/s]\n",
            "100%|██████████| 87/87 [00:05<00:00, 14.97it/s]\n",
            "100%|██████████| 87/87 [00:05<00:00, 15.10it/s]\n",
            "100%|██████████| 87/87 [00:05<00:00, 15.03it/s]\n",
            "100%|██████████| 87/87 [00:05<00:00, 15.04it/s]\n",
            "100%|██████████| 87/87 [00:05<00:00, 15.10it/s]\n",
            "100%|██████████| 87/87 [00:05<00:00, 14.97it/s]\n",
            "100%|██████████| 87/87 [00:05<00:00, 15.10it/s]\n",
            "100%|██████████| 87/87 [00:05<00:00, 15.06it/s]\n",
            "100%|██████████| 87/87 [00:05<00:00, 15.02it/s]\n",
            "100%|██████████| 87/87 [00:05<00:00, 15.12it/s]\n",
            "100%|██████████| 87/87 [00:05<00:00, 14.99it/s]\n",
            "100%|██████████| 87/87 [00:05<00:00, 15.10it/s]\n",
            "100%|██████████| 87/87 [00:05<00:00, 15.05it/s]\n",
            "100%|██████████| 87/87 [00:05<00:00, 15.03it/s]\n",
            "100%|██████████| 87/87 [00:05<00:00, 15.10it/s]\n",
            "100%|██████████| 87/87 [00:05<00:00, 14.95it/s]\n",
            "100%|██████████| 87/87 [00:05<00:00, 15.10it/s]\n",
            "100%|██████████| 87/87 [00:05<00:00, 14.99it/s]\n",
            "100%|██████████| 87/87 [00:05<00:00, 15.03it/s]\n",
            "100%|██████████| 87/87 [00:05<00:00, 15.05it/s]\n",
            "[I 2023-12-27 11:12:09,768] Trial 6 finished with value: 0.41690962099125367 and parameters: {'lr': 0.0016302756640786634, 'batch_size': 64, 'num_epochs': 32, 'hidden_dim': 256, 'n_layers': 5, 'dropout': 0.3585694680977908}. Best is trial 2 with value: 0.46647230320699706.\n",
            "100%|██████████| 44/44 [00:03<00:00, 11.43it/s]\n",
            "100%|██████████| 44/44 [00:03<00:00, 11.55it/s]\n",
            "100%|██████████| 44/44 [00:03<00:00, 11.55it/s]\n",
            "100%|██████████| 44/44 [00:03<00:00, 11.42it/s]\n",
            "100%|██████████| 44/44 [00:03<00:00, 11.46it/s]\n",
            "100%|██████████| 44/44 [00:03<00:00, 11.46it/s]\n",
            "100%|██████████| 44/44 [00:03<00:00, 11.49it/s]\n",
            "100%|██████████| 44/44 [00:03<00:00, 11.49it/s]\n",
            "100%|██████████| 44/44 [00:03<00:00, 11.52it/s]\n",
            "100%|██████████| 44/44 [00:03<00:00, 11.54it/s]\n",
            "100%|██████████| 44/44 [00:03<00:00, 11.53it/s]\n",
            "100%|██████████| 44/44 [00:03<00:00, 11.47it/s]\n",
            "100%|██████████| 44/44 [00:03<00:00, 11.56it/s]\n",
            "100%|██████████| 44/44 [00:03<00:00, 11.56it/s]\n",
            "100%|██████████| 44/44 [00:03<00:00, 11.53it/s]\n",
            "100%|██████████| 44/44 [00:03<00:00, 11.57it/s]\n",
            "100%|██████████| 44/44 [00:03<00:00, 11.56it/s]\n",
            "100%|██████████| 44/44 [00:03<00:00, 11.55it/s]\n",
            "100%|██████████| 44/44 [00:03<00:00, 11.49it/s]\n",
            "100%|██████████| 44/44 [00:03<00:00, 11.59it/s]\n",
            "100%|██████████| 44/44 [00:03<00:00, 11.55it/s]\n",
            "100%|██████████| 44/44 [00:03<00:00, 11.55it/s]\n",
            "100%|██████████| 44/44 [00:03<00:00, 11.49it/s]\n",
            "100%|██████████| 44/44 [00:03<00:00, 11.58it/s]\n",
            "100%|██████████| 44/44 [00:03<00:00, 11.55it/s]\n",
            "100%|██████████| 44/44 [00:03<00:00, 11.53it/s]\n",
            "100%|██████████| 44/44 [00:03<00:00, 11.50it/s]\n",
            "100%|██████████| 44/44 [00:03<00:00, 11.50it/s]\n",
            "100%|██████████| 44/44 [00:03<00:00, 11.54it/s]\n",
            "100%|██████████| 44/44 [00:03<00:00, 11.52it/s]\n",
            "100%|██████████| 44/44 [00:03<00:00, 11.52it/s]\n",
            "100%|██████████| 44/44 [00:03<00:00, 11.54it/s]\n",
            "100%|██████████| 44/44 [00:03<00:00, 11.53it/s]\n",
            "100%|██████████| 44/44 [00:03<00:00, 11.49it/s]\n",
            "100%|██████████| 44/44 [00:03<00:00, 11.59it/s]\n",
            "100%|██████████| 44/44 [00:03<00:00, 11.57it/s]\n",
            "100%|██████████| 44/44 [00:03<00:00, 11.52it/s]\n",
            "100%|██████████| 44/44 [00:03<00:00, 11.49it/s]\n",
            "100%|██████████| 44/44 [00:03<00:00, 11.54it/s]\n",
            "100%|██████████| 44/44 [00:03<00:00, 11.51it/s]\n",
            "100%|██████████| 44/44 [00:03<00:00, 11.54it/s]\n",
            "100%|██████████| 44/44 [00:03<00:00, 11.55it/s]\n",
            "100%|██████████| 44/44 [00:03<00:00, 11.56it/s]\n",
            "100%|██████████| 44/44 [00:03<00:00, 11.53it/s]\n",
            "100%|██████████| 44/44 [00:03<00:00, 11.52it/s]\n",
            "100%|██████████| 44/44 [00:03<00:00, 11.55it/s]\n",
            "100%|██████████| 44/44 [00:03<00:00, 11.55it/s]\n",
            "100%|██████████| 44/44 [00:03<00:00, 11.57it/s]\n",
            "100%|██████████| 44/44 [00:03<00:00, 11.49it/s]\n",
            "100%|██████████| 44/44 [00:03<00:00, 11.55it/s]\n",
            "[I 2023-12-27 11:15:29,531] Trial 7 finished with value: 0.43731778425655976 and parameters: {'lr': 0.003050677856560718, 'batch_size': 128, 'num_epochs': 50, 'hidden_dim': 512, 'n_layers': 2, 'dropout': 0.3153436066115554}. Best is trial 2 with value: 0.46647230320699706.\n",
            "100%|██████████| 87/87 [00:09<00:00,  9.26it/s]\n",
            "100%|██████████| 87/87 [00:09<00:00,  9.24it/s]\n",
            "100%|██████████| 87/87 [00:09<00:00,  9.19it/s]\n",
            "100%|██████████| 87/87 [00:09<00:00,  9.21it/s]\n",
            "100%|██████████| 87/87 [00:09<00:00,  9.20it/s]\n",
            "100%|██████████| 87/87 [00:09<00:00,  9.17it/s]\n",
            "100%|██████████| 87/87 [00:09<00:00,  9.19it/s]\n",
            "100%|██████████| 87/87 [00:09<00:00,  9.19it/s]\n",
            "100%|██████████| 87/87 [00:09<00:00,  9.17it/s]\n",
            "100%|██████████| 87/87 [00:09<00:00,  9.17it/s]\n",
            "100%|██████████| 87/87 [00:09<00:00,  9.18it/s]\n",
            "100%|██████████| 87/87 [00:09<00:00,  9.17it/s]\n",
            "100%|██████████| 87/87 [00:09<00:00,  9.15it/s]\n",
            "100%|██████████| 87/87 [00:09<00:00,  9.18it/s]\n",
            "100%|██████████| 87/87 [00:09<00:00,  9.17it/s]\n",
            "100%|██████████| 87/87 [00:09<00:00,  9.17it/s]\n",
            "100%|██████████| 87/87 [00:09<00:00,  9.16it/s]\n",
            "100%|██████████| 87/87 [00:09<00:00,  9.16it/s]\n",
            "100%|██████████| 87/87 [00:09<00:00,  9.18it/s]\n",
            "100%|██████████| 87/87 [00:09<00:00,  9.18it/s]\n",
            "100%|██████████| 87/87 [00:09<00:00,  9.17it/s]\n",
            "100%|██████████| 87/87 [00:09<00:00,  9.16it/s]\n",
            "100%|██████████| 87/87 [00:09<00:00,  9.19it/s]\n",
            "100%|██████████| 87/87 [00:09<00:00,  9.16it/s]\n",
            "100%|██████████| 87/87 [00:09<00:00,  9.18it/s]\n",
            "100%|██████████| 87/87 [00:09<00:00,  9.17it/s]\n",
            "100%|██████████| 87/87 [00:09<00:00,  9.18it/s]\n",
            "100%|██████████| 87/87 [00:09<00:00,  9.16it/s]\n",
            "100%|██████████| 87/87 [00:09<00:00,  9.17it/s]\n",
            "100%|██████████| 87/87 [00:09<00:00,  9.14it/s]\n",
            "100%|██████████| 87/87 [00:09<00:00,  9.19it/s]\n",
            "100%|██████████| 87/87 [00:09<00:00,  9.17it/s]\n",
            "100%|██████████| 87/87 [00:09<00:00,  9.16it/s]\n",
            "100%|██████████| 87/87 [00:09<00:00,  9.16it/s]\n",
            "100%|██████████| 87/87 [00:09<00:00,  9.18it/s]\n",
            "100%|██████████| 87/87 [00:09<00:00,  9.15it/s]\n",
            "100%|██████████| 87/87 [00:09<00:00,  9.18it/s]\n",
            "100%|██████████| 87/87 [00:09<00:00,  9.16it/s]\n",
            "100%|██████████| 87/87 [00:09<00:00,  9.15it/s]\n",
            "100%|██████████| 87/87 [00:09<00:00,  9.17it/s]\n",
            "100%|██████████| 87/87 [00:09<00:00,  9.18it/s]\n",
            "100%|██████████| 87/87 [00:09<00:00,  9.14it/s]\n",
            "100%|██████████| 87/87 [00:09<00:00,  9.19it/s]\n",
            "100%|██████████| 87/87 [00:09<00:00,  9.19it/s]\n",
            "100%|██████████| 87/87 [00:09<00:00,  9.15it/s]\n",
            "100%|██████████| 87/87 [00:09<00:00,  9.18it/s]\n",
            "100%|██████████| 87/87 [00:09<00:00,  9.18it/s]\n",
            "100%|██████████| 87/87 [00:09<00:00,  9.17it/s]\n",
            "[I 2023-12-27 11:23:19,343] Trial 8 finished with value: 0.4956268221574344 and parameters: {'lr': 0.0012040014335173536, 'batch_size': 64, 'num_epochs': 48, 'hidden_dim': 1024, 'n_layers': 2, 'dropout': 0.2826899765491363}. Best is trial 8 with value: 0.4956268221574344.\n",
            "100%|██████████| 87/87 [00:04<00:00, 17.74it/s]\n",
            "100%|██████████| 87/87 [00:04<00:00, 17.73it/s]\n",
            "100%|██████████| 87/87 [00:04<00:00, 17.67it/s]\n",
            "100%|██████████| 87/87 [00:04<00:00, 17.75it/s]\n",
            "100%|██████████| 87/87 [00:04<00:00, 17.67it/s]\n",
            "100%|██████████| 87/87 [00:04<00:00, 17.67it/s]\n",
            "100%|██████████| 87/87 [00:04<00:00, 17.75it/s]\n",
            "100%|██████████| 87/87 [00:04<00:00, 17.62it/s]\n",
            "100%|██████████| 87/87 [00:04<00:00, 17.65it/s]\n",
            "100%|██████████| 87/87 [00:04<00:00, 17.72it/s]\n",
            "100%|██████████| 87/87 [00:04<00:00, 17.67it/s]\n",
            "100%|██████████| 87/87 [00:04<00:00, 17.64it/s]\n",
            "100%|██████████| 87/87 [00:04<00:00, 17.74it/s]\n",
            "100%|██████████| 87/87 [00:04<00:00, 17.65it/s]\n",
            "100%|██████████| 87/87 [00:04<00:00, 17.63it/s]\n",
            "100%|██████████| 87/87 [00:04<00:00, 17.76it/s]\n",
            "100%|██████████| 87/87 [00:04<00:00, 17.61it/s]\n",
            "100%|██████████| 87/87 [00:04<00:00, 17.68it/s]\n",
            "100%|██████████| 87/87 [00:04<00:00, 17.75it/s]\n",
            "100%|██████████| 87/87 [00:04<00:00, 17.62it/s]\n",
            "100%|██████████| 87/87 [00:04<00:00, 17.67it/s]\n",
            "100%|██████████| 87/87 [00:04<00:00, 17.72it/s]\n",
            "100%|██████████| 87/87 [00:04<00:00, 17.64it/s]\n",
            "100%|██████████| 87/87 [00:04<00:00, 17.65it/s]\n",
            "100%|██████████| 87/87 [00:04<00:00, 17.73it/s]\n",
            "100%|██████████| 87/87 [00:04<00:00, 17.56it/s]\n",
            "100%|██████████| 87/87 [00:04<00:00, 17.67it/s]\n",
            "100%|██████████| 87/87 [00:04<00:00, 17.75it/s]\n",
            "100%|██████████| 87/87 [00:04<00:00, 17.63it/s]\n",
            "100%|██████████| 87/87 [00:04<00:00, 17.70it/s]\n",
            "100%|██████████| 87/87 [00:04<00:00, 17.73it/s]\n",
            "100%|██████████| 87/87 [00:04<00:00, 17.59it/s]\n",
            "100%|██████████| 87/87 [00:04<00:00, 17.72it/s]\n",
            "100%|██████████| 87/87 [00:04<00:00, 17.72it/s]\n",
            "100%|██████████| 87/87 [00:04<00:00, 17.58it/s]\n",
            "100%|██████████| 87/87 [00:04<00:00, 17.73it/s]\n",
            "100%|██████████| 87/87 [00:04<00:00, 17.71it/s]\n",
            "100%|██████████| 87/87 [00:04<00:00, 17.60it/s]\n",
            "100%|██████████| 87/87 [00:04<00:00, 17.72it/s]\n",
            "100%|██████████| 87/87 [00:04<00:00, 17.75it/s]\n",
            "100%|██████████| 87/87 [00:04<00:00, 17.58it/s]\n",
            "100%|██████████| 87/87 [00:04<00:00, 17.75it/s]\n",
            "100%|██████████| 87/87 [00:04<00:00, 17.72it/s]\n",
            "100%|██████████| 87/87 [00:04<00:00, 17.59it/s]\n",
            "100%|██████████| 87/87 [00:04<00:00, 17.75it/s]\n",
            "100%|██████████| 87/87 [00:04<00:00, 17.67it/s]\n",
            "100%|██████████| 87/87 [00:04<00:00, 17.61it/s]\n",
            "100%|██████████| 87/87 [00:04<00:00, 17.73it/s]\n",
            "100%|██████████| 87/87 [00:04<00:00, 17.67it/s]\n",
            "100%|██████████| 87/87 [00:04<00:00, 17.62it/s]\n",
            "100%|██████████| 87/87 [00:04<00:00, 17.73it/s]\n",
            "100%|██████████| 87/87 [00:04<00:00, 17.70it/s]\n",
            "[I 2023-12-27 11:27:41,471] Trial 9 finished with value: 0.41836734693877553 and parameters: {'lr': 0.0009323806783871542, 'batch_size': 64, 'num_epochs': 52, 'hidden_dim': 128, 'n_layers': 5, 'dropout': 0.2806691812010031}. Best is trial 8 with value: 0.4956268221574344.\n"
          ]
        },
        {
          "output_type": "stream",
          "name": "stdout",
          "text": [
            "Best trial:\n",
            "  Value:  0.4956268221574344\n",
            "  Params: \n",
            "    lr: 0.0012040014335173536\n",
            "    batch_size: 64\n",
            "    num_epochs: 48\n",
            "    hidden_dim: 1024\n",
            "    n_layers: 2\n",
            "    dropout: 0.2826899765491363\n"
          ]
        }
      ]
    },
    {
      "cell_type": "markdown",
      "source": [
        "Best trial:\n",
        "* Value:  0.4956268221574344\n",
        "    \n",
        "* Params\n",
        "\n",
        "    + lr: 0.0012040014335173536\n",
        "    + batch_size: 64\n",
        "    + num_epochs: 48\n",
        "    + hidden_dim: 1024\n",
        "    + n_layers: 2\n",
        "    + dropout: 0.2826899765491363\n",
        "\n",
        "\n",
        "\n"
      ],
      "metadata": {
        "id": "jt0yZ0fZtovG"
      }
    },
    {
      "cell_type": "markdown",
      "source": [
        " ## Model With Hyperparameters Tuned"
      ],
      "metadata": {
        "id": "a-ZwXoVCtPzn"
      }
    },
    {
      "cell_type": "code",
      "source": [
        "lr = 0.0012040014335173536\n",
        "batch_size = 64\n",
        "num_epochs = 48\n",
        "hidden_dim = 1024\n",
        "n_layers = 2\n",
        "dropout = 0.2826899765491363\n",
        "train_dataloader = DataLoader(train_dataset, batch_size=batch_size, collate_fn=train_dataset.collate_fn)\n",
        "val_dataloader = DataLoader(val_dataset, batch_size=64, collate_fn=val_dataset.collate_fn)\n",
        "test_dataloader = DataLoader(test_dataset, batch_size=64, collate_fn=test_dataset.collate_fn)\n",
        "\n",
        "model = get_model(embedding_dim=100, hidden_dim=hidden_dim, n_layers=n_layers, n_labels=7, bidirectional=True, dropout=dropout, device=device, name_model = 'GRU', transfer = True)\n",
        "#model = get_model(embedding_dim=100, hidden_dim=512, n_layers=2, n_labels=7, bidirectional=True, dropout=0.5, device=device, name_model = 'GRU', transfer = True)\n",
        "model.to(device)\n",
        "\n",
        "# Generate optimizer\n",
        "optimizer = torch.optim.Adam(model.parameters(), lr=lr)\n",
        "loss_fn = torch.nn.CrossEntropyLoss(weight=class_weights)\n",
        "\n",
        "train_loss_list = []\n",
        "train_acc_list = []\n",
        "valid_loss_list = []\n",
        "valid_acc_list = []\n",
        "\n",
        "def epoch_time(start_time, end_time):\n",
        "    elapsed_time = end_time - start_time\n",
        "    elapsed_mins = int(elapsed_time / 60)\n",
        "    elapsed_secs = int(elapsed_time - (elapsed_mins * 60))\n",
        "    return elapsed_mins, elapsed_secs\n",
        "\n",
        "best_valid_acc = 0.44\n",
        "\n",
        "import time\n",
        "for epoch in range(num_epochs):\n",
        "    start_time = time.time()\n",
        "    train_loss, train_acc = train(model, train_dataloader, optimizer, loss_fn, device)\n",
        "    valid_loss, valid_acc = evaluate(model, val_dataloader, loss_fn, device)\n",
        "    end_time = time.time()\n",
        "\n",
        "    epoch_mins, epoch_secs = epoch_time(start_time, end_time)\n",
        "\n",
        "    print(f\"Epoch: {epoch+1:02} | Epoch Time: {epoch_mins}m {epoch_secs}s\")\n",
        "    print(f\"\\tTrain Loss: {train_loss:.3f} | Train Acc: {train_acc*100:.2f}%\")\n",
        "    print(f\"\\t Val. Loss: {valid_loss:.3f} |  Val. Acc: {valid_acc*100:.2f}%\")\n",
        "    train_loss_list.append(train_loss)\n",
        "    train_acc_list.append(train_acc)\n",
        "    valid_loss_list.append(valid_loss)\n",
        "    valid_acc_list.append(valid_acc)\n",
        "\n",
        "    if valid_acc > best_valid_acc:\n",
        "        best_valid_acc = valid_acc\n",
        "        torch.save(model.state_dict(), f\"final_model_tuned_{epoch}.pt\")"
      ],
      "metadata": {
        "id": "Y_gm-8KXtRm-",
        "colab": {
          "base_uri": "https://localhost:8080/"
        },
        "outputId": "04738f03-319d-4c80-a60c-de822a59f831"
      },
      "execution_count": 111,
      "outputs": [
        {
          "output_type": "stream",
          "name": "stderr",
          "text": [
            "100%|██████████| 87/87 [00:09<00:00,  9.01it/s, accuracy=0.134, loss=1.91]\n"
          ]
        },
        {
          "output_type": "stream",
          "name": "stdout",
          "text": [
            "Epoch: 01 | Epoch Time: 0m 9s\n",
            "\tTrain Loss: 1.948 | Train Acc: 13.36%\n",
            "\t Val. Loss: 1.930 |  Val. Acc: 20.85%\n"
          ]
        },
        {
          "output_type": "stream",
          "name": "stderr",
          "text": [
            "100%|██████████| 87/87 [00:09<00:00,  8.82it/s, accuracy=0.155, loss=1.95]\n"
          ]
        },
        {
          "output_type": "stream",
          "name": "stdout",
          "text": [
            "Epoch: 02 | Epoch Time: 0m 10s\n",
            "\tTrain Loss: 1.968 | Train Acc: 15.50%\n",
            "\t Val. Loss: 1.946 |  Val. Acc: 31.20%\n"
          ]
        },
        {
          "output_type": "stream",
          "name": "stderr",
          "text": [
            "100%|██████████| 87/87 [00:09<00:00,  8.71it/s, accuracy=0.138, loss=1.93]\n"
          ]
        },
        {
          "output_type": "stream",
          "name": "stdout",
          "text": [
            "Epoch: 03 | Epoch Time: 0m 10s\n",
            "\tTrain Loss: 1.960 | Train Acc: 13.81%\n",
            "\t Val. Loss: 1.961 |  Val. Acc: 21.87%\n"
          ]
        },
        {
          "output_type": "stream",
          "name": "stderr",
          "text": [
            "100%|██████████| 87/87 [00:10<00:00,  8.63it/s, accuracy=0.151, loss=1.93]\n"
          ]
        },
        {
          "output_type": "stream",
          "name": "stdout",
          "text": [
            "Epoch: 04 | Epoch Time: 0m 10s\n",
            "\tTrain Loss: 1.950 | Train Acc: 15.05%\n",
            "\t Val. Loss: 1.934 |  Val. Acc: 26.82%\n"
          ]
        },
        {
          "output_type": "stream",
          "name": "stderr",
          "text": [
            "100%|██████████| 87/87 [00:09<00:00,  8.79it/s, accuracy=0.175, loss=1.87]\n"
          ]
        },
        {
          "output_type": "stream",
          "name": "stdout",
          "text": [
            "Epoch: 05 | Epoch Time: 0m 10s\n",
            "\tTrain Loss: 1.916 | Train Acc: 17.50%\n",
            "\t Val. Loss: 1.879 |  Val. Acc: 24.93%\n"
          ]
        },
        {
          "output_type": "stream",
          "name": "stderr",
          "text": [
            "100%|██████████| 87/87 [00:09<00:00,  8.72it/s, accuracy=0.242, loss=1.66]\n"
          ]
        },
        {
          "output_type": "stream",
          "name": "stdout",
          "text": [
            "Epoch: 06 | Epoch Time: 0m 10s\n",
            "\tTrain Loss: 1.755 | Train Acc: 24.19%\n",
            "\t Val. Loss: 1.863 |  Val. Acc: 17.64%\n"
          ]
        },
        {
          "output_type": "stream",
          "name": "stderr",
          "text": [
            "100%|██████████| 87/87 [00:09<00:00,  8.99it/s, accuracy=0.319, loss=1.32]\n"
          ]
        },
        {
          "output_type": "stream",
          "name": "stdout",
          "text": [
            "Epoch: 07 | Epoch Time: 0m 9s\n",
            "\tTrain Loss: 1.505 | Train Acc: 31.89%\n",
            "\t Val. Loss: 1.811 |  Val. Acc: 25.80%\n"
          ]
        },
        {
          "output_type": "stream",
          "name": "stderr",
          "text": [
            "100%|██████████| 87/87 [00:09<00:00,  8.93it/s, accuracy=0.413, loss=1.01]\n"
          ]
        },
        {
          "output_type": "stream",
          "name": "stdout",
          "text": [
            "Epoch: 08 | Epoch Time: 0m 9s\n",
            "\tTrain Loss: 1.293 | Train Acc: 41.28%\n",
            "\t Val. Loss: 1.817 |  Val. Acc: 32.65%\n"
          ]
        },
        {
          "output_type": "stream",
          "name": "stderr",
          "text": [
            "100%|██████████| 87/87 [00:09<00:00,  8.91it/s, accuracy=0.476, loss=0.994]\n"
          ]
        },
        {
          "output_type": "stream",
          "name": "stdout",
          "text": [
            "Epoch: 09 | Epoch Time: 0m 10s\n",
            "\tTrain Loss: 1.133 | Train Acc: 47.64%\n",
            "\t Val. Loss: 1.911 |  Val. Acc: 43.00%\n"
          ]
        },
        {
          "output_type": "stream",
          "name": "stderr",
          "text": [
            "100%|██████████| 87/87 [00:09<00:00,  8.80it/s, accuracy=0.593, loss=0.57]\n"
          ]
        },
        {
          "output_type": "stream",
          "name": "stdout",
          "text": [
            "Epoch: 10 | Epoch Time: 0m 10s\n",
            "\tTrain Loss: 0.903 | Train Acc: 59.34%\n",
            "\t Val. Loss: 2.183 |  Val. Acc: 38.34%\n"
          ]
        },
        {
          "output_type": "stream",
          "name": "stderr",
          "text": [
            "100%|██████████| 87/87 [00:09<00:00,  8.87it/s, accuracy=0.706, loss=0.372]\n"
          ]
        },
        {
          "output_type": "stream",
          "name": "stdout",
          "text": [
            "Epoch: 11 | Epoch Time: 0m 10s\n",
            "\tTrain Loss: 0.693 | Train Acc: 70.62%\n",
            "\t Val. Loss: 2.126 |  Val. Acc: 40.96%\n"
          ]
        },
        {
          "output_type": "stream",
          "name": "stderr",
          "text": [
            "100%|██████████| 87/87 [00:09<00:00,  8.87it/s, accuracy=0.819, loss=0.176]\n"
          ]
        },
        {
          "output_type": "stream",
          "name": "stdout",
          "text": [
            "Epoch: 12 | Epoch Time: 0m 10s\n",
            "\tTrain Loss: 0.407 | Train Acc: 81.90%\n",
            "\t Val. Loss: 2.648 |  Val. Acc: 43.15%\n"
          ]
        },
        {
          "output_type": "stream",
          "name": "stderr",
          "text": [
            "100%|██████████| 87/87 [00:09<00:00,  8.90it/s, accuracy=0.897, loss=0.175]\n"
          ]
        },
        {
          "output_type": "stream",
          "name": "stdout",
          "text": [
            "Epoch: 13 | Epoch Time: 0m 9s\n",
            "\tTrain Loss: 0.241 | Train Acc: 89.65%\n",
            "\t Val. Loss: 3.658 |  Val. Acc: 45.04%\n"
          ]
        },
        {
          "output_type": "stream",
          "name": "stderr",
          "text": [
            "100%|██████████| 87/87 [00:09<00:00,  8.86it/s, accuracy=0.924, loss=0.128]\n"
          ]
        },
        {
          "output_type": "stream",
          "name": "stdout",
          "text": [
            "Epoch: 14 | Epoch Time: 0m 10s\n",
            "\tTrain Loss: 0.166 | Train Acc: 92.45%\n",
            "\t Val. Loss: 3.695 |  Val. Acc: 44.17%\n"
          ]
        },
        {
          "output_type": "stream",
          "name": "stderr",
          "text": [
            "100%|██████████| 87/87 [00:09<00:00,  8.83it/s, accuracy=0.924, loss=0.127]\n"
          ]
        },
        {
          "output_type": "stream",
          "name": "stdout",
          "text": [
            "Epoch: 15 | Epoch Time: 0m 10s\n",
            "\tTrain Loss: 0.175 | Train Acc: 92.38%\n",
            "\t Val. Loss: 3.472 |  Val. Acc: 44.17%\n"
          ]
        },
        {
          "output_type": "stream",
          "name": "stderr",
          "text": [
            "100%|██████████| 87/87 [00:09<00:00,  8.88it/s, accuracy=0.921, loss=0.0848]\n"
          ]
        },
        {
          "output_type": "stream",
          "name": "stdout",
          "text": [
            "Epoch: 16 | Epoch Time: 0m 9s\n",
            "\tTrain Loss: 0.180 | Train Acc: 92.11%\n",
            "\t Val. Loss: 3.581 |  Val. Acc: 42.42%\n"
          ]
        },
        {
          "output_type": "stream",
          "name": "stderr",
          "text": [
            "100%|██████████| 87/87 [00:09<00:00,  8.90it/s, accuracy=0.948, loss=0.114]\n"
          ]
        },
        {
          "output_type": "stream",
          "name": "stdout",
          "text": [
            "Epoch: 17 | Epoch Time: 0m 9s\n",
            "\tTrain Loss: 0.126 | Train Acc: 94.84%\n",
            "\t Val. Loss: 4.044 |  Val. Acc: 45.04%\n"
          ]
        },
        {
          "output_type": "stream",
          "name": "stderr",
          "text": [
            "100%|██████████| 87/87 [00:09<00:00,  8.85it/s, accuracy=0.963, loss=0.382]\n"
          ]
        },
        {
          "output_type": "stream",
          "name": "stdout",
          "text": [
            "Epoch: 18 | Epoch Time: 0m 10s\n",
            "\tTrain Loss: 0.096 | Train Acc: 96.30%\n",
            "\t Val. Loss: 4.595 |  Val. Acc: 39.21%\n"
          ]
        },
        {
          "output_type": "stream",
          "name": "stderr",
          "text": [
            "100%|██████████| 87/87 [00:09<00:00,  8.92it/s, accuracy=0.956, loss=0.48]\n"
          ]
        },
        {
          "output_type": "stream",
          "name": "stdout",
          "text": [
            "Epoch: 19 | Epoch Time: 0m 9s\n",
            "\tTrain Loss: 0.118 | Train Acc: 95.60%\n",
            "\t Val. Loss: 4.577 |  Val. Acc: 37.76%\n"
          ]
        },
        {
          "output_type": "stream",
          "name": "stderr",
          "text": [
            "100%|██████████| 87/87 [00:09<00:00,  8.92it/s, accuracy=0.95, loss=0.00614]\n"
          ]
        },
        {
          "output_type": "stream",
          "name": "stdout",
          "text": [
            "Epoch: 20 | Epoch Time: 0m 9s\n",
            "\tTrain Loss: 0.120 | Train Acc: 94.97%\n",
            "\t Val. Loss: 4.271 |  Val. Acc: 42.86%\n"
          ]
        },
        {
          "output_type": "stream",
          "name": "stderr",
          "text": [
            "100%|██████████| 87/87 [00:09<00:00,  8.86it/s, accuracy=0.956, loss=0.0129]\n"
          ]
        },
        {
          "output_type": "stream",
          "name": "stdout",
          "text": [
            "Epoch: 21 | Epoch Time: 0m 10s\n",
            "\tTrain Loss: 0.105 | Train Acc: 95.64%\n",
            "\t Val. Loss: 4.286 |  Val. Acc: 43.29%\n"
          ]
        },
        {
          "output_type": "stream",
          "name": "stderr",
          "text": [
            "100%|██████████| 87/87 [00:09<00:00,  8.90it/s, accuracy=0.975, loss=0.0399]\n"
          ]
        },
        {
          "output_type": "stream",
          "name": "stdout",
          "text": [
            "Epoch: 22 | Epoch Time: 0m 9s\n",
            "\tTrain Loss: 0.058 | Train Acc: 97.53%\n",
            "\t Val. Loss: 4.944 |  Val. Acc: 43.44%\n"
          ]
        },
        {
          "output_type": "stream",
          "name": "stderr",
          "text": [
            "100%|██████████| 87/87 [00:09<00:00,  8.94it/s, accuracy=0.988, loss=0.00284]\n"
          ]
        },
        {
          "output_type": "stream",
          "name": "stdout",
          "text": [
            "Epoch: 23 | Epoch Time: 0m 9s\n",
            "\tTrain Loss: 0.032 | Train Acc: 98.77%\n",
            "\t Val. Loss: 5.218 |  Val. Acc: 44.31%\n"
          ]
        },
        {
          "output_type": "stream",
          "name": "stderr",
          "text": [
            "100%|██████████| 87/87 [00:09<00:00,  8.87it/s, accuracy=0.988, loss=0.00181]\n"
          ]
        },
        {
          "output_type": "stream",
          "name": "stdout",
          "text": [
            "Epoch: 24 | Epoch Time: 0m 10s\n",
            "\tTrain Loss: 0.031 | Train Acc: 98.76%\n",
            "\t Val. Loss: 5.391 |  Val. Acc: 44.61%\n"
          ]
        },
        {
          "output_type": "stream",
          "name": "stderr",
          "text": [
            "100%|██████████| 87/87 [00:09<00:00,  8.91it/s, accuracy=0.987, loss=0.00442]\n"
          ]
        },
        {
          "output_type": "stream",
          "name": "stdout",
          "text": [
            "Epoch: 25 | Epoch Time: 0m 9s\n",
            "\tTrain Loss: 0.037 | Train Acc: 98.67%\n",
            "\t Val. Loss: 5.280 |  Val. Acc: 46.65%\n"
          ]
        },
        {
          "output_type": "stream",
          "name": "stderr",
          "text": [
            "100%|██████████| 87/87 [00:09<00:00,  8.91it/s, accuracy=0.986, loss=0.0255]\n"
          ]
        },
        {
          "output_type": "stream",
          "name": "stdout",
          "text": [
            "Epoch: 26 | Epoch Time: 0m 9s\n",
            "\tTrain Loss: 0.046 | Train Acc: 98.59%\n",
            "\t Val. Loss: 5.269 |  Val. Acc: 39.65%\n"
          ]
        },
        {
          "output_type": "stream",
          "name": "stderr",
          "text": [
            "100%|██████████| 87/87 [00:09<00:00,  8.82it/s, accuracy=0.977, loss=0.0097]\n"
          ]
        },
        {
          "output_type": "stream",
          "name": "stdout",
          "text": [
            "Epoch: 27 | Epoch Time: 0m 10s\n",
            "\tTrain Loss: 0.058 | Train Acc: 97.71%\n",
            "\t Val. Loss: 4.893 |  Val. Acc: 44.46%\n"
          ]
        },
        {
          "output_type": "stream",
          "name": "stderr",
          "text": [
            "100%|██████████| 87/87 [00:09<00:00,  8.87it/s, accuracy=0.982, loss=0.0192]\n"
          ]
        },
        {
          "output_type": "stream",
          "name": "stdout",
          "text": [
            "Epoch: 28 | Epoch Time: 0m 10s\n",
            "\tTrain Loss: 0.057 | Train Acc: 98.16%\n",
            "\t Val. Loss: 5.531 |  Val. Acc: 43.44%\n"
          ]
        },
        {
          "output_type": "stream",
          "name": "stderr",
          "text": [
            "100%|██████████| 87/87 [00:09<00:00,  8.88it/s, accuracy=0.983, loss=0.00559]\n"
          ]
        },
        {
          "output_type": "stream",
          "name": "stdout",
          "text": [
            "Epoch: 29 | Epoch Time: 0m 9s\n",
            "\tTrain Loss: 0.043 | Train Acc: 98.34%\n",
            "\t Val. Loss: 5.246 |  Val. Acc: 42.57%\n"
          ]
        },
        {
          "output_type": "stream",
          "name": "stderr",
          "text": [
            "100%|██████████| 87/87 [00:09<00:00,  8.89it/s, accuracy=0.983, loss=0.00341]\n"
          ]
        },
        {
          "output_type": "stream",
          "name": "stdout",
          "text": [
            "Epoch: 30 | Epoch Time: 0m 9s\n",
            "\tTrain Loss: 0.046 | Train Acc: 98.34%\n",
            "\t Val. Loss: 5.816 |  Val. Acc: 42.27%\n"
          ]
        },
        {
          "output_type": "stream",
          "name": "stderr",
          "text": [
            "100%|██████████| 87/87 [00:09<00:00,  8.86it/s, accuracy=0.987, loss=0.0286]\n"
          ]
        },
        {
          "output_type": "stream",
          "name": "stdout",
          "text": [
            "Epoch: 31 | Epoch Time: 0m 10s\n",
            "\tTrain Loss: 0.030 | Train Acc: 98.74%\n",
            "\t Val. Loss: 5.844 |  Val. Acc: 43.88%\n"
          ]
        },
        {
          "output_type": "stream",
          "name": "stderr",
          "text": [
            "100%|██████████| 87/87 [00:09<00:00,  8.92it/s, accuracy=0.991, loss=0.0183]\n"
          ]
        },
        {
          "output_type": "stream",
          "name": "stdout",
          "text": [
            "Epoch: 32 | Epoch Time: 0m 9s\n",
            "\tTrain Loss: 0.027 | Train Acc: 99.12%\n",
            "\t Val. Loss: 5.626 |  Val. Acc: 43.88%\n"
          ]
        },
        {
          "output_type": "stream",
          "name": "stderr",
          "text": [
            "100%|██████████| 87/87 [00:09<00:00,  8.93it/s, accuracy=0.994, loss=0.00151]\n"
          ]
        },
        {
          "output_type": "stream",
          "name": "stdout",
          "text": [
            "Epoch: 33 | Epoch Time: 0m 9s\n",
            "\tTrain Loss: 0.017 | Train Acc: 99.39%\n",
            "\t Val. Loss: 5.994 |  Val. Acc: 44.31%\n"
          ]
        },
        {
          "output_type": "stream",
          "name": "stderr",
          "text": [
            "100%|██████████| 87/87 [00:09<00:00,  8.94it/s, accuracy=0.996, loss=0.0046]\n"
          ]
        },
        {
          "output_type": "stream",
          "name": "stdout",
          "text": [
            "Epoch: 34 | Epoch Time: 0m 9s\n",
            "\tTrain Loss: 0.010 | Train Acc: 99.62%\n",
            "\t Val. Loss: 6.197 |  Val. Acc: 43.88%\n"
          ]
        },
        {
          "output_type": "stream",
          "name": "stderr",
          "text": [
            "100%|██████████| 87/87 [00:09<00:00,  8.93it/s, accuracy=0.994, loss=0.0154]\n"
          ]
        },
        {
          "output_type": "stream",
          "name": "stdout",
          "text": [
            "Epoch: 35 | Epoch Time: 0m 9s\n",
            "\tTrain Loss: 0.016 | Train Acc: 99.44%\n",
            "\t Val. Loss: 5.692 |  Val. Acc: 44.46%\n"
          ]
        },
        {
          "output_type": "stream",
          "name": "stderr",
          "text": [
            "100%|██████████| 87/87 [00:09<00:00,  8.93it/s, accuracy=0.994, loss=0.094]\n"
          ]
        },
        {
          "output_type": "stream",
          "name": "stdout",
          "text": [
            "Epoch: 36 | Epoch Time: 0m 9s\n",
            "\tTrain Loss: 0.017 | Train Acc: 99.37%\n",
            "\t Val. Loss: 6.282 |  Val. Acc: 46.21%\n"
          ]
        },
        {
          "output_type": "stream",
          "name": "stderr",
          "text": [
            "100%|██████████| 87/87 [00:09<00:00,  8.90it/s, accuracy=0.996, loss=0.00081]\n"
          ]
        },
        {
          "output_type": "stream",
          "name": "stdout",
          "text": [
            "Epoch: 37 | Epoch Time: 0m 9s\n",
            "\tTrain Loss: 0.016 | Train Acc: 99.62%\n",
            "\t Val. Loss: 6.346 |  Val. Acc: 44.61%\n"
          ]
        },
        {
          "output_type": "stream",
          "name": "stderr",
          "text": [
            "100%|██████████| 87/87 [00:09<00:00,  8.88it/s, accuracy=0.996, loss=0.000395]\n"
          ]
        },
        {
          "output_type": "stream",
          "name": "stdout",
          "text": [
            "Epoch: 38 | Epoch Time: 0m 9s\n",
            "\tTrain Loss: 0.009 | Train Acc: 99.60%\n",
            "\t Val. Loss: 6.419 |  Val. Acc: 44.46%\n"
          ]
        },
        {
          "output_type": "stream",
          "name": "stderr",
          "text": [
            "100%|██████████| 87/87 [00:09<00:00,  8.88it/s, accuracy=0.997, loss=0.000453]\n"
          ]
        },
        {
          "output_type": "stream",
          "name": "stdout",
          "text": [
            "Epoch: 39 | Epoch Time: 0m 10s\n",
            "\tTrain Loss: 0.006 | Train Acc: 99.75%\n",
            "\t Val. Loss: 6.505 |  Val. Acc: 46.21%\n"
          ]
        },
        {
          "output_type": "stream",
          "name": "stderr",
          "text": [
            "100%|██████████| 87/87 [00:09<00:00,  8.90it/s, accuracy=0.999, loss=0.0033]\n"
          ]
        },
        {
          "output_type": "stream",
          "name": "stdout",
          "text": [
            "Epoch: 40 | Epoch Time: 0m 9s\n",
            "\tTrain Loss: 0.004 | Train Acc: 99.87%\n",
            "\t Val. Loss: 6.925 |  Val. Acc: 47.38%\n"
          ]
        },
        {
          "output_type": "stream",
          "name": "stderr",
          "text": [
            "100%|██████████| 87/87 [00:09<00:00,  8.81it/s, accuracy=1, loss=5.71e-5]\n"
          ]
        },
        {
          "output_type": "stream",
          "name": "stdout",
          "text": [
            "Epoch: 41 | Epoch Time: 0m 10s\n",
            "\tTrain Loss: 0.002 | Train Acc: 99.96%\n",
            "\t Val. Loss: 6.957 |  Val. Acc: 45.19%\n"
          ]
        },
        {
          "output_type": "stream",
          "name": "stderr",
          "text": [
            "100%|██████████| 87/87 [00:09<00:00,  8.89it/s, accuracy=1, loss=4.75e-5]\n"
          ]
        },
        {
          "output_type": "stream",
          "name": "stdout",
          "text": [
            "Epoch: 42 | Epoch Time: 0m 9s\n",
            "\tTrain Loss: 0.002 | Train Acc: 99.98%\n",
            "\t Val. Loss: 7.069 |  Val. Acc: 45.04%\n"
          ]
        },
        {
          "output_type": "stream",
          "name": "stderr",
          "text": [
            "100%|██████████| 87/87 [00:09<00:00,  8.90it/s, accuracy=1, loss=3.48e-5]\n"
          ]
        },
        {
          "output_type": "stream",
          "name": "stdout",
          "text": [
            "Epoch: 43 | Epoch Time: 0m 9s\n",
            "\tTrain Loss: 0.001 | Train Acc: 99.96%\n",
            "\t Val. Loss: 6.788 |  Val. Acc: 45.48%\n"
          ]
        },
        {
          "output_type": "stream",
          "name": "stderr",
          "text": [
            "100%|██████████| 87/87 [00:10<00:00,  8.57it/s, accuracy=1, loss=4.29e-5]\n"
          ]
        },
        {
          "output_type": "stream",
          "name": "stdout",
          "text": [
            "Epoch: 44 | Epoch Time: 0m 10s\n",
            "\tTrain Loss: 0.002 | Train Acc: 99.98%\n",
            "\t Val. Loss: 6.869 |  Val. Acc: 45.19%\n"
          ]
        },
        {
          "output_type": "stream",
          "name": "stderr",
          "text": [
            "100%|██████████| 87/87 [00:09<00:00,  8.93it/s, accuracy=1, loss=5.52e-5]\n"
          ]
        },
        {
          "output_type": "stream",
          "name": "stdout",
          "text": [
            "Epoch: 45 | Epoch Time: 0m 9s\n",
            "\tTrain Loss: 0.002 | Train Acc: 99.98%\n",
            "\t Val. Loss: 6.994 |  Val. Acc: 44.75%\n"
          ]
        },
        {
          "output_type": "stream",
          "name": "stderr",
          "text": [
            "100%|██████████| 87/87 [00:09<00:00,  8.95it/s, accuracy=1, loss=5.66e-5]\n"
          ]
        },
        {
          "output_type": "stream",
          "name": "stdout",
          "text": [
            "Epoch: 46 | Epoch Time: 0m 9s\n",
            "\tTrain Loss: 0.001 | Train Acc: 99.98%\n",
            "\t Val. Loss: 7.095 |  Val. Acc: 44.75%\n"
          ]
        },
        {
          "output_type": "stream",
          "name": "stderr",
          "text": [
            "100%|██████████| 87/87 [00:09<00:00,  8.92it/s, accuracy=1, loss=4.45e-5]\n"
          ]
        },
        {
          "output_type": "stream",
          "name": "stdout",
          "text": [
            "Epoch: 47 | Epoch Time: 0m 9s\n",
            "\tTrain Loss: 0.001 | Train Acc: 99.96%\n",
            "\t Val. Loss: 6.835 |  Val. Acc: 44.61%\n"
          ]
        },
        {
          "output_type": "stream",
          "name": "stderr",
          "text": [
            "100%|██████████| 87/87 [00:09<00:00,  8.93it/s, accuracy=1, loss=0.000106]\n"
          ]
        },
        {
          "output_type": "stream",
          "name": "stdout",
          "text": [
            "Epoch: 48 | Epoch Time: 0m 9s\n",
            "\tTrain Loss: 0.001 | Train Acc: 99.98%\n",
            "\t Val. Loss: 6.981 |  Val. Acc: 44.75%\n"
          ]
        }
      ]
    },
    {
      "cell_type": "code",
      "source": [
        "torch.save(model.state_dict(), f\"final_tuned_model.pt\")"
      ],
      "metadata": {
        "id": "s_zeG_or8ZyM"
      },
      "execution_count": 112,
      "outputs": []
    },
    {
      "cell_type": "code",
      "source": [
        "#model.load_state_dict(torch.load('final_tuned_model.pt'))\n",
        "model.load_state_dict(torch.load('final_model_tuned_39.pt'))\n",
        "valid_loss, valid_acc = evaluate(model, val_dataloader, loss_fn, device)\n",
        "print(f\"Valid Loss: {valid_loss:.3f} | Valid Acc: {valid_acc*100:.2f}%\")\n",
        "test_loss, test_acc = evaluate(model, test_dataloader, loss_fn, device)\n",
        "print(f\"Test Loss: {test_loss:.3f} | Test Acc: {test_acc*100:.2f}%\")"
      ],
      "metadata": {
        "id": "YCH0v8zrzfOY",
        "colab": {
          "base_uri": "https://localhost:8080/"
        },
        "outputId": "f2b57e3d-a26a-4a15-c286-f1512af8e3e4"
      },
      "execution_count": 122,
      "outputs": [
        {
          "output_type": "stream",
          "name": "stdout",
          "text": [
            "Valid Loss: 6.925 | Valid Acc: 47.38%\n",
            "Test Loss: 6.760 | Test Acc: 46.90%\n"
          ]
        }
      ]
    },
    {
      "cell_type": "markdown",
      "source": [
        "Due to the considerable hyperparameter space and limited experimentation, the model's performance has been no enhancement. However, with more trials, there's a high probability that we'll discover a suitable set of hyperparameters that could optimize the model's performance."
      ],
      "metadata": {
        "id": "zh4cfgMSw32g"
      }
    },
    {
      "cell_type": "markdown",
      "source": [
        "# Discussion and Analysis"
      ],
      "metadata": {
        "id": "UNft8qG757Qh"
      }
    },
    {
      "cell_type": "markdown",
      "source": [
        "## Challenges and Insights"
      ],
      "metadata": {
        "id": "CJKvnvi5Hd15"
      }
    },
    {
      "cell_type": "markdown",
      "source": [
        "\n",
        "\n",
        "1.   Challenges\n",
        "\n",
        "\n",
        "*   The data is limited, with just over 5000 data points in the train dataset.\n",
        "\n",
        "*   The data quality is low: many abbreviations, misspellings, emojis, and emoticons...\n",
        "* Many sentences are prone to misunderstandings about emotions, and sometimes pre-assigned labels are not appropriate.\n",
        "* Limited knowledge about NLP models, using basic models resulting in overfitting.\n",
        "* Insufficient hardware resources to support multiple training and tuning sessions.\n",
        "\n",
        "2.   Insights\n",
        "\n",
        "\n",
        "*   Data preprocessing is incredibly crucial; improving the quality of input data sometimes yields better results than improving the model itself, especially in cases with limited datasets like this problem.\n",
        "*   Transfer learning using pre-trained word embeddings has significant potential in various natural language processing (NLP) tasks. Word embeddings capture semantic relationships and contextual information about words, allowing models to leverage this knowledge to perform better on downstream tasks.\n",
        "\n",
        "\n"
      ],
      "metadata": {
        "id": "EAWDmEhGLKHq"
      }
    },
    {
      "cell_type": "markdown",
      "source": [
        "## The model's performance"
      ],
      "metadata": {
        "id": "wJ6vic3PHvJZ"
      }
    },
    {
      "cell_type": "markdown",
      "source": [
        "I'd like to summarize the loss and accuracy of the best-performing model (GRU with transfer learning) across the three datasets:"
      ],
      "metadata": {
        "id": "bSVKuZiXSrTS"
      }
    },
    {
      "cell_type": "code",
      "source": [
        "train_loss, train_acc = evaluate(model2, train_dataloader, loss_fn, device)\n",
        "print(f\"Train Loss: {train_loss:.3f} | Train Acc: {train_acc*100:.2f}%\")\n",
        "valid_loss, valid_acc = evaluate(model2, val_dataloader, loss_fn, device)\n",
        "print(f\"Valid Loss: {valid_loss:.3f} | Valid Acc: {valid_acc*100:.2f}%\")\n",
        "test_loss, test_acc = evaluate(model2, test_dataloader, loss_fn, device)\n",
        "print(f\"Test Loss: {test_loss:.3f} | Test Acc: {test_acc*100:.2f}%\")"
      ],
      "metadata": {
        "colab": {
          "base_uri": "https://localhost:8080/"
        },
        "outputId": "c1c34c5f-b367-4e11-a9bd-5955c769ec4e",
        "id": "iUNIS6moHale"
      },
      "execution_count": 117,
      "outputs": [
        {
          "output_type": "stream",
          "name": "stdout",
          "text": [
            "Train Loss: 0.009 | Train Acc: 99.75%\n",
            "Valid Loss: 5.222 | Valid Acc: 50.44%\n",
            "Test Loss: 5.066 | Test Acc: 48.20%\n"
          ]
        }
      ]
    },
    {
      "cell_type": "markdown",
      "source": [
        "## Visualization to understand more about the model's performance\n",
        "\n",
        "\n"
      ],
      "metadata": {
        "id": "zHP_-bs_HCwq"
      }
    },
    {
      "cell_type": "markdown",
      "source": [
        "### Monitor the training process"
      ],
      "metadata": {
        "id": "OAB9VW6ZG8KI"
      }
    },
    {
      "cell_type": "markdown",
      "source": [
        "I suspect that due to the limited data, the model tends to overfit, indicated by the decreasing training loss but increasing validation loss."
      ],
      "metadata": {
        "id": "wRRZc9RuG8KO"
      }
    },
    {
      "cell_type": "code",
      "source": [
        "plt.plot(train_loss_list)\n",
        "plt.plot(valid_loss_list)\n",
        "plt.title('model loss')\n",
        "plt.ylabel('loss')\n",
        "plt.xlabel('epoch')\n",
        "plt.legend(['train', 'val'], loc='upper left')\n",
        "plt.show()"
      ],
      "metadata": {
        "colab": {
          "base_uri": "https://localhost:8080/",
          "height": 472
        },
        "outputId": "57f81197-2501-491d-c211-0626e1161c5b",
        "id": "ay0axo_FG8KO"
      },
      "execution_count": null,
      "outputs": [
        {
          "output_type": "display_data",
          "data": {
            "text/plain": [
              "<Figure size 640x480 with 1 Axes>"
            ],
            "image/png": "[encoded data removed]"
          },
          "metadata": {}
        }
      ]
    },
    {
      "cell_type": "markdown",
      "source": [
        "Regarding the accuracy of the validation set, it initially increased, then fluctuated."
      ],
      "metadata": {
        "id": "8aP2jQ1MG8KO"
      }
    },
    {
      "cell_type": "code",
      "source": [
        "plt.plot(train_acc_list)\n",
        "plt.plot(valid_acc_list)\n",
        "plt.title('model accuracy')\n",
        "plt.ylabel('accuracy')\n",
        "plt.xlabel('epoch')\n",
        "plt.legend(['train', 'val'], loc='upper left')\n",
        "plt.show()"
      ],
      "metadata": {
        "colab": {
          "base_uri": "https://localhost:8080/",
          "height": 472
        },
        "outputId": "eb2a42ee-f401-4fe7-ad91-322d850b1281",
        "id": "acqoK87mG8KO"
      },
      "execution_count": null,
      "outputs": [
        {
          "output_type": "display_data",
          "data": {
            "text/plain": [
              "<Figure size 640x480 with 1 Axes>"
            ],
            "image/png": "[encoded data removed]"
          },
          "metadata": {}
        }
      ]
    },
    {
      "cell_type": "markdown",
      "source": [
        "### Confusion matrice"
      ],
      "metadata": {
        "id": "dmS1CneiHLsh"
      }
    },
    {
      "cell_type": "code",
      "source": [
        "cf_matrix = confusion_matrix(y_true, y_pred)\n",
        "df_cm = pd.DataFrame(cf_matrix, index = label2id.keys(),\n",
        "                     columns = label2id.keys())\n",
        "\n",
        "print(\"Confusion Matrix:\")\n",
        "plt.figure(figsize = (12,7))\n",
        "sns.heatmap(df_cm, annot=True)"
      ],
      "metadata": {
        "colab": {
          "base_uri": "https://localhost:8080/",
          "height": 634
        },
        "id": "LLiNgkMkH6qR",
        "outputId": "e50bb670-fb86-40a0-cad9-53eb22bd1cbc"
      },
      "execution_count": 128,
      "outputs": [
        {
          "output_type": "stream",
          "name": "stdout",
          "text": [
            "Confusion Matrix:\n"
          ]
        },
        {
          "output_type": "execute_result",
          "data": {
            "text/plain": [
              "<Axes: >"
            ]
          },
          "metadata": {},
          "execution_count": 128
        },
        {
          "output_type": "display_data",
          "data": {
            "text/plain": [
              "<Figure size 1200x700 with 2 Axes>"
            ],
            "image/png": "[encoded data removed]"
          },
          "metadata": {}
        }
      ]
    },
    {
      "cell_type": "markdown",
      "source": [
        "* The Anger class is often mispredicted as Disgust because these two emotions are challenging to differentiate, even for humans when labeling.\n",
        "* The Disgust class is commonly mispredicted as Anger or Enjoyment. The confusion with Anger is as mentioned earlier. As for the confusion with Enjoyment, it could be because the Disgust sentence might be sarcastic, mistakenly interpreted as a positive sentiment.\n",
        "* The Sadness class is frequently mispredicted as Disgust or Enjoyment. This might be due to indirect language use by users, where the model fails to capture the core sentiment of the statement.\n",
        "* Enjoyment is mispredicted as Sadness and Disgust for similar reasons mentioned above.\n",
        "* Surprise is mispredicted as Enjoyment due to the positive tone in the sentence."
      ],
      "metadata": {
        "id": "pWBmM4RtRDY1"
      }
    },
    {
      "cell_type": "markdown",
      "source": [
        "### Classification report"
      ],
      "metadata": {
        "id": "2s6EhbJWLS5i"
      }
    },
    {
      "cell_type": "code",
      "source": [
        "print(classification_report(y_true, y_pred))"
      ],
      "metadata": {
        "colab": {
          "base_uri": "https://localhost:8080/"
        },
        "id": "rc9gxgs5LVuy",
        "outputId": "35541766-923b-4e77-bf44-95c3bfed4818"
      },
      "execution_count": 123,
      "outputs": [
        {
          "output_type": "stream",
          "name": "stdout",
          "text": [
            "              precision    recall  f1-score   support\n",
            "\n",
            "           0       0.21      0.35      0.26        40\n",
            "           1       0.36      0.57      0.44       132\n",
            "           2       0.44      0.52      0.48        46\n",
            "           3       0.49      0.46      0.47       116\n",
            "           4       0.48      0.16      0.24       129\n",
            "           5       0.56      0.54      0.55       193\n",
            "           6       0.52      0.30      0.38        37\n",
            "\n",
            "    accuracy                           0.44       693\n",
            "   macro avg       0.44      0.41      0.40       693\n",
            "weighted avg       0.46      0.44      0.43       693\n",
            "\n"
          ]
        }
      ]
    },
    {
      "cell_type": "code",
      "source": [
        "id2label"
      ],
      "metadata": {
        "colab": {
          "base_uri": "https://localhost:8080/"
        },
        "id": "iYnE6hSYRah5",
        "outputId": "04882538-927e-4a8d-b988-3fa52ef7b31c"
      },
      "execution_count": 129,
      "outputs": [
        {
          "output_type": "execute_result",
          "data": {
            "text/plain": [
              "{0: 'Anger',\n",
              " 1: 'Disgust',\n",
              " 2: 'Fear',\n",
              " 3: 'Sadness',\n",
              " 4: 'Other',\n",
              " 5: 'Enjoyment',\n",
              " 6: 'Surprise'}"
            ]
          },
          "metadata": {},
          "execution_count": 129
        }
      ]
    },
    {
      "cell_type": "markdown",
      "source": [
        "Looking at the data, we observe that the three classes: Enjoyment, Fear, and Sadness perform the best. The underlying reason for this superior performance might stem from these emotions being more distinguishable or having more representative data, allowing the model to learn more effectively."
      ],
      "metadata": {
        "id": "X4qY0w0TRnZS"
      }
    },
    {
      "cell_type": "markdown",
      "source": [
        "## The importance of hyperparameter tuning"
      ],
      "metadata": {
        "id": "VY6nbAtXJHhi"
      }
    },
    {
      "cell_type": "markdown",
      "source": [
        "Hyperparameter tuning assists in selecting suitable hyperparameter sets for a specific problem's model. If executed well (and luckily), this process can enhance the model's performance. It's a crucial step in optimizing a model for a specific task, helping it achieve better results and greater efficiency."
      ],
      "metadata": {
        "id": "Z8PLBXtHLL30"
      }
    },
    {
      "cell_type": "markdown",
      "source": [
        "## Further improvement"
      ],
      "metadata": {
        "id": "qaEHF86uJOvb"
      }
    },
    {
      "cell_type": "markdown",
      "source": [
        "We can increase performance by improving the quality of the input data or trying advanced models:\n",
        "\n",
        "\n",
        "*   Spelling correction and acronyms, abbreviations\n",
        "lookup, removing particular words...\n",
        "\n",
        "*   Try: Text-CNN, bidirectional transformers (BERT), multilingual model (XLM-R)...\n",
        "\n"
      ],
      "metadata": {
        "id": "uPtG1ZWzLM6j"
      }
    },
    {
      "cell_type": "markdown",
      "source": [
        "# References"
      ],
      "metadata": {
        "id": "2-eOEx8IJU8q"
      }
    },
    {
      "cell_type": "markdown",
      "source": [
        "Exploiting Vietnamese Social Media Characteristics for Textual Emotion Recognition in Vietnamese https://arxiv.org/abs/2009.11005\n"
      ],
      "metadata": {
        "id": "D2Sf2N7WJuxK"
      }
    },
    {
      "cell_type": "markdown",
      "source": [
        "A New Approach for Vietnamese Aspect-Based Sentiment Analysis https://ieeexplore.ieee.org/document/9953759"
      ],
      "metadata": {
        "id": "7Gq5ozPyK1Zx"
      }
    },
    {
      "cell_type": "markdown",
      "source": [
        "Emotion Recognition for Vietnamese Social Media Text https://arxiv.org/abs/1911.09339\n"
      ],
      "metadata": {
        "id": "7baLNK-jK5jB"
      }
    },
    {
      "cell_type": "markdown",
      "source": [
        "Improving Sentiment Analysis By Emotion Lexicon Approach on Vietnamese Texts https://arxiv.org/abs/2210.02063"
      ],
      "metadata": {
        "id": "RD-Y9mYIK__U"
      }
    },
    {
      "cell_type": "markdown",
      "source": [
        "GRU https://pytorch.org/docs/stable/generated/torch.nn.GRU.html#torch.nn.GRU"
      ],
      "metadata": {
        "id": "_yqZPuj4KFi5"
      }
    }
  ]
}